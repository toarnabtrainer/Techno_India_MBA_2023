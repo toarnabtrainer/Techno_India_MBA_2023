{
 "cells": [
  {
   "cell_type": "markdown",
   "id": "7fe801ac-9c1b-4703-b03b-dd75c674e425",
   "metadata": {},
   "source": [
    "## **Introduction to Pandas**\n",
    "\n",
    "> It is often said that 80% of data analysis is spent on the data cleaning and preparing data. To get a handle on the problem, this article will focus on a small but important aspect of data manipulation and cleaning with Pandas."
   ]
  },
  {
   "cell_type": "markdown",
   "id": "04cffc86-f7a8-48f3-bcaf-a2acf48198f8",
   "metadata": {},
   "source": [
    "### **Data Structures in Pandas**\n",
    "\n",
    "There are two data structures are there in Pandas -<br>\n",
    "* **Series -** It is one-dimensional labeled array capable of holding any datatype (integer, strings, floating point numbers, Python objects etc).<br>\n",
    "* **Data Frame -** It is a two-dimensional labeled data structure with columns of potemtially different datatypes. We can think of it like a spreadsheet or SQL Table or a Series of objects."
   ]
  },
  {
   "cell_type": "markdown",
   "id": "75628c18-eb49-4668-bba4-eaa1c50904a1",
   "metadata": {},
   "source": [
    "### **Series Data Structure:**"
   ]
  },
  {
   "cell_type": "markdown",
   "id": "24f2fd17-87ba-427e-a1ed-9ffa118b9633",
   "metadata": {},
   "source": [
    "**pandas.core.series.Series(data, index, dtype, copy)**\n",
    "\n",
    "* **data -** data takes various forms like ndarray, list, constants, dictionary etc.<br>\n",
    "* **index -** it is unique and hashable for easy identification<br>\n",
    "* **dtype -** it is for the data type<br>\n",
    "* **copy -** copy data, and its default value is False. It only affects for Series or one dimensional ndarray inputs"
   ]
  },
  {
   "cell_type": "code",
   "execution_count": 1,
   "id": "8035cd6e-1945-4da6-bf05-a62f06f9da89",
   "metadata": {},
   "outputs": [],
   "source": [
    "# importing the required modules\n",
    "import numpy as np\n",
    "import pandas as pd"
   ]
  },
  {
   "cell_type": "code",
   "execution_count": 3,
   "id": "78ab54bc-b30e-49bd-a7f5-20d9473bec2f",
   "metadata": {},
   "outputs": [
    {
     "name": "stdout",
     "output_type": "stream",
     "text": [
      "Series([], dtype: float64) <class 'pandas.core.series.Series'>\n"
     ]
    }
   ],
   "source": [
    "# create an empty Series\n",
    "import warnings\n",
    "warnings.filterwarnings('ignore')\n",
    "s = pd.Series()\n",
    "print (s, type(s))"
   ]
  },
  {
   "cell_type": "code",
   "execution_count": 6,
   "id": "22de4836-73e0-4fec-97a7-ef528b60f7b7",
   "metadata": {},
   "outputs": [
    {
     "name": "stdout",
     "output_type": "stream",
     "text": [
      "0        apple\n",
      "1        guava\n",
      "2       banana\n",
      "3    pineapple\n",
      "4      coconut\n",
      "dtype: object <class 'pandas.core.series.Series'>\n",
      "apple guava coconut\n"
     ]
    }
   ],
   "source": [
    "# create a Series from a ndarray\n",
    "arr_data = np.array(['apple', 'guava', 'banana', 'pineapple', 'coconut'])\n",
    "s = pd.Series(data = arr_data)\n",
    "print (s, type(s))\n",
    "print (s[0], s[1], s[4])"
   ]
  },
  {
   "cell_type": "code",
   "execution_count": 7,
   "id": "bbc77926-ca71-469f-85ba-fc1ef516447e",
   "metadata": {},
   "outputs": [
    {
     "name": "stdout",
     "output_type": "stream",
     "text": [
      "0    100\n",
      "1    400\n",
      "2    500\n",
      "3    200\n",
      "4    700\n",
      "dtype: int32 <class 'pandas.core.series.Series'>\n",
      "100 400 700\n"
     ]
    }
   ],
   "source": [
    "arr_data = np.array([100, 400, 500, 200, 700])\n",
    "s = pd.Series(data = arr_data)\n",
    "print (s, type(s))\n",
    "print (s[0], s[1], s[4])"
   ]
  },
  {
   "cell_type": "code",
   "execution_count": 8,
   "id": "49624594-b165-4420-b831-75b4a8dfaf06",
   "metadata": {},
   "outputs": [
    {
     "name": "stdout",
     "output_type": "stream",
     "text": [
      "0    100\n",
      "1    400\n",
      "2    500\n",
      "3      1\n",
      "4    200\n",
      "5      0\n",
      "6    700\n",
      "dtype: int32 <class 'pandas.core.series.Series'>\n",
      "100 400 200\n"
     ]
    }
   ],
   "source": [
    "arr_data = np.array([100, 400, 500, True, 200, False, 700])\n",
    "s = pd.Series(data = arr_data)\n",
    "print (s, type(s))\n",
    "print (s[0], s[1], s[4])"
   ]
  },
  {
   "cell_type": "code",
   "execution_count": 9,
   "id": "1d33c841-8cd3-4487-a19b-9f5a905dfa6f",
   "metadata": {},
   "outputs": [
    {
     "name": "stdout",
     "output_type": "stream",
     "text": [
      "0    100.0\n",
      "1    400.0\n",
      "2    500.0\n",
      "3      1.0\n",
      "4    200.0\n",
      "5      0.0\n",
      "6    700.0\n",
      "dtype: float64 <class 'pandas.core.series.Series'>\n",
      "100.0 400.0 200.0\n"
     ]
    }
   ],
   "source": [
    "arr_data = np.array([100., 400, 500, True, 200, False, 700])\n",
    "s = pd.Series(data = arr_data)\n",
    "print (s, type(s))\n",
    "print (s[0], s[1], s[4])"
   ]
  },
  {
   "cell_type": "code",
   "execution_count": 10,
   "id": "be9ef4bd-4c08-466d-89f4-934a027457f7",
   "metadata": {},
   "outputs": [
    {
     "name": "stdout",
     "output_type": "stream",
     "text": [
      "0    100.0\n",
      "1      400\n",
      "2      500\n",
      "3     True\n",
      "4      200\n",
      "5    False\n",
      "6      700\n",
      "7     Amit\n",
      "dtype: object <class 'pandas.core.series.Series'>\n",
      "100.0 400 200\n"
     ]
    }
   ],
   "source": [
    "arr_data = np.array([100., 400, 500, True, 200, False, 700, 'Amit'])\n",
    "s = pd.Series(data = arr_data)\n",
    "print (s, type(s))\n",
    "print (s[0], s[1], s[4])"
   ]
  },
  {
   "cell_type": "code",
   "execution_count": 13,
   "id": "0750d6ad-37cb-40f6-99c9-b5933c60d0aa",
   "metadata": {},
   "outputs": [
    {
     "name": "stdout",
     "output_type": "stream",
     "text": [
      "[100 400 500 200 700] <class 'numpy.ndarray'>\n",
      "0    100\n",
      "1    400\n",
      "2    500\n",
      "3    200\n",
      "4    700\n",
      "dtype: int32 <class 'pandas.core.series.Series'>\n",
      "[  100 40000 50000   200   700] <class 'numpy.ndarray'>\n",
      "0      100\n",
      "1    40000\n",
      "2    50000\n",
      "3      200\n",
      "4      700\n",
      "dtype: int32 <class 'pandas.core.series.Series'>\n"
     ]
    }
   ],
   "source": [
    "arr_data = np.array([100, 400, 500, 200, 700])\n",
    "s = pd.Series(data = arr_data)\n",
    "print (arr_data, type(arr_data))\n",
    "print (s, type(s))\n",
    "\n",
    "arr_data[2] = 50000\n",
    "s[1] = 40000\n",
    "print (arr_data, type(arr_data))\n",
    "print (s, type(s))"
   ]
  },
  {
   "cell_type": "code",
   "execution_count": 14,
   "id": "2220ba52-6fcf-4ece-a1de-83a8b3c9cb86",
   "metadata": {},
   "outputs": [
    {
     "name": "stdout",
     "output_type": "stream",
     "text": [
      "[100 400 500 200 700] <class 'numpy.ndarray'>\n",
      "0    100\n",
      "1    400\n",
      "2    500\n",
      "3    200\n",
      "4    700\n",
      "dtype: int32 <class 'pandas.core.series.Series'>\n",
      "[  100 40000 50000   200   700] <class 'numpy.ndarray'>\n",
      "0      100\n",
      "1    40000\n",
      "2    50000\n",
      "3      200\n",
      "4      700\n",
      "dtype: int32 <class 'pandas.core.series.Series'>\n"
     ]
    }
   ],
   "source": [
    "arr_data = np.array([100, 400, 500, 200, 700])\n",
    "s = pd.Series(data = arr_data, copy=False)\n",
    "print (arr_data, type(arr_data))\n",
    "print (s, type(s))\n",
    "\n",
    "arr_data[2] = 50000\n",
    "s[1] = 40000\n",
    "print (arr_data, type(arr_data))\n",
    "print (s, type(s))"
   ]
  },
  {
   "cell_type": "code",
   "execution_count": 15,
   "id": "558f5a31-481d-472d-9e3c-c29a690c179e",
   "metadata": {},
   "outputs": [
    {
     "name": "stdout",
     "output_type": "stream",
     "text": [
      "[100 400 500 200 700] <class 'numpy.ndarray'>\n",
      "0    100\n",
      "1    400\n",
      "2    500\n",
      "3    200\n",
      "4    700\n",
      "dtype: int32 <class 'pandas.core.series.Series'>\n",
      "[  100   400 50000   200   700] <class 'numpy.ndarray'>\n",
      "0      100\n",
      "1    40000\n",
      "2      500\n",
      "3      200\n",
      "4      700\n",
      "dtype: int32 <class 'pandas.core.series.Series'>\n"
     ]
    }
   ],
   "source": [
    "arr_data = np.array([100, 400, 500, 200, 700])\n",
    "s = pd.Series(data = arr_data, copy=True)\n",
    "print (arr_data, type(arr_data))\n",
    "print (s, type(s))\n",
    "\n",
    "arr_data[2] = 50000\n",
    "s[1] = 40000\n",
    "print (arr_data, type(arr_data))\n",
    "print (s, type(s))"
   ]
  },
  {
   "cell_type": "code",
   "execution_count": 28,
   "id": "9c3f870d-6a7b-4452-89aa-b66830112545",
   "metadata": {},
   "outputs": [
    {
     "name": "stdout",
     "output_type": "stream",
     "text": [
      "['apple' 'guava' 'banana' 'pineapple' 'coconut'] <class 'numpy.ndarray'>\n",
      "0        apple\n",
      "1        guava\n",
      "2       banana\n",
      "3    pineapple\n",
      "4      coconut\n",
      "dtype: object <class 'pandas.core.series.Series'> guava pineapple\n",
      "100        apple\n",
      "101        guava\n",
      "102       banana\n",
      "103    pineapple\n",
      "104      coconut\n",
      "dtype: object <class 'pandas.core.series.Series'> guava pineapple\n",
      "105        apple\n",
      "101        guava\n",
      "103       banana\n",
      "101    pineapple\n",
      "103      coconut\n",
      "dtype: object <class 'pandas.core.series.Series'>\n",
      "101        guava\n",
      "101    pineapple\n",
      "dtype: object\n",
      "103     banana\n",
      "103    coconut\n",
      "dtype: object\n"
     ]
    }
   ],
   "source": [
    "arr_data = np.array(['apple', 'guava', 'banana', 'pineapple', 'coconut'])\n",
    "print (arr_data, type(arr_data))\n",
    "\n",
    "s = pd.Series(arr_data)\n",
    "print (s, type(s), s[1], s[3])\n",
    "\n",
    "s = pd.Series(arr_data, index = [100, 101, 102, 103, 104])\n",
    "print (s, type(s), s[101], s[103])\n",
    "\n",
    "s = pd.Series(arr_data, index = [105, 101, 103, 101, 103])\n",
    "print (s, type(s))\n",
    "print (s[101])\n",
    "print (s[103])"
   ]
  },
  {
   "cell_type": "code",
   "execution_count": 29,
   "id": "04b3eb11-99cb-48f6-8bca-2d408592b30f",
   "metadata": {},
   "outputs": [
    {
     "name": "stdout",
     "output_type": "stream",
     "text": [
      "['apple' 'guava' 'banana' 'pineapple' 'coconut'] <class 'numpy.ndarray'>\n",
      "fruit-1        apple\n",
      "fruit-2        guava\n",
      "fruit-3       banana\n",
      "fruit-4    pineapple\n",
      "fruit-5      coconut\n",
      "dtype: object <class 'pandas.core.series.Series'>\n",
      "apple banana\n",
      "apple banana guava\n"
     ]
    }
   ],
   "source": [
    "arr_data = np.array(['apple', 'guava', 'banana', 'pineapple', 'coconut'])\n",
    "print (arr_data, type(arr_data))\n",
    "\n",
    "s = pd.Series(arr_data, index = ['fruit-1', 'fruit-2', 'fruit-3', 'fruit-4', 'fruit-5'])\n",
    "print (s, type(s))\n",
    "print (s['fruit-1'], s['fruit-3'])\n",
    "print (s[0], s[2], s[1])"
   ]
  },
  {
   "cell_type": "code",
   "execution_count": 31,
   "id": "57ed1f76-75e9-4948-ad77-b7055edcf663",
   "metadata": {},
   "outputs": [
    {
     "name": "stdout",
     "output_type": "stream",
     "text": [
      "apple      100\n",
      "banana     202\n",
      "coconut    301\n",
      "mango      709\n",
      "dtype: int64 <class 'pandas.core.series.Series'>\n",
      "202 709\n"
     ]
    }
   ],
   "source": [
    "# create a Series from a dictionary\n",
    "dict_data = {'apple':100, 'banana':202, 'coconut':301, 'mango':709}\n",
    "s = pd.Series(data = dict_data)\n",
    "print (s, type(s))\n",
    "print (s['banana'], s['mango'])"
   ]
  },
  {
   "cell_type": "code",
   "execution_count": 33,
   "id": "78c3cc7e-b40a-4913-ad0e-5c2514d9fa7a",
   "metadata": {},
   "outputs": [
    {
     "name": "stdout",
     "output_type": "stream",
     "text": [
      "coconut    301.0\n",
      "apple      100.0\n",
      "mango      709.0\n",
      "coconut    301.0\n",
      "mango      709.0\n",
      "coconut    301.0\n",
      "banana     202.0\n",
      "lime         NaN\n",
      "dtype: float64 <class 'pandas.core.series.Series'>\n",
      "202.0 mango    709.0\n",
      "mango    709.0\n",
      "dtype: float64\n"
     ]
    }
   ],
   "source": [
    "dict_data = {'apple':100, 'banana':202, 'coconut':301, 'mango':709}\n",
    "s = pd.Series(data = dict_data, index = ['coconut', 'apple', 'mango', 'coconut', 'mango', 'coconut', 'banana', 'lime'])\n",
    "print (s, type(s))\n",
    "print (s['banana'], s['mango'])"
   ]
  },
  {
   "cell_type": "code",
   "execution_count": 34,
   "id": "dcfd7477-1f11-4991-b3b7-76c9bdfd46fe",
   "metadata": {},
   "outputs": [
    {
     "name": "stdout",
     "output_type": "stream",
     "text": [
      "0    5\n",
      "1    5\n",
      "2    5\n",
      "3    5\n",
      "4    5\n",
      "5    5\n",
      "6    5\n",
      "7    5\n",
      "dtype: int64 <class 'pandas.core.series.Series'>\n"
     ]
    }
   ],
   "source": [
    "# create a Series from a scalar\n",
    "s = pd.Series(5, index = [0, 1, 2, 3, 4, 5, 6, 7])\n",
    "print (s, type(s))"
   ]
  },
  {
   "cell_type": "code",
   "execution_count": 36,
   "id": "9081f9e7-081c-42b8-ac76-57cba7b2c030",
   "metadata": {},
   "outputs": [
    {
     "name": "stdout",
     "output_type": "stream",
     "text": [
      "red       101\n",
      "blue      303\n",
      "purple    202\n",
      "white     505\n",
      "brown     404\n",
      "dtype: int64 <class 'pandas.core.series.Series'>\n"
     ]
    }
   ],
   "source": [
    "# create a Series from a list\n",
    "list_data = [101, 303, 202, 505, 404]\n",
    "s = pd.Series(data = list_data, index = ['red', 'blue', 'purple', 'white', 'brown'])\n",
    "print (s, type(s))"
   ]
  },
  {
   "cell_type": "markdown",
   "id": "3d7958c1-23a8-4fab-a7e0-dc0dff8ab7e3",
   "metadata": {},
   "source": [
    "### **Data Frame Data Structure:**"
   ]
  },
  {
   "cell_type": "code",
   "execution_count": null,
   "id": "f611d812-97eb-4d39-a0a9-9df20f538ff2",
   "metadata": {},
   "outputs": [],
   "source": []
  },
  {
   "cell_type": "code",
   "execution_count": null,
   "id": "c3eb80a5-104c-41cb-b8ad-98e9f69de9f9",
   "metadata": {},
   "outputs": [],
   "source": []
  },
  {
   "cell_type": "code",
   "execution_count": null,
   "id": "76686114-d55a-4e3e-9dfc-74f47e0548e5",
   "metadata": {},
   "outputs": [],
   "source": []
  },
  {
   "cell_type": "code",
   "execution_count": null,
   "id": "d107dea0-e5d5-440f-a44a-f2c48f1c706a",
   "metadata": {},
   "outputs": [],
   "source": []
  },
  {
   "cell_type": "code",
   "execution_count": null,
   "id": "a7f792b6-750a-44ce-898e-d8735eb25865",
   "metadata": {},
   "outputs": [],
   "source": []
  },
  {
   "cell_type": "code",
   "execution_count": null,
   "id": "c217ee8a-cb22-4136-8ee6-463ab7b1642d",
   "metadata": {},
   "outputs": [],
   "source": []
  },
  {
   "cell_type": "code",
   "execution_count": null,
   "id": "9f79f96e-72a3-4e1e-ba24-aa1cb07a1e1f",
   "metadata": {},
   "outputs": [],
   "source": []
  },
  {
   "cell_type": "code",
   "execution_count": null,
   "id": "1961f931-03a4-4158-9d39-6994dec106ce",
   "metadata": {},
   "outputs": [],
   "source": []
  }
 ],
 "metadata": {
  "kernelspec": {
   "display_name": "Python 3",
   "language": "python",
   "name": "python3"
  },
  "language_info": {
   "codemirror_mode": {
    "name": "ipython",
    "version": 3
   },
   "file_extension": ".py",
   "mimetype": "text/x-python",
   "name": "python",
   "nbconvert_exporter": "python",
   "pygments_lexer": "ipython3",
   "version": "3.8.8"
  }
 },
 "nbformat": 4,
 "nbformat_minor": 5
}

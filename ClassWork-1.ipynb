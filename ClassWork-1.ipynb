{
 "cells": [
  {
   "cell_type": "code",
   "execution_count": 9,
   "id": "57075edb-c089-48f6-91ba-f714dc7d6a14",
   "metadata": {},
   "outputs": [],
   "source": [
    "# This is a comment line\n",
    "# This is a comment line\n",
    "# This is a comment line\n",
    "# This is a comment line\n",
    "# This is a comment line\n",
    "# This is a comment line\n",
    "# This is a comment line"
   ]
  },
  {
   "cell_type": "code",
   "execution_count": 3,
   "id": "08daaf9d-b5e9-4927-9fa1-dcf55e27c78a",
   "metadata": {},
   "outputs": [
    {
     "name": "stdout",
     "output_type": "stream",
     "text": [
      "Welcome to Python Programming...\n"
     ]
    }
   ],
   "source": [
    "print (\"Welcome to Python Programming...\")"
   ]
  },
  {
   "cell_type": "markdown",
   "id": "79900a3f-f4f2-4879-93dc-60eba212e14a",
   "metadata": {},
   "source": [
    "### Inputs and Outputs in Python"
   ]
  },
  {
   "cell_type": "code",
   "execution_count": 12,
   "id": "1af8eb97-dd1e-4910-ae01-3e9d0a792ddf",
   "metadata": {},
   "outputs": [
    {
     "name": "stdin",
     "output_type": "stream",
     "text": [
      "Please enter the first number:  100\n",
      "Please enter the second number:  200\n"
     ]
    },
    {
     "name": "stdout",
     "output_type": "stream",
     "text": [
      "100 <class 'str'> 200 <class 'str'>\n",
      "So the sum is 100200\n",
      "End of the program...\n"
     ]
    }
   ],
   "source": [
    "num1 = input(\"Please enter the first number: \")\n",
    "num2 = input(\"Please enter the second number: \")\n",
    "print (num1, type(num1), num2, type(num2))\n",
    "total = num1 + num2\n",
    "print (\"So the sum is\", total)\n",
    "print (\"End of the program...\")"
   ]
  },
  {
   "cell_type": "code",
   "execution_count": 13,
   "id": "ed2b676e-5045-434c-baae-873020277faa",
   "metadata": {},
   "outputs": [
    {
     "name": "stdin",
     "output_type": "stream",
     "text": [
      "Please enter the first number:  100\n",
      "Please enter the second number:  200\n"
     ]
    },
    {
     "name": "stdout",
     "output_type": "stream",
     "text": [
      "100 <class 'int'> 200 <class 'int'>\n",
      "So the sum is 300\n",
      "End of the program...\n"
     ]
    }
   ],
   "source": [
    "num1 = int(input(\"Please enter the first number: \"))\n",
    "num2 = int(input(\"Please enter the second number: \"))\n",
    "print (num1, type(num1), num2, type(num2))\n",
    "total = num1 + num2\n",
    "print (\"So the sum is\", total)\n",
    "print (\"End of the program...\")"
   ]
  },
  {
   "cell_type": "code",
   "execution_count": 14,
   "id": "0bf67881-03e1-4827-8469-5edf70d98e32",
   "metadata": {},
   "outputs": [
    {
     "name": "stdin",
     "output_type": "stream",
     "text": [
      "Please enter the first number:  300\n",
      "Please enter the second number:  400\n"
     ]
    },
    {
     "name": "stdout",
     "output_type": "stream",
     "text": [
      "300 <class 'int'> 400 <class 'int'>\n"
     ]
    }
   ],
   "source": [
    "num1 = int(input(\"Please enter the first number: \"))\n",
    "num2 = int(input(\"Please enter the second number: \"))\n",
    "print (num1, type(num1), num2, type(num2))\n",
    "total = num1 + num2"
   ]
  },
  {
   "cell_type": "code",
   "execution_count": 31,
   "id": "eca9fe95-89fe-4da3-9055-47e8e2254a6a",
   "metadata": {},
   "outputs": [
    {
     "name": "stdout",
     "output_type": "stream",
     "text": [
      "So 300 + 400 = 700\n",
      "So 300 + 400 = 700\n",
      "So 300 + 400 = 700\n",
      "So 300 + 400 = 700\n",
      "So 300 + 400 = 700\n",
      "So 300 + 400 = 700\n",
      "So 300 + 400 = 700\n",
      "So 300 + 400 = 700\n",
      "So 300 + 400.000000 = 700\n",
      "So 300 + 400.000000 = 700\n",
      "So 300 +  400.000 = 700\n",
      "So 300 + 400 = 700\n"
     ]
    }
   ],
   "source": [
    "print (\"So\", num1, \"+\", num2, \"=\", total)\n",
    "print (\"So \" + str(num1) + \" + \" + str(num2) + \" = \" + str(total))\n",
    "print (\"So {} + {} = {}\".format(num1, num2, total))   # {} stands for place holder\n",
    "print (\"So {fnum} + {snum} = {result}\".format(fnum = num1, snum = num2, result = total))    # labelled place holder\n",
    "print (\"So {fnum} + {snum} = {result}\".format(result = total, snum = num2, fnum = num1))\n",
    "print (\"So {0} + {1} = {2}\".format(num1, num2, total))    # numbered place holder\n",
    "print (\"So {2} + {1} = {0}\".format(total, num2, num1))    # numbered place holder\n",
    "print (\"So %d + %d = %d\"%(num1, num2, total))\n",
    "print (\"So %d + %f = %d\"%(num1, num2, total))\n",
    "print (\"So %d + %10.6f = %d\"%(num1, num2, total))\n",
    "print (\"So %d + %8.3f = %d\"%(num1, num2, total))\n",
    "print (f\"So {num1} + {num2} = {total}\")"
   ]
  },
  {
   "cell_type": "markdown",
   "id": "8447286e-23cd-4c81-aa6c-451f6c224104",
   "metadata": {},
   "source": [
    "### Python Operators"
   ]
  },
  {
   "cell_type": "code",
   "execution_count": 1,
   "id": "f2d032ba-26c4-4dba-aaec-797e9cc85901",
   "metadata": {},
   "outputs": [
    {
     "name": "stdout",
     "output_type": "stream",
     "text": [
      "140\n",
      "60\n",
      "4000\n",
      "2.5\n",
      "2\n",
      "20\n",
      "100000000\n"
     ]
    }
   ],
   "source": [
    "# Arithmetic Operators: + - * / // % **\n",
    "print (100 + 40)   # addition operation\n",
    "print (100 - 40)   # subtraction operation\n",
    "print (100 * 40)   # multiplication operation\n",
    "print (100 / 40)   # float division operation\n",
    "print (100 // 40)  # integer division operation\n",
    "print (100 % 40)   # modulus (remainder) operation\n",
    "print (100 ** 4)   # exponentiation operation"
   ]
  },
  {
   "cell_type": "code",
   "execution_count": 5,
   "id": "a49b7d0d-9688-48d5-87f1-9a113a7c98b8",
   "metadata": {},
   "outputs": [
    {
     "name": "stdout",
     "output_type": "stream",
     "text": [
      "False False False True\n",
      "False True True True\n",
      "False True\n"
     ]
    }
   ],
   "source": [
    "# logical Operators: and or not\n",
    "print (False and False, False and True, True and False, True and True)\n",
    "print (False or False, False or True, True or False, True or True)\n",
    "print (not True, not False)"
   ]
  },
  {
   "cell_type": "code",
   "execution_count": 6,
   "id": "e2646be4-36be-4c37-8c6b-400dcb327b37",
   "metadata": {},
   "outputs": [
    {
     "name": "stdout",
     "output_type": "stream",
     "text": [
      "True True False False False True\n"
     ]
    }
   ],
   "source": [
    "# Relational (Comparison) Operators: > >= < <= == !=\n",
    "print (100 > 20, 100 >= 20, 100 < 20, 100 <= 20, 100 == 20, 100 != 20)"
   ]
  },
  {
   "cell_type": "code",
   "execution_count": null,
   "id": "759f8b59-a6da-486f-b8f9-c0026ff829a2",
   "metadata": {},
   "outputs": [],
   "source": [
    "# Operators can of three types:\n",
    "# Unary Operator: +100, -20\n",
    "# Binary Operator: 100 + 20,  100 * 20\n",
    "# Ternary Operator: Operator will work with three operands"
   ]
  },
  {
   "cell_type": "code",
   "execution_count": 8,
   "id": "9a910173-9bfd-47e5-b6e9-aae0044db588",
   "metadata": {},
   "outputs": [
    {
     "name": "stdout",
     "output_type": "stream",
     "text": [
      "EVEN\n",
      "ODD\n"
     ]
    }
   ],
   "source": [
    "# Ternary Operator\n",
    "num1 = 100\n",
    "result = \"EVEN\" if (num1 % 2 == 0) else \"ODD\"\n",
    "print (result)\n",
    "\n",
    "num1 = 103\n",
    "result = \"EVEN\" if (num1 % 2 == 0) else \"ODD\"\n",
    "print (result)"
   ]
  },
  {
   "cell_type": "code",
   "execution_count": 11,
   "id": "020fa842-48c1-4088-9b08-d87ee72ff701",
   "metadata": {},
   "outputs": [
    {
     "name": "stdout",
     "output_type": "stream",
     "text": [
      "300\n",
      "105\n",
      "110\n",
      "550\n"
     ]
    }
   ],
   "source": [
    "# Assignment operator: = += -= *= /= //+ **= %=\n",
    "result = 100 + 200   # assignment statement\n",
    "print (result)\n",
    "result = 100\n",
    "result = result + 5  # this statement is called assignment statement with assignment operator =\n",
    "print (result)\n",
    "result += 5   # special assignment operator\n",
    "print (result)\n",
    "result *= 5\n",
    "print (result)"
   ]
  },
  {
   "cell_type": "code",
   "execution_count": 24,
   "id": "46df2537-673f-476e-9b37-87ef4df7087a",
   "metadata": {},
   "outputs": [
    {
     "name": "stdout",
     "output_type": "stream",
     "text": [
      "0 1 1 1\n",
      "0 0 0 1\n",
      "0 1 1 0\n",
      "-101\n"
     ]
    }
   ],
   "source": [
    "# Bitwise Operator: | & ~ ^\n",
    "print (0 | 0, 0 | 1, 1 | 0, 1 | 1)   # AND operator\n",
    "print (0 & 0, 0 & 1, 1 & 0, 1 & 1)   # OR operator\n",
    "print (0 ^ 0, 0 ^ 1, 1 ^ 0, 1 ^ 1)   # XOR operator\n",
    "print (~100)     # 100 = 64 + 32 + 4 = 0110 0100 => 1001 1011 => -0110 0101 => -101"
   ]
  },
  {
   "cell_type": "markdown",
   "id": "5b53183a-6ace-41c5-89d8-0d05808e7343",
   "metadata": {},
   "source": [
    "### Conditional Statements in Python"
   ]
  },
  {
   "cell_type": "code",
   "execution_count": 34,
   "id": "1fb8d965-d2c3-4ef4-b676-dc360926058b",
   "metadata": {},
   "outputs": [
    {
     "name": "stdin",
     "output_type": "stream",
     "text": [
      "Please enter the first number:  300\n",
      "Please enter the second number:  100\n",
      "Please enter the thord number:  200\n"
     ]
    },
    {
     "name": "stdout",
     "output_type": "stream",
     "text": [
      "The first number is the maximum number...\n",
      "The maximum number is 300\n",
      "End of the program...\n"
     ]
    }
   ],
   "source": [
    "num1 = int(input(\"Please enter the first number: \"))\n",
    "num2 = int(input(\"Please enter the second number: \"))\n",
    "num3 = int(input(\"Please enter the thord number: \"))\n",
    "if (num1 > num2):\n",
    "    if (num1 > num3):\n",
    "        print (\"The first number is the maximum number...\")\n",
    "        print (\"The maximum number is\", num1)\n",
    "    else:\n",
    "        print (\"The third number is the maximum number...\")\n",
    "        print (\"The maximum number is\", num3)\n",
    "elif (num2 > num3):\n",
    "    print (\"The second number is the maximum number...\")\n",
    "    print (\"The maximum number is\", num2)\n",
    "else:\n",
    "    print (\"The third number is the maximum number...\")\n",
    "    print (\"The maximum number is\", num3)\n",
    "    \n",
    "print (\"End of the program...\")"
   ]
  },
  {
   "cell_type": "code",
   "execution_count": 37,
   "id": "57c58583-8f16-432a-ac5c-51efbdc9ddd9",
   "metadata": {},
   "outputs": [
    {
     "name": "stdin",
     "output_type": "stream",
     "text": [
      "Please enter the first number:  200\n",
      "Please enter the second number:  10\n",
      "Please enter the thord number:  300\n"
     ]
    },
    {
     "name": "stdout",
     "output_type": "stream",
     "text": [
      "The third number is the maximum number...\n",
      "The maximum number is 300\n",
      "End of the program...\n"
     ]
    }
   ],
   "source": [
    "num1 = int(input(\"Please enter the first number: \"))\n",
    "num2 = int(input(\"Please enter the second number: \"))\n",
    "num3 = int(input(\"Please enter the thord number: \"))\n",
    "if (num1 > num2 and num1 > num3):\n",
    "    print (\"The first number is the maximum number...\")\n",
    "    print (\"The maximum number is\", num1)\n",
    "elif (num2 > num3):\n",
    "    print (\"The second number is the maximum number...\")\n",
    "    print (\"The maximum number is\", num2)\n",
    "else:\n",
    "    print (\"The third number is the maximum number...\")\n",
    "    print (\"The maximum number is\", num3)\n",
    "    \n",
    "print (\"End of the program...\")"
   ]
  },
  {
   "cell_type": "code",
   "execution_count": 38,
   "id": "93916971-de63-478b-9213-fbdcfac10614",
   "metadata": {},
   "outputs": [
    {
     "name": "stdin",
     "output_type": "stream",
     "text": [
      "Please enter your expression: (20 + 50) * 2\n"
     ]
    },
    {
     "name": "stdout",
     "output_type": "stream",
     "text": [
      "140\n"
     ]
    }
   ],
   "source": [
    "result = eval(input(\"Please enter your expression:\"))\n",
    "print (result)"
   ]
  },
  {
   "cell_type": "code",
   "execution_count": 40,
   "id": "78394f88-9bc2-4c2f-9e96-7585a2001ab1",
   "metadata": {},
   "outputs": [
    {
     "name": "stdin",
     "output_type": "stream",
     "text": [
      "Please enter your expression: (20 * 10 + 50 * 5) * 10\n"
     ]
    },
    {
     "name": "stdout",
     "output_type": "stream",
     "text": [
      "4500\n"
     ]
    }
   ],
   "source": [
    "result = input(\"Please enter your expression:\")\n",
    "result = eval(result)\n",
    "print (result)"
   ]
  },
  {
   "cell_type": "markdown",
   "id": "c4ee548e-e995-4b08-a581-c383277f8f49",
   "metadata": {},
   "source": [
    "### Python Loop or Iterations"
   ]
  },
  {
   "cell_type": "code",
   "execution_count": 3,
   "id": "2dccd46d-c20a-440b-8aac-5faa7d48733c",
   "metadata": {},
   "outputs": [
    {
     "name": "stdout",
     "output_type": "stream",
     "text": [
      "Executing for i = 0\n",
      "Executing for i = 1\n",
      "Executing for i = 2\n",
      "Executing for i = 3\n",
      "Executing for i = 4\n",
      "Executing for i = 5\n",
      "Executing for i = 6\n",
      "Executing for i = 7\n",
      "Executing for i = 8\n",
      "Executing for i = 9\n"
     ]
    }
   ],
   "source": [
    "# loop with for\n",
    "# for i in range(10):\n",
    "# for i in range(0, 10):\n",
    "for i in range(0, 10, 1):\n",
    "    print (\"Executing for i =\", i)"
   ]
  },
  {
   "cell_type": "code",
   "execution_count": 4,
   "id": "0b8e1d54-620a-4dbf-b277-1e7d9c596336",
   "metadata": {},
   "outputs": [
    {
     "name": "stdout",
     "output_type": "stream",
     "text": [
      "Executing for i = 0\n",
      "Executing for i = 2\n",
      "Executing for i = 4\n",
      "Executing for i = 6\n",
      "Executing for i = 8\n"
     ]
    }
   ],
   "source": [
    "for i in range(0, 10, 2):\n",
    "    print (\"Executing for i =\", i)"
   ]
  },
  {
   "cell_type": "code",
   "execution_count": 7,
   "id": "c3dd6bfb-5431-4e1a-95f2-51dc44b3ec3c",
   "metadata": {},
   "outputs": [
    {
     "name": "stdout",
     "output_type": "stream",
     "text": [
      "Executing for i = 10\n",
      "Executing for i = 9\n",
      "Executing for i = 8\n",
      "Executing for i = 7\n",
      "Executing for i = 6\n",
      "Executing for i = 5\n",
      "Executing for i = 4\n",
      "Executing for i = 3\n",
      "Executing for i = 2\n",
      "Executing for i = 1\n",
      "ELSE: Executing the Else block...\n",
      "ELSE: Had a smooth execution...\n",
      "End of the program...\n"
     ]
    }
   ],
   "source": [
    "for i in range(10, 0, -1):\n",
    "    print (\"Executing for i =\", i)\n",
    "else:\n",
    "    print (\"ELSE: Executing the Else block...\")\n",
    "    print (\"ELSE: Had a smooth execution...\")\n",
    "print (\"End of the program...\")"
   ]
  },
  {
   "cell_type": "code",
   "execution_count": 14,
   "id": "2cba5245-2b73-464f-b171-b61a3b4d1cd1",
   "metadata": {},
   "outputs": [
    {
     "name": "stdout",
     "output_type": "stream",
     "text": [
      "Executing for i = 1\n",
      "Executing for i = 2\n",
      "Executing for i = 3\n",
      "Executing for i = 4\n",
      "Executing for i = 5\n",
      "Executing for i = 6\n",
      "Executing for i = 7\n",
      "Executing for i = 8\n",
      "Executing for i = 9\n",
      "Executing for i = 10\n",
      "Exiting for i = 10\n",
      "End of the program...\n"
     ]
    }
   ],
   "source": [
    "for i in range(1, 11):\n",
    "    print (\"Executing for i =\", i)\n",
    "    if (i == 10):\n",
    "        print (\"Exiting for i =\", i)\n",
    "        break\n",
    "    else:\n",
    "        pass\n",
    "else:\n",
    "    print (\"ELSE: Executing the Else block...\")\n",
    "    print (\"ELSE: Had a smooth execution...\")\n",
    "print (\"End of the program...\")"
   ]
  },
  {
   "cell_type": "code",
   "execution_count": 12,
   "id": "99629248-1196-4bd2-a702-0e9ec0ad3512",
   "metadata": {},
   "outputs": [
    {
     "name": "stdout",
     "output_type": "stream",
     "text": [
      "Executing for i = 1\n",
      "Executing for i = 2\n",
      "Executing for i = 3\n",
      "Executing for i = 4\n",
      "Executing for i = 5\n",
      "Executing for i = 6\n",
      "Executing for i = 7\n",
      "Executing for i = 8\n",
      "Executing for i = 9\n",
      "Executing for i = 10\n",
      "Exiting for i = 10\n",
      "End of the program...\n"
     ]
    }
   ],
   "source": [
    "for i in range(1, 11):\n",
    "    print (\"Executing for i =\", i)\n",
    "    if (i != 10):\n",
    "        pass    # statement placeholder\n",
    "    else:\n",
    "        print (\"Exiting for i =\", i)\n",
    "        break\n",
    "else:\n",
    "    print (\"ELSE: Executing the Else block...\")\n",
    "    print (\"ELSE: Had a smooth execution...\")\n",
    "print (\"End of the program...\")"
   ]
  },
  {
   "cell_type": "code",
   "execution_count": 15,
   "id": "d8bf6e15-1725-4beb-9553-bda63d2c1339",
   "metadata": {},
   "outputs": [
    {
     "name": "stdout",
     "output_type": "stream",
     "text": [
      "Executing for i = 1\n",
      "Executing for i = 2\n",
      "Executing for i = 3\n",
      "Executing for i = 4\n",
      "Continuing with the loop...\n",
      "Executing for i = 6\n",
      "Continuing with the loop...\n",
      "Executing for i = 8\n",
      "Executing for i = 9\n",
      "Executing for i = 10\n",
      "ELSE: Executing the Else block...\n",
      "ELSE: Had a smooth execution...\n",
      "End of the program...\n"
     ]
    }
   ],
   "source": [
    "for i in range(1, 11):\n",
    "    if (i == 5 or i == 7):\n",
    "        print (\"Continuing with the loop...\")\n",
    "        continue\n",
    "    print (\"Executing for i =\", i)\n",
    "else:\n",
    "    print (\"ELSE: Executing the Else block...\")\n",
    "    print (\"ELSE: Had a smooth execution...\")\n",
    "print (\"End of the program...\")"
   ]
  },
  {
   "cell_type": "code",
   "execution_count": 17,
   "id": "fef532d5-7926-44c5-815b-8ad4d3788abb",
   "metadata": {},
   "outputs": [
    {
     "name": "stdin",
     "output_type": "stream",
     "text": [
      "Please enter an integer:  100\n"
     ]
    },
    {
     "name": "stdout",
     "output_type": "stream",
     "text": [
      "100 is Not a PRIME Number..\n",
      "End of the program...\n"
     ]
    }
   ],
   "source": [
    "# program to check whether the input number is PRIME or not\n",
    "num = int(input(\"Please enter an integer: \"))\n",
    "for i in range(2, num):\n",
    "    if (num % i == 0):\n",
    "        print (f\"{num} is Not a PRIME Number..\")\n",
    "        break\n",
    "else:\n",
    "    print (f\"{num} is a PRIME Number..\")\n",
    "print (\"End of the program...\")"
   ]
  },
  {
   "cell_type": "code",
   "execution_count": 18,
   "id": "f9be7c4a-f680-4904-8156-c55bc091c3ea",
   "metadata": {},
   "outputs": [
    {
     "name": "stdout",
     "output_type": "stream",
     "text": [
      "Looping for i = 1\n",
      "Looping for i = 2\n",
      "Looping for i = 3\n",
      "Looping for i = 4\n",
      "Continuing for i = 5 here...\n",
      "Looping for i = 6\n",
      "Continuing for i = 7 here...\n",
      "Looping for i = 8\n",
      "Looping for i = 9\n",
      "Looping for i = 10\n",
      "ELSE: Had a smooth execution...\n",
      "ELSE: Executing the ELSE block...\n",
      "End of the program...\n"
     ]
    }
   ],
   "source": [
    "i = 1\n",
    "while (i <= 10):\n",
    "    if (i == 5 or i == 7):\n",
    "        print (f\"Continuing for i = {i} here...\")\n",
    "        i = i + 1\n",
    "        continue\n",
    "    print (f\"Looping for i = {i}\")\n",
    "    i = i + 1\n",
    "else:\n",
    "    print (\"ELSE: Had a smooth execution...\")\n",
    "    print (\"ELSE: Executing the ELSE block...\")\n",
    "print (\"End of the program...\")"
   ]
  },
  {
   "cell_type": "code",
   "execution_count": 21,
   "id": "e8949638-0404-4cba-ba2f-ed73e2a43b1b",
   "metadata": {},
   "outputs": [
    {
     "name": "stdout",
     "output_type": "stream",
     "text": [
      "Looping for i = 1\n",
      "Looping for i = 2\n",
      "Looping for i = 3\n",
      "Looping for i = 4\n",
      "Breaking for i = 5 here...\n",
      "End of the program...\n"
     ]
    }
   ],
   "source": [
    "i = 1\n",
    "while (i <= 10):\n",
    "    if (i == 5):\n",
    "        print (f\"Breaking for i = {i} here...\")\n",
    "        break\n",
    "    print (f\"Looping for i = {i}\")\n",
    "    i = i + 1\n",
    "else:\n",
    "    print (\"ELSE: Had a smooth execution...\")\n",
    "    print (\"ELSE: Executing the ELSE block...\")\n",
    "print (\"End of the program...\")"
   ]
  },
  {
   "cell_type": "code",
   "execution_count": 24,
   "id": "b58b9f5a-ef92-4d38-9155-5d33996a313c",
   "metadata": {},
   "outputs": [
    {
     "name": "stdout",
     "output_type": "stream",
     "text": [
      "Visit Doctor...\n",
      "Good Morning...\n",
      "Day Number: 1 and Medicine Number: 1...\n",
      "Day Number: 1 and Medicine Number: 2...\n",
      "Day Number: 1 and Medicine Number: 3...\n",
      "Good Night...\n",
      "--------------------------------------------\n",
      "Good Morning...\n",
      "Day Number: 2 and Medicine Number: 1...\n",
      "Day Number: 2 and Medicine Number: 2...\n",
      "Day Number: 2 and Medicine Number: 3...\n",
      "Good Night...\n",
      "--------------------------------------------\n",
      "Good Morning...\n",
      "Day Number: 3 and Medicine Number: 1...\n",
      "Day Number: 3 and Medicine Number: 2...\n",
      "Day Number: 3 and Medicine Number: 3...\n",
      "Good Night...\n",
      "--------------------------------------------\n",
      "Good Morning...\n",
      "Day Number: 4 and Medicine Number: 1...\n",
      "Day Number: 4 and Medicine Number: 2...\n",
      "Day Number: 4 and Medicine Number: 3...\n",
      "Good Night...\n",
      "--------------------------------------------\n",
      "Good Morning...\n",
      "Day Number: 5 and Medicine Number: 1...\n",
      "Day Number: 5 and Medicine Number: 2...\n",
      "Day Number: 5 and Medicine Number: 3...\n",
      "Good Night...\n",
      "--------------------------------------------\n",
      "So the total number of medicine consumed is 15...\n",
      "Thanks to Doctor...\n"
     ]
    }
   ],
   "source": [
    "# nested for-loops\n",
    "print (\"Visit Doctor...\")    # 1 time\n",
    "medi_count = 0\n",
    "for day in range(1, 6):\n",
    "    print (\"Good Morning...\")    # 5 times\n",
    "    for medi in range(1, 4):\n",
    "        print (f\"Day Number: {day} and Medicine Number: {medi}...\")    # 15 times\n",
    "        medi_count += 1\n",
    "    print (\"Good Night...\")    # 5 times\n",
    "    print (\"--------------------------------------------\")    # 5 times\n",
    "print (f\"So the total number of medicine consumed is {medi_count}...\")\n",
    "print (\"Thanks to Doctor...\")    # 1 time"
   ]
  },
  {
   "cell_type": "code",
   "execution_count": 25,
   "id": "dfa994fd-6bdd-4d45-870e-cb625d6a6f9d",
   "metadata": {},
   "outputs": [
    {
     "name": "stdout",
     "output_type": "stream",
     "text": [
      "Visit Doctor...\n",
      "Good Morning...\n",
      "Day Number: 1 and Medicine Number: 1...\n",
      "Day Number: 1 and Medicine Number: 2...\n",
      "Day Number: 1 and Medicine Number: 3...\n",
      "Good Night...\n",
      "--------------------------------------------\n",
      "Good Morning...\n",
      "Day Number: 2 and Medicine Number: 1...\n",
      "Day Number: 2 and Medicine Number: 2...\n",
      "Day Number: 2 and Medicine Number: 3...\n",
      "Good Night...\n",
      "--------------------------------------------\n",
      "Good Morning...\n",
      "Day Number: 3 and Medicine Number: 1...\n",
      "Day Number: 3 and Medicine Number: 2...\n",
      "Day Number: 3 and Medicine Number: 3...\n",
      "Good Night...\n",
      "--------------------------------------------\n",
      "Good Morning...\n",
      "Day Number: 4 and Medicine Number: 1...\n",
      "Day Number: 4 and Medicine Number: 2...\n",
      "Day Number: 4 and Medicine Number: 3...\n",
      "Good Night...\n",
      "--------------------------------------------\n",
      "Good Morning...\n",
      "Day Number: 5 and Medicine Number: 1...\n",
      "Day Number: 5 and Medicine Number: 2...\n",
      "Day Number: 5 and Medicine Number: 3...\n",
      "Good Night...\n",
      "--------------------------------------------\n",
      "So the total number of medicine consumed is 15...\n",
      "Thanks to Doctor...\n"
     ]
    }
   ],
   "source": [
    "# nested loops\n",
    "print (\"Visit Doctor...\")    # 1 time\n",
    "medi_count = 0\n",
    "for day in range(1, 6):\n",
    "    print (\"Good Morning...\")    # 5 times\n",
    "    medi = 1\n",
    "    while (medi <= 3):\n",
    "        print (f\"Day Number: {day} and Medicine Number: {medi}...\")    # 15 times\n",
    "        medi_count += 1\n",
    "        medi += 1\n",
    "    print (\"Good Night...\")    # 5 times\n",
    "    print (\"--------------------------------------------\")    # 5 times\n",
    "print (f\"So the total number of medicine consumed is {medi_count}...\")\n",
    "print (\"Thanks to Doctor...\")    # 1 time"
   ]
  },
  {
   "cell_type": "code",
   "execution_count": 27,
   "id": "0bf1ef14-5191-4c14-a520-e7864096a922",
   "metadata": {},
   "outputs": [
    {
     "name": "stdout",
     "output_type": "stream",
     "text": [
      "Hello Hello Hello Hello Hello \n",
      "Welcome Welcome Welcome Welcome Welcome Welcome Welcome \n",
      "Welcome to all\n"
     ]
    }
   ],
   "source": [
    "print (\"Hello \" * 5)\n",
    "print (\"Welcome \" * 7)\n",
    "print (\"Welcome\" + \" to all\")"
   ]
  },
  {
   "cell_type": "code",
   "execution_count": null,
   "id": "7ca4a906-8405-4c80-8505-e09e22984415",
   "metadata": {},
   "outputs": [],
   "source": [
    "n = 6\n",
    "                i   .   *\n",
    "              -------------\n",
    ".....*          1   5   1       (i, n)\n",
    "....***         2   4   3  . => (n - i)\n",
    "...*****        3   3   5\n",
    "..*******       4   2   7  * => (2 * i - 1)\n",
    ".*********      5   1   9\n",
    "***********     6   0  11\n",
    "              -------------\n",
    "              Tracing table"
   ]
  },
  {
   "cell_type": "code",
   "execution_count": 30,
   "id": "3c06dc93-2e87-4535-9283-78daea9a5647",
   "metadata": {},
   "outputs": [
    {
     "name": "stdin",
     "output_type": "stream",
     "text": [
      "Please enter the number of layers:  8\n"
     ]
    },
    {
     "name": "stdout",
     "output_type": "stream",
     "text": [
      ".......*\n",
      "......***\n",
      ".....*****\n",
      "....*******\n",
      "...*********\n",
      "..***********\n",
      ".*************\n",
      "***************\n",
      "End of the program...\n"
     ]
    }
   ],
   "source": [
    "n = int(input(\"Please enter the number of layers: \"))\n",
    "for i in range(1, n + 1):\n",
    "    print (\".\" * (n - i) + \"*\" * (2 * i - 1))\n",
    "print (\"End of the program...\")"
   ]
  },
  {
   "cell_type": "code",
   "execution_count": null,
   "id": "f047c2b5-7797-4a2a-99d4-9cef8f549248",
   "metadata": {},
   "outputs": [],
   "source": [
    "n = 6\n",
    "                i   .   *\n",
    "              -------------\n",
    "***********     1   0  11       (i, n)\n",
    ".*********      2   1   9  . => (i - 1)\n",
    "..*******       3   2   7\n",
    "...*****        4   3   5  * => (2 * (n - i) + 1)\n",
    "....***         5   4   3\n",
    ".....*          6   5   1\n",
    "              -------------"
   ]
  },
  {
   "cell_type": "code",
   "execution_count": 32,
   "id": "10d97468-5f50-42c8-bcfd-0830ece2355e",
   "metadata": {},
   "outputs": [
    {
     "name": "stdin",
     "output_type": "stream",
     "text": [
      "Please enter the number of layers:  6\n"
     ]
    },
    {
     "name": "stdout",
     "output_type": "stream",
     "text": [
      "***********\n",
      ".*********\n",
      "..*******\n",
      "...*****\n",
      "....***\n",
      ".....*\n",
      "End of the program...\n"
     ]
    }
   ],
   "source": [
    "n = int(input(\"Please enter the number of layers: \"))\n",
    "for i in range(1, n + 1):\n",
    "    print (\".\" * (i - 1) + \"*\" * (2 * (n - i) + 1))\n",
    "print (\"End of the program...\")"
   ]
  },
  {
   "cell_type": "code",
   "execution_count": null,
   "id": "c8ea698f-8b7d-4b4a-a250-6d20deb7ae28",
   "metadata": {},
   "outputs": [],
   "source": [
    "n = 11 (ODD Number of layers)   m = (n + 1) // 2 = 6\n",
    "                i   .   *\n",
    "              -------------\n",
    ".....*          1   5   1       (i, n, m)\n",
    "....***         2   4   3  . => (m - i)\n",
    "...*****        3   3   5\n",
    "..*******       4   2   7  * => (2 * i - 1)\n",
    ".*********      5   1   9\n",
    "***********   __6___0__11__\n",
    ".*********      7   1   9\n",
    "..*******       8   2   7  . => (i - m)\n",
    "...*****        9   3   5\n",
    "....***        10   4   3  * => (2 * (n - i) + 1)\n",
    ".....*         11   5   1\n",
    "              -------------"
   ]
  },
  {
   "cell_type": "code",
   "execution_count": 39,
   "id": "42dd663a-7949-4e8f-86f4-da53357f3ada",
   "metadata": {},
   "outputs": [
    {
     "name": "stdin",
     "output_type": "stream",
     "text": [
      "Please enter the ODD number of layers:  12\n",
      "Please enter the ODD number of layers:  20\n",
      "Please enter the ODD number of layers:  24\n",
      "Please enter the ODD number of layers:  11\n"
     ]
    },
    {
     "name": "stdout",
     "output_type": "stream",
     "text": [
      ".....*\n",
      "....***\n",
      "...*****\n",
      "..*******\n",
      ".*********\n",
      "***********\n",
      ".*********\n",
      "..*******\n",
      "...*****\n",
      "....***\n",
      ".....*\n",
      "End of the program...\n"
     ]
    }
   ],
   "source": [
    "while (True):\n",
    "    n = int(input(\"Please enter the ODD number of layers: \"))\n",
    "    if (n % 2 == 1): break\n",
    "m = (n + 1) // 2\n",
    "for i in range(1, n + 1):\n",
    "    if (i > m):\n",
    "        print (\".\" * (i - m) + \"*\" * (2 * (n - i) + 1))\n",
    "    else:\n",
    "        print (\".\" * (m - i) + \"*\" * (2 * i - 1))\n",
    "print (\"End of the program...\")"
   ]
  },
  {
   "cell_type": "code",
   "execution_count": null,
   "id": "a8ad03ef-5c1f-483b-97df-ec2091a29be1",
   "metadata": {},
   "outputs": [],
   "source": [
    "# Home Work\n",
    "n = 11 (ODD Number of layers)   m = (n + 1) // 2 = 6\n",
    "                i   .   *\n",
    "              -------------\n",
    "***********     1   5   1       (i, n, m)\n",
    ".*********      2   4   3  . => ???\n",
    "..*******       3   3   5\n",
    "...*****        4   2   7  * => ???\n",
    "....***         5   1   9\n",
    ".....*        __6___0__11__\n",
    "....***         7   1   9\n",
    "...*****        8   2   7  . => ???\n",
    "..*******       9   3   5\n",
    ".*********     10   4   3  * => ???\n",
    "***********    11   5   1\n",
    "              -------------\n",
    "TASK: Update tracing table get the logic and implement"
   ]
  },
  {
   "cell_type": "code",
   "execution_count": null,
   "id": "f0cba339-74d2-4b47-ade0-18162e581754",
   "metadata": {},
   "outputs": [],
   "source": []
  },
  {
   "cell_type": "code",
   "execution_count": null,
   "id": "ddb20bd6-66de-47f7-a21d-2e5ad7dd94a3",
   "metadata": {},
   "outputs": [],
   "source": []
  },
  {
   "cell_type": "code",
   "execution_count": null,
   "id": "8990c188-9fe0-4e6b-90f8-d31fda5b09c8",
   "metadata": {},
   "outputs": [],
   "source": []
  },
  {
   "cell_type": "code",
   "execution_count": null,
   "id": "f1e15265-3af5-4b64-9ada-8daec337d650",
   "metadata": {},
   "outputs": [],
   "source": []
  },
  {
   "cell_type": "code",
   "execution_count": null,
   "id": "ebbba42a-15b8-4a5f-82bc-e84e6b9f82f0",
   "metadata": {},
   "outputs": [],
   "source": []
  },
  {
   "cell_type": "code",
   "execution_count": null,
   "id": "65693ed5-297c-462c-84fc-aae2fb73d6be",
   "metadata": {},
   "outputs": [],
   "source": []
  },
  {
   "cell_type": "code",
   "execution_count": null,
   "id": "49574f18-3781-43e8-abbd-ab12e2b50dc6",
   "metadata": {},
   "outputs": [],
   "source": []
  },
  {
   "cell_type": "code",
   "execution_count": null,
   "id": "d042d977-69c8-41e8-9e46-88ba0d08158c",
   "metadata": {},
   "outputs": [],
   "source": []
  },
  {
   "cell_type": "code",
   "execution_count": null,
   "id": "292410e8-0620-4d24-81e5-1ba6611fd329",
   "metadata": {},
   "outputs": [],
   "source": []
  },
  {
   "cell_type": "code",
   "execution_count": null,
   "id": "588edc2b-5c79-453e-b79b-d46053a6c4e5",
   "metadata": {},
   "outputs": [],
   "source": []
  },
  {
   "cell_type": "code",
   "execution_count": null,
   "id": "80ab9f24-a779-4386-a809-8d981c2e0960",
   "metadata": {},
   "outputs": [],
   "source": []
  },
  {
   "cell_type": "code",
   "execution_count": null,
   "id": "4dc203e1-9563-4641-b206-149059336cfd",
   "metadata": {},
   "outputs": [],
   "source": []
  },
  {
   "cell_type": "code",
   "execution_count": null,
   "id": "22596152-a3d2-4371-872a-39d7de2e9566",
   "metadata": {},
   "outputs": [],
   "source": []
  },
  {
   "cell_type": "code",
   "execution_count": null,
   "id": "b3caf1a6-0122-4601-b210-1a880fa96ea6",
   "metadata": {},
   "outputs": [],
   "source": []
  },
  {
   "cell_type": "code",
   "execution_count": null,
   "id": "78d2cf8e-91a1-407d-8f1f-1f0de6332c12",
   "metadata": {},
   "outputs": [],
   "source": []
  },
  {
   "cell_type": "code",
   "execution_count": null,
   "id": "717ce6a7-184d-4fe4-8a02-9cf6b8e60c3f",
   "metadata": {},
   "outputs": [],
   "source": []
  },
  {
   "cell_type": "code",
   "execution_count": null,
   "id": "aded0ed1-4467-48a7-8695-53eb0f670d2c",
   "metadata": {},
   "outputs": [],
   "source": []
  },
  {
   "cell_type": "code",
   "execution_count": null,
   "id": "fa8aa6d6-15a6-46ce-9338-467eaa9313ea",
   "metadata": {},
   "outputs": [],
   "source": []
  },
  {
   "cell_type": "code",
   "execution_count": null,
   "id": "b7e9a12e-bd9b-48dd-82cd-a7c5baa23922",
   "metadata": {},
   "outputs": [],
   "source": []
  },
  {
   "cell_type": "code",
   "execution_count": null,
   "id": "d2b4d3fe-cde0-4102-b6fe-d408a1ebea60",
   "metadata": {},
   "outputs": [],
   "source": []
  },
  {
   "cell_type": "code",
   "execution_count": null,
   "id": "120b7ab0-8fdb-4d8f-9be5-66bc93f644fb",
   "metadata": {},
   "outputs": [],
   "source": []
  },
  {
   "cell_type": "code",
   "execution_count": null,
   "id": "70b39165-ce24-42a2-8ecd-302d37560481",
   "metadata": {},
   "outputs": [],
   "source": []
  },
  {
   "cell_type": "code",
   "execution_count": null,
   "id": "f967179b-a208-40e5-a53f-f312a14a6275",
   "metadata": {},
   "outputs": [],
   "source": []
  },
  {
   "cell_type": "code",
   "execution_count": null,
   "id": "00c3de80-59d4-49e3-944a-ec7b069ebd9a",
   "metadata": {},
   "outputs": [],
   "source": []
  },
  {
   "cell_type": "code",
   "execution_count": null,
   "id": "de52973c-4742-47e3-a1ca-998d6fb369c6",
   "metadata": {},
   "outputs": [],
   "source": []
  },
  {
   "cell_type": "code",
   "execution_count": null,
   "id": "b38dacc7-2f60-4af4-b8a3-51d4d1677281",
   "metadata": {},
   "outputs": [],
   "source": []
  },
  {
   "cell_type": "code",
   "execution_count": null,
   "id": "078dffb4-d156-499d-96c3-4dcb4659a361",
   "metadata": {},
   "outputs": [],
   "source": []
  },
  {
   "cell_type": "code",
   "execution_count": null,
   "id": "f7d971c1-503f-4fdf-be12-25cc8630d2f4",
   "metadata": {},
   "outputs": [],
   "source": []
  },
  {
   "cell_type": "code",
   "execution_count": null,
   "id": "45120100-3cbd-4d31-8228-b1755f622d76",
   "metadata": {},
   "outputs": [],
   "source": []
  },
  {
   "cell_type": "code",
   "execution_count": null,
   "id": "b04772a1-6482-45be-85c8-28a4e80e27b8",
   "metadata": {},
   "outputs": [],
   "source": []
  },
  {
   "cell_type": "code",
   "execution_count": null,
   "id": "4dcb8017-1da3-44de-9e62-df1e09769ae2",
   "metadata": {},
   "outputs": [],
   "source": []
  },
  {
   "cell_type": "code",
   "execution_count": null,
   "id": "3b20c5f7-907c-48d9-9cff-924888935cef",
   "metadata": {},
   "outputs": [],
   "source": []
  },
  {
   "cell_type": "code",
   "execution_count": null,
   "id": "44188882-5e68-494b-b1f7-12fc5e8c4d4d",
   "metadata": {},
   "outputs": [],
   "source": []
  },
  {
   "cell_type": "code",
   "execution_count": null,
   "id": "79df3af4-d924-4876-9bc7-835fc234392b",
   "metadata": {},
   "outputs": [],
   "source": []
  },
  {
   "cell_type": "code",
   "execution_count": null,
   "id": "c83abfde-3c7a-4e37-bf43-705a336306ef",
   "metadata": {},
   "outputs": [],
   "source": []
  },
  {
   "cell_type": "code",
   "execution_count": null,
   "id": "4893b679-0f4f-48b4-a38a-0a92d7cd597a",
   "metadata": {},
   "outputs": [],
   "source": []
  },
  {
   "cell_type": "code",
   "execution_count": null,
   "id": "922f662b-ba15-489f-a7aa-bda0d960863e",
   "metadata": {},
   "outputs": [],
   "source": []
  },
  {
   "cell_type": "code",
   "execution_count": null,
   "id": "b32d0bec-fc07-40e3-9ffb-07c9f9b9379e",
   "metadata": {},
   "outputs": [],
   "source": []
  },
  {
   "cell_type": "code",
   "execution_count": null,
   "id": "9d9444ad-a936-49ba-8ba6-0a879f052f90",
   "metadata": {},
   "outputs": [],
   "source": []
  },
  {
   "cell_type": "code",
   "execution_count": null,
   "id": "120f8071-0185-4840-976a-0154690470b1",
   "metadata": {},
   "outputs": [],
   "source": []
  },
  {
   "cell_type": "code",
   "execution_count": null,
   "id": "f291884c-7e53-4bb3-8b99-12941e9c5ae7",
   "metadata": {},
   "outputs": [],
   "source": []
  },
  {
   "cell_type": "code",
   "execution_count": null,
   "id": "8fe2ccab-8a1c-415a-b611-7fb8b71fedaf",
   "metadata": {},
   "outputs": [],
   "source": []
  },
  {
   "cell_type": "code",
   "execution_count": null,
   "id": "9eeecd08-4cc4-46f4-a75a-ee6f302f383f",
   "metadata": {},
   "outputs": [],
   "source": []
  },
  {
   "cell_type": "code",
   "execution_count": null,
   "id": "f1e6dd34-2b54-4664-a665-9424833c4780",
   "metadata": {},
   "outputs": [],
   "source": []
  },
  {
   "cell_type": "code",
   "execution_count": null,
   "id": "61bf0733-8cb5-4386-8e5a-e4a113a0d8ab",
   "metadata": {},
   "outputs": [],
   "source": []
  },
  {
   "cell_type": "code",
   "execution_count": null,
   "id": "a0304768-e084-4cd6-9186-50d56aef7ca9",
   "metadata": {},
   "outputs": [],
   "source": []
  },
  {
   "cell_type": "code",
   "execution_count": null,
   "id": "0ef857f3-1c97-44f1-bcbb-5567e5c9869c",
   "metadata": {},
   "outputs": [],
   "source": []
  },
  {
   "cell_type": "code",
   "execution_count": null,
   "id": "85498221-2897-4674-b5d3-5702ef232b6f",
   "metadata": {},
   "outputs": [],
   "source": []
  },
  {
   "cell_type": "code",
   "execution_count": null,
   "id": "5be62a46-bd2d-4c42-8612-f01e9da518af",
   "metadata": {},
   "outputs": [],
   "source": []
  },
  {
   "cell_type": "code",
   "execution_count": null,
   "id": "3b2c3872-3db5-40e4-bc56-ff7e1c0d44c5",
   "metadata": {},
   "outputs": [],
   "source": []
  },
  {
   "cell_type": "code",
   "execution_count": null,
   "id": "68f38a29-b9b0-4d7f-8a13-0bd4118d7c57",
   "metadata": {},
   "outputs": [],
   "source": []
  },
  {
   "cell_type": "code",
   "execution_count": null,
   "id": "1efe89b4-4a8d-4851-925c-ab6d6e47d7e7",
   "metadata": {},
   "outputs": [],
   "source": []
  },
  {
   "cell_type": "code",
   "execution_count": null,
   "id": "78d0b4e1-f747-46a7-832c-95e46a99449c",
   "metadata": {},
   "outputs": [],
   "source": []
  },
  {
   "cell_type": "code",
   "execution_count": null,
   "id": "19f9cb33-b690-4179-b85f-4af1c25fe1c8",
   "metadata": {},
   "outputs": [],
   "source": []
  },
  {
   "cell_type": "code",
   "execution_count": null,
   "id": "d830eb0e-aad5-4602-ab99-fcd6fc1f8345",
   "metadata": {},
   "outputs": [],
   "source": []
  },
  {
   "cell_type": "code",
   "execution_count": null,
   "id": "84f7a1f9-7c80-427d-8c01-1473ddbfd476",
   "metadata": {},
   "outputs": [],
   "source": []
  },
  {
   "cell_type": "code",
   "execution_count": null,
   "id": "95402ca4-0cc4-4be8-a865-edea7c5d8965",
   "metadata": {},
   "outputs": [],
   "source": []
  },
  {
   "cell_type": "code",
   "execution_count": null,
   "id": "e6f2b2a8-c63f-4614-8e2a-818c6fc407c8",
   "metadata": {},
   "outputs": [],
   "source": []
  },
  {
   "cell_type": "code",
   "execution_count": null,
   "id": "92ee0389-a9a6-43dd-8f81-91e66ceea410",
   "metadata": {},
   "outputs": [],
   "source": []
  },
  {
   "cell_type": "code",
   "execution_count": null,
   "id": "02805a20-69a0-47f5-975e-daf01cbb8cdf",
   "metadata": {},
   "outputs": [],
   "source": []
  },
  {
   "cell_type": "code",
   "execution_count": null,
   "id": "ed24c47a-c975-4522-902c-09b194a28822",
   "metadata": {},
   "outputs": [],
   "source": []
  },
  {
   "cell_type": "code",
   "execution_count": null,
   "id": "a74980f2-93a8-4e6e-8c04-df191c9e738a",
   "metadata": {},
   "outputs": [],
   "source": []
  },
  {
   "cell_type": "code",
   "execution_count": null,
   "id": "047ac8d7-15b1-4861-be6d-7730fd3a691d",
   "metadata": {},
   "outputs": [],
   "source": []
  },
  {
   "cell_type": "code",
   "execution_count": null,
   "id": "120bb890-6fb4-415e-9fb4-7df3fc01fb6d",
   "metadata": {},
   "outputs": [],
   "source": []
  },
  {
   "cell_type": "code",
   "execution_count": null,
   "id": "b2e6bf3f-63fe-40bc-a54e-efff9cbf7cd4",
   "metadata": {},
   "outputs": [],
   "source": []
  },
  {
   "cell_type": "code",
   "execution_count": null,
   "id": "1cb44987-2921-4931-9b00-20d530c0c34f",
   "metadata": {},
   "outputs": [],
   "source": []
  },
  {
   "cell_type": "code",
   "execution_count": null,
   "id": "5b1a6e0f-bdba-4c38-b3df-cfd31ed8eea6",
   "metadata": {},
   "outputs": [],
   "source": []
  },
  {
   "cell_type": "code",
   "execution_count": null,
   "id": "39732f0c-7320-4136-bb5e-14322aed4452",
   "metadata": {},
   "outputs": [],
   "source": []
  },
  {
   "cell_type": "code",
   "execution_count": null,
   "id": "9316f804-ecfc-4d83-b52b-01d6fc0a925c",
   "metadata": {},
   "outputs": [],
   "source": []
  },
  {
   "cell_type": "code",
   "execution_count": null,
   "id": "5f9d25a5-ffb8-42eb-a697-e8bc1bed150b",
   "metadata": {},
   "outputs": [],
   "source": []
  },
  {
   "cell_type": "code",
   "execution_count": null,
   "id": "46744ef9-6311-4e26-b412-33a7b0d432ca",
   "metadata": {},
   "outputs": [],
   "source": []
  },
  {
   "cell_type": "code",
   "execution_count": null,
   "id": "f18d0d7b-7b65-4229-b101-73617282f669",
   "metadata": {},
   "outputs": [],
   "source": []
  },
  {
   "cell_type": "code",
   "execution_count": null,
   "id": "820e0207-fa37-498b-826c-1063747133df",
   "metadata": {},
   "outputs": [],
   "source": []
  },
  {
   "cell_type": "code",
   "execution_count": null,
   "id": "77324e68-027c-49ee-809e-11c320c4142a",
   "metadata": {},
   "outputs": [],
   "source": []
  },
  {
   "cell_type": "code",
   "execution_count": null,
   "id": "36544d58-a053-415c-9e71-7d4cd531ddfd",
   "metadata": {},
   "outputs": [],
   "source": []
  },
  {
   "cell_type": "code",
   "execution_count": null,
   "id": "45142ccb-8c6e-4667-bda1-3a1760b7ecc4",
   "metadata": {},
   "outputs": [],
   "source": []
  },
  {
   "cell_type": "code",
   "execution_count": null,
   "id": "52ed4a42-c1e4-4e9e-8b0c-036f6affaf76",
   "metadata": {},
   "outputs": [],
   "source": []
  },
  {
   "cell_type": "code",
   "execution_count": null,
   "id": "10234f40-4854-4d14-b683-0a7078dc78f7",
   "metadata": {},
   "outputs": [],
   "source": []
  },
  {
   "cell_type": "code",
   "execution_count": null,
   "id": "49ae2fb1-5094-4978-b6b7-0f29eb2b6aaf",
   "metadata": {},
   "outputs": [],
   "source": []
  },
  {
   "cell_type": "code",
   "execution_count": null,
   "id": "3793916a-3b98-4f2d-9e2b-8c60fcc98189",
   "metadata": {},
   "outputs": [],
   "source": []
  },
  {
   "cell_type": "code",
   "execution_count": null,
   "id": "5d5db444-75cd-47e6-a3fa-9a50d4e1cf4a",
   "metadata": {},
   "outputs": [],
   "source": []
  },
  {
   "cell_type": "code",
   "execution_count": null,
   "id": "bae4dd65-8fa3-4671-830a-f829c200cf7c",
   "metadata": {},
   "outputs": [],
   "source": []
  },
  {
   "cell_type": "code",
   "execution_count": null,
   "id": "7cced023-c827-4fb3-8a26-79ffc0af4766",
   "metadata": {},
   "outputs": [],
   "source": []
  },
  {
   "cell_type": "code",
   "execution_count": null,
   "id": "6929c9a2-b69a-4906-88e3-496e44f175d0",
   "metadata": {},
   "outputs": [],
   "source": []
  },
  {
   "cell_type": "code",
   "execution_count": null,
   "id": "7219a6b1-4948-4229-999c-e0fe920d05e1",
   "metadata": {},
   "outputs": [],
   "source": []
  },
  {
   "cell_type": "code",
   "execution_count": null,
   "id": "af88dce3-3acb-4af2-90f7-2028172f0969",
   "metadata": {},
   "outputs": [],
   "source": []
  },
  {
   "cell_type": "code",
   "execution_count": null,
   "id": "07eba914-cf99-4c56-9110-4b2ed43fc670",
   "metadata": {},
   "outputs": [],
   "source": []
  },
  {
   "cell_type": "code",
   "execution_count": null,
   "id": "f7abc246-b4aa-4415-a604-38074fab36d9",
   "metadata": {},
   "outputs": [],
   "source": []
  },
  {
   "cell_type": "code",
   "execution_count": null,
   "id": "565c321e-e457-444d-a28b-a443d3e3fc6d",
   "metadata": {},
   "outputs": [],
   "source": []
  },
  {
   "cell_type": "code",
   "execution_count": null,
   "id": "fe317c3d-2d4b-486d-9ca5-a29d1ffa44ef",
   "metadata": {},
   "outputs": [],
   "source": []
  },
  {
   "cell_type": "code",
   "execution_count": null,
   "id": "9d66e6e9-8e15-4569-b6c9-3d16039f89a1",
   "metadata": {},
   "outputs": [],
   "source": []
  },
  {
   "cell_type": "code",
   "execution_count": null,
   "id": "368ba626-f838-4266-b64b-a11a61e7f514",
   "metadata": {},
   "outputs": [],
   "source": []
  },
  {
   "cell_type": "code",
   "execution_count": null,
   "id": "0e222f3d-d816-433f-ae4a-9d157bacca8d",
   "metadata": {},
   "outputs": [],
   "source": []
  },
  {
   "cell_type": "code",
   "execution_count": null,
   "id": "1a650730-506a-468c-8745-3ce5cb8cff68",
   "metadata": {},
   "outputs": [],
   "source": []
  },
  {
   "cell_type": "code",
   "execution_count": null,
   "id": "8aeda6e6-d640-45aa-8d22-489a99627701",
   "metadata": {},
   "outputs": [],
   "source": []
  },
  {
   "cell_type": "code",
   "execution_count": null,
   "id": "db73f40a-c4cb-43f1-b402-e6b4c8ed1db7",
   "metadata": {},
   "outputs": [],
   "source": []
  },
  {
   "cell_type": "code",
   "execution_count": null,
   "id": "0ba6cb50-2198-4b3c-8036-119c0ecee14b",
   "metadata": {},
   "outputs": [],
   "source": []
  },
  {
   "cell_type": "code",
   "execution_count": null,
   "id": "accab17e-1e3a-4909-b7d6-0de347ef6c5e",
   "metadata": {},
   "outputs": [],
   "source": []
  },
  {
   "cell_type": "code",
   "execution_count": null,
   "id": "525b830b-1900-4495-8519-59b08ae61e49",
   "metadata": {},
   "outputs": [],
   "source": []
  },
  {
   "cell_type": "code",
   "execution_count": null,
   "id": "bbbcc70f-0894-4e8f-9424-98d10f8d4a49",
   "metadata": {},
   "outputs": [],
   "source": []
  },
  {
   "cell_type": "code",
   "execution_count": null,
   "id": "5ec87d36-3cfb-4b1a-81d9-458701e505a1",
   "metadata": {},
   "outputs": [],
   "source": []
  },
  {
   "cell_type": "code",
   "execution_count": null,
   "id": "2129886e-770f-4ebc-9163-98deebcf6812",
   "metadata": {},
   "outputs": [],
   "source": []
  },
  {
   "cell_type": "code",
   "execution_count": null,
   "id": "0c33b787-8d4c-4cef-a98b-228a448214b9",
   "metadata": {},
   "outputs": [],
   "source": []
  },
  {
   "cell_type": "code",
   "execution_count": null,
   "id": "079634d7-5190-4c62-b474-c269015522ff",
   "metadata": {},
   "outputs": [],
   "source": []
  },
  {
   "cell_type": "code",
   "execution_count": null,
   "id": "0643a9cf-4b91-480f-9b82-ba86252892f1",
   "metadata": {},
   "outputs": [],
   "source": []
  },
  {
   "cell_type": "code",
   "execution_count": null,
   "id": "8a948107-fd4e-4859-89fe-76578e125ece",
   "metadata": {},
   "outputs": [],
   "source": []
  },
  {
   "cell_type": "code",
   "execution_count": null,
   "id": "45570aac-a7c2-491f-8e60-f923867ac964",
   "metadata": {},
   "outputs": [],
   "source": []
  },
  {
   "cell_type": "code",
   "execution_count": null,
   "id": "04396afc-902c-4630-9cc3-c0b962d23dfc",
   "metadata": {},
   "outputs": [],
   "source": []
  },
  {
   "cell_type": "code",
   "execution_count": null,
   "id": "28026dea-535e-4da5-91a4-68a267829def",
   "metadata": {},
   "outputs": [],
   "source": []
  },
  {
   "cell_type": "code",
   "execution_count": null,
   "id": "a685240e-ff51-4cff-9725-3fc608bbc15c",
   "metadata": {},
   "outputs": [],
   "source": []
  },
  {
   "cell_type": "code",
   "execution_count": null,
   "id": "9e0634b5-ca7d-4d16-a1a9-5900a5a44ee2",
   "metadata": {},
   "outputs": [],
   "source": []
  },
  {
   "cell_type": "code",
   "execution_count": null,
   "id": "40db9c29-cb2e-42e4-b0df-4d7dbc5af910",
   "metadata": {},
   "outputs": [],
   "source": []
  },
  {
   "cell_type": "code",
   "execution_count": null,
   "id": "ee0f0a9f-8753-4260-8e88-4106cca676a7",
   "metadata": {},
   "outputs": [],
   "source": []
  }
 ],
 "metadata": {
  "kernelspec": {
   "display_name": "Python 3",
   "language": "python",
   "name": "python3"
  },
  "language_info": {
   "codemirror_mode": {
    "name": "ipython",
    "version": 3
   },
   "file_extension": ".py",
   "mimetype": "text/x-python",
   "name": "python",
   "nbconvert_exporter": "python",
   "pygments_lexer": "ipython3",
   "version": "3.8.8"
  }
 },
 "nbformat": 4,
 "nbformat_minor": 5
}

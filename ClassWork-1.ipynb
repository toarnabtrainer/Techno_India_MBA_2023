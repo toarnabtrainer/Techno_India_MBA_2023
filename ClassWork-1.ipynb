{
 "cells": [
  {
   "cell_type": "code",
   "execution_count": 9,
   "id": "57075edb-c089-48f6-91ba-f714dc7d6a14",
   "metadata": {},
   "outputs": [],
   "source": [
    "# This is a comment line\n",
    "# This is a comment line\n",
    "# This is a comment line\n",
    "# This is a comment line\n",
    "# This is a comment line\n",
    "# This is a comment line\n",
    "# This is a comment line"
   ]
  },
  {
   "cell_type": "code",
   "execution_count": 3,
   "id": "08daaf9d-b5e9-4927-9fa1-dcf55e27c78a",
   "metadata": {},
   "outputs": [
    {
     "name": "stdout",
     "output_type": "stream",
     "text": [
      "Welcome to Python Programming...\n"
     ]
    }
   ],
   "source": [
    "print (\"Welcome to Python Programming...\")"
   ]
  },
  {
   "cell_type": "markdown",
   "id": "79900a3f-f4f2-4879-93dc-60eba212e14a",
   "metadata": {},
   "source": [
    "### Inputs and Outputs in Python"
   ]
  },
  {
   "cell_type": "code",
   "execution_count": 12,
   "id": "1af8eb97-dd1e-4910-ae01-3e9d0a792ddf",
   "metadata": {},
   "outputs": [
    {
     "name": "stdin",
     "output_type": "stream",
     "text": [
      "Please enter the first number:  100\n",
      "Please enter the second number:  200\n"
     ]
    },
    {
     "name": "stdout",
     "output_type": "stream",
     "text": [
      "100 <class 'str'> 200 <class 'str'>\n",
      "So the sum is 100200\n",
      "End of the program...\n"
     ]
    }
   ],
   "source": [
    "num1 = input(\"Please enter the first number: \")\n",
    "num2 = input(\"Please enter the second number: \")\n",
    "print (num1, type(num1), num2, type(num2))\n",
    "total = num1 + num2\n",
    "print (\"So the sum is\", total)\n",
    "print (\"End of the program...\")"
   ]
  },
  {
   "cell_type": "code",
   "execution_count": 13,
   "id": "ed2b676e-5045-434c-baae-873020277faa",
   "metadata": {},
   "outputs": [
    {
     "name": "stdin",
     "output_type": "stream",
     "text": [
      "Please enter the first number:  100\n",
      "Please enter the second number:  200\n"
     ]
    },
    {
     "name": "stdout",
     "output_type": "stream",
     "text": [
      "100 <class 'int'> 200 <class 'int'>\n",
      "So the sum is 300\n",
      "End of the program...\n"
     ]
    }
   ],
   "source": [
    "num1 = int(input(\"Please enter the first number: \"))\n",
    "num2 = int(input(\"Please enter the second number: \"))\n",
    "print (num1, type(num1), num2, type(num2))\n",
    "total = num1 + num2\n",
    "print (\"So the sum is\", total)\n",
    "print (\"End of the program...\")"
   ]
  },
  {
   "cell_type": "code",
   "execution_count": 14,
   "id": "0bf67881-03e1-4827-8469-5edf70d98e32",
   "metadata": {},
   "outputs": [
    {
     "name": "stdin",
     "output_type": "stream",
     "text": [
      "Please enter the first number:  300\n",
      "Please enter the second number:  400\n"
     ]
    },
    {
     "name": "stdout",
     "output_type": "stream",
     "text": [
      "300 <class 'int'> 400 <class 'int'>\n"
     ]
    }
   ],
   "source": [
    "num1 = int(input(\"Please enter the first number: \"))\n",
    "num2 = int(input(\"Please enter the second number: \"))\n",
    "print (num1, type(num1), num2, type(num2))\n",
    "total = num1 + num2"
   ]
  },
  {
   "cell_type": "code",
   "execution_count": 31,
   "id": "eca9fe95-89fe-4da3-9055-47e8e2254a6a",
   "metadata": {},
   "outputs": [
    {
     "name": "stdout",
     "output_type": "stream",
     "text": [
      "So 300 + 400 = 700\n",
      "So 300 + 400 = 700\n",
      "So 300 + 400 = 700\n",
      "So 300 + 400 = 700\n",
      "So 300 + 400 = 700\n",
      "So 300 + 400 = 700\n",
      "So 300 + 400 = 700\n",
      "So 300 + 400 = 700\n",
      "So 300 + 400.000000 = 700\n",
      "So 300 + 400.000000 = 700\n",
      "So 300 +  400.000 = 700\n",
      "So 300 + 400 = 700\n"
     ]
    }
   ],
   "source": [
    "print (\"So\", num1, \"+\", num2, \"=\", total)\n",
    "print (\"So \" + str(num1) + \" + \" + str(num2) + \" = \" + str(total))\n",
    "print (\"So {} + {} = {}\".format(num1, num2, total))   # {} stands for place holder\n",
    "print (\"So {fnum} + {snum} = {result}\".format(fnum = num1, snum = num2, result = total))    # labelled place holder\n",
    "print (\"So {fnum} + {snum} = {result}\".format(result = total, snum = num2, fnum = num1))\n",
    "print (\"So {0} + {1} = {2}\".format(num1, num2, total))    # numbered place holder\n",
    "print (\"So {2} + {1} = {0}\".format(total, num2, num1))    # numbered place holder\n",
    "print (\"So %d + %d = %d\"%(num1, num2, total))\n",
    "print (\"So %d + %f = %d\"%(num1, num2, total))\n",
    "print (\"So %d + %10.6f = %d\"%(num1, num2, total))\n",
    "print (\"So %d + %8.3f = %d\"%(num1, num2, total))\n",
    "print (f\"So {num1} + {num2} = {total}\")"
   ]
  },
  {
   "cell_type": "markdown",
   "id": "8447286e-23cd-4c81-aa6c-451f6c224104",
   "metadata": {},
   "source": [
    "### Python Operators"
   ]
  },
  {
   "cell_type": "code",
   "execution_count": 1,
   "id": "f2d032ba-26c4-4dba-aaec-797e9cc85901",
   "metadata": {},
   "outputs": [
    {
     "name": "stdout",
     "output_type": "stream",
     "text": [
      "140\n",
      "60\n",
      "4000\n",
      "2.5\n",
      "2\n",
      "20\n",
      "100000000\n"
     ]
    }
   ],
   "source": [
    "# Arithmetic Operators: + - * / // % **\n",
    "print (100 + 40)   # addition operation\n",
    "print (100 - 40)   # subtraction operation\n",
    "print (100 * 40)   # multiplication operation\n",
    "print (100 / 40)   # float division operation\n",
    "print (100 // 40)  # integer division operation\n",
    "print (100 % 40)   # modulus (remainder) operation\n",
    "print (100 ** 4)   # exponentiation operation"
   ]
  },
  {
   "cell_type": "code",
   "execution_count": 5,
   "id": "a49b7d0d-9688-48d5-87f1-9a113a7c98b8",
   "metadata": {},
   "outputs": [
    {
     "name": "stdout",
     "output_type": "stream",
     "text": [
      "False False False True\n",
      "False True True True\n",
      "False True\n"
     ]
    }
   ],
   "source": [
    "# logical Operators: and or not\n",
    "print (False and False, False and True, True and False, True and True)\n",
    "print (False or False, False or True, True or False, True or True)\n",
    "print (not True, not False)"
   ]
  },
  {
   "cell_type": "code",
   "execution_count": 6,
   "id": "e2646be4-36be-4c37-8c6b-400dcb327b37",
   "metadata": {},
   "outputs": [
    {
     "name": "stdout",
     "output_type": "stream",
     "text": [
      "True True False False False True\n"
     ]
    }
   ],
   "source": [
    "# Relational (Comparison) Operators: > >= < <= == !=\n",
    "print (100 > 20, 100 >= 20, 100 < 20, 100 <= 20, 100 == 20, 100 != 20)"
   ]
  },
  {
   "cell_type": "code",
   "execution_count": null,
   "id": "759f8b59-a6da-486f-b8f9-c0026ff829a2",
   "metadata": {},
   "outputs": [],
   "source": [
    "# Operators can of three types:\n",
    "# Unary Operator: +100, -20\n",
    "# Binary Operator: 100 + 20,  100 * 20\n",
    "# Ternary Operator: Operator will work with three operands"
   ]
  },
  {
   "cell_type": "code",
   "execution_count": 8,
   "id": "9a910173-9bfd-47e5-b6e9-aae0044db588",
   "metadata": {},
   "outputs": [
    {
     "name": "stdout",
     "output_type": "stream",
     "text": [
      "EVEN\n",
      "ODD\n"
     ]
    }
   ],
   "source": [
    "# Ternary Operator\n",
    "num1 = 100\n",
    "result = \"EVEN\" if (num1 % 2 == 0) else \"ODD\"\n",
    "print (result)\n",
    "\n",
    "num1 = 103\n",
    "result = \"EVEN\" if (num1 % 2 == 0) else \"ODD\"\n",
    "print (result)"
   ]
  },
  {
   "cell_type": "code",
   "execution_count": 11,
   "id": "020fa842-48c1-4088-9b08-d87ee72ff701",
   "metadata": {},
   "outputs": [
    {
     "name": "stdout",
     "output_type": "stream",
     "text": [
      "300\n",
      "105\n",
      "110\n",
      "550\n"
     ]
    }
   ],
   "source": [
    "# Assignment operator: = += -= *= /= //+ **= %=\n",
    "result = 100 + 200   # assignment statement\n",
    "print (result)\n",
    "result = 100\n",
    "result = result + 5  # this statement is called assignment statement with assignment operator =\n",
    "print (result)\n",
    "result += 5   # special assignment operator\n",
    "print (result)\n",
    "result *= 5\n",
    "print (result)"
   ]
  },
  {
   "cell_type": "code",
   "execution_count": 24,
   "id": "46df2537-673f-476e-9b37-87ef4df7087a",
   "metadata": {},
   "outputs": [
    {
     "name": "stdout",
     "output_type": "stream",
     "text": [
      "0 1 1 1\n",
      "0 0 0 1\n",
      "0 1 1 0\n",
      "-101\n"
     ]
    }
   ],
   "source": [
    "# Bitwise Operator: | & ~ ^\n",
    "print (0 | 0, 0 | 1, 1 | 0, 1 | 1)   # AND operator\n",
    "print (0 & 0, 0 & 1, 1 & 0, 1 & 1)   # OR operator\n",
    "print (0 ^ 0, 0 ^ 1, 1 ^ 0, 1 ^ 1)   # XOR operator\n",
    "print (~100)     # 100 = 64 + 32 + 4 = 0110 0100 => 1001 1011 => -0110 0101 => -101"
   ]
  },
  {
   "cell_type": "markdown",
   "id": "5b53183a-6ace-41c5-89d8-0d05808e7343",
   "metadata": {},
   "source": [
    "### Conditional Statements in Python"
   ]
  },
  {
   "cell_type": "code",
   "execution_count": 34,
   "id": "1fb8d965-d2c3-4ef4-b676-dc360926058b",
   "metadata": {},
   "outputs": [
    {
     "name": "stdin",
     "output_type": "stream",
     "text": [
      "Please enter the first number:  300\n",
      "Please enter the second number:  100\n",
      "Please enter the thord number:  200\n"
     ]
    },
    {
     "name": "stdout",
     "output_type": "stream",
     "text": [
      "The first number is the maximum number...\n",
      "The maximum number is 300\n",
      "End of the program...\n"
     ]
    }
   ],
   "source": [
    "num1 = int(input(\"Please enter the first number: \"))\n",
    "num2 = int(input(\"Please enter the second number: \"))\n",
    "num3 = int(input(\"Please enter the thord number: \"))\n",
    "if (num1 > num2):\n",
    "    if (num1 > num3):\n",
    "        print (\"The first number is the maximum number...\")\n",
    "        print (\"The maximum number is\", num1)\n",
    "    else:\n",
    "        print (\"The third number is the maximum number...\")\n",
    "        print (\"The maximum number is\", num3)\n",
    "elif (num2 > num3):\n",
    "    print (\"The second number is the maximum number...\")\n",
    "    print (\"The maximum number is\", num2)\n",
    "else:\n",
    "    print (\"The third number is the maximum number...\")\n",
    "    print (\"The maximum number is\", num3)\n",
    "    \n",
    "print (\"End of the program...\")"
   ]
  },
  {
   "cell_type": "code",
   "execution_count": 37,
   "id": "57c58583-8f16-432a-ac5c-51efbdc9ddd9",
   "metadata": {},
   "outputs": [
    {
     "name": "stdin",
     "output_type": "stream",
     "text": [
      "Please enter the first number:  200\n",
      "Please enter the second number:  10\n",
      "Please enter the thord number:  300\n"
     ]
    },
    {
     "name": "stdout",
     "output_type": "stream",
     "text": [
      "The third number is the maximum number...\n",
      "The maximum number is 300\n",
      "End of the program...\n"
     ]
    }
   ],
   "source": [
    "num1 = int(input(\"Please enter the first number: \"))\n",
    "num2 = int(input(\"Please enter the second number: \"))\n",
    "num3 = int(input(\"Please enter the thord number: \"))\n",
    "if (num1 > num2 and num1 > num3):\n",
    "    print (\"The first number is the maximum number...\")\n",
    "    print (\"The maximum number is\", num1)\n",
    "elif (num2 > num3):\n",
    "    print (\"The second number is the maximum number...\")\n",
    "    print (\"The maximum number is\", num2)\n",
    "else:\n",
    "    print (\"The third number is the maximum number...\")\n",
    "    print (\"The maximum number is\", num3)\n",
    "    \n",
    "print (\"End of the program...\")"
   ]
  },
  {
   "cell_type": "code",
   "execution_count": 38,
   "id": "93916971-de63-478b-9213-fbdcfac10614",
   "metadata": {},
   "outputs": [
    {
     "name": "stdin",
     "output_type": "stream",
     "text": [
      "Please enter your expression: (20 + 50) * 2\n"
     ]
    },
    {
     "name": "stdout",
     "output_type": "stream",
     "text": [
      "140\n"
     ]
    }
   ],
   "source": [
    "result = eval(input(\"Please enter your expression:\"))\n",
    "print (result)"
   ]
  },
  {
   "cell_type": "code",
   "execution_count": 40,
   "id": "78394f88-9bc2-4c2f-9e96-7585a2001ab1",
   "metadata": {},
   "outputs": [
    {
     "name": "stdin",
     "output_type": "stream",
     "text": [
      "Please enter your expression: (20 * 10 + 50 * 5) * 10\n"
     ]
    },
    {
     "name": "stdout",
     "output_type": "stream",
     "text": [
      "4500\n"
     ]
    }
   ],
   "source": [
    "result = input(\"Please enter your expression:\")\n",
    "result = eval(result)\n",
    "print (result)"
   ]
  },
  {
   "cell_type": "code",
   "execution_count": null,
   "id": "b4380b32-e2ab-4102-a269-799955a4d732",
   "metadata": {},
   "outputs": [],
   "source": []
  },
  {
   "cell_type": "code",
   "execution_count": null,
   "id": "2dccd46d-c20a-440b-8aac-5faa7d48733c",
   "metadata": {},
   "outputs": [],
   "source": []
  },
  {
   "cell_type": "code",
   "execution_count": null,
   "id": "0b8e1d54-620a-4dbf-b277-1e7d9c596336",
   "metadata": {},
   "outputs": [],
   "source": []
  },
  {
   "cell_type": "code",
   "execution_count": null,
   "id": "c3dd6bfb-5431-4e1a-95f2-51dc44b3ec3c",
   "metadata": {},
   "outputs": [],
   "source": []
  }
 ],
 "metadata": {
  "kernelspec": {
   "display_name": "Python 3",
   "language": "python",
   "name": "python3"
  },
  "language_info": {
   "codemirror_mode": {
    "name": "ipython",
    "version": 3
   },
   "file_extension": ".py",
   "mimetype": "text/x-python",
   "name": "python",
   "nbconvert_exporter": "python",
   "pygments_lexer": "ipython3",
   "version": "3.8.8"
  }
 },
 "nbformat": 4,
 "nbformat_minor": 5
}

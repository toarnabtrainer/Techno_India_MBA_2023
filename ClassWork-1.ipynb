{
 "cells": [
  {
   "cell_type": "code",
   "execution_count": 9,
   "id": "57075edb-c089-48f6-91ba-f714dc7d6a14",
   "metadata": {},
   "outputs": [],
   "source": [
    "# This is a comment line\n",
    "# This is a comment line\n",
    "# This is a comment line\n",
    "# This is a comment line\n",
    "# This is a comment line\n",
    "# This is a comment line\n",
    "# This is a comment line"
   ]
  },
  {
   "cell_type": "code",
   "execution_count": 3,
   "id": "08daaf9d-b5e9-4927-9fa1-dcf55e27c78a",
   "metadata": {},
   "outputs": [
    {
     "name": "stdout",
     "output_type": "stream",
     "text": [
      "Welcome to Python Programming...\n"
     ]
    }
   ],
   "source": [
    "print (\"Welcome to Python Programming...\")"
   ]
  },
  {
   "cell_type": "code",
   "execution_count": 12,
   "id": "1af8eb97-dd1e-4910-ae01-3e9d0a792ddf",
   "metadata": {},
   "outputs": [
    {
     "name": "stdin",
     "output_type": "stream",
     "text": [
      "Please enter the first number:  100\n",
      "Please enter the second number:  200\n"
     ]
    },
    {
     "name": "stdout",
     "output_type": "stream",
     "text": [
      "100 <class 'str'> 200 <class 'str'>\n",
      "So the sum is 100200\n",
      "End of the program...\n"
     ]
    }
   ],
   "source": [
    "num1 = input(\"Please enter the first number: \")\n",
    "num2 = input(\"Please enter the second number: \")\n",
    "print (num1, type(num1), num2, type(num2))\n",
    "total = num1 + num2\n",
    "print (\"So the sum is\", total)\n",
    "print (\"End of the program...\")"
   ]
  },
  {
   "cell_type": "code",
   "execution_count": 13,
   "id": "ed2b676e-5045-434c-baae-873020277faa",
   "metadata": {},
   "outputs": [
    {
     "name": "stdin",
     "output_type": "stream",
     "text": [
      "Please enter the first number:  100\n",
      "Please enter the second number:  200\n"
     ]
    },
    {
     "name": "stdout",
     "output_type": "stream",
     "text": [
      "100 <class 'int'> 200 <class 'int'>\n",
      "So the sum is 300\n",
      "End of the program...\n"
     ]
    }
   ],
   "source": [
    "num1 = int(input(\"Please enter the first number: \"))\n",
    "num2 = int(input(\"Please enter the second number: \"))\n",
    "print (num1, type(num1), num2, type(num2))\n",
    "total = num1 + num2\n",
    "print (\"So the sum is\", total)\n",
    "print (\"End of the program...\")"
   ]
  },
  {
   "cell_type": "code",
   "execution_count": 14,
   "id": "0bf67881-03e1-4827-8469-5edf70d98e32",
   "metadata": {},
   "outputs": [
    {
     "name": "stdin",
     "output_type": "stream",
     "text": [
      "Please enter the first number:  300\n",
      "Please enter the second number:  400\n"
     ]
    },
    {
     "name": "stdout",
     "output_type": "stream",
     "text": [
      "300 <class 'int'> 400 <class 'int'>\n"
     ]
    }
   ],
   "source": [
    "num1 = int(input(\"Please enter the first number: \"))\n",
    "num2 = int(input(\"Please enter the second number: \"))\n",
    "print (num1, type(num1), num2, type(num2))\n",
    "total = num1 + num2"
   ]
  },
  {
   "cell_type": "code",
   "execution_count": 31,
   "id": "eca9fe95-89fe-4da3-9055-47e8e2254a6a",
   "metadata": {},
   "outputs": [
    {
     "name": "stdout",
     "output_type": "stream",
     "text": [
      "So 300 + 400 = 700\n",
      "So 300 + 400 = 700\n",
      "So 300 + 400 = 700\n",
      "So 300 + 400 = 700\n",
      "So 300 + 400 = 700\n",
      "So 300 + 400 = 700\n",
      "So 300 + 400 = 700\n",
      "So 300 + 400 = 700\n",
      "So 300 + 400.000000 = 700\n",
      "So 300 + 400.000000 = 700\n",
      "So 300 +  400.000 = 700\n",
      "So 300 + 400 = 700\n"
     ]
    }
   ],
   "source": [
    "print (\"So\", num1, \"+\", num2, \"=\", total)\n",
    "print (\"So \" + str(num1) + \" + \" + str(num2) + \" = \" + str(total))\n",
    "print (\"So {} + {} = {}\".format(num1, num2, total))   # {} stands for place holder\n",
    "print (\"So {fnum} + {snum} = {result}\".format(fnum = num1, snum = num2, result = total))    # labelled place holder\n",
    "print (\"So {fnum} + {snum} = {result}\".format(result = total, snum = num2, fnum = num1))\n",
    "print (\"So {0} + {1} = {2}\".format(num1, num2, total))    # numbered place holder\n",
    "print (\"So {2} + {1} = {0}\".format(total, num2, num1))    # numbered place holder\n",
    "print (\"So %d + %d = %d\"%(num1, num2, total))\n",
    "print (\"So %d + %f = %d\"%(num1, num2, total))\n",
    "print (\"So %d + %10.6f = %d\"%(num1, num2, total))\n",
    "print (\"So %d + %8.3f = %d\"%(num1, num2, total))\n",
    "print (f\"So {num1} + {num2} = {total}\")"
   ]
  },
  {
   "cell_type": "code",
   "execution_count": null,
   "id": "888bc074-0c72-4af2-8a99-0a9e090cad92",
   "metadata": {},
   "outputs": [],
   "source": []
  }
 ],
 "metadata": {
  "kernelspec": {
   "display_name": "Python 3",
   "language": "python",
   "name": "python3"
  },
  "language_info": {
   "codemirror_mode": {
    "name": "ipython",
    "version": 3
   },
   "file_extension": ".py",
   "mimetype": "text/x-python",
   "name": "python",
   "nbconvert_exporter": "python",
   "pygments_lexer": "ipython3",
   "version": "3.8.8"
  }
 },
 "nbformat": 4,
 "nbformat_minor": 5
}

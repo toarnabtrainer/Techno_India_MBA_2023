{
 "cells": [
  {
   "cell_type": "markdown",
   "id": "1e5aa25c-4364-4d4f-bd0a-9684417f4cb9",
   "metadata": {},
   "source": [
    "## **OOP using Python**"
   ]
  },
  {
   "cell_type": "code",
   "execution_count": 1,
   "id": "acd1c244-c2de-488a-8e30-b4d60ecf8c81",
   "metadata": {},
   "outputs": [
    {
     "name": "stdout",
     "output_type": "stream",
     "text": [
      "This is a document string.\n",
      "    Document string contains definition\n",
      "    and purpose of the class.\n",
      "This is a document string.\n",
      "    Document string contains definition\n",
      "    and purpose of the class.\n"
     ]
    }
   ],
   "source": [
    "# a class can not be empty, it should contain either a document string or a pass statement\n",
    "class MyClass:\n",
    "    '''This is a document string.\n",
    "    Document string contains definition\n",
    "    and purpose of the class.'''\n",
    "    \n",
    "ob1 = MyClass()  # ob1 is an object of the class MyClass. Object means instance of a class.\n",
    "print (ob1.__doc__)\n",
    "print (MyClass.__doc__)"
   ]
  },
  {
   "cell_type": "code",
   "execution_count": 4,
   "id": "777ed9b3-26e2-4e96-b7da-31e8564bf686",
   "metadata": {},
   "outputs": [],
   "source": [
    "class MyClass:\n",
    "    pass\n",
    "\n",
    "ob1 = MyClass()"
   ]
  },
  {
   "cell_type": "code",
   "execution_count": 15,
   "id": "f66ba0f7-5ea5-4979-94d0-b71376737334",
   "metadata": {},
   "outputs": [
    {
     "name": "stdout",
     "output_type": "stream",
     "text": [
      "Constructor method is executing...\n",
      "self = <__main__.MyClass object at 0x000001CC616AADF0>\n",
      "classVar = 100, classVar = 100 and instVar = 111...\n",
      "Executing the update method...\n",
      "Constructor method is executing...\n",
      "self = <__main__.MyClass object at 0x000001CC61803550>\n",
      "classVar = 600, classVar = 600 and instVar = 222...\n",
      "This is a document string.\n",
      "This is a document string.\n"
     ]
    }
   ],
   "source": [
    "class MyClass:\n",
    "    '''This is a document string.'''  # document string should be the first statement\n",
    "    classVar = 100\n",
    "    def __init__(self, data):    # constructor method, whenever an onject will be defined under a class then this method automaticallt executes\n",
    "        print (\"Constructor method is executing...\")\n",
    "        print (f\"self = {self}\")\n",
    "        self.instVar = data      # self is an object binding variable\n",
    "    def display(self):\n",
    "        print (f\"classVar = {MyClass.classVar}, classVar = {self.classVar} and instVar = {self.instVar}...\")\n",
    "    def update(self):\n",
    "        print (\"Executing the update method...\")\n",
    "        MyClass.classVar += 500\n",
    "        \n",
    "ob1 = MyClass(111)\n",
    "ob1.display()\n",
    "ob1.update()\n",
    "ob2 = MyClass(222)\n",
    "ob2.display()\n",
    "print (ob1.__doc__)\n",
    "print (ob2.__doc__)"
   ]
  },
  {
   "cell_type": "code",
   "execution_count": 16,
   "id": "98fd122c-1711-4135-9e89-d2cab730695c",
   "metadata": {},
   "outputs": [
    {
     "name": "stdout",
     "output_type": "stream",
     "text": [
      "Constructor method is executing...\n",
      "self = <__main__.MyClass object at 0x000001CC616AA850>\n",
      "classVar = 100, classVar = 100 and instVar = 111...\n",
      "Executing the update method...\n",
      "Constructor method is executing...\n",
      "self = <__main__.MyClass object at 0x000001CC6053BF40>\n",
      "classVar = 600, classVar = 600 and instVar = 222...\n"
     ]
    }
   ],
   "source": [
    "class MyClass:\n",
    "    classVar = 100\n",
    "    def __init__(self, data):    # constructor method, whenever an onject will be defined under a class then this method automaticallt executes\n",
    "        print (\"Constructor method is executing...\")\n",
    "        print (f\"self = {self}\")\n",
    "        self.instVar = data      # self is an object binding variable\n",
    "    def display(self):\n",
    "        print (f\"classVar = {MyClass.classVar}, classVar = {self.classVar} and instVar = {self.instVar}...\")\n",
    "    def update(self):\n",
    "        print (\"Executing the update method...\")\n",
    "        MyClass.classVar += 500\n",
    "    def __del__(self):    # destrcutor method. executes when an object will be deleted from the memory\n",
    "        print (\"Destructor method is executing...\")\n",
    "        \n",
    "ob1 = MyClass(111)\n",
    "ob1.display()\n",
    "ob1.update()\n",
    "ob2 = MyClass(222)\n",
    "ob2.display()"
   ]
  },
  {
   "cell_type": "code",
   "execution_count": 17,
   "id": "f41c1fe0-be3c-4fb9-8845-b5535f6f84c3",
   "metadata": {},
   "outputs": [
    {
     "name": "stdout",
     "output_type": "stream",
     "text": [
      "classVar = 600, classVar = 600 and instVar = 111...\n"
     ]
    }
   ],
   "source": [
    "ob1.display()"
   ]
  },
  {
   "cell_type": "code",
   "execution_count": 18,
   "id": "624dd165-b5be-4b72-aeef-501162b9bc23",
   "metadata": {},
   "outputs": [
    {
     "name": "stdout",
     "output_type": "stream",
     "text": [
      "Destructor method is executing...\n"
     ]
    }
   ],
   "source": [
    "del ob1"
   ]
  },
  {
   "cell_type": "code",
   "execution_count": 19,
   "id": "2d53ad22-b0ad-462c-bc5e-336b9f9088a0",
   "metadata": {},
   "outputs": [
    {
     "name": "stdout",
     "output_type": "stream",
     "text": [
      "classVar = 600, classVar = 600 and instVar = 222...\n"
     ]
    }
   ],
   "source": [
    "ob2.display()"
   ]
  },
  {
   "cell_type": "code",
   "execution_count": 20,
   "id": "658fb5cd-08d8-4344-bc24-0a7fe0bab1e7",
   "metadata": {},
   "outputs": [
    {
     "name": "stdout",
     "output_type": "stream",
     "text": [
      "Destructor method is executing...\n"
     ]
    }
   ],
   "source": [
    "del ob2"
   ]
  },
  {
   "cell_type": "code",
   "execution_count": 21,
   "id": "4f95abac-dd30-4dcb-9183-f5dd9ea41385",
   "metadata": {},
   "outputs": [
    {
     "ename": "NameError",
     "evalue": "name 'ob1' is not defined",
     "output_type": "error",
     "traceback": [
      "\u001b[1;31m---------------------------------------------------------------------------\u001b[0m",
      "\u001b[1;31mNameError\u001b[0m                                 Traceback (most recent call last)",
      "\u001b[1;32m<ipython-input-21-693f2ba97416>\u001b[0m in \u001b[0;36m<module>\u001b[1;34m\u001b[0m\n\u001b[1;32m----> 1\u001b[1;33m \u001b[0mob1\u001b[0m\u001b[1;33m.\u001b[0m\u001b[0mdisplay\u001b[0m\u001b[1;33m(\u001b[0m\u001b[1;33m)\u001b[0m\u001b[1;33m\u001b[0m\u001b[1;33m\u001b[0m\u001b[0m\n\u001b[0m",
      "\u001b[1;31mNameError\u001b[0m: name 'ob1' is not defined"
     ]
    }
   ],
   "source": [
    "ob1.display()"
   ]
  },
  {
   "cell_type": "code",
   "execution_count": 22,
   "id": "2195992b-666c-4d27-b2eb-da37e3ce09f0",
   "metadata": {},
   "outputs": [
    {
     "ename": "NameError",
     "evalue": "name 'ob2' is not defined",
     "output_type": "error",
     "traceback": [
      "\u001b[1;31m---------------------------------------------------------------------------\u001b[0m",
      "\u001b[1;31mNameError\u001b[0m                                 Traceback (most recent call last)",
      "\u001b[1;32m<ipython-input-22-ac7ec0b65398>\u001b[0m in \u001b[0;36m<module>\u001b[1;34m\u001b[0m\n\u001b[1;32m----> 1\u001b[1;33m \u001b[0mob2\u001b[0m\u001b[1;33m.\u001b[0m\u001b[0mdisplay\u001b[0m\u001b[1;33m(\u001b[0m\u001b[1;33m)\u001b[0m\u001b[1;33m\u001b[0m\u001b[1;33m\u001b[0m\u001b[0m\n\u001b[0m",
      "\u001b[1;31mNameError\u001b[0m: name 'ob2' is not defined"
     ]
    }
   ],
   "source": [
    "ob2.display()"
   ]
  },
  {
   "cell_type": "code",
   "execution_count": 24,
   "id": "d312c275-2787-49a2-97f2-0a614159112d",
   "metadata": {},
   "outputs": [
    {
     "name": "stdout",
     "output_type": "stream",
     "text": [
      "So the number of objects got defined under the class is 5\n"
     ]
    }
   ],
   "source": [
    "class MyClass:\n",
    "    obj_count = 0\n",
    "    def __init__(self):\n",
    "        MyClass.obj_count += 1\n",
    "        \n",
    "ob1 = MyClass()\n",
    "ob2 = MyClass()\n",
    "ob3 = MyClass()\n",
    "ob4 = MyClass()\n",
    "ob5 = MyClass()\n",
    "print (f\"So the number of objects got defined under the class is {MyClass.obj_count}\")"
   ]
  },
  {
   "cell_type": "code",
   "execution_count": 33,
   "id": "d8e81411-443d-40c8-89d2-bda576afc092",
   "metadata": {},
   "outputs": [
    {
     "name": "stdout",
     "output_type": "stream",
     "text": [
      "Public variable = 100\n",
      "Protected variable = 200\n",
      "Private variable = 300\n",
      "publicMethod() is executing...\n",
      "_protectedMethod() is executing...\n",
      "__privateMethod() is executing...\n"
     ]
    }
   ],
   "source": [
    "# private, protected and public access specifiers\n",
    "class MyClass:\n",
    "    def __init__(self):\n",
    "        self.publicVar = 100\n",
    "        self._protectedVar = 200\n",
    "        self.__privateVar = 300\n",
    "    def publicMethod(self):\n",
    "        return \"publicMethod() is executing...\"\n",
    "    def _protectedMethod(self):\n",
    "        return \"_protectedMethod() is executing...\"\n",
    "    def __privateMethod(self):\n",
    "        return \"__privateMethod() is executing...\"\n",
    "        \n",
    "ob1 = MyClass()\n",
    "print (f\"Public variable = {ob1.publicVar}\")    # . is called a membership operator\n",
    "print (f\"Protected variable = {ob1._protectedVar}\")\n",
    "# print (f\"Private variable = {ob1.__privateVar}\")\n",
    "print (f\"Private variable = {ob1._MyClass__privateVar}\")\n",
    "print (ob1.publicMethod())\n",
    "print (ob1._protectedMethod())\n",
    "# print (ob1.__privateMethod())\n",
    "print (ob1._MyClass__privateMethod())"
   ]
  },
  {
   "cell_type": "code",
   "execution_count": null,
   "id": "721551d2-c005-454c-910f-2f12e7a0baa4",
   "metadata": {},
   "outputs": [],
   "source": []
  },
  {
   "cell_type": "code",
   "execution_count": null,
   "id": "9bbd21bf-5ee9-4fda-b809-786587ec095c",
   "metadata": {},
   "outputs": [],
   "source": []
  },
  {
   "cell_type": "code",
   "execution_count": null,
   "id": "f538e68e-a745-42af-8ec0-d41edcac8ea4",
   "metadata": {},
   "outputs": [],
   "source": []
  },
  {
   "cell_type": "code",
   "execution_count": null,
   "id": "5fb8742f-c161-449f-9f16-9294507a3a8f",
   "metadata": {},
   "outputs": [],
   "source": []
  },
  {
   "cell_type": "code",
   "execution_count": null,
   "id": "20dc4461-22c8-40e0-bfe3-7f5a52451f48",
   "metadata": {},
   "outputs": [],
   "source": []
  },
  {
   "cell_type": "code",
   "execution_count": null,
   "id": "6fef7903-db7f-4684-b2b5-9f33ccd1ba14",
   "metadata": {},
   "outputs": [],
   "source": []
  }
 ],
 "metadata": {
  "kernelspec": {
   "display_name": "Python 3",
   "language": "python",
   "name": "python3"
  },
  "language_info": {
   "codemirror_mode": {
    "name": "ipython",
    "version": 3
   },
   "file_extension": ".py",
   "mimetype": "text/x-python",
   "name": "python",
   "nbconvert_exporter": "python",
   "pygments_lexer": "ipython3",
   "version": "3.8.8"
  }
 },
 "nbformat": 4,
 "nbformat_minor": 5
}

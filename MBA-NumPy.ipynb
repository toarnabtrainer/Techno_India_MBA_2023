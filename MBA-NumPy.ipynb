{
 "cells": [
  {
   "cell_type": "markdown",
   "id": "2415cbdd-9e83-4d83-a02a-6a0e42d4e45b",
   "metadata": {},
   "source": [
    "## **NumPy: Arrays and Matrices**"
   ]
  },
  {
   "cell_type": "markdown",
   "id": "46a2c369-2216-4500-9aa6-f3f1773b40c3",
   "metadata": {},
   "source": [
    "> NumPy is an extension to the Python Programming language. Adding support for large, multi-dimensional (numerical) arrays and matrices, along with a large library of high-level methematical functions to operate on these arrays. NumPy is having the full form **Numeric Python**."
   ]
  },
  {
   "cell_type": "code",
   "execution_count": 2,
   "id": "79dae74b-af96-4fcf-9213-263ddfa13eee",
   "metadata": {},
   "outputs": [],
   "source": [
    "# importing required modules\n",
    "import numpy as np"
   ]
  },
  {
   "cell_type": "code",
   "execution_count": 6,
   "id": "7eba4cb6-d727-461f-b412-850886d4b31e",
   "metadata": {},
   "outputs": [
    {
     "name": "stdout",
     "output_type": "stream",
     "text": [
      "[11, 22, 44, 33, 66, 55] 6 <class 'list'> 1294413236864\n",
      "[11 22 44 33 66 55] 6 <class 'numpy.ndarray'> 1294396469584 int32\n"
     ]
    }
   ],
   "source": [
    "# creating ndarrays from lists\n",
    "# in ndarray all the data items will have the same data types\n",
    "data1 = [11, 22, 44, 33, 66, 55]\n",
    "print (data1, len(data1), type(data1), id(data1))\n",
    "arr1 = np.array(data1)\n",
    "print (arr1, len(arr1), type(arr1), id(arr1), arr1.dtype)   # len will give us the first dimension of the ndarray"
   ]
  },
  {
   "cell_type": "code",
   "execution_count": 7,
   "id": "098633af-e78b-4c76-aa65-3fe07e9b16d3",
   "metadata": {},
   "outputs": [
    {
     "name": "stdout",
     "output_type": "stream",
     "text": [
      "[11, 22.0, 44, 33, 66, 55] 6 <class 'list'> 1294426355008\n",
      "[11. 22. 44. 33. 66. 55.] 6 <class 'numpy.ndarray'> 1294425294960 float64\n"
     ]
    }
   ],
   "source": [
    "data1 = [11, 22., 44, 33, 66, 55]\n",
    "print (data1, len(data1), type(data1), id(data1))\n",
    "arr1 = np.array(data1)\n",
    "print (arr1, len(arr1), type(arr1), id(arr1), arr1.dtype)"
   ]
  },
  {
   "cell_type": "code",
   "execution_count": 8,
   "id": "02b140a4-4ff9-4bf4-a4c5-e0f2c05d16f9",
   "metadata": {},
   "outputs": [
    {
     "name": "stdout",
     "output_type": "stream",
     "text": [
      "[11, False, 22, 44, True, 33, 66, 55] 8 <class 'list'> 1294411870144\n",
      "[11  0 22 44  1 33 66 55] 8 <class 'numpy.ndarray'> 1294425296400 int32\n"
     ]
    }
   ],
   "source": [
    "data1 = [11, False, 22, 44, True, 33, 66, 55]\n",
    "print (data1, len(data1), type(data1), id(data1))\n",
    "arr1 = np.array(data1)\n",
    "print (arr1, len(arr1), type(arr1), id(arr1), arr1.dtype)"
   ]
  },
  {
   "cell_type": "code",
   "execution_count": 9,
   "id": "259cce59-0bb8-40ed-a377-7188feefacaf",
   "metadata": {},
   "outputs": [
    {
     "name": "stdout",
     "output_type": "stream",
     "text": [
      "[11, False, 22.0, 44, True, 33, 66, 55] 8 <class 'list'> 1294426426176\n",
      "[11.  0. 22. 44.  1. 33. 66. 55.] 8 <class 'numpy.ndarray'> 1294425296112 float64\n"
     ]
    }
   ],
   "source": [
    "data1 = [11, False, 22.0, 44, True, 33, 66, 55]\n",
    "print (data1, len(data1), type(data1), id(data1))\n",
    "arr1 = np.array(data1)\n",
    "print (arr1, len(arr1), type(arr1), id(arr1), arr1.dtype)"
   ]
  },
  {
   "cell_type": "code",
   "execution_count": 10,
   "id": "43cb6bd4-d838-42da-bbda-26c242e94e75",
   "metadata": {},
   "outputs": [
    {
     "name": "stdout",
     "output_type": "stream",
     "text": [
      "[11, False, 22.0, '44', True, 33, 66, 55] 8 <class 'list'> 1294425221504\n",
      "['11' 'False' '22.0' '44' 'True' '33' '66' '55'] 8 <class 'numpy.ndarray'> 1294413496752 <U32\n"
     ]
    }
   ],
   "source": [
    "data1 = [11, False, 22., \"44\", True, 33, 66, 55]\n",
    "print (data1, len(data1), type(data1), id(data1))\n",
    "arr1 = np.array(data1)\n",
    "print (arr1, len(arr1), type(arr1), id(arr1), arr1.dtype)"
   ]
  },
  {
   "cell_type": "code",
   "execution_count": 16,
   "id": "668c5b67-c3d3-4bc1-bb2c-c8cde52fc96c",
   "metadata": {},
   "outputs": [
    {
     "name": "stdout",
     "output_type": "stream",
     "text": [
      "range(1, 10) 9 <class 'range'> 1294416930352\n",
      "[1 2 3 4 5 6 7 8 9] 9 <class 'numpy.ndarray'> 1294425296400 int32\n",
      "[1, 2, 3, 4, 5, 6, 7, 8, 9] 9 <class 'list'> 1294415556736\n"
     ]
    }
   ],
   "source": [
    "data1 = range(1, 10)\n",
    "print (data1, len(data1), type(data1), id(data1))\n",
    "arr1 = np.array(data1)\n",
    "print (arr1, len(arr1), type(arr1), id(arr1), arr1.dtype)\n",
    "list1 = arr1.tolist()\n",
    "print (list1, len(list1), type(list1), id(list1))"
   ]
  },
  {
   "cell_type": "code",
   "execution_count": 14,
   "id": "8e35f688-afcd-43e0-a404-227ff1048e54",
   "metadata": {},
   "outputs": [
    {
     "name": "stdout",
     "output_type": "stream",
     "text": [
      "[[11, 22, 44, 33, 66], [55, 99, 88, 77, 34]] 2 <class 'list'> 1294426426176\n",
      "[[11 22 44 33 66]\n",
      " [55 99 88 77 34]] 2 <class 'numpy.ndarray'> 1294405653968 int32\n"
     ]
    }
   ],
   "source": [
    "data2 = [[11, 22, 44, 33, 66], [55, 99, 88, 77, 34]]\n",
    "print (data2, len(data2), type(data2), id(data2))\n",
    "arr2 = np.array(data2)\n",
    "print (arr2, len(arr2), type(arr2), id(arr2), arr2.dtype)"
   ]
  },
  {
   "cell_type": "code",
   "execution_count": 18,
   "id": "d7f191c7-2825-4126-ae6a-d4b39964c911",
   "metadata": {},
   "outputs": [
    {
     "name": "stdout",
     "output_type": "stream",
     "text": [
      "[[11, False, 44, '33', 66], [55, 99, 88.0, True, 34]] 2 <class 'list'> 1294406004480\n",
      "[['11' 'False' '44' '33' '66']\n",
      " ['55' '99' '88.0' 'True' '34']] 2 <class 'numpy.ndarray'> 1294425296304 <U32\n",
      "[['11', 'False', '44', '33', '66'], ['55', '99', '88.0', 'True', '34']] 2 <class 'list'> 1294406001856\n"
     ]
    }
   ],
   "source": [
    "data2 = [[11, False, 44, '33', 66], [55, 99, 88., True, 34]]\n",
    "print (data2, len(data2), type(data2), id(data2))\n",
    "arr2 = np.array(data2)\n",
    "print (arr2, len(arr2), type(arr2), id(arr2), arr2.dtype)\n",
    "list2 = arr2.tolist()\n",
    "print (list2, len(list2), type(list2), id(list2))"
   ]
  },
  {
   "cell_type": "code",
   "execution_count": 29,
   "id": "a5f83eeb-3801-48e4-9f90-688b68d5536b",
   "metadata": {},
   "outputs": [
    {
     "name": "stdout",
     "output_type": "stream",
     "text": [
      "[22 44 33 66 55 88 77] <class 'numpy.ndarray'> 1294417776528\n",
      "int32 (7,) 7 1 7\n",
      "\n",
      "[[22 44 33 66]\n",
      " [55 88 77 99]] <class 'numpy.ndarray'> 1294417775856\n",
      "int32 (2, 4) 2 2 8\n",
      "\n",
      "[[[ 22  44  33  66]\n",
      "  [ 55  88  77  99]\n",
      "  [ 34  54  67  58]]\n",
      "\n",
      " [[122 144 133 166]\n",
      "  [155 188 177 199]\n",
      "  [234 256 267 289]]] <class 'numpy.ndarray'> 1294417775376\n",
      "int32 (2, 3, 4) 2 3 24\n"
     ]
    }
   ],
   "source": [
    "# examining arrays\n",
    "arr1 = np.array([22, 44, 33, 66, 55, 88, 77])\n",
    "print (arr1, type(arr1), id(arr1))\n",
    "print (arr1.dtype, arr1.shape, len(arr1), arr1.ndim, arr1.size)\n",
    "print ()\n",
    "arr2 = np.array([[22, 44, 33, 66], [55, 88, 77, 99]])\n",
    "print (arr2, type(arr2), id(arr2))\n",
    "print (arr2.dtype, arr2.shape, len(arr2), arr2.ndim, arr2.size)\n",
    "print ()\n",
    "arr3 = np.array([[[22, 44, 33, 66], [55, 88, 77, 99], [34, 54, 67, 58]], [[122, 144, 133, 166], [155, 188, 177, 199], [234, 256, 267, 289]]])\n",
    "print (arr3, type(arr3), id(arr3))\n",
    "print (arr3.dtype, arr3.shape, len(arr3), arr3.ndim, arr3.size)"
   ]
  },
  {
   "cell_type": "code",
   "execution_count": 38,
   "id": "52500ad0-cd2f-4b60-bd66-59cd544b5983",
   "metadata": {},
   "outputs": [
    {
     "name": "stdout",
     "output_type": "stream",
     "text": [
      "[0. 0. 0. 0. 0. 0. 0. 0. 0. 0.]\n",
      "[0 0 0 0 0 0 0 0 0 0]\n",
      "[0. 0. 0. 0. 0. 0. 0. 0. 0. 0.]\n",
      "[0 0 0 0 0 0 0 0 0 0]\n",
      "[0. 0. 0. 0. 0. 0. 0. 0. 0. 0.]\n"
     ]
    }
   ],
   "source": [
    "# create srecial arrays\n",
    "print (np.zeros(10))\n",
    "print (np.zeros(10).astype('int'))\n",
    "print (np.zeros(10).astype('float'))\n",
    "print (np.zeros(10, 'int'))\n",
    "print (np.zeros(10, 'float'))"
   ]
  },
  {
   "cell_type": "code",
   "execution_count": 50,
   "id": "e8aee77a-6e78-47ad-ac2c-69ae91fc2c96",
   "metadata": {},
   "outputs": [
    {
     "name": "stdout",
     "output_type": "stream",
     "text": [
      "[[0. 0. 0. 0. 0. 0.]\n",
      " [0. 0. 0. 0. 0. 0.]\n",
      " [0. 0. 0. 0. 0. 0.]]\n",
      "[[0 0 0 0 0 0]\n",
      " [0 0 0 0 0 0]\n",
      " [0 0 0 0 0 0]]\n",
      "[[0 0 0 0 0 0]\n",
      " [0 0 0 0 0 0]\n",
      " [0 0 0 0 0 0]]\n",
      "[[0 0 0 0 0 0]\n",
      " [0 0 0 0 0 0]\n",
      " [0 0 0 0 0 0]]\n",
      "[[0. 0. 0. 0. 0. 0. 0. 0. 0.]\n",
      " [0. 0. 0. 0. 0. 0. 0. 0. 0.]]\n"
     ]
    }
   ],
   "source": [
    "print (np.zeros((3, 6)))\n",
    "print (np.zeros((3, 6)).astype('int'))\n",
    "print (np.zeros((3, 6), 'int'))\n",
    "print (np.zeros((3, 6), dtype = 'int'))\n",
    "print (np.zeros(18).reshape(2, 9))"
   ]
  },
  {
   "cell_type": "code",
   "execution_count": 51,
   "id": "4c28261b-ae0a-4c6c-b4b7-ceb100123ae5",
   "metadata": {},
   "outputs": [
    {
     "name": "stdout",
     "output_type": "stream",
     "text": [
      "[1. 1. 1. 1. 1. 1. 1. 1. 1. 1.]\n",
      "[1 1 1 1 1 1 1 1 1 1]\n",
      "[1. 1. 1. 1. 1. 1. 1. 1. 1. 1.]\n",
      "[1 1 1 1 1 1 1 1 1 1]\n",
      "[1. 1. 1. 1. 1. 1. 1. 1. 1. 1.]\n"
     ]
    }
   ],
   "source": [
    "print (np.ones(10))\n",
    "print (np.ones(10).astype('int'))\n",
    "print (np.ones(10).astype('float'))\n",
    "print (np.ones(10, 'int'))\n",
    "print (np.ones(10, 'float'))"
   ]
  },
  {
   "cell_type": "code",
   "execution_count": 52,
   "id": "c7faab5b-a998-434d-8e44-2719b48dcaa3",
   "metadata": {},
   "outputs": [
    {
     "name": "stdout",
     "output_type": "stream",
     "text": [
      "[[1. 1. 1. 1. 1. 1.]\n",
      " [1. 1. 1. 1. 1. 1.]\n",
      " [1. 1. 1. 1. 1. 1.]]\n",
      "[[1 1 1 1 1 1]\n",
      " [1 1 1 1 1 1]\n",
      " [1 1 1 1 1 1]]\n",
      "[[1 1 1 1 1 1]\n",
      " [1 1 1 1 1 1]\n",
      " [1 1 1 1 1 1]]\n",
      "[[1 1 1 1 1 1]\n",
      " [1 1 1 1 1 1]\n",
      " [1 1 1 1 1 1]]\n",
      "[[1. 1. 1. 1. 1. 1. 1. 1. 1.]\n",
      " [1. 1. 1. 1. 1. 1. 1. 1. 1.]]\n"
     ]
    }
   ],
   "source": [
    "print (np.ones((3, 6)))\n",
    "print (np.ones((3, 6)).astype('int'))\n",
    "print (np.ones((3, 6), 'int'))\n",
    "print (np.ones((3, 6), dtype = 'int'))\n",
    "print (np.ones(18).reshape(2, 9))"
   ]
  },
  {
   "cell_type": "code",
   "execution_count": 53,
   "id": "34e08d80-7d7a-448c-9b90-c2c4c4fe9355",
   "metadata": {},
   "outputs": [
    {
     "name": "stdout",
     "output_type": "stream",
     "text": [
      "[5. 5. 5. 5. 5. 5. 5. 5. 5. 5.]\n",
      "[5 5 5 5 5 5 5 5 5 5]\n",
      "[5. 5. 5. 5. 5. 5. 5. 5. 5. 5.]\n",
      "[5 5 5 5 5 5 5 5 5 5]\n",
      "[5. 5. 5. 5. 5. 5. 5. 5. 5. 5.]\n"
     ]
    }
   ],
   "source": [
    "print (np.ones(10) * 5)\n",
    "print (np.ones(10).astype('int') * 5)\n",
    "print (np.ones(10).astype('float') * 5)\n",
    "print (np.ones(10, 'int') * 5)\n",
    "print (np.ones(10, 'float') * 5)"
   ]
  },
  {
   "cell_type": "code",
   "execution_count": 57,
   "id": "67692e15-8132-4cff-8928-9fae453790a8",
   "metadata": {},
   "outputs": [
    {
     "name": "stdout",
     "output_type": "stream",
     "text": [
      "[1. 1. 1. 1. 1. 1. 1. 1. 1. 1. 1. 1. 1. 1. 1. 1. 1. 1.]\n",
      "[1 1 1 1 1 1 1 1 1 1 1 1 1 1 1 1 1 1]\n",
      "[[1 1 1 1 1 1 1 1 1]\n",
      " [1 1 1 1 1 1 1 1 1]]\n",
      "[[1 1 1 1 1 1 1 1 1]\n",
      " [1 1 1 1 1 1 1 1 1]]\n"
     ]
    }
   ],
   "source": [
    "# reshaping\n",
    "print (np.ones(18))\n",
    "print (np.ones(18).astype('int'))\n",
    "print (np.ones(18).astype('int').reshape(2, 9))\n",
    "print (np.ones(18).reshape(2, 9).astype('int'))"
   ]
  },
  {
   "cell_type": "code",
   "execution_count": 9,
   "id": "5b71244c-2aea-4af7-88c0-71dba8e9546f",
   "metadata": {},
   "outputs": [
    {
     "name": "stdout",
     "output_type": "stream",
     "text": [
      "range(0, 5)\n",
      "0, 1, 2, 3, 4, \n",
      "[0 1 2 3 4] <class 'numpy.ndarray'>\n",
      "[0. 1. 2. 3. 4.] <class 'numpy.ndarray'>\n"
     ]
    }
   ],
   "source": [
    "# arange is like a range, exept it returns an array (not a list)\n",
    "int_list = range(5)\n",
    "print (int_list)\n",
    "for item in int_list:\n",
    "    print (item, end = \", \")\n",
    "print ()\n",
    "int_array = np.arange(5)\n",
    "print (int_array, type(int_array))\n",
    "float_array = np.arange(5).astype(float)\n",
    "print (float_array, type(float_array))"
   ]
  },
  {
   "cell_type": "markdown",
   "id": "3e42c216",
   "metadata": {},
   "source": [
    "### Reshape, Transpose and Flatten"
   ]
  },
  {
   "cell_type": "code",
   "execution_count": 14,
   "id": "649205cd-7053-4b94-92c7-33ef11c096ef",
   "metadata": {},
   "outputs": [
    {
     "name": "stdout",
     "output_type": "stream",
     "text": [
      "[ 0  1  2  3  4  5  6  7  8  9 10 11 12 13 14 15 16 17 18 19]\n",
      "[[ 0  1  2  3  4]\n",
      " [ 5  6  7  8  9]\n",
      " [10 11 12 13 14]\n",
      " [15 16 17 18 19]]\n",
      "[ 0  1  2  3  4  5  6  7  8  9 10 11 12 13 14 15 16 17 18 19]\n",
      "[[ 0  5 10 15]\n",
      " [ 1  6 11 16]\n",
      " [ 2  7 12 17]\n",
      " [ 3  8 13 18]\n",
      " [ 4  9 14 19]]\n",
      "[[ 0  5 10 15]\n",
      " [ 1  6 11 16]\n",
      " [ 2  7 12 17]\n",
      " [ 3  8 13 18]\n",
      " [ 4  9 14 19]]\n",
      "[ 0  5 10 15  1  6 11 16  2  7 12 17  3  8 13 18  4  9 14 19]\n"
     ]
    }
   ],
   "source": [
    "print (np.arange(20))\n",
    "print (np.arange(20).reshape(4, 5))\n",
    "print (np.arange(20).reshape(4, 5).flatten())\n",
    "print (np.arange(20).reshape(4, 5).T)\n",
    "print (np.arange(20).reshape(4, 5).transpose())\n",
    "print (np.arange(20).reshape(4, 5).transpose().flatten())"
   ]
  },
  {
   "cell_type": "markdown",
   "id": "319ad49e",
   "metadata": {},
   "source": [
    "### Append, Insert, Delete and Sort"
   ]
  },
  {
   "cell_type": "code",
   "execution_count": 10,
   "id": "7de0730c-fa37-4510-8264-08182aec6a19",
   "metadata": {},
   "outputs": [
    {
     "name": "stdout",
     "output_type": "stream",
     "text": [
      "[0 1 2 3 4 5 6 7 8 9] 10 (10,) <class 'numpy.ndarray'>\n",
      "[ 0  1  2  3  4  5  6  7  8  9 10 11 12] 13 (13,) <class 'numpy.ndarray'>\n",
      "[ 0  1  2 13 14 15  3  4  5  6  7  8  9 10 11 12] 16 (16,) <class 'numpy.ndarray'>\n",
      "[ 0  1  2 13 14  5  6  7  8  9 10 11 12] 13 (13,) <class 'numpy.ndarray'>\n",
      "[ 0  1  2 13 14  8  9 10 11 12] 10 (10,) <class 'numpy.ndarray'>\n",
      "[ 0  1  2  8  9 10 11 12 13 14] 10 (10,) <class 'numpy.ndarray'>\n",
      "[14 13 12 11 10  9  8  2  1  0] 10 (10,) <class 'numpy.ndarray'>\n"
     ]
    }
   ],
   "source": [
    "matrix = np.arange(10, dtype = np.int8)\n",
    "print (matrix, len(matrix), matrix.shape, type(matrix))\n",
    "matrix = np.append(matrix, [10, 11, 12])\n",
    "print (matrix, len(matrix), matrix.shape, type(matrix))\n",
    "matrix = np.insert(matrix, 3, [13, 14, 15])\n",
    "print (matrix, len(matrix), matrix.shape, type(matrix))\n",
    "matrix = np.delete(matrix, [5, 6, 7])\n",
    "print (matrix, len(matrix), matrix.shape, type(matrix))\n",
    "matrix = np.delete(matrix, range(5, 8))\n",
    "print (matrix, len(matrix), matrix.shape, type(matrix))\n",
    "matrix = np.sort(matrix)\n",
    "print (matrix, len(matrix), matrix.shape, type(matrix))\n",
    "matrix = -np.sort(-matrix)\n",
    "print (matrix, len(matrix), matrix.shape, type(matrix))"
   ]
  },
  {
   "cell_type": "markdown",
   "id": "52b719eb",
   "metadata": {},
   "source": [
    "### Concatenation and Stack of 2 Arrays"
   ]
  },
  {
   "cell_type": "code",
   "execution_count": 17,
   "id": "eb5d9636-b21d-4c93-b516-3211eb0fce3c",
   "metadata": {},
   "outputs": [
    {
     "name": "stdout",
     "output_type": "stream",
     "text": [
      "First array:\n",
      "[[1 2]\n",
      " [3 4]]\n",
      "Second array:\n",
      "[[5 6]\n",
      " [7 8]]\n",
      "\n",
      "\n",
      "Concatenation along axis 0\n",
      "[[1 2]\n",
      " [3 4]\n",
      " [5 6]\n",
      " [7 8]]\n",
      "\n",
      "\n",
      "Concatenation along axis 1\n",
      "[[1 2 5 6]\n",
      " [3 4 7 8]]\n"
     ]
    }
   ],
   "source": [
    "a = np.array([[1, 2], [3, 4]])\n",
    "print (\"First array:\")\n",
    "print (a)\n",
    "b = np.array([[5, 6], [7, 8]])\n",
    "print (\"Second array:\")\n",
    "print (b)\n",
    "print (\"\\n\")\n",
    "# for concatenation both the arrays must be on the same dimensions\n",
    "print (\"Concatenation along axis 0\")\n",
    "print (np.concatenate((a, b), axis = 0))\n",
    "print (\"\\n\")\n",
    "print (\"Concatenation along axis 1\")\n",
    "print (np.concatenate((a, b), axis = 1))"
   ]
  },
  {
   "cell_type": "code",
   "execution_count": 20,
   "id": "88c2a68f",
   "metadata": {},
   "outputs": [
    {
     "name": "stdout",
     "output_type": "stream",
     "text": [
      "Stack the two arrays along axis 0\n",
      "[[[1 2]\n",
      "  [3 4]]\n",
      "\n",
      " [[5 6]\n",
      "  [7 8]]]\n",
      "\n",
      "\n",
      "Stack the two arrays along axis 1\n",
      "[[[1 2]\n",
      "  [5 6]]\n",
      "\n",
      " [[3 4]\n",
      "  [7 8]]]\n",
      "\n",
      "\n"
     ]
    }
   ],
   "source": [
    "print (\"Stack the two arrays along axis 0\")\n",
    "print (np.stack((a, b), axis = 0))\n",
    "print (\"\\n\")\n",
    "print (\"Stack the two arrays along axis 1\")\n",
    "print (np.stack((a, b), axis = 1))\n",
    "print (\"\\n\")"
   ]
  },
  {
   "cell_type": "code",
   "execution_count": 24,
   "id": "662e02bb",
   "metadata": {},
   "outputs": [
    {
     "name": "stdout",
     "output_type": "stream",
     "text": [
      "[[100 200 300 400]] <class 'numpy.ndarray'> (1, 4) 2\n",
      "[100 200 300 400] <class 'numpy.ndarray'> (4,) 1\n",
      "[[[100 200 300 400]]] <class 'numpy.ndarray'> (1, 1, 4) 3\n",
      "[[[100]\n",
      "  [200]\n",
      "  [300]\n",
      "  [400]]] <class 'numpy.ndarray'> (1, 4, 1) 3\n"
     ]
    }
   ],
   "source": [
    "matrix = np.array([[100, 200, 300, 400]])\n",
    "print (matrix, type(matrix), matrix.shape, matrix.ndim)\n",
    "arr = matrix.reshape(-1)\n",
    "print (arr, type(arr), arr.shape, arr.ndim)\n",
    "arr = matrix.reshape(-1, 1, 4)\n",
    "print (arr, type(arr), arr.shape, arr.ndim)\n",
    "arr = matrix.reshape(1, 4, -1)\n",
    "print (arr, type(arr), arr.shape, arr.ndim)"
   ]
  },
  {
   "cell_type": "markdown",
   "id": "e8a78f45",
   "metadata": {},
   "source": [
    "### Selection"
   ]
  },
  {
   "cell_type": "code",
   "execution_count": 30,
   "id": "900b09e1",
   "metadata": {},
   "outputs": [
    {
     "name": "stdout",
     "output_type": "stream",
     "text": [
      "[11 22 33 44 55] <class 'numpy.ndarray'> int32 (5,)\n",
      "11 33 55 33\n",
      "[33 44 55] [11 22 33]\n",
      "[55 44 33 22 11]\n"
     ]
    }
   ],
   "source": [
    "data1 = [11, 22, 33, 44, 55]\n",
    "arr1 = np.array(data1)\n",
    "print (arr1, type(arr1), arr1.dtype, arr1.shape)\n",
    "print (arr1[0], arr1[2], arr1[-1], arr1[-3])   # indexing\n",
    "print (arr1[2:], arr1[:3])\n",
    "print (arr1[::-1])"
   ]
  },
  {
   "cell_type": "code",
   "execution_count": 31,
   "id": "769678b5",
   "metadata": {},
   "outputs": [
    {
     "name": "stdout",
     "output_type": "stream",
     "text": [
      "['Monday' 'Tuesday' 'Saturday' 'Wednesday' 'Friday' 'Thursday'] 6 <class 'numpy.ndarray'> 2342112560304\n",
      "Wednesday Wednesday Thursday Thursday\n",
      "['Tuesday' 'Saturday' 'Wednesday' 'Friday'] ['Tuesday' 'Saturday' 'Wednesday' 'Friday']\n",
      "['Tuesday' 'Saturday' 'Wednesday' 'Friday'] ['Tuesday' 'Saturday' 'Wednesday' 'Friday']\n",
      "['Monday' 'Tuesday' 'Saturday'] ['Monday' 'Tuesday' 'Saturday']\n",
      "['Wednesday' 'Friday' 'Thursday'] ['Wednesday' 'Friday' 'Thursday']\n",
      "nes\n"
     ]
    }
   ],
   "source": [
    "# indexing and slicing\n",
    "#         L2R ->  0         1          2           3            4         5   \n",
    "arr1 = np.array([\"Monday\", \"Tuesday\", \"Saturday\", \"Wednesday\", \"Friday\", \"Thursday\"])\n",
    "#          R2L ->-6         -5         -4          -3           -2        -1 \n",
    "print (arr1, len(arr1), type(arr1), id(arr1))\n",
    "print (arr1[3], arr1[-3], arr1[5], arr1[-1])   # indexing\n",
    "print (arr1[1:5], arr1[-5:-1])\n",
    "print (arr1[1:-1], arr1[-5:5])\n",
    "print (arr1[:3], arr1[:-3])\n",
    "print (arr1[3:], arr1[-3:])\n",
    "print (arr1[3][3:6])"
   ]
  },
  {
   "cell_type": "code",
   "execution_count": 38,
   "id": "fe628e55",
   "metadata": {},
   "outputs": [
    {
     "name": "stdout",
     "output_type": "stream",
     "text": [
      "[[1 2 3 4]\n",
      " [5 6 7 8]] <class 'numpy.ndarray'> int32 (2, 4) 2\n",
      "7 7 [1 2 3 4] [5 6 7 8]\n",
      "[[2 3]\n",
      " [6 7]]\n"
     ]
    }
   ],
   "source": [
    "data2 = [range(1, 5), range(5, 9)]  # list of lists\n",
    "arr2 = np.array(data2)\n",
    "print (arr2, type(arr2), arr2.dtype, arr2.shape, arr2.ndim)\n",
    "print (arr2[1, 2], arr2[1][2], arr2[0, :], arr2[1, :])\n",
    "print (arr2[:, 1:3])"
   ]
  },
  {
   "cell_type": "markdown",
   "id": "ec9aeb16",
   "metadata": {},
   "source": [
    "### Views and Copies"
   ]
  },
  {
   "cell_type": "code",
   "execution_count": 45,
   "id": "9489e4bd",
   "metadata": {},
   "outputs": [
    {
     "name": "stdout",
     "output_type": "stream",
     "text": [
      "[0 1 2 3 4 5 6 7 8 9] [5 6 7]\n",
      "[  0   1   2   3   4 100 100 100   8   9]\n",
      "[100 100 100]\n",
      "[  0   1   2   3   4 500 500 500   8   9] [500 500 500]\n",
      "[500 500 500]\n",
      "[  0   1   2   3   4 800 800 800   8   9] [500 500 500]\n"
     ]
    }
   ],
   "source": [
    "arr = np.arange(10)\n",
    "print (arr, arr[5:8])\n",
    "arr[5: 8] = 100\n",
    "print (arr)\n",
    "arr_view = arr[5: 8]  # creating a view\n",
    "print (arr_view)\n",
    "arr[5: 8] = 500\n",
    "print (arr, arr_view)\n",
    "arr_copy = arr[5: 8].copy()  # creating a copy\n",
    "print (arr_copy)\n",
    "arr[5: 8] = 800\n",
    "print (arr, arr_copy)"
   ]
  },
  {
   "cell_type": "code",
   "execution_count": 50,
   "id": "f9b66e61",
   "metadata": {},
   "outputs": [
    {
     "name": "stdout",
     "output_type": "stream",
     "text": [
      "[0, 1, 2, 3, 4, 5, 6, 7, 8, 9] [5, 6, 7]\n",
      "[0, 1, 2, 3, 4, 100, 100, 100, 8, 9]\n",
      "[100, 100, 100]\n",
      "[0, 1, 2, 3, 4, 500, 500, 500, 8, 9] [100, 100, 100]\n",
      "[500, 500, 500]\n",
      "[0, 1, 2, 3, 4, 800, 800, 800, 8, 9] [500, 500, 500]\n"
     ]
    }
   ],
   "source": [
    "list1 = [0, 1, 2, 3, 4, 5, 6, 7, 8, 9]\n",
    "print (list1, list1[5:8])\n",
    "list1[5: 8] = [100, 100, 100]\n",
    "print (list1)\n",
    "list_view = list1[5: 8]  # creating a view\n",
    "print (list_view)\n",
    "list1[5: 8] = [500, 500, 500]\n",
    "print (list1, list_view)\n",
    "list_copy = list1[5: 8].copy()  # creating a copy\n",
    "print (list_copy)\n",
    "list1[5: 8] = [800, 800, 800]\n",
    "print (list1, list_copy)"
   ]
  },
  {
   "cell_type": "markdown",
   "id": "d9da4ec7",
   "metadata": {},
   "source": [
    "### Using Boolean Arrays"
   ]
  },
  {
   "cell_type": "code",
   "execution_count": 2,
   "id": "56dc955a-bcbf-4cfb-afe9-20d0ccd0d002",
   "metadata": {},
   "outputs": [],
   "source": [
    "import numpy as np"
   ]
  },
  {
   "cell_type": "code",
   "execution_count": 6,
   "id": "730ef696",
   "metadata": {},
   "outputs": [
    {
     "name": "stdout",
     "output_type": "stream",
     "text": [
      "[1 2 3 4 5 6 7 8 9] [False False False False False  True  True  True  True]\n",
      "[ True  True  True  True  True False False False False]\n",
      "[6 7 8 9] [1 2 3 4 5]\n"
     ]
    }
   ],
   "source": [
    "arr = np.array([1, 2, 3, 4, 5, 6, 7, 8, 9])\n",
    "print (arr, arr > 5)\n",
    "print (~(arr > 5))    # ~ stands for not or negation\n",
    "print (arr[arr > 5], arr[~(arr > 5)])"
   ]
  },
  {
   "cell_type": "code",
   "execution_count": 14,
   "id": "a2559dc3",
   "metadata": {},
   "outputs": [
    {
     "name": "stdout",
     "output_type": "stream",
     "text": [
      "[1 2 3 4 5 6 7 8 9] [False  True False  True False  True False  True False] [2 4 6 8] [1 3 5 7 9]\n",
      "[4 5 6 7]\n",
      "[1 2 3 8 9]\n"
     ]
    }
   ],
   "source": [
    "arr = np.array([1, 2, 3, 4, 5, 6, 7, 8, 9])\n",
    "print (arr, arr % 2 == 0, arr[arr % 2 == 0], arr[~(arr % 2 == 0)])\n",
    "print (arr[(arr > 3) & (arr < 8)])\n",
    "print (arr[(arr <= 3) | (arr >= 8)])"
   ]
  },
  {
   "cell_type": "code",
   "execution_count": 20,
   "id": "6ce09e20",
   "metadata": {},
   "outputs": [
    {
     "name": "stdout",
     "output_type": "stream",
     "text": [
      "[ 0  1  2  3  4  5  6  7  8  9 10 11 12 13 14 15 16 17 18 19 20 21 22 23\n",
      " 24 25 26 27 28 29 30 31 32 33 34 35 36 37 38 39 40 41 42 43 44 45 46 47\n",
      " 48 49 50 51 52 53 54 55 56 57 58 59 60] 61\n",
      "[ 0  6 12 18 24 30 36 42 48 54 60]\n"
     ]
    }
   ],
   "source": [
    "arr = np.arange(0, 61)\n",
    "print (arr, len(arr))\n",
    "print (arr[(arr % 2 == 0) & (arr % 3 == 0)])"
   ]
  },
  {
   "cell_type": "code",
   "execution_count": 29,
   "id": "be05ffa1",
   "metadata": {},
   "outputs": [
    {
     "name": "stdout",
     "output_type": "stream",
     "text": [
      "['Bob' 'Joe' 'Bob' 'Will'] 4\n",
      "[ True False  True False] [False  True False  True] [ True  True  True  True]\n",
      "['Joe' 'Will']\n",
      "['Joe']\n",
      "['Bob' 'Jack' 'Bob' 'Jack'] 4\n",
      "['Bob' 'Jack']\n"
     ]
    }
   ],
   "source": [
    "name = np.array(['Bob', 'Joe', 'Bob', 'Will'])\n",
    "print (name, len(name))\n",
    "print (name == 'Bob', name != 'Bob', name != 'bob')\n",
    "print (name[name != 'Bob'])\n",
    "print (name[(name != 'Bob') & (name != 'Will')])\n",
    "name[name != 'Bob'] = 'Jack'\n",
    "print (name, len(name))\n",
    "print (np.unique(name))    # getting all unique names"
   ]
  },
  {
   "cell_type": "markdown",
   "id": "71d065c1-b228-4c54-85e9-afcfe82bc4c9",
   "metadata": {},
   "source": [
    "### Vectorized Operations"
   ]
  },
  {
   "cell_type": "code",
   "execution_count": 36,
   "id": "36e2bd06",
   "metadata": {},
   "outputs": [
    {
     "name": "stdout",
     "output_type": "stream",
     "text": [
      "[0 1 2 3 4]\n",
      "[ 0  5 10 15 20] [100 101 102 103 104] [-1  0  1  2  3]\n",
      "[0.         1.         1.41421356 1.73205081 2.        ]\n",
      "[0. 1. 2. 2. 2.]\n",
      "[0. 1. 1. 1. 2.]\n"
     ]
    }
   ],
   "source": [
    "nums = np.arange(5)\n",
    "print (nums)\n",
    "print (nums * 5, nums + 100, nums - 1)\n",
    "print (np.sqrt(nums))\n",
    "print (np.ceil(np.sqrt(nums)))\n",
    "print (np.floor(np.sqrt(nums)))"
   ]
  },
  {
   "cell_type": "code",
   "execution_count": 39,
   "id": "23b5227a-1ca9-4d9b-80e4-f9545afbb413",
   "metadata": {},
   "outputs": [
    {
     "name": "stdout",
     "output_type": "stream",
     "text": [
      "[0 1 2 3 4]\n",
      "[0 2 4 6 8]\n",
      "[0 2 4 6 8]\n",
      "[False False False False False]\n"
     ]
    }
   ],
   "source": [
    "nums = np.arange(5)\n",
    "print (nums)\n",
    "print (nums + nums)\n",
    "print (nums + np.arange(5))\n",
    "print (np.isnan(nums))"
   ]
  },
  {
   "cell_type": "code",
   "execution_count": 41,
   "id": "b981aa2a-637d-4d1c-9b82-18a6c7679e44",
   "metadata": {},
   "outputs": [
    {
     "name": "stdout",
     "output_type": "stream",
     "text": [
      "[100.  200.    nan 400.    nan 500.5 600. ] 7\n",
      "[False False  True False  True False False]\n"
     ]
    }
   ],
   "source": [
    "nums = np.array([100, 200, np.nan, 400, np.nan, 500.5, 600])\n",
    "print (nums, len(nums))\n",
    "print (np.isnan(nums))"
   ]
  },
  {
   "cell_type": "code",
   "execution_count": 44,
   "id": "a91ea1b5-8ff1-4fc3-8bc1-4fc645cc46ec",
   "metadata": {},
   "outputs": [
    {
     "name": "stdout",
     "output_type": "stream",
     "text": [
      "[0 1 2 3 4] 5\n",
      "[10 -2 13 -4  5] 5\n",
      "[10  1 13  3  5]\n",
      "[ 0 -2  2 -4  4]\n"
     ]
    }
   ],
   "source": [
    "nums1 = np.arange(5)\n",
    "print (nums1, len(nums1))\n",
    "nums2 = np.array([10, -2, 13, -4, 5])\n",
    "print (nums2, len(nums2))\n",
    "print (np.maximum(nums1, nums2))\n",
    "print (np.minimum(nums1, nums2))"
   ]
  },
  {
   "cell_type": "code",
   "execution_count": 68,
   "id": "0f97ebca-0556-49ab-b908-b6c3a15f924b",
   "metadata": {},
   "outputs": [
    {
     "name": "stdout",
     "output_type": "stream",
     "text": [
      "[-0.66888653 -0.71716638  0.7030964  -1.31445867 -3.15339234  1.78404494\n",
      " -1.19417849  0.34223035 -2.38943519 -0.93145851]\n",
      "[-1.13421833  0.01992909  0.52455457  0.58299723 -0.5393897  -0.85770329\n",
      " -0.49723715 -1.05064616  1.36956621 -0.08591126]\n",
      "5.956070588030976\n",
      "5.956070588030976\n",
      "5.956070588030976\n"
     ]
    }
   ],
   "source": [
    "# Calculating Eucledian distance between two vectors\n",
    "vect1 = np.random.randn(10)\n",
    "print (vect1)\n",
    "vect2 = np.random.randn(10)\n",
    "print (vect2)\n",
    "# Eucledian Distance between pt1(x1, y1) & pt2(x2, y2) => sqrt((x1 - x2)^2 + (y1 - y2)^2) 2 dimensional space\n",
    "# Eucledian Distance between pt1(x1, x2, ... xn) & pt2(y1, y2, ... yn) => sqrt((x1 - y1)^2 + (x2 - y2)^2 + ... + (xn - yn)^2) n dimensional space\n",
    "total = 0\n",
    "for i in range(len(vect1)):\n",
    "    total = total + (vect1[i] - vect2[i]) ** 2\n",
    "print (np.sqrt(total))\n",
    "print (np.sqrt(np.sum((vect1 - vect2) ** 2)))\n",
    "print (np.sqrt(np.sum(pow(np.subtract(vect1, vect2), 2))))"
   ]
  },
  {
   "cell_type": "code",
   "execution_count": 91,
   "id": "9b139de5",
   "metadata": {},
   "outputs": [
    {
     "name": "stdout",
     "output_type": "stream",
     "text": [
      "[0.50107261 0.62710512 0.5817152  0.10491568 0.44790308 0.88622712\n",
      " 0.03401845 0.37218477 0.52866466 0.44270058] 10\n"
     ]
    }
   ],
   "source": [
    "# dealing with random numbers\n",
    "vect1 = np.random.rand(10)\n",
    "print (vect1, len(vect1))"
   ]
  },
  {
   "cell_type": "code",
   "execution_count": 100,
   "id": "befddd75-ec6b-4449-bd8e-de02b2375286",
   "metadata": {},
   "outputs": [
    {
     "name": "stdout",
     "output_type": "stream",
     "text": [
      "[ 0.17080565  0.38735758 -1.38993327 -1.34141257 -0.06230155  1.60531209\n",
      "  0.3110451  -0.22284892  1.81973915  0.25848032] 400000\n",
      "-0.002118588062375438 1.0009186978647686\n"
     ]
    }
   ],
   "source": [
    "rnd = np.random.randn(400000)    # random numbers normalized\n",
    "print (rnd[:10], len(rnd))\n",
    "print (np.average(rnd), np.std(rnd))    # average near to 0 and std near to 1"
   ]
  },
  {
   "cell_type": "code",
   "execution_count": 101,
   "id": "f92edb48",
   "metadata": {},
   "outputs": [
    {
     "name": "stdout",
     "output_type": "stream",
     "text": [
      "[[-1.72885993  0.45608524]\n",
      " [-0.45580572 -1.04606222]\n",
      " [ 1.08054675 -0.04601664]\n",
      " [ 2.32183519 -0.02084962]]\n",
      "[[-0.33619238  0.37317591]\n",
      " [ 0.79461264 -1.05085518]\n",
      " [ 0.66787561 -0.00611041]\n",
      " [ 0.91859346  0.80829539]]\n"
     ]
    }
   ],
   "source": [
    "# math and stats\n",
    "rnd = np.random.randn(4, 2)\n",
    "print (rnd)\n",
    "rnd = np.random.randn(8).reshape(4, 2)\n",
    "print (rnd)"
   ]
  },
  {
   "cell_type": "code",
   "execution_count": 107,
   "id": "4d59584e",
   "metadata": {},
   "outputs": [
    {
     "name": "stdout",
     "output_type": "stream",
     "text": [
      "[[ 1.01947374  0.00626963]\n",
      " [-1.26681594 -1.03646553]\n",
      " [-1.39628316  1.43082016]\n",
      " [-0.71595259 -0.76760925]]\n",
      "-0.34082036836211843 0.9929656553791245\n",
      "1.4308201599168795 5 -1.3962831628120105 4\n"
     ]
    }
   ],
   "source": [
    "rnd = np.random.randn(4, 2)\n",
    "print (rnd)\n",
    "print (rnd.mean(), rnd.std())\n",
    "print (np.max(rnd), rnd.argmax(), np.min(rnd), rnd.argmin())"
   ]
  },
  {
   "cell_type": "code",
   "execution_count": 109,
   "id": "64c5b7da",
   "metadata": {},
   "outputs": [
    {
     "name": "stdout",
     "output_type": "stream",
     "text": [
      "[[-0.65096717 -0.64137916]\n",
      " [-0.20273863 -0.41983124]\n",
      " [-1.37173843  0.74308971]\n",
      " [ 1.22743281  0.4964442 ]]\n",
      "[-0.99801142  0.17832352]\n",
      "[-1.29234633 -0.62256987 -0.62864872  1.72387701]\n"
     ]
    }
   ],
   "source": [
    "rnd = np.random.randn(4, 2)\n",
    "print (rnd)\n",
    "print (rnd.sum(axis = 0))\n",
    "print (rnd.sum(axis = 1))"
   ]
  },
  {
   "cell_type": "code",
   "execution_count": 113,
   "id": "a30421f6",
   "metadata": {},
   "outputs": [
    {
     "name": "stdout",
     "output_type": "stream",
     "text": [
      "[[-0.09825789 -0.93358107]\n",
      " [ 0.67471649  1.09858083]\n",
      " [-2.17644861  1.90770694]\n",
      " [ 0.17186923 -0.72465251]]\n",
      "4\n",
      "True\n",
      "False\n"
     ]
    }
   ],
   "source": [
    "rnd = np.random.randn(4, 2)\n",
    "print (rnd)\n",
    "print ((rnd > 0).sum())\n",
    "print ((rnd > 0).any())\n",
    "print ((rnd > 0).all())"
   ]
  },
  {
   "cell_type": "code",
   "execution_count": 124,
   "id": "1832a652-d8af-46e3-8eac-4de131d53de2",
   "metadata": {},
   "outputs": [
    {
     "name": "stdout",
     "output_type": "stream",
     "text": [
      "[-0.31232848  0.33928471 -0.15590853 -0.50178967  0.23556889 -1.76360526\n",
      " -1.09586204 -1.08776574 -0.30517005 -0.47374837] 10\n"
     ]
    }
   ],
   "source": [
    "np.random.seed(15)\n",
    "nums = np.random.randn(10)\n",
    "print (nums, len(nums))\n",
    "\n",
    "# [ 1.3315865   0.71527897 -1.54540029 -0.00838385  0.62133597 -0.72008556\n",
    "#   0.26551159  0.10854853  0.00429143 -0.17460021] 10"
   ]
  },
  {
   "cell_type": "code",
   "execution_count": 136,
   "id": "6c027054-2d0f-4737-a381-486abfd95fae",
   "metadata": {},
   "outputs": [
    {
     "name": "stdout",
     "output_type": "stream",
     "text": [
      "[-0.47572455  0.32838299 -0.28280553 -0.72021894  0.08845887 -0.47251566\n",
      "  0.12997196 -0.10683379 -0.70430281  0.5171775 ] 10\n"
     ]
    }
   ],
   "source": [
    "nums = np.random.randn(10)\n",
    "print (nums, len(nums))"
   ]
  },
  {
   "cell_type": "code",
   "execution_count": 166,
   "id": "fad420fd-ebdf-4037-ab6e-26d9c28da7e3",
   "metadata": {},
   "outputs": [
    {
     "name": "stdout",
     "output_type": "stream",
     "text": [
      "[5 6 4 3 8 6 4 6 9 8 8 2 4 3 8 2 4 0 5 8]\n"
     ]
    }
   ],
   "source": [
    "print (np.random.randint(0, 10, 20))"
   ]
  },
  {
   "cell_type": "markdown",
   "id": "1a6d1e67-e0c6-45b7-92e0-80509f79aceb",
   "metadata": {},
   "source": [
    "### Broadcasting"
   ]
  },
  {
   "cell_type": "code",
   "execution_count": null,
   "id": "736ed23a-e2ec-4be5-8791-f016a0117094",
   "metadata": {},
   "outputs": [],
   "source": []
  }
 ],
 "metadata": {
  "kernelspec": {
   "display_name": "Python 3",
   "language": "python",
   "name": "python3"
  },
  "language_info": {
   "codemirror_mode": {
    "name": "ipython",
    "version": 3
   },
   "file_extension": ".py",
   "mimetype": "text/x-python",
   "name": "python",
   "nbconvert_exporter": "python",
   "pygments_lexer": "ipython3",
   "version": "3.8.8"
  }
 },
 "nbformat": 4,
 "nbformat_minor": 5
}

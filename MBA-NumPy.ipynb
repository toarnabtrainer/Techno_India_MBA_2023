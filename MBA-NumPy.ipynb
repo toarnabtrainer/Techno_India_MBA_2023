{
 "cells": [
  {
   "cell_type": "markdown",
   "id": "2415cbdd-9e83-4d83-a02a-6a0e42d4e45b",
   "metadata": {},
   "source": [
    "## **NumPy: Arrays and Matrices**"
   ]
  },
  {
   "cell_type": "markdown",
   "id": "46a2c369-2216-4500-9aa6-f3f1773b40c3",
   "metadata": {},
   "source": [
    "> NumPy is an extension to the Python Programming language. Adding support for large, multi-dimensional (numerical) arrays and matrices, along with a large library of high-level methematical functions to operate on these arrays. NumPy is having the full form **Numeric Python**."
   ]
  },
  {
   "cell_type": "code",
   "execution_count": 2,
   "id": "79dae74b-af96-4fcf-9213-263ddfa13eee",
   "metadata": {},
   "outputs": [],
   "source": [
    "# importing required modules\n",
    "import numpy as np"
   ]
  },
  {
   "cell_type": "code",
   "execution_count": 6,
   "id": "7eba4cb6-d727-461f-b412-850886d4b31e",
   "metadata": {},
   "outputs": [
    {
     "name": "stdout",
     "output_type": "stream",
     "text": [
      "[11, 22, 44, 33, 66, 55] 6 <class 'list'> 1294413236864\n",
      "[11 22 44 33 66 55] 6 <class 'numpy.ndarray'> 1294396469584 int32\n"
     ]
    }
   ],
   "source": [
    "# creating ndarrays from lists\n",
    "# in ndarray all the data items will have the same data types\n",
    "data1 = [11, 22, 44, 33, 66, 55]\n",
    "print (data1, len(data1), type(data1), id(data1))\n",
    "arr1 = np.array(data1)\n",
    "print (arr1, len(arr1), type(arr1), id(arr1), arr1.dtype)   # len will give us the first dimension of the ndarray"
   ]
  },
  {
   "cell_type": "code",
   "execution_count": 7,
   "id": "098633af-e78b-4c76-aa65-3fe07e9b16d3",
   "metadata": {},
   "outputs": [
    {
     "name": "stdout",
     "output_type": "stream",
     "text": [
      "[11, 22.0, 44, 33, 66, 55] 6 <class 'list'> 1294426355008\n",
      "[11. 22. 44. 33. 66. 55.] 6 <class 'numpy.ndarray'> 1294425294960 float64\n"
     ]
    }
   ],
   "source": [
    "data1 = [11, 22., 44, 33, 66, 55]\n",
    "print (data1, len(data1), type(data1), id(data1))\n",
    "arr1 = np.array(data1)\n",
    "print (arr1, len(arr1), type(arr1), id(arr1), arr1.dtype)"
   ]
  },
  {
   "cell_type": "code",
   "execution_count": 8,
   "id": "02b140a4-4ff9-4bf4-a4c5-e0f2c05d16f9",
   "metadata": {},
   "outputs": [
    {
     "name": "stdout",
     "output_type": "stream",
     "text": [
      "[11, False, 22, 44, True, 33, 66, 55] 8 <class 'list'> 1294411870144\n",
      "[11  0 22 44  1 33 66 55] 8 <class 'numpy.ndarray'> 1294425296400 int32\n"
     ]
    }
   ],
   "source": [
    "data1 = [11, False, 22, 44, True, 33, 66, 55]\n",
    "print (data1, len(data1), type(data1), id(data1))\n",
    "arr1 = np.array(data1)\n",
    "print (arr1, len(arr1), type(arr1), id(arr1), arr1.dtype)"
   ]
  },
  {
   "cell_type": "code",
   "execution_count": 9,
   "id": "259cce59-0bb8-40ed-a377-7188feefacaf",
   "metadata": {},
   "outputs": [
    {
     "name": "stdout",
     "output_type": "stream",
     "text": [
      "[11, False, 22.0, 44, True, 33, 66, 55] 8 <class 'list'> 1294426426176\n",
      "[11.  0. 22. 44.  1. 33. 66. 55.] 8 <class 'numpy.ndarray'> 1294425296112 float64\n"
     ]
    }
   ],
   "source": [
    "data1 = [11, False, 22.0, 44, True, 33, 66, 55]\n",
    "print (data1, len(data1), type(data1), id(data1))\n",
    "arr1 = np.array(data1)\n",
    "print (arr1, len(arr1), type(arr1), id(arr1), arr1.dtype)"
   ]
  },
  {
   "cell_type": "code",
   "execution_count": 10,
   "id": "43cb6bd4-d838-42da-bbda-26c242e94e75",
   "metadata": {},
   "outputs": [
    {
     "name": "stdout",
     "output_type": "stream",
     "text": [
      "[11, False, 22.0, '44', True, 33, 66, 55] 8 <class 'list'> 1294425221504\n",
      "['11' 'False' '22.0' '44' 'True' '33' '66' '55'] 8 <class 'numpy.ndarray'> 1294413496752 <U32\n"
     ]
    }
   ],
   "source": [
    "data1 = [11, False, 22., \"44\", True, 33, 66, 55]\n",
    "print (data1, len(data1), type(data1), id(data1))\n",
    "arr1 = np.array(data1)\n",
    "print (arr1, len(arr1), type(arr1), id(arr1), arr1.dtype)"
   ]
  },
  {
   "cell_type": "code",
   "execution_count": 16,
   "id": "668c5b67-c3d3-4bc1-bb2c-c8cde52fc96c",
   "metadata": {},
   "outputs": [
    {
     "name": "stdout",
     "output_type": "stream",
     "text": [
      "range(1, 10) 9 <class 'range'> 1294416930352\n",
      "[1 2 3 4 5 6 7 8 9] 9 <class 'numpy.ndarray'> 1294425296400 int32\n",
      "[1, 2, 3, 4, 5, 6, 7, 8, 9] 9 <class 'list'> 1294415556736\n"
     ]
    }
   ],
   "source": [
    "data1 = range(1, 10)\n",
    "print (data1, len(data1), type(data1), id(data1))\n",
    "arr1 = np.array(data1)\n",
    "print (arr1, len(arr1), type(arr1), id(arr1), arr1.dtype)\n",
    "list1 = arr1.tolist()\n",
    "print (list1, len(list1), type(list1), id(list1))"
   ]
  },
  {
   "cell_type": "code",
   "execution_count": 14,
   "id": "8e35f688-afcd-43e0-a404-227ff1048e54",
   "metadata": {},
   "outputs": [
    {
     "name": "stdout",
     "output_type": "stream",
     "text": [
      "[[11, 22, 44, 33, 66], [55, 99, 88, 77, 34]] 2 <class 'list'> 1294426426176\n",
      "[[11 22 44 33 66]\n",
      " [55 99 88 77 34]] 2 <class 'numpy.ndarray'> 1294405653968 int32\n"
     ]
    }
   ],
   "source": [
    "data2 = [[11, 22, 44, 33, 66], [55, 99, 88, 77, 34]]\n",
    "print (data2, len(data2), type(data2), id(data2))\n",
    "arr2 = np.array(data2)\n",
    "print (arr2, len(arr2), type(arr2), id(arr2), arr2.dtype)"
   ]
  },
  {
   "cell_type": "code",
   "execution_count": 18,
   "id": "d7f191c7-2825-4126-ae6a-d4b39964c911",
   "metadata": {},
   "outputs": [
    {
     "name": "stdout",
     "output_type": "stream",
     "text": [
      "[[11, False, 44, '33', 66], [55, 99, 88.0, True, 34]] 2 <class 'list'> 1294406004480\n",
      "[['11' 'False' '44' '33' '66']\n",
      " ['55' '99' '88.0' 'True' '34']] 2 <class 'numpy.ndarray'> 1294425296304 <U32\n",
      "[['11', 'False', '44', '33', '66'], ['55', '99', '88.0', 'True', '34']] 2 <class 'list'> 1294406001856\n"
     ]
    }
   ],
   "source": [
    "data2 = [[11, False, 44, '33', 66], [55, 99, 88., True, 34]]\n",
    "print (data2, len(data2), type(data2), id(data2))\n",
    "arr2 = np.array(data2)\n",
    "print (arr2, len(arr2), type(arr2), id(arr2), arr2.dtype)\n",
    "list2 = arr2.tolist()\n",
    "print (list2, len(list2), type(list2), id(list2))"
   ]
  },
  {
   "cell_type": "code",
   "execution_count": 29,
   "id": "a5f83eeb-3801-48e4-9f90-688b68d5536b",
   "metadata": {},
   "outputs": [
    {
     "name": "stdout",
     "output_type": "stream",
     "text": [
      "[22 44 33 66 55 88 77] <class 'numpy.ndarray'> 1294417776528\n",
      "int32 (7,) 7 1 7\n",
      "\n",
      "[[22 44 33 66]\n",
      " [55 88 77 99]] <class 'numpy.ndarray'> 1294417775856\n",
      "int32 (2, 4) 2 2 8\n",
      "\n",
      "[[[ 22  44  33  66]\n",
      "  [ 55  88  77  99]\n",
      "  [ 34  54  67  58]]\n",
      "\n",
      " [[122 144 133 166]\n",
      "  [155 188 177 199]\n",
      "  [234 256 267 289]]] <class 'numpy.ndarray'> 1294417775376\n",
      "int32 (2, 3, 4) 2 3 24\n"
     ]
    }
   ],
   "source": [
    "# examining arrays\n",
    "arr1 = np.array([22, 44, 33, 66, 55, 88, 77])\n",
    "print (arr1, type(arr1), id(arr1))\n",
    "print (arr1.dtype, arr1.shape, len(arr1), arr1.ndim, arr1.size)\n",
    "print ()\n",
    "arr2 = np.array([[22, 44, 33, 66], [55, 88, 77, 99]])\n",
    "print (arr2, type(arr2), id(arr2))\n",
    "print (arr2.dtype, arr2.shape, len(arr2), arr2.ndim, arr2.size)\n",
    "print ()\n",
    "arr3 = np.array([[[22, 44, 33, 66], [55, 88, 77, 99], [34, 54, 67, 58]], [[122, 144, 133, 166], [155, 188, 177, 199], [234, 256, 267, 289]]])\n",
    "print (arr3, type(arr3), id(arr3))\n",
    "print (arr3.dtype, arr3.shape, len(arr3), arr3.ndim, arr3.size)"
   ]
  },
  {
   "cell_type": "code",
   "execution_count": 38,
   "id": "52500ad0-cd2f-4b60-bd66-59cd544b5983",
   "metadata": {},
   "outputs": [
    {
     "name": "stdout",
     "output_type": "stream",
     "text": [
      "[0. 0. 0. 0. 0. 0. 0. 0. 0. 0.]\n",
      "[0 0 0 0 0 0 0 0 0 0]\n",
      "[0. 0. 0. 0. 0. 0. 0. 0. 0. 0.]\n",
      "[0 0 0 0 0 0 0 0 0 0]\n",
      "[0. 0. 0. 0. 0. 0. 0. 0. 0. 0.]\n"
     ]
    }
   ],
   "source": [
    "# create srecial arrays\n",
    "print (np.zeros(10))\n",
    "print (np.zeros(10).astype('int'))\n",
    "print (np.zeros(10).astype('float'))\n",
    "print (np.zeros(10, 'int'))\n",
    "print (np.zeros(10, 'float'))"
   ]
  },
  {
   "cell_type": "code",
   "execution_count": 50,
   "id": "e8aee77a-6e78-47ad-ac2c-69ae91fc2c96",
   "metadata": {},
   "outputs": [
    {
     "name": "stdout",
     "output_type": "stream",
     "text": [
      "[[0. 0. 0. 0. 0. 0.]\n",
      " [0. 0. 0. 0. 0. 0.]\n",
      " [0. 0. 0. 0. 0. 0.]]\n",
      "[[0 0 0 0 0 0]\n",
      " [0 0 0 0 0 0]\n",
      " [0 0 0 0 0 0]]\n",
      "[[0 0 0 0 0 0]\n",
      " [0 0 0 0 0 0]\n",
      " [0 0 0 0 0 0]]\n",
      "[[0 0 0 0 0 0]\n",
      " [0 0 0 0 0 0]\n",
      " [0 0 0 0 0 0]]\n",
      "[[0. 0. 0. 0. 0. 0. 0. 0. 0.]\n",
      " [0. 0. 0. 0. 0. 0. 0. 0. 0.]]\n"
     ]
    }
   ],
   "source": [
    "print (np.zeros((3, 6)))\n",
    "print (np.zeros((3, 6)).astype('int'))\n",
    "print (np.zeros((3, 6), 'int'))\n",
    "print (np.zeros((3, 6), dtype = 'int'))\n",
    "print (np.zeros(18).reshape(2, 9))"
   ]
  },
  {
   "cell_type": "code",
   "execution_count": 51,
   "id": "4c28261b-ae0a-4c6c-b4b7-ceb100123ae5",
   "metadata": {},
   "outputs": [
    {
     "name": "stdout",
     "output_type": "stream",
     "text": [
      "[1. 1. 1. 1. 1. 1. 1. 1. 1. 1.]\n",
      "[1 1 1 1 1 1 1 1 1 1]\n",
      "[1. 1. 1. 1. 1. 1. 1. 1. 1. 1.]\n",
      "[1 1 1 1 1 1 1 1 1 1]\n",
      "[1. 1. 1. 1. 1. 1. 1. 1. 1. 1.]\n"
     ]
    }
   ],
   "source": [
    "print (np.ones(10))\n",
    "print (np.ones(10).astype('int'))\n",
    "print (np.ones(10).astype('float'))\n",
    "print (np.ones(10, 'int'))\n",
    "print (np.ones(10, 'float'))"
   ]
  },
  {
   "cell_type": "code",
   "execution_count": 52,
   "id": "c7faab5b-a998-434d-8e44-2719b48dcaa3",
   "metadata": {},
   "outputs": [
    {
     "name": "stdout",
     "output_type": "stream",
     "text": [
      "[[1. 1. 1. 1. 1. 1.]\n",
      " [1. 1. 1. 1. 1. 1.]\n",
      " [1. 1. 1. 1. 1. 1.]]\n",
      "[[1 1 1 1 1 1]\n",
      " [1 1 1 1 1 1]\n",
      " [1 1 1 1 1 1]]\n",
      "[[1 1 1 1 1 1]\n",
      " [1 1 1 1 1 1]\n",
      " [1 1 1 1 1 1]]\n",
      "[[1 1 1 1 1 1]\n",
      " [1 1 1 1 1 1]\n",
      " [1 1 1 1 1 1]]\n",
      "[[1. 1. 1. 1. 1. 1. 1. 1. 1.]\n",
      " [1. 1. 1. 1. 1. 1. 1. 1. 1.]]\n"
     ]
    }
   ],
   "source": [
    "print (np.ones((3, 6)))\n",
    "print (np.ones((3, 6)).astype('int'))\n",
    "print (np.ones((3, 6), 'int'))\n",
    "print (np.ones((3, 6), dtype = 'int'))\n",
    "print (np.ones(18).reshape(2, 9))"
   ]
  },
  {
   "cell_type": "code",
   "execution_count": 53,
   "id": "34e08d80-7d7a-448c-9b90-c2c4c4fe9355",
   "metadata": {},
   "outputs": [
    {
     "name": "stdout",
     "output_type": "stream",
     "text": [
      "[5. 5. 5. 5. 5. 5. 5. 5. 5. 5.]\n",
      "[5 5 5 5 5 5 5 5 5 5]\n",
      "[5. 5. 5. 5. 5. 5. 5. 5. 5. 5.]\n",
      "[5 5 5 5 5 5 5 5 5 5]\n",
      "[5. 5. 5. 5. 5. 5. 5. 5. 5. 5.]\n"
     ]
    }
   ],
   "source": [
    "print (np.ones(10) * 5)\n",
    "print (np.ones(10).astype('int') * 5)\n",
    "print (np.ones(10).astype('float') * 5)\n",
    "print (np.ones(10, 'int') * 5)\n",
    "print (np.ones(10, 'float') * 5)"
   ]
  },
  {
   "cell_type": "code",
   "execution_count": 57,
   "id": "67692e15-8132-4cff-8928-9fae453790a8",
   "metadata": {},
   "outputs": [
    {
     "name": "stdout",
     "output_type": "stream",
     "text": [
      "[1. 1. 1. 1. 1. 1. 1. 1. 1. 1. 1. 1. 1. 1. 1. 1. 1. 1.]\n",
      "[1 1 1 1 1 1 1 1 1 1 1 1 1 1 1 1 1 1]\n",
      "[[1 1 1 1 1 1 1 1 1]\n",
      " [1 1 1 1 1 1 1 1 1]]\n",
      "[[1 1 1 1 1 1 1 1 1]\n",
      " [1 1 1 1 1 1 1 1 1]]\n"
     ]
    }
   ],
   "source": [
    "# reshaping\n",
    "print (np.ones(18))\n",
    "print (np.ones(18).astype('int'))\n",
    "print (np.ones(18).astype('int').reshape(2, 9))\n",
    "print (np.ones(18).reshape(2, 9).astype('int'))"
   ]
  },
  {
   "cell_type": "code",
   "execution_count": 9,
   "id": "5b71244c-2aea-4af7-88c0-71dba8e9546f",
   "metadata": {},
   "outputs": [
    {
     "name": "stdout",
     "output_type": "stream",
     "text": [
      "range(0, 5)\n",
      "0, 1, 2, 3, 4, \n",
      "[0 1 2 3 4] <class 'numpy.ndarray'>\n",
      "[0. 1. 2. 3. 4.] <class 'numpy.ndarray'>\n"
     ]
    }
   ],
   "source": [
    "# arange is like a range, exept it returns an array (not a list)\n",
    "int_list = range(5)\n",
    "print (int_list)\n",
    "for item in int_list:\n",
    "    print (item, end = \", \")\n",
    "print ()\n",
    "int_array = np.arange(5)\n",
    "print (int_array, type(int_array))\n",
    "float_array = np.arange(5).astype(float)\n",
    "print (float_array, type(float_array))"
   ]
  },
  {
   "cell_type": "markdown",
   "id": "3e42c216",
   "metadata": {},
   "source": [
    "### Reshape, Transpose and Flatten"
   ]
  },
  {
   "cell_type": "code",
   "execution_count": 14,
   "id": "649205cd-7053-4b94-92c7-33ef11c096ef",
   "metadata": {},
   "outputs": [
    {
     "name": "stdout",
     "output_type": "stream",
     "text": [
      "[ 0  1  2  3  4  5  6  7  8  9 10 11 12 13 14 15 16 17 18 19]\n",
      "[[ 0  1  2  3  4]\n",
      " [ 5  6  7  8  9]\n",
      " [10 11 12 13 14]\n",
      " [15 16 17 18 19]]\n",
      "[ 0  1  2  3  4  5  6  7  8  9 10 11 12 13 14 15 16 17 18 19]\n",
      "[[ 0  5 10 15]\n",
      " [ 1  6 11 16]\n",
      " [ 2  7 12 17]\n",
      " [ 3  8 13 18]\n",
      " [ 4  9 14 19]]\n",
      "[[ 0  5 10 15]\n",
      " [ 1  6 11 16]\n",
      " [ 2  7 12 17]\n",
      " [ 3  8 13 18]\n",
      " [ 4  9 14 19]]\n",
      "[ 0  5 10 15  1  6 11 16  2  7 12 17  3  8 13 18  4  9 14 19]\n"
     ]
    }
   ],
   "source": [
    "print (np.arange(20))\n",
    "print (np.arange(20).reshape(4, 5))\n",
    "print (np.arange(20).reshape(4, 5).flatten())\n",
    "print (np.arange(20).reshape(4, 5).T)\n",
    "print (np.arange(20).reshape(4, 5).transpose())\n",
    "print (np.arange(20).reshape(4, 5).transpose().flatten())"
   ]
  },
  {
   "cell_type": "markdown",
   "id": "319ad49e",
   "metadata": {},
   "source": [
    "### Append, Insert, Delete and Sort"
   ]
  },
  {
   "cell_type": "code",
   "execution_count": 10,
   "id": "7de0730c-fa37-4510-8264-08182aec6a19",
   "metadata": {},
   "outputs": [
    {
     "name": "stdout",
     "output_type": "stream",
     "text": [
      "[0 1 2 3 4 5 6 7 8 9] 10 (10,) <class 'numpy.ndarray'>\n",
      "[ 0  1  2  3  4  5  6  7  8  9 10 11 12] 13 (13,) <class 'numpy.ndarray'>\n",
      "[ 0  1  2 13 14 15  3  4  5  6  7  8  9 10 11 12] 16 (16,) <class 'numpy.ndarray'>\n",
      "[ 0  1  2 13 14  5  6  7  8  9 10 11 12] 13 (13,) <class 'numpy.ndarray'>\n",
      "[ 0  1  2 13 14  8  9 10 11 12] 10 (10,) <class 'numpy.ndarray'>\n",
      "[ 0  1  2  8  9 10 11 12 13 14] 10 (10,) <class 'numpy.ndarray'>\n",
      "[14 13 12 11 10  9  8  2  1  0] 10 (10,) <class 'numpy.ndarray'>\n"
     ]
    }
   ],
   "source": [
    "matrix = np.arange(10, dtype = np.int8)\n",
    "print (matrix, len(matrix), matrix.shape, type(matrix))\n",
    "matrix = np.append(matrix, [10, 11, 12])\n",
    "print (matrix, len(matrix), matrix.shape, type(matrix))\n",
    "matrix = np.insert(matrix, 3, [13, 14, 15])\n",
    "print (matrix, len(matrix), matrix.shape, type(matrix))\n",
    "matrix = np.delete(matrix, [5, 6, 7])\n",
    "print (matrix, len(matrix), matrix.shape, type(matrix))\n",
    "matrix = np.delete(matrix, range(5, 8))\n",
    "print (matrix, len(matrix), matrix.shape, type(matrix))\n",
    "matrix = np.sort(matrix)\n",
    "print (matrix, len(matrix), matrix.shape, type(matrix))\n",
    "matrix = -np.sort(-matrix)\n",
    "print (matrix, len(matrix), matrix.shape, type(matrix))"
   ]
  },
  {
   "cell_type": "markdown",
   "id": "52b719eb",
   "metadata": {},
   "source": [
    "### Concatenation and Stack of 2 Arrays"
   ]
  },
  {
   "cell_type": "code",
   "execution_count": 17,
   "id": "eb5d9636-b21d-4c93-b516-3211eb0fce3c",
   "metadata": {},
   "outputs": [
    {
     "name": "stdout",
     "output_type": "stream",
     "text": [
      "First array:\n",
      "[[1 2]\n",
      " [3 4]]\n",
      "Second array:\n",
      "[[5 6]\n",
      " [7 8]]\n",
      "\n",
      "\n",
      "Concatenation along axis 0\n",
      "[[1 2]\n",
      " [3 4]\n",
      " [5 6]\n",
      " [7 8]]\n",
      "\n",
      "\n",
      "Concatenation along axis 1\n",
      "[[1 2 5 6]\n",
      " [3 4 7 8]]\n"
     ]
    }
   ],
   "source": [
    "a = np.array([[1, 2], [3, 4]])\n",
    "print (\"First array:\")\n",
    "print (a)\n",
    "b = np.array([[5, 6], [7, 8]])\n",
    "print (\"Second array:\")\n",
    "print (b)\n",
    "print (\"\\n\")\n",
    "# for concatenation both the arrays must be on the same dimensions\n",
    "print (\"Concatenation along axis 0\")\n",
    "print (np.concatenate((a, b), axis = 0))\n",
    "print (\"\\n\")\n",
    "print (\"Concatenation along axis 1\")\n",
    "print (np.concatenate((a, b), axis = 1))"
   ]
  },
  {
   "cell_type": "code",
   "execution_count": 20,
   "id": "88c2a68f",
   "metadata": {},
   "outputs": [
    {
     "name": "stdout",
     "output_type": "stream",
     "text": [
      "Stack the two arrays along axis 0\n",
      "[[[1 2]\n",
      "  [3 4]]\n",
      "\n",
      " [[5 6]\n",
      "  [7 8]]]\n",
      "\n",
      "\n",
      "Stack the two arrays along axis 1\n",
      "[[[1 2]\n",
      "  [5 6]]\n",
      "\n",
      " [[3 4]\n",
      "  [7 8]]]\n",
      "\n",
      "\n"
     ]
    }
   ],
   "source": [
    "print (\"Stack the two arrays along axis 0\")\n",
    "print (np.stack((a, b), axis = 0))\n",
    "print (\"\\n\")\n",
    "print (\"Stack the two arrays along axis 1\")\n",
    "print (np.stack((a, b), axis = 1))\n",
    "print (\"\\n\")"
   ]
  },
  {
   "cell_type": "code",
   "execution_count": 24,
   "id": "662e02bb",
   "metadata": {},
   "outputs": [
    {
     "name": "stdout",
     "output_type": "stream",
     "text": [
      "[[100 200 300 400]] <class 'numpy.ndarray'> (1, 4) 2\n",
      "[100 200 300 400] <class 'numpy.ndarray'> (4,) 1\n",
      "[[[100 200 300 400]]] <class 'numpy.ndarray'> (1, 1, 4) 3\n",
      "[[[100]\n",
      "  [200]\n",
      "  [300]\n",
      "  [400]]] <class 'numpy.ndarray'> (1, 4, 1) 3\n"
     ]
    }
   ],
   "source": [
    "matrix = np.array([[100, 200, 300, 400]])\n",
    "print (matrix, type(matrix), matrix.shape, matrix.ndim)\n",
    "arr = matrix.reshape(-1)\n",
    "print (arr, type(arr), arr.shape, arr.ndim)\n",
    "arr = matrix.reshape(-1, 1, 4)\n",
    "print (arr, type(arr), arr.shape, arr.ndim)\n",
    "arr = matrix.reshape(1, 4, -1)\n",
    "print (arr, type(arr), arr.shape, arr.ndim)"
   ]
  },
  {
   "cell_type": "markdown",
   "id": "e8a78f45",
   "metadata": {},
   "source": [
    "### Selection"
   ]
  },
  {
   "cell_type": "code",
   "execution_count": 30,
   "id": "900b09e1",
   "metadata": {},
   "outputs": [
    {
     "name": "stdout",
     "output_type": "stream",
     "text": [
      "[11 22 33 44 55] <class 'numpy.ndarray'> int32 (5,)\n",
      "11 33 55 33\n",
      "[33 44 55] [11 22 33]\n",
      "[55 44 33 22 11]\n"
     ]
    }
   ],
   "source": [
    "data1 = [11, 22, 33, 44, 55]\n",
    "arr1 = np.array(data1)\n",
    "print (arr1, type(arr1), arr1.dtype, arr1.shape)\n",
    "print (arr1[0], arr1[2], arr1[-1], arr1[-3])   # indexing\n",
    "print (arr1[2:], arr1[:3])\n",
    "print (arr1[::-1])"
   ]
  },
  {
   "cell_type": "code",
   "execution_count": 31,
   "id": "769678b5",
   "metadata": {},
   "outputs": [
    {
     "name": "stdout",
     "output_type": "stream",
     "text": [
      "['Monday' 'Tuesday' 'Saturday' 'Wednesday' 'Friday' 'Thursday'] 6 <class 'numpy.ndarray'> 2342112560304\n",
      "Wednesday Wednesday Thursday Thursday\n",
      "['Tuesday' 'Saturday' 'Wednesday' 'Friday'] ['Tuesday' 'Saturday' 'Wednesday' 'Friday']\n",
      "['Tuesday' 'Saturday' 'Wednesday' 'Friday'] ['Tuesday' 'Saturday' 'Wednesday' 'Friday']\n",
      "['Monday' 'Tuesday' 'Saturday'] ['Monday' 'Tuesday' 'Saturday']\n",
      "['Wednesday' 'Friday' 'Thursday'] ['Wednesday' 'Friday' 'Thursday']\n",
      "nes\n"
     ]
    }
   ],
   "source": [
    "# indexing and slicing\n",
    "#         L2R ->  0         1          2           3            4         5   \n",
    "arr1 = np.array([\"Monday\", \"Tuesday\", \"Saturday\", \"Wednesday\", \"Friday\", \"Thursday\"])\n",
    "#          R2L ->-6         -5         -4          -3           -2        -1 \n",
    "print (arr1, len(arr1), type(arr1), id(arr1))\n",
    "print (arr1[3], arr1[-3], arr1[5], arr1[-1])   # indexing\n",
    "print (arr1[1:5], arr1[-5:-1])\n",
    "print (arr1[1:-1], arr1[-5:5])\n",
    "print (arr1[:3], arr1[:-3])\n",
    "print (arr1[3:], arr1[-3:])\n",
    "print (arr1[3][3:6])"
   ]
  },
  {
   "cell_type": "code",
   "execution_count": 38,
   "id": "fe628e55",
   "metadata": {},
   "outputs": [
    {
     "name": "stdout",
     "output_type": "stream",
     "text": [
      "[[1 2 3 4]\n",
      " [5 6 7 8]] <class 'numpy.ndarray'> int32 (2, 4) 2\n",
      "7 7 [1 2 3 4] [5 6 7 8]\n",
      "[[2 3]\n",
      " [6 7]]\n"
     ]
    }
   ],
   "source": [
    "data2 = [range(1, 5), range(5, 9)]  # list of lists\n",
    "arr2 = np.array(data2)\n",
    "print (arr2, type(arr2), arr2.dtype, arr2.shape, arr2.ndim)\n",
    "print (arr2[1, 2], arr2[1][2], arr2[0, :], arr2[1, :])\n",
    "print (arr2[:, 1:3])"
   ]
  },
  {
   "cell_type": "markdown",
   "id": "ec9aeb16",
   "metadata": {},
   "source": [
    "### Views and Copies"
   ]
  },
  {
   "cell_type": "code",
   "execution_count": 45,
   "id": "9489e4bd",
   "metadata": {},
   "outputs": [
    {
     "name": "stdout",
     "output_type": "stream",
     "text": [
      "[0 1 2 3 4 5 6 7 8 9] [5 6 7]\n",
      "[  0   1   2   3   4 100 100 100   8   9]\n",
      "[100 100 100]\n",
      "[  0   1   2   3   4 500 500 500   8   9] [500 500 500]\n",
      "[500 500 500]\n",
      "[  0   1   2   3   4 800 800 800   8   9] [500 500 500]\n"
     ]
    }
   ],
   "source": [
    "arr = np.arange(10)\n",
    "print (arr, arr[5:8])\n",
    "arr[5: 8] = 100\n",
    "print (arr)\n",
    "arr_view = arr[5: 8]  # creating a view\n",
    "print (arr_view)\n",
    "arr[5: 8] = 500\n",
    "print (arr, arr_view)\n",
    "arr_copy = arr[5: 8].copy()  # creating a copy\n",
    "print (arr_copy)\n",
    "arr[5: 8] = 800\n",
    "print (arr, arr_copy)"
   ]
  },
  {
   "cell_type": "code",
   "execution_count": 50,
   "id": "f9b66e61",
   "metadata": {},
   "outputs": [
    {
     "name": "stdout",
     "output_type": "stream",
     "text": [
      "[0, 1, 2, 3, 4, 5, 6, 7, 8, 9] [5, 6, 7]\n",
      "[0, 1, 2, 3, 4, 100, 100, 100, 8, 9]\n",
      "[100, 100, 100]\n",
      "[0, 1, 2, 3, 4, 500, 500, 500, 8, 9] [100, 100, 100]\n",
      "[500, 500, 500]\n",
      "[0, 1, 2, 3, 4, 800, 800, 800, 8, 9] [500, 500, 500]\n"
     ]
    }
   ],
   "source": [
    "list1 = [0, 1, 2, 3, 4, 5, 6, 7, 8, 9]\n",
    "print (list1, list1[5:8])\n",
    "list1[5: 8] = [100, 100, 100]\n",
    "print (list1)\n",
    "list_view = list1[5: 8]  # creating a view\n",
    "print (list_view)\n",
    "list1[5: 8] = [500, 500, 500]\n",
    "print (list1, list_view)\n",
    "list_copy = list1[5: 8].copy()  # creating a copy\n",
    "print (list_copy)\n",
    "list1[5: 8] = [800, 800, 800]\n",
    "print (list1, list_copy)"
   ]
  },
  {
   "cell_type": "markdown",
   "id": "d9da4ec7",
   "metadata": {},
   "source": [
    "### Using Boolean Arrays"
   ]
  },
  {
   "cell_type": "code",
   "execution_count": null,
   "id": "730ef696",
   "metadata": {},
   "outputs": [],
   "source": []
  },
  {
   "cell_type": "code",
   "execution_count": null,
   "id": "a2559dc3",
   "metadata": {},
   "outputs": [],
   "source": []
  },
  {
   "cell_type": "code",
   "execution_count": null,
   "id": "6ce09e20",
   "metadata": {},
   "outputs": [],
   "source": []
  },
  {
   "cell_type": "code",
   "execution_count": null,
   "id": "be05ffa1",
   "metadata": {},
   "outputs": [],
   "source": []
  },
  {
   "cell_type": "code",
   "execution_count": null,
   "id": "e20f275a",
   "metadata": {},
   "outputs": [],
   "source": []
  },
  {
   "cell_type": "code",
   "execution_count": null,
   "id": "36e2bd06",
   "metadata": {},
   "outputs": [],
   "source": []
  },
  {
   "cell_type": "code",
   "execution_count": null,
   "id": "9b139de5",
   "metadata": {},
   "outputs": [],
   "source": []
  },
  {
   "cell_type": "code",
   "execution_count": null,
   "id": "f92edb48",
   "metadata": {},
   "outputs": [],
   "source": []
  },
  {
   "cell_type": "code",
   "execution_count": null,
   "id": "4d59584e",
   "metadata": {},
   "outputs": [],
   "source": []
  },
  {
   "cell_type": "code",
   "execution_count": null,
   "id": "64c5b7da",
   "metadata": {},
   "outputs": [],
   "source": []
  },
  {
   "cell_type": "code",
   "execution_count": null,
   "id": "a30421f6",
   "metadata": {},
   "outputs": [],
   "source": []
  }
 ],
 "metadata": {
  "kernelspec": {
   "display_name": "Python 3",
   "language": "python",
   "name": "python3"
  },
  "language_info": {
   "codemirror_mode": {
    "name": "ipython",
    "version": 3
   },
   "file_extension": ".py",
   "mimetype": "text/x-python",
   "name": "python",
   "nbconvert_exporter": "python",
   "pygments_lexer": "ipython3",
   "version": "3.8.8"
  }
 },
 "nbformat": 4,
 "nbformat_minor": 5
}

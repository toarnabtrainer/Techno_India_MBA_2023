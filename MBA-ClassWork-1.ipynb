{
 "cells": [
  {
   "cell_type": "code",
   "execution_count": 9,
   "id": "57075edb-c089-48f6-91ba-f714dc7d6a14",
   "metadata": {},
   "outputs": [],
   "source": [
    "# This is a comment line\n",
    "# This is a comment line\n",
    "# This is a comment line\n",
    "# This is a comment line\n",
    "# This is a comment line\n",
    "# This is a comment line\n",
    "# This is a comment line"
   ]
  },
  {
   "cell_type": "code",
   "execution_count": 3,
   "id": "08daaf9d-b5e9-4927-9fa1-dcf55e27c78a",
   "metadata": {},
   "outputs": [
    {
     "name": "stdout",
     "output_type": "stream",
     "text": [
      "Welcome to Python Programming...\n"
     ]
    }
   ],
   "source": [
    "print (\"Welcome to Python Programming...\")"
   ]
  },
  {
   "cell_type": "markdown",
   "id": "79900a3f-f4f2-4879-93dc-60eba212e14a",
   "metadata": {},
   "source": [
    "### Inputs and Outputs in Python"
   ]
  },
  {
   "cell_type": "code",
   "execution_count": 12,
   "id": "1af8eb97-dd1e-4910-ae01-3e9d0a792ddf",
   "metadata": {},
   "outputs": [
    {
     "name": "stdin",
     "output_type": "stream",
     "text": [
      "Please enter the first number:  100\n",
      "Please enter the second number:  200\n"
     ]
    },
    {
     "name": "stdout",
     "output_type": "stream",
     "text": [
      "100 <class 'str'> 200 <class 'str'>\n",
      "So the sum is 100200\n",
      "End of the program...\n"
     ]
    }
   ],
   "source": [
    "num1 = input(\"Please enter the first number: \")\n",
    "num2 = input(\"Please enter the second number: \")\n",
    "print (num1, type(num1), num2, type(num2))\n",
    "total = num1 + num2\n",
    "print (\"So the sum is\", total)\n",
    "print (\"End of the program...\")"
   ]
  },
  {
   "cell_type": "code",
   "execution_count": 13,
   "id": "ed2b676e-5045-434c-baae-873020277faa",
   "metadata": {},
   "outputs": [
    {
     "name": "stdin",
     "output_type": "stream",
     "text": [
      "Please enter the first number:  100\n",
      "Please enter the second number:  200\n"
     ]
    },
    {
     "name": "stdout",
     "output_type": "stream",
     "text": [
      "100 <class 'int'> 200 <class 'int'>\n",
      "So the sum is 300\n",
      "End of the program...\n"
     ]
    }
   ],
   "source": [
    "num1 = int(input(\"Please enter the first number: \"))\n",
    "num2 = int(input(\"Please enter the second number: \"))\n",
    "print (num1, type(num1), num2, type(num2))\n",
    "total = num1 + num2\n",
    "print (\"So the sum is\", total)\n",
    "print (\"End of the program...\")"
   ]
  },
  {
   "cell_type": "code",
   "execution_count": 14,
   "id": "0bf67881-03e1-4827-8469-5edf70d98e32",
   "metadata": {},
   "outputs": [
    {
     "name": "stdin",
     "output_type": "stream",
     "text": [
      "Please enter the first number:  300\n",
      "Please enter the second number:  400\n"
     ]
    },
    {
     "name": "stdout",
     "output_type": "stream",
     "text": [
      "300 <class 'int'> 400 <class 'int'>\n"
     ]
    }
   ],
   "source": [
    "num1 = int(input(\"Please enter the first number: \"))\n",
    "num2 = int(input(\"Please enter the second number: \"))\n",
    "print (num1, type(num1), num2, type(num2))\n",
    "total = num1 + num2"
   ]
  },
  {
   "cell_type": "code",
   "execution_count": 31,
   "id": "eca9fe95-89fe-4da3-9055-47e8e2254a6a",
   "metadata": {},
   "outputs": [
    {
     "name": "stdout",
     "output_type": "stream",
     "text": [
      "So 300 + 400 = 700\n",
      "So 300 + 400 = 700\n",
      "So 300 + 400 = 700\n",
      "So 300 + 400 = 700\n",
      "So 300 + 400 = 700\n",
      "So 300 + 400 = 700\n",
      "So 300 + 400 = 700\n",
      "So 300 + 400 = 700\n",
      "So 300 + 400.000000 = 700\n",
      "So 300 + 400.000000 = 700\n",
      "So 300 +  400.000 = 700\n",
      "So 300 + 400 = 700\n"
     ]
    }
   ],
   "source": [
    "print (\"So\", num1, \"+\", num2, \"=\", total)\n",
    "print (\"So \" + str(num1) + \" + \" + str(num2) + \" = \" + str(total))\n",
    "print (\"So {} + {} = {}\".format(num1, num2, total))   # {} stands for place holder\n",
    "print (\"So {fnum} + {snum} = {result}\".format(fnum = num1, snum = num2, result = total))    # labelled place holder\n",
    "print (\"So {fnum} + {snum} = {result}\".format(result = total, snum = num2, fnum = num1))\n",
    "print (\"So {0} + {1} = {2}\".format(num1, num2, total))    # numbered place holder\n",
    "print (\"So {2} + {1} = {0}\".format(total, num2, num1))    # numbered place holder\n",
    "print (\"So %d + %d = %d\"%(num1, num2, total))\n",
    "print (\"So %d + %f = %d\"%(num1, num2, total))\n",
    "print (\"So %d + %10.6f = %d\"%(num1, num2, total))\n",
    "print (\"So %d + %8.3f = %d\"%(num1, num2, total))\n",
    "print (f\"So {num1} + {num2} = {total}\")"
   ]
  },
  {
   "cell_type": "markdown",
   "id": "8447286e-23cd-4c81-aa6c-451f6c224104",
   "metadata": {},
   "source": [
    "### Python Operators"
   ]
  },
  {
   "cell_type": "code",
   "execution_count": 1,
   "id": "f2d032ba-26c4-4dba-aaec-797e9cc85901",
   "metadata": {},
   "outputs": [
    {
     "name": "stdout",
     "output_type": "stream",
     "text": [
      "140\n",
      "60\n",
      "4000\n",
      "2.5\n",
      "2\n",
      "20\n",
      "100000000\n"
     ]
    }
   ],
   "source": [
    "# Arithmetic Operators: + - * / // % **\n",
    "print (100 + 40)   # addition operation\n",
    "print (100 - 40)   # subtraction operation\n",
    "print (100 * 40)   # multiplication operation\n",
    "print (100 / 40)   # float division operation\n",
    "print (100 // 40)  # integer division operation\n",
    "print (100 % 40)   # modulus (remainder) operation\n",
    "print (100 ** 4)   # exponentiation operation"
   ]
  },
  {
   "cell_type": "code",
   "execution_count": 5,
   "id": "a49b7d0d-9688-48d5-87f1-9a113a7c98b8",
   "metadata": {},
   "outputs": [
    {
     "name": "stdout",
     "output_type": "stream",
     "text": [
      "False False False True\n",
      "False True True True\n",
      "False True\n"
     ]
    }
   ],
   "source": [
    "# logical Operators: and or not\n",
    "print (False and False, False and True, True and False, True and True)\n",
    "print (False or False, False or True, True or False, True or True)\n",
    "print (not True, not False)"
   ]
  },
  {
   "cell_type": "code",
   "execution_count": 6,
   "id": "e2646be4-36be-4c37-8c6b-400dcb327b37",
   "metadata": {},
   "outputs": [
    {
     "name": "stdout",
     "output_type": "stream",
     "text": [
      "True True False False False True\n"
     ]
    }
   ],
   "source": [
    "# Relational (Comparison) Operators: > >= < <= == !=\n",
    "print (100 > 20, 100 >= 20, 100 < 20, 100 <= 20, 100 == 20, 100 != 20)"
   ]
  },
  {
   "cell_type": "code",
   "execution_count": null,
   "id": "759f8b59-a6da-486f-b8f9-c0026ff829a2",
   "metadata": {},
   "outputs": [],
   "source": [
    "# Operators can of three types:\n",
    "# Unary Operator: +100, -20\n",
    "# Binary Operator: 100 + 20,  100 * 20\n",
    "# Ternary Operator: Operator will work with three operands"
   ]
  },
  {
   "cell_type": "code",
   "execution_count": 8,
   "id": "9a910173-9bfd-47e5-b6e9-aae0044db588",
   "metadata": {},
   "outputs": [
    {
     "name": "stdout",
     "output_type": "stream",
     "text": [
      "EVEN\n",
      "ODD\n"
     ]
    }
   ],
   "source": [
    "# Ternary Operator\n",
    "num1 = 100\n",
    "result = \"EVEN\" if (num1 % 2 == 0) else \"ODD\"\n",
    "print (result)\n",
    "\n",
    "num1 = 103\n",
    "result = \"EVEN\" if (num1 % 2 == 0) else \"ODD\"\n",
    "print (result)"
   ]
  },
  {
   "cell_type": "code",
   "execution_count": 11,
   "id": "020fa842-48c1-4088-9b08-d87ee72ff701",
   "metadata": {},
   "outputs": [
    {
     "name": "stdout",
     "output_type": "stream",
     "text": [
      "300\n",
      "105\n",
      "110\n",
      "550\n"
     ]
    }
   ],
   "source": [
    "# Assignment operator: = += -= *= /= //+ **= %=\n",
    "result = 100 + 200   # assignment statement\n",
    "print (result)\n",
    "result = 100\n",
    "result = result + 5  # this statement is called assignment statement with assignment operator =\n",
    "print (result)\n",
    "result += 5   # special assignment operator\n",
    "print (result)\n",
    "result *= 5\n",
    "print (result)"
   ]
  },
  {
   "cell_type": "code",
   "execution_count": 24,
   "id": "46df2537-673f-476e-9b37-87ef4df7087a",
   "metadata": {},
   "outputs": [
    {
     "name": "stdout",
     "output_type": "stream",
     "text": [
      "0 1 1 1\n",
      "0 0 0 1\n",
      "0 1 1 0\n",
      "-101\n"
     ]
    }
   ],
   "source": [
    "# Bitwise Operator: | & ~ ^\n",
    "print (0 | 0, 0 | 1, 1 | 0, 1 | 1)   # AND operator\n",
    "print (0 & 0, 0 & 1, 1 & 0, 1 & 1)   # OR operator\n",
    "print (0 ^ 0, 0 ^ 1, 1 ^ 0, 1 ^ 1)   # XOR operator\n",
    "print (~100)     # 100 = 64 + 32 + 4 = 0110 0100 => 1001 1011 => -0110 0101 => -101"
   ]
  },
  {
   "cell_type": "markdown",
   "id": "5b53183a-6ace-41c5-89d8-0d05808e7343",
   "metadata": {},
   "source": [
    "### Conditional Statements in Python"
   ]
  },
  {
   "cell_type": "code",
   "execution_count": 34,
   "id": "1fb8d965-d2c3-4ef4-b676-dc360926058b",
   "metadata": {},
   "outputs": [
    {
     "name": "stdin",
     "output_type": "stream",
     "text": [
      "Please enter the first number:  300\n",
      "Please enter the second number:  100\n",
      "Please enter the thord number:  200\n"
     ]
    },
    {
     "name": "stdout",
     "output_type": "stream",
     "text": [
      "The first number is the maximum number...\n",
      "The maximum number is 300\n",
      "End of the program...\n"
     ]
    }
   ],
   "source": [
    "num1 = int(input(\"Please enter the first number: \"))\n",
    "num2 = int(input(\"Please enter the second number: \"))\n",
    "num3 = int(input(\"Please enter the thord number: \"))\n",
    "if (num1 > num2):\n",
    "    if (num1 > num3):\n",
    "        print (\"The first number is the maximum number...\")\n",
    "        print (\"The maximum number is\", num1)\n",
    "    else:\n",
    "        print (\"The third number is the maximum number...\")\n",
    "        print (\"The maximum number is\", num3)\n",
    "elif (num2 > num3):\n",
    "    print (\"The second number is the maximum number...\")\n",
    "    print (\"The maximum number is\", num2)\n",
    "else:\n",
    "    print (\"The third number is the maximum number...\")\n",
    "    print (\"The maximum number is\", num3)\n",
    "    \n",
    "print (\"End of the program...\")"
   ]
  },
  {
   "cell_type": "code",
   "execution_count": 37,
   "id": "57c58583-8f16-432a-ac5c-51efbdc9ddd9",
   "metadata": {},
   "outputs": [
    {
     "name": "stdin",
     "output_type": "stream",
     "text": [
      "Please enter the first number:  200\n",
      "Please enter the second number:  10\n",
      "Please enter the thord number:  300\n"
     ]
    },
    {
     "name": "stdout",
     "output_type": "stream",
     "text": [
      "The third number is the maximum number...\n",
      "The maximum number is 300\n",
      "End of the program...\n"
     ]
    }
   ],
   "source": [
    "num1 = int(input(\"Please enter the first number: \"))\n",
    "num2 = int(input(\"Please enter the second number: \"))\n",
    "num3 = int(input(\"Please enter the thord number: \"))\n",
    "if (num1 > num2 and num1 > num3):\n",
    "    print (\"The first number is the maximum number...\")\n",
    "    print (\"The maximum number is\", num1)\n",
    "elif (num2 > num3):\n",
    "    print (\"The second number is the maximum number...\")\n",
    "    print (\"The maximum number is\", num2)\n",
    "else:\n",
    "    print (\"The third number is the maximum number...\")\n",
    "    print (\"The maximum number is\", num3)\n",
    "    \n",
    "print (\"End of the program...\")"
   ]
  },
  {
   "cell_type": "code",
   "execution_count": 38,
   "id": "93916971-de63-478b-9213-fbdcfac10614",
   "metadata": {},
   "outputs": [
    {
     "name": "stdin",
     "output_type": "stream",
     "text": [
      "Please enter your expression: (20 + 50) * 2\n"
     ]
    },
    {
     "name": "stdout",
     "output_type": "stream",
     "text": [
      "140\n"
     ]
    }
   ],
   "source": [
    "result = eval(input(\"Please enter your expression:\"))\n",
    "print (result)"
   ]
  },
  {
   "cell_type": "code",
   "execution_count": 40,
   "id": "78394f88-9bc2-4c2f-9e96-7585a2001ab1",
   "metadata": {},
   "outputs": [
    {
     "name": "stdin",
     "output_type": "stream",
     "text": [
      "Please enter your expression: (20 * 10 + 50 * 5) * 10\n"
     ]
    },
    {
     "name": "stdout",
     "output_type": "stream",
     "text": [
      "4500\n"
     ]
    }
   ],
   "source": [
    "result = input(\"Please enter your expression:\")\n",
    "result = eval(result)\n",
    "print (result)"
   ]
  },
  {
   "cell_type": "markdown",
   "id": "c4ee548e-e995-4b08-a581-c383277f8f49",
   "metadata": {},
   "source": [
    "### Python Loop or Iterations"
   ]
  },
  {
   "cell_type": "code",
   "execution_count": 3,
   "id": "2dccd46d-c20a-440b-8aac-5faa7d48733c",
   "metadata": {},
   "outputs": [
    {
     "name": "stdout",
     "output_type": "stream",
     "text": [
      "Executing for i = 0\n",
      "Executing for i = 1\n",
      "Executing for i = 2\n",
      "Executing for i = 3\n",
      "Executing for i = 4\n",
      "Executing for i = 5\n",
      "Executing for i = 6\n",
      "Executing for i = 7\n",
      "Executing for i = 8\n",
      "Executing for i = 9\n"
     ]
    }
   ],
   "source": [
    "# loop with for\n",
    "# for i in range(10):\n",
    "# for i in range(0, 10):\n",
    "for i in range(0, 10, 1):\n",
    "    print (\"Executing for i =\", i)"
   ]
  },
  {
   "cell_type": "code",
   "execution_count": 4,
   "id": "0b8e1d54-620a-4dbf-b277-1e7d9c596336",
   "metadata": {},
   "outputs": [
    {
     "name": "stdout",
     "output_type": "stream",
     "text": [
      "Executing for i = 0\n",
      "Executing for i = 2\n",
      "Executing for i = 4\n",
      "Executing for i = 6\n",
      "Executing for i = 8\n"
     ]
    }
   ],
   "source": [
    "for i in range(0, 10, 2):\n",
    "    print (\"Executing for i =\", i)"
   ]
  },
  {
   "cell_type": "code",
   "execution_count": 7,
   "id": "c3dd6bfb-5431-4e1a-95f2-51dc44b3ec3c",
   "metadata": {},
   "outputs": [
    {
     "name": "stdout",
     "output_type": "stream",
     "text": [
      "Executing for i = 10\n",
      "Executing for i = 9\n",
      "Executing for i = 8\n",
      "Executing for i = 7\n",
      "Executing for i = 6\n",
      "Executing for i = 5\n",
      "Executing for i = 4\n",
      "Executing for i = 3\n",
      "Executing for i = 2\n",
      "Executing for i = 1\n",
      "ELSE: Executing the Else block...\n",
      "ELSE: Had a smooth execution...\n",
      "End of the program...\n"
     ]
    }
   ],
   "source": [
    "for i in range(10, 0, -1):\n",
    "    print (\"Executing for i =\", i)\n",
    "else:\n",
    "    print (\"ELSE: Executing the Else block...\")\n",
    "    print (\"ELSE: Had a smooth execution...\")\n",
    "print (\"End of the program...\")"
   ]
  },
  {
   "cell_type": "code",
   "execution_count": 14,
   "id": "2cba5245-2b73-464f-b171-b61a3b4d1cd1",
   "metadata": {},
   "outputs": [
    {
     "name": "stdout",
     "output_type": "stream",
     "text": [
      "Executing for i = 1\n",
      "Executing for i = 2\n",
      "Executing for i = 3\n",
      "Executing for i = 4\n",
      "Executing for i = 5\n",
      "Executing for i = 6\n",
      "Executing for i = 7\n",
      "Executing for i = 8\n",
      "Executing for i = 9\n",
      "Executing for i = 10\n",
      "Exiting for i = 10\n",
      "End of the program...\n"
     ]
    }
   ],
   "source": [
    "for i in range(1, 11):\n",
    "    print (\"Executing for i =\", i)\n",
    "    if (i == 10):\n",
    "        print (\"Exiting for i =\", i)\n",
    "        break\n",
    "    else:\n",
    "        pass\n",
    "else:\n",
    "    print (\"ELSE: Executing the Else block...\")\n",
    "    print (\"ELSE: Had a smooth execution...\")\n",
    "print (\"End of the program...\")"
   ]
  },
  {
   "cell_type": "code",
   "execution_count": 12,
   "id": "99629248-1196-4bd2-a702-0e9ec0ad3512",
   "metadata": {},
   "outputs": [
    {
     "name": "stdout",
     "output_type": "stream",
     "text": [
      "Executing for i = 1\n",
      "Executing for i = 2\n",
      "Executing for i = 3\n",
      "Executing for i = 4\n",
      "Executing for i = 5\n",
      "Executing for i = 6\n",
      "Executing for i = 7\n",
      "Executing for i = 8\n",
      "Executing for i = 9\n",
      "Executing for i = 10\n",
      "Exiting for i = 10\n",
      "End of the program...\n"
     ]
    }
   ],
   "source": [
    "for i in range(1, 11):\n",
    "    print (\"Executing for i =\", i)\n",
    "    if (i != 10):\n",
    "        pass    # statement placeholder\n",
    "    else:\n",
    "        print (\"Exiting for i =\", i)\n",
    "        break\n",
    "else:\n",
    "    print (\"ELSE: Executing the Else block...\")\n",
    "    print (\"ELSE: Had a smooth execution...\")\n",
    "print (\"End of the program...\")"
   ]
  },
  {
   "cell_type": "code",
   "execution_count": 15,
   "id": "d8bf6e15-1725-4beb-9553-bda63d2c1339",
   "metadata": {},
   "outputs": [
    {
     "name": "stdout",
     "output_type": "stream",
     "text": [
      "Executing for i = 1\n",
      "Executing for i = 2\n",
      "Executing for i = 3\n",
      "Executing for i = 4\n",
      "Continuing with the loop...\n",
      "Executing for i = 6\n",
      "Continuing with the loop...\n",
      "Executing for i = 8\n",
      "Executing for i = 9\n",
      "Executing for i = 10\n",
      "ELSE: Executing the Else block...\n",
      "ELSE: Had a smooth execution...\n",
      "End of the program...\n"
     ]
    }
   ],
   "source": [
    "for i in range(1, 11):\n",
    "    if (i == 5 or i == 7):\n",
    "        print (\"Continuing with the loop...\")\n",
    "        continue\n",
    "    print (\"Executing for i =\", i)\n",
    "else:\n",
    "    print (\"ELSE: Executing the Else block...\")\n",
    "    print (\"ELSE: Had a smooth execution...\")\n",
    "print (\"End of the program...\")"
   ]
  },
  {
   "cell_type": "code",
   "execution_count": 17,
   "id": "fef532d5-7926-44c5-815b-8ad4d3788abb",
   "metadata": {},
   "outputs": [
    {
     "name": "stdin",
     "output_type": "stream",
     "text": [
      "Please enter an integer:  100\n"
     ]
    },
    {
     "name": "stdout",
     "output_type": "stream",
     "text": [
      "100 is Not a PRIME Number..\n",
      "End of the program...\n"
     ]
    }
   ],
   "source": [
    "# program to check whether the input number is PRIME or not\n",
    "num = int(input(\"Please enter an integer: \"))\n",
    "for i in range(2, num):\n",
    "    if (num % i == 0):\n",
    "        print (f\"{num} is Not a PRIME Number..\")\n",
    "        break\n",
    "else:\n",
    "    print (f\"{num} is a PRIME Number..\")\n",
    "print (\"End of the program...\")"
   ]
  },
  {
   "cell_type": "code",
   "execution_count": 18,
   "id": "f9be7c4a-f680-4904-8156-c55bc091c3ea",
   "metadata": {},
   "outputs": [
    {
     "name": "stdout",
     "output_type": "stream",
     "text": [
      "Looping for i = 1\n",
      "Looping for i = 2\n",
      "Looping for i = 3\n",
      "Looping for i = 4\n",
      "Continuing for i = 5 here...\n",
      "Looping for i = 6\n",
      "Continuing for i = 7 here...\n",
      "Looping for i = 8\n",
      "Looping for i = 9\n",
      "Looping for i = 10\n",
      "ELSE: Had a smooth execution...\n",
      "ELSE: Executing the ELSE block...\n",
      "End of the program...\n"
     ]
    }
   ],
   "source": [
    "i = 1\n",
    "while (i <= 10):\n",
    "    if (i == 5 or i == 7):\n",
    "        print (f\"Continuing for i = {i} here...\")\n",
    "        i = i + 1\n",
    "        continue\n",
    "    print (f\"Looping for i = {i}\")\n",
    "    i = i + 1\n",
    "else:\n",
    "    print (\"ELSE: Had a smooth execution...\")\n",
    "    print (\"ELSE: Executing the ELSE block...\")\n",
    "print (\"End of the program...\")"
   ]
  },
  {
   "cell_type": "code",
   "execution_count": 21,
   "id": "e8949638-0404-4cba-ba2f-ed73e2a43b1b",
   "metadata": {},
   "outputs": [
    {
     "name": "stdout",
     "output_type": "stream",
     "text": [
      "Looping for i = 1\n",
      "Looping for i = 2\n",
      "Looping for i = 3\n",
      "Looping for i = 4\n",
      "Breaking for i = 5 here...\n",
      "End of the program...\n"
     ]
    }
   ],
   "source": [
    "i = 1\n",
    "while (i <= 10):\n",
    "    if (i == 5):\n",
    "        print (f\"Breaking for i = {i} here...\")\n",
    "        break\n",
    "    print (f\"Looping for i = {i}\")\n",
    "    i = i + 1\n",
    "else:\n",
    "    print (\"ELSE: Had a smooth execution...\")\n",
    "    print (\"ELSE: Executing the ELSE block...\")\n",
    "print (\"End of the program...\")"
   ]
  },
  {
   "cell_type": "code",
   "execution_count": 24,
   "id": "b58b9f5a-ef92-4d38-9155-5d33996a313c",
   "metadata": {},
   "outputs": [
    {
     "name": "stdout",
     "output_type": "stream",
     "text": [
      "Visit Doctor...\n",
      "Good Morning...\n",
      "Day Number: 1 and Medicine Number: 1...\n",
      "Day Number: 1 and Medicine Number: 2...\n",
      "Day Number: 1 and Medicine Number: 3...\n",
      "Good Night...\n",
      "--------------------------------------------\n",
      "Good Morning...\n",
      "Day Number: 2 and Medicine Number: 1...\n",
      "Day Number: 2 and Medicine Number: 2...\n",
      "Day Number: 2 and Medicine Number: 3...\n",
      "Good Night...\n",
      "--------------------------------------------\n",
      "Good Morning...\n",
      "Day Number: 3 and Medicine Number: 1...\n",
      "Day Number: 3 and Medicine Number: 2...\n",
      "Day Number: 3 and Medicine Number: 3...\n",
      "Good Night...\n",
      "--------------------------------------------\n",
      "Good Morning...\n",
      "Day Number: 4 and Medicine Number: 1...\n",
      "Day Number: 4 and Medicine Number: 2...\n",
      "Day Number: 4 and Medicine Number: 3...\n",
      "Good Night...\n",
      "--------------------------------------------\n",
      "Good Morning...\n",
      "Day Number: 5 and Medicine Number: 1...\n",
      "Day Number: 5 and Medicine Number: 2...\n",
      "Day Number: 5 and Medicine Number: 3...\n",
      "Good Night...\n",
      "--------------------------------------------\n",
      "So the total number of medicine consumed is 15...\n",
      "Thanks to Doctor...\n"
     ]
    }
   ],
   "source": [
    "# nested for-loops\n",
    "print (\"Visit Doctor...\")    # 1 time\n",
    "medi_count = 0\n",
    "for day in range(1, 6):\n",
    "    print (\"Good Morning...\")    # 5 times\n",
    "    for medi in range(1, 4):\n",
    "        print (f\"Day Number: {day} and Medicine Number: {medi}...\")    # 15 times\n",
    "        medi_count += 1\n",
    "    print (\"Good Night...\")    # 5 times\n",
    "    print (\"--------------------------------------------\")    # 5 times\n",
    "print (f\"So the total number of medicine consumed is {medi_count}...\")\n",
    "print (\"Thanks to Doctor...\")    # 1 time"
   ]
  },
  {
   "cell_type": "code",
   "execution_count": 25,
   "id": "dfa994fd-6bdd-4d45-870e-cb625d6a6f9d",
   "metadata": {},
   "outputs": [
    {
     "name": "stdout",
     "output_type": "stream",
     "text": [
      "Visit Doctor...\n",
      "Good Morning...\n",
      "Day Number: 1 and Medicine Number: 1...\n",
      "Day Number: 1 and Medicine Number: 2...\n",
      "Day Number: 1 and Medicine Number: 3...\n",
      "Good Night...\n",
      "--------------------------------------------\n",
      "Good Morning...\n",
      "Day Number: 2 and Medicine Number: 1...\n",
      "Day Number: 2 and Medicine Number: 2...\n",
      "Day Number: 2 and Medicine Number: 3...\n",
      "Good Night...\n",
      "--------------------------------------------\n",
      "Good Morning...\n",
      "Day Number: 3 and Medicine Number: 1...\n",
      "Day Number: 3 and Medicine Number: 2...\n",
      "Day Number: 3 and Medicine Number: 3...\n",
      "Good Night...\n",
      "--------------------------------------------\n",
      "Good Morning...\n",
      "Day Number: 4 and Medicine Number: 1...\n",
      "Day Number: 4 and Medicine Number: 2...\n",
      "Day Number: 4 and Medicine Number: 3...\n",
      "Good Night...\n",
      "--------------------------------------------\n",
      "Good Morning...\n",
      "Day Number: 5 and Medicine Number: 1...\n",
      "Day Number: 5 and Medicine Number: 2...\n",
      "Day Number: 5 and Medicine Number: 3...\n",
      "Good Night...\n",
      "--------------------------------------------\n",
      "So the total number of medicine consumed is 15...\n",
      "Thanks to Doctor...\n"
     ]
    }
   ],
   "source": [
    "# nested loops\n",
    "print (\"Visit Doctor...\")    # 1 time\n",
    "medi_count = 0\n",
    "for day in range(1, 6):\n",
    "    print (\"Good Morning...\")    # 5 times\n",
    "    medi = 1\n",
    "    while (medi <= 3):\n",
    "        print (f\"Day Number: {day} and Medicine Number: {medi}...\")    # 15 times\n",
    "        medi_count += 1\n",
    "        medi += 1\n",
    "    print (\"Good Night...\")    # 5 times\n",
    "    print (\"--------------------------------------------\")    # 5 times\n",
    "print (f\"So the total number of medicine consumed is {medi_count}...\")\n",
    "print (\"Thanks to Doctor...\")    # 1 time"
   ]
  },
  {
   "cell_type": "code",
   "execution_count": 27,
   "id": "0bf1ef14-5191-4c14-a520-e7864096a922",
   "metadata": {},
   "outputs": [
    {
     "name": "stdout",
     "output_type": "stream",
     "text": [
      "Hello Hello Hello Hello Hello \n",
      "Welcome Welcome Welcome Welcome Welcome Welcome Welcome \n",
      "Welcome to all\n"
     ]
    }
   ],
   "source": [
    "print (\"Hello \" * 5)\n",
    "print (\"Welcome \" * 7)\n",
    "print (\"Welcome\" + \" to all\")"
   ]
  },
  {
   "cell_type": "code",
   "execution_count": null,
   "id": "7ca4a906-8405-4c80-8505-e09e22984415",
   "metadata": {},
   "outputs": [],
   "source": [
    "n = 6\n",
    "                i   .   *\n",
    "              -------------\n",
    ".....*          1   5   1       (i, n)\n",
    "....***         2   4   3  . => (n - i)\n",
    "...*****        3   3   5\n",
    "..*******       4   2   7  * => (2 * i - 1)\n",
    ".*********      5   1   9\n",
    "***********     6   0  11\n",
    "              -------------\n",
    "              Tracing table"
   ]
  },
  {
   "cell_type": "code",
   "execution_count": 30,
   "id": "3c06dc93-2e87-4535-9283-78daea9a5647",
   "metadata": {},
   "outputs": [
    {
     "name": "stdin",
     "output_type": "stream",
     "text": [
      "Please enter the number of layers:  8\n"
     ]
    },
    {
     "name": "stdout",
     "output_type": "stream",
     "text": [
      ".......*\n",
      "......***\n",
      ".....*****\n",
      "....*******\n",
      "...*********\n",
      "..***********\n",
      ".*************\n",
      "***************\n",
      "End of the program...\n"
     ]
    }
   ],
   "source": [
    "n = int(input(\"Please enter the number of layers: \"))\n",
    "for i in range(1, n + 1):\n",
    "    print (\".\" * (n - i) + \"*\" * (2 * i - 1))\n",
    "print (\"End of the program...\")"
   ]
  },
  {
   "cell_type": "code",
   "execution_count": null,
   "id": "f047c2b5-7797-4a2a-99d4-9cef8f549248",
   "metadata": {},
   "outputs": [],
   "source": [
    "n = 6\n",
    "                i   .   *\n",
    "              -------------\n",
    "***********     1   0  11       (i, n)\n",
    ".*********      2   1   9  . => (i - 1)\n",
    "..*******       3   2   7\n",
    "...*****        4   3   5  * => (2 * (n - i) + 1)\n",
    "....***         5   4   3\n",
    ".....*          6   5   1\n",
    "              -------------"
   ]
  },
  {
   "cell_type": "code",
   "execution_count": 32,
   "id": "10d97468-5f50-42c8-bcfd-0830ece2355e",
   "metadata": {},
   "outputs": [
    {
     "name": "stdin",
     "output_type": "stream",
     "text": [
      "Please enter the number of layers:  6\n"
     ]
    },
    {
     "name": "stdout",
     "output_type": "stream",
     "text": [
      "***********\n",
      ".*********\n",
      "..*******\n",
      "...*****\n",
      "....***\n",
      ".....*\n",
      "End of the program...\n"
     ]
    }
   ],
   "source": [
    "n = int(input(\"Please enter the number of layers: \"))\n",
    "for i in range(1, n + 1):\n",
    "    print (\".\" * (i - 1) + \"*\" * (2 * (n - i) + 1))\n",
    "print (\"End of the program...\")"
   ]
  },
  {
   "cell_type": "code",
   "execution_count": null,
   "id": "c8ea698f-8b7d-4b4a-a250-6d20deb7ae28",
   "metadata": {},
   "outputs": [],
   "source": [
    "n = 11 (ODD Number of layers)   m = (n + 1) // 2 = 6\n",
    "                i   .   *\n",
    "              -------------\n",
    ".....*          1   5   1       (i, n, m)\n",
    "....***         2   4   3  . => (m - i)\n",
    "...*****        3   3   5\n",
    "..*******       4   2   7  * => (2 * i - 1)\n",
    ".*********      5   1   9\n",
    "***********   __6___0__11__\n",
    ".*********      7   1   9\n",
    "..*******       8   2   7  . => (i - m)\n",
    "...*****        9   3   5\n",
    "....***        10   4   3  * => (2 * (n - i) + 1)\n",
    ".....*         11   5   1\n",
    "              -------------"
   ]
  },
  {
   "cell_type": "code",
   "execution_count": 39,
   "id": "42dd663a-7949-4e8f-86f4-da53357f3ada",
   "metadata": {},
   "outputs": [
    {
     "name": "stdin",
     "output_type": "stream",
     "text": [
      "Please enter the ODD number of layers:  12\n",
      "Please enter the ODD number of layers:  20\n",
      "Please enter the ODD number of layers:  24\n",
      "Please enter the ODD number of layers:  11\n"
     ]
    },
    {
     "name": "stdout",
     "output_type": "stream",
     "text": [
      ".....*\n",
      "....***\n",
      "...*****\n",
      "..*******\n",
      ".*********\n",
      "***********\n",
      ".*********\n",
      "..*******\n",
      "...*****\n",
      "....***\n",
      ".....*\n",
      "End of the program...\n"
     ]
    }
   ],
   "source": [
    "while (True):\n",
    "    n = int(input(\"Please enter the ODD number of layers: \"))\n",
    "    if (n % 2 == 1): break\n",
    "m = (n + 1) // 2\n",
    "for i in range(1, n + 1):\n",
    "    if (i > m):\n",
    "        print (\".\" * (i - m) + \"*\" * (2 * (n - i) + 1))\n",
    "    else:\n",
    "        print (\".\" * (m - i) + \"*\" * (2 * i - 1))\n",
    "print (\"End of the program...\")"
   ]
  },
  {
   "cell_type": "code",
   "execution_count": null,
   "id": "a8ad03ef-5c1f-483b-97df-ec2091a29be1",
   "metadata": {},
   "outputs": [],
   "source": [
    "# Home Work\n",
    "n = 11 (ODD Number of layers)   m = (n + 1) // 2 = 6\n",
    "                i   .   *\n",
    "              -------------\n",
    "***********     1   0  11       (i, n, m)\n",
    ".*********      2   1   9  . => (i - 1)\n",
    "..*******       3   2   7\n",
    "...*****        4   3   5  * => (2 * (m - i) + 1)\n",
    "....***         5   4   3\n",
    ".....*        __6___5___1__\n",
    "....***         7   4   3\n",
    "...*****        8   3   5  . => (n - i)\n",
    "..*******       9   2   7\n",
    ".*********     10   1   9  * => (2 * (i - m) + 1)\n",
    "***********    11   0  11\n",
    "              -------------\n",
    "TASK: Update tracing table get the logic and implement"
   ]
  },
  {
   "cell_type": "code",
   "execution_count": 3,
   "id": "f0cba339-74d2-4b47-ade0-18162e581754",
   "metadata": {},
   "outputs": [
    {
     "name": "stdin",
     "output_type": "stream",
     "text": [
      "Please enter the ODD number of layers:  10\n",
      "Please enter the ODD number of layers:  4\n",
      "Please enter the ODD number of layers:  18\n",
      "Please enter the ODD number of layers:  11\n"
     ]
    },
    {
     "name": "stdout",
     "output_type": "stream",
     "text": [
      "***********\n",
      ".*********\n",
      "..*******\n",
      "...*****\n",
      "....***\n",
      ".....*\n",
      "....***\n",
      "...*****\n",
      "..*******\n",
      ".*********\n",
      "***********\n",
      "End of the program...\n"
     ]
    }
   ],
   "source": [
    "while (True):\n",
    "    n = int(input(\"Please enter the ODD number of layers: \"))\n",
    "    if (n % 2 == 1): break\n",
    "m = (n + 1) // 2\n",
    "for i in range(1, n + 1):\n",
    "    if (i > m):\n",
    "        print (\".\" * (n - i) + \"*\" * (2 * (i - m) + 1))\n",
    "    else:\n",
    "        print (\".\" * (i - 1) + \"*\" * (2 * (m - i) + 1))\n",
    "print (\"End of the program...\")"
   ]
  },
  {
   "cell_type": "markdown",
   "id": "33655492-f5fc-42af-adc7-d5bf3cf28ef7",
   "metadata": {},
   "source": [
    "### Importing Modules"
   ]
  },
  {
   "cell_type": "code",
   "execution_count": 4,
   "id": "8990c188-9fe0-4e6b-90f8-d31fda5b09c8",
   "metadata": {},
   "outputs": [],
   "source": [
    "# importing math module\n",
    "import math"
   ]
  },
  {
   "cell_type": "code",
   "execution_count": 22,
   "id": "f1e15265-3af5-4b64-9ada-8daec337d650",
   "metadata": {},
   "outputs": [
    {
     "name": "stdout",
     "output_type": "stream",
     "text": [
      "0.0 1.0 0.0 0.0 0.0\n",
      "120 24\n",
      "20 25\n",
      "11 11 10 10\n"
     ]
    }
   ],
   "source": [
    "print (math.sin(0), math.cos(0), math.tan(0), math.sinh(0), math.asin(0))\n",
    "print (math.factorial(5), math.factorial(4))\n",
    "print (math.gcd(100, 40), math.gcd(100, 75))\n",
    "print (math.ceil(10.1), math.ceil(10.9), math.floor(10.1), math.floor(10))"
   ]
  },
  {
   "cell_type": "code",
   "execution_count": 26,
   "id": "ebbba42a-15b8-4a5f-82bc-e84e6b9f82f0",
   "metadata": {},
   "outputs": [
    {
     "name": "stdout",
     "output_type": "stream",
     "text": [
      "3.141592653589793 2.718281828459045 6.283185307179586\n",
      "6.907755278982137 6.907755278982137 2.9999999999999996 3.0 1.0\n",
      "10.0 10.0\n"
     ]
    }
   ],
   "source": [
    "print (math.pi, math.e, math.tau)\n",
    "print (math.log(1000), math.log(1000, math.e), math.log(1000, 10), math.log10(1000), math.log10(10))\n",
    "print (math.log(1024, 2), math.log2(1024))"
   ]
  },
  {
   "cell_type": "code",
   "execution_count": 25,
   "id": "65693ed5-297c-462c-84fc-aae2fb73d6be",
   "metadata": {},
   "outputs": [
    {
     "name": "stdout",
     "output_type": "stream",
     "text": [
      "G.C.D 5\n",
      "L.C.M 2200.0\n"
     ]
    }
   ],
   "source": [
    "num1 = 200\n",
    "num2 = 55\n",
    "print (\"G.C.D\", math.gcd(num1, num2))\n",
    "print (\"L.C.M\", (num1 * num2) / math.gcd(num1, num2))"
   ]
  },
  {
   "cell_type": "code",
   "execution_count": 31,
   "id": "49574f18-3781-43e8-abbd-ab12e2b50dc6",
   "metadata": {},
   "outputs": [
    {
     "name": "stdout",
     "output_type": "stream",
     "text": [
      "10000.0 10000 10000.0\n",
      "100.0 100.0\n"
     ]
    }
   ],
   "source": [
    "print (math.pow(100, 2), 100 ** 2, 100.0 ** 2)\n",
    "print (math.sqrt(10000), 10000 ** 0.5)"
   ]
  },
  {
   "cell_type": "code",
   "execution_count": 32,
   "id": "d042d977-69c8-41e8-9e46-88ba0d08158c",
   "metadata": {},
   "outputs": [
    {
     "name": "stdout",
     "output_type": "stream",
     "text": [
      "Help on built-in module math:\n",
      "\n",
      "NAME\n",
      "    math\n",
      "\n",
      "DESCRIPTION\n",
      "    This module provides access to the mathematical functions\n",
      "    defined by the C standard.\n",
      "\n",
      "FUNCTIONS\n",
      "    acos(x, /)\n",
      "        Return the arc cosine (measured in radians) of x.\n",
      "    \n",
      "    acosh(x, /)\n",
      "        Return the inverse hyperbolic cosine of x.\n",
      "    \n",
      "    asin(x, /)\n",
      "        Return the arc sine (measured in radians) of x.\n",
      "    \n",
      "    asinh(x, /)\n",
      "        Return the inverse hyperbolic sine of x.\n",
      "    \n",
      "    atan(x, /)\n",
      "        Return the arc tangent (measured in radians) of x.\n",
      "    \n",
      "    atan2(y, x, /)\n",
      "        Return the arc tangent (measured in radians) of y/x.\n",
      "        \n",
      "        Unlike atan(y/x), the signs of both x and y are considered.\n",
      "    \n",
      "    atanh(x, /)\n",
      "        Return the inverse hyperbolic tangent of x.\n",
      "    \n",
      "    ceil(x, /)\n",
      "        Return the ceiling of x as an Integral.\n",
      "        \n",
      "        This is the smallest integer >= x.\n",
      "    \n",
      "    comb(n, k, /)\n",
      "        Number of ways to choose k items from n items without repetition and without order.\n",
      "        \n",
      "        Evaluates to n! / (k! * (n - k)!) when k <= n and evaluates\n",
      "        to zero when k > n.\n",
      "        \n",
      "        Also called the binomial coefficient because it is equivalent\n",
      "        to the coefficient of k-th term in polynomial expansion of the\n",
      "        expression (1 + x)**n.\n",
      "        \n",
      "        Raises TypeError if either of the arguments are not integers.\n",
      "        Raises ValueError if either of the arguments are negative.\n",
      "    \n",
      "    copysign(x, y, /)\n",
      "        Return a float with the magnitude (absolute value) of x but the sign of y.\n",
      "        \n",
      "        On platforms that support signed zeros, copysign(1.0, -0.0)\n",
      "        returns -1.0.\n",
      "    \n",
      "    cos(x, /)\n",
      "        Return the cosine of x (measured in radians).\n",
      "    \n",
      "    cosh(x, /)\n",
      "        Return the hyperbolic cosine of x.\n",
      "    \n",
      "    degrees(x, /)\n",
      "        Convert angle x from radians to degrees.\n",
      "    \n",
      "    dist(p, q, /)\n",
      "        Return the Euclidean distance between two points p and q.\n",
      "        \n",
      "        The points should be specified as sequences (or iterables) of\n",
      "        coordinates.  Both inputs must have the same dimension.\n",
      "        \n",
      "        Roughly equivalent to:\n",
      "            sqrt(sum((px - qx) ** 2.0 for px, qx in zip(p, q)))\n",
      "    \n",
      "    erf(x, /)\n",
      "        Error function at x.\n",
      "    \n",
      "    erfc(x, /)\n",
      "        Complementary error function at x.\n",
      "    \n",
      "    exp(x, /)\n",
      "        Return e raised to the power of x.\n",
      "    \n",
      "    expm1(x, /)\n",
      "        Return exp(x)-1.\n",
      "        \n",
      "        This function avoids the loss of precision involved in the direct evaluation of exp(x)-1 for small x.\n",
      "    \n",
      "    fabs(x, /)\n",
      "        Return the absolute value of the float x.\n",
      "    \n",
      "    factorial(x, /)\n",
      "        Find x!.\n",
      "        \n",
      "        Raise a ValueError if x is negative or non-integral.\n",
      "    \n",
      "    floor(x, /)\n",
      "        Return the floor of x as an Integral.\n",
      "        \n",
      "        This is the largest integer <= x.\n",
      "    \n",
      "    fmod(x, y, /)\n",
      "        Return fmod(x, y), according to platform C.\n",
      "        \n",
      "        x % y may differ.\n",
      "    \n",
      "    frexp(x, /)\n",
      "        Return the mantissa and exponent of x, as pair (m, e).\n",
      "        \n",
      "        m is a float and e is an int, such that x = m * 2.**e.\n",
      "        If x is 0, m and e are both 0.  Else 0.5 <= abs(m) < 1.0.\n",
      "    \n",
      "    fsum(seq, /)\n",
      "        Return an accurate floating point sum of values in the iterable seq.\n",
      "        \n",
      "        Assumes IEEE-754 floating point arithmetic.\n",
      "    \n",
      "    gamma(x, /)\n",
      "        Gamma function at x.\n",
      "    \n",
      "    gcd(x, y, /)\n",
      "        greatest common divisor of x and y\n",
      "    \n",
      "    hypot(...)\n",
      "        hypot(*coordinates) -> value\n",
      "        \n",
      "        Multidimensional Euclidean distance from the origin to a point.\n",
      "        \n",
      "        Roughly equivalent to:\n",
      "            sqrt(sum(x**2 for x in coordinates))\n",
      "        \n",
      "        For a two dimensional point (x, y), gives the hypotenuse\n",
      "        using the Pythagorean theorem:  sqrt(x*x + y*y).\n",
      "        \n",
      "        For example, the hypotenuse of a 3/4/5 right triangle is:\n",
      "        \n",
      "            >>> hypot(3.0, 4.0)\n",
      "            5.0\n",
      "    \n",
      "    isclose(a, b, *, rel_tol=1e-09, abs_tol=0.0)\n",
      "        Determine whether two floating point numbers are close in value.\n",
      "        \n",
      "          rel_tol\n",
      "            maximum difference for being considered \"close\", relative to the\n",
      "            magnitude of the input values\n",
      "          abs_tol\n",
      "            maximum difference for being considered \"close\", regardless of the\n",
      "            magnitude of the input values\n",
      "        \n",
      "        Return True if a is close in value to b, and False otherwise.\n",
      "        \n",
      "        For the values to be considered close, the difference between them\n",
      "        must be smaller than at least one of the tolerances.\n",
      "        \n",
      "        -inf, inf and NaN behave similarly to the IEEE 754 Standard.  That\n",
      "        is, NaN is not close to anything, even itself.  inf and -inf are\n",
      "        only close to themselves.\n",
      "    \n",
      "    isfinite(x, /)\n",
      "        Return True if x is neither an infinity nor a NaN, and False otherwise.\n",
      "    \n",
      "    isinf(x, /)\n",
      "        Return True if x is a positive or negative infinity, and False otherwise.\n",
      "    \n",
      "    isnan(x, /)\n",
      "        Return True if x is a NaN (not a number), and False otherwise.\n",
      "    \n",
      "    isqrt(n, /)\n",
      "        Return the integer part of the square root of the input.\n",
      "    \n",
      "    ldexp(x, i, /)\n",
      "        Return x * (2**i).\n",
      "        \n",
      "        This is essentially the inverse of frexp().\n",
      "    \n",
      "    lgamma(x, /)\n",
      "        Natural logarithm of absolute value of Gamma function at x.\n",
      "    \n",
      "    log(...)\n",
      "        log(x, [base=math.e])\n",
      "        Return the logarithm of x to the given base.\n",
      "        \n",
      "        If the base not specified, returns the natural logarithm (base e) of x.\n",
      "    \n",
      "    log10(x, /)\n",
      "        Return the base 10 logarithm of x.\n",
      "    \n",
      "    log1p(x, /)\n",
      "        Return the natural logarithm of 1+x (base e).\n",
      "        \n",
      "        The result is computed in a way which is accurate for x near zero.\n",
      "    \n",
      "    log2(x, /)\n",
      "        Return the base 2 logarithm of x.\n",
      "    \n",
      "    modf(x, /)\n",
      "        Return the fractional and integer parts of x.\n",
      "        \n",
      "        Both results carry the sign of x and are floats.\n",
      "    \n",
      "    perm(n, k=None, /)\n",
      "        Number of ways to choose k items from n items without repetition and with order.\n",
      "        \n",
      "        Evaluates to n! / (n - k)! when k <= n and evaluates\n",
      "        to zero when k > n.\n",
      "        \n",
      "        If k is not specified or is None, then k defaults to n\n",
      "        and the function returns n!.\n",
      "        \n",
      "        Raises TypeError if either of the arguments are not integers.\n",
      "        Raises ValueError if either of the arguments are negative.\n",
      "    \n",
      "    pow(x, y, /)\n",
      "        Return x**y (x to the power of y).\n",
      "    \n",
      "    prod(iterable, /, *, start=1)\n",
      "        Calculate the product of all the elements in the input iterable.\n",
      "        \n",
      "        The default start value for the product is 1.\n",
      "        \n",
      "        When the iterable is empty, return the start value.  This function is\n",
      "        intended specifically for use with numeric values and may reject\n",
      "        non-numeric types.\n",
      "    \n",
      "    radians(x, /)\n",
      "        Convert angle x from degrees to radians.\n",
      "    \n",
      "    remainder(x, y, /)\n",
      "        Difference between x and the closest integer multiple of y.\n",
      "        \n",
      "        Return x - n*y where n*y is the closest integer multiple of y.\n",
      "        In the case where x is exactly halfway between two multiples of\n",
      "        y, the nearest even value of n is used. The result is always exact.\n",
      "    \n",
      "    sin(x, /)\n",
      "        Return the sine of x (measured in radians).\n",
      "    \n",
      "    sinh(x, /)\n",
      "        Return the hyperbolic sine of x.\n",
      "    \n",
      "    sqrt(x, /)\n",
      "        Return the square root of x.\n",
      "    \n",
      "    tan(x, /)\n",
      "        Return the tangent of x (measured in radians).\n",
      "    \n",
      "    tanh(x, /)\n",
      "        Return the hyperbolic tangent of x.\n",
      "    \n",
      "    trunc(x, /)\n",
      "        Truncates the Real x to the nearest Integral toward 0.\n",
      "        \n",
      "        Uses the __trunc__ magic method.\n",
      "\n",
      "DATA\n",
      "    e = 2.718281828459045\n",
      "    inf = inf\n",
      "    nan = nan\n",
      "    pi = 3.141592653589793\n",
      "    tau = 6.283185307179586\n",
      "\n",
      "FILE\n",
      "    (built-in)\n",
      "\n",
      "\n"
     ]
    }
   ],
   "source": [
    "help(math)"
   ]
  },
  {
   "cell_type": "code",
   "execution_count": 34,
   "id": "292410e8-0620-4d24-81e5-1ba6611fd329",
   "metadata": {},
   "outputs": [
    {
     "name": "stdout",
     "output_type": "stream",
     "text": [
      "Help on built-in function pow in module math:\n",
      "\n",
      "pow(x, y, /)\n",
      "    Return x**y (x to the power of y).\n",
      "\n"
     ]
    }
   ],
   "source": [
    "help(math.pow)"
   ]
  },
  {
   "cell_type": "markdown",
   "id": "a3183732-9d87-4081-a044-c62fac808d0c",
   "metadata": {},
   "source": [
    "### String Processing"
   ]
  },
  {
   "cell_type": "code",
   "execution_count": null,
   "id": "80ab9f24-a779-4386-a809-8d981c2e0960",
   "metadata": {},
   "outputs": [],
   "source": [
    "left to right ->   0   1   2   3   4   5   6   7   8   9\n",
    "mystr =            u   n   i   v   e   r   s   i   t   y\n",
    "right to left -> -10  -9  -8  -7  -6  -5  -4  -3  -2  -1 "
   ]
  },
  {
   "cell_type": "code",
   "execution_count": 13,
   "id": "4dc203e1-9563-4641-b206-149059336cfd",
   "metadata": {},
   "outputs": [
    {
     "name": "stdout",
     "output_type": "stream",
     "text": [
      "university 10 <class 'str'> 2985225540848\n",
      "r r i i t t\n",
      "univer univer univer univer\n",
      "sity sity\n",
      "ver ver ver ver\n",
      "uiest nvriy ytisrevinu\n"
     ]
    }
   ],
   "source": [
    "mystr = \"university\"\n",
    "print (mystr, len(mystr), type(mystr), id(mystr))\n",
    "print (mystr[5], mystr[-5], mystr[2], mystr[-8], mystr[8], mystr[-2])  # indexing\n",
    "print (mystr[:6], mystr[0:6], mystr[:-4], mystr[0:-4])   # slicing\n",
    "print (mystr[6:], mystr[-4:])\n",
    "print (mystr[3:6], mystr[-7:-4], mystr[3:-4], mystr[-7:6])\n",
    "print (mystr[::2], mystr[1::2], mystr[::-1])"
   ]
  },
  {
   "cell_type": "code",
   "execution_count": 20,
   "id": "22596152-a3d2-4371-872a-39d7de2e9566",
   "metadata": {},
   "outputs": [
    {
     "name": "stdout",
     "output_type": "stream",
     "text": [
      "calCuTTA uniVERsiTY 19 <class 'str'> 2985231768432\n",
      "CALCUTTA UNIVERSITY\n",
      "calcutta university\n",
      "Calcutta university\n",
      "Calcutta University\n",
      "CALcUtta UNIverSIty\n",
      "          calCuTTA uniVERsiTY           \n"
     ]
    }
   ],
   "source": [
    "mystr = \"calCuTTA uniVERsiTY\"\n",
    "print (mystr, len(mystr), type(mystr), id(mystr))\n",
    "print (mystr.upper())\n",
    "print (mystr.lower())\n",
    "print (mystr.capitalize())\n",
    "print (mystr.title())\n",
    "print (mystr.swapcase())\n",
    "print (mystr.center(40))"
   ]
  },
  {
   "cell_type": "code",
   "execution_count": 22,
   "id": "b3caf1a6-0122-4601-b210-1a880fa96ea6",
   "metadata": {},
   "outputs": [
    {
     "name": "stdout",
     "output_type": "stream",
     "text": [
      "calcutta university\n",
      "CALCUTTA UNIVERSITY\n"
     ]
    }
   ],
   "source": [
    "# string concatenation\n",
    "mystr = \"university\"\n",
    "myvar = \"calcutta\"\n",
    "result = myvar + \" \" + mystr\n",
    "print (result)\n",
    "result = result.upper()\n",
    "print (result)"
   ]
  },
  {
   "cell_type": "code",
   "execution_count": 26,
   "id": "78d2cf8e-91a1-407d-8f1f-1f0de6332c12",
   "metadata": {},
   "outputs": [
    {
     "name": "stdout",
     "output_type": "stream",
     "text": [
      "    calcutta     university      32\n",
      "calcutta     university 23\n",
      "calcutta     university      28\n",
      "    calcutta     university 27\n"
     ]
    }
   ],
   "source": [
    "mystr = \"    calcutta     university     \"\n",
    "print (mystr, len(mystr))\n",
    "print (mystr.strip(), len(mystr.strip()))\n",
    "print (mystr.lstrip(), len(mystr.lstrip()))\n",
    "print (mystr.rstrip(), len(mystr.rstrip()))"
   ]
  },
  {
   "cell_type": "code",
   "execution_count": 27,
   "id": "717ce6a7-184d-4fe4-8a02-9cf6b8e60c3f",
   "metadata": {},
   "outputs": [
    {
     "name": "stdout",
     "output_type": "stream",
     "text": [
      "#@#@calcutta     university##@@@ 32\n",
      "calcutta     university 23\n",
      "calcutta     university##@@@ 28\n",
      "#@#@calcutta     university 27\n"
     ]
    }
   ],
   "source": [
    "mystr = \"#@#@calcutta     university##@@@\"\n",
    "print (mystr, len(mystr))\n",
    "print (mystr.strip(\"@#\"), len(mystr.strip(\"@#\")))\n",
    "print (mystr.lstrip(\"@#\"), len(mystr.lstrip(\"@#\")))\n",
    "print (mystr.rstrip(\"@#\"), len(mystr.rstrip(\"@#\")))"
   ]
  },
  {
   "cell_type": "code",
   "execution_count": null,
   "id": "aded0ed1-4467-48a7-8695-53eb0f670d2c",
   "metadata": {},
   "outputs": [],
   "source": [
    "# ASCII (American Standard Code for Information Interchange) Codes\n",
    "\n",
    "# ASCII Code is 8 bits code ranging from 0 to 255\n",
    "# It can be divided into two categories:\n",
    "# 1. Normal ASCII Codes (0 to 127) - Printable\n",
    "# 2. Extended ASCII Codes (128 to 255) - Non-Printable\n",
    "\n",
    "# A => 65, B => 66, Z => 90\n",
    "# a => 97, b => 98, z => 122\n",
    "# 0 => 48, 1 => 49, 9 => 57\n",
    "# Space Bar/Blank => 32, Enter => 13, Esc => 27, Back Space => 9, Tab => 8"
   ]
  },
  {
   "cell_type": "code",
   "execution_count": 28,
   "id": "fa8aa6d6-15a6-46ce-9338-467eaa9313ea",
   "metadata": {},
   "outputs": [
    {
     "name": "stdout",
     "output_type": "stream",
     "text": [
      "65 97 90 122\n",
      "A a Z z\n"
     ]
    }
   ],
   "source": [
    "print (ord('A'), ord('a'), ord('Z'), ord('z'))  # converts characters to ASCII Codes\n",
    "print (chr(65), chr(97), chr(90), chr(122))     # converts ASCII Codes to characters"
   ]
  },
  {
   "cell_type": "code",
   "execution_count": 32,
   "id": "b7e9a12e-bd9b-48dd-82cd-a7c5baa23922",
   "metadata": {},
   "outputs": [
    {
     "name": "stdout",
     "output_type": "stream",
     "text": [
      "1234 False True True\n",
      "abcd True True False\n",
      "1234abcd False True False\n",
      "1234@abcd False False False\n"
     ]
    }
   ],
   "source": [
    "mystr= \"1234\"\n",
    "print (mystr, mystr.isalpha(), mystr.isalnum(), mystr.isnumeric())\n",
    "mystr= \"abcd\"\n",
    "print (mystr, mystr.isalpha(), mystr.isalnum(), mystr.isnumeric())\n",
    "mystr= \"1234abcd\"\n",
    "print (mystr, mystr.isalpha(), mystr.isalnum(), mystr.isnumeric())\n",
    "mystr= \"1234@abcd\"\n",
    "print (mystr, mystr.isalpha(), mystr.isalnum(), mystr.isnumeric())"
   ]
  },
  {
   "cell_type": "code",
   "execution_count": 33,
   "id": "d2b4d3fe-cde0-4102-b6fe-d408a1ebea60",
   "metadata": {},
   "outputs": [
    {
     "name": "stdout",
     "output_type": "stream",
     "text": [
      "m\n",
      "a\n",
      "d\n",
      "a\n",
      "m\n"
     ]
    }
   ],
   "source": [
    "mystr = \"madam\"\n",
    "for ch in mystr:\n",
    "    print (ch)"
   ]
  },
  {
   "cell_type": "code",
   "execution_count": 34,
   "id": "120b7ab0-8fdb-4d8f-9be5-66bc93f644fb",
   "metadata": {},
   "outputs": [
    {
     "name": "stdout",
     "output_type": "stream",
     "text": [
      "m\n",
      "a\n",
      "d\n",
      "a\n",
      "m\n"
     ]
    }
   ],
   "source": [
    "mystr = \"madam\"\n",
    "for i in range(len(mystr)):\n",
    "    print (mystr[i])"
   ]
  },
  {
   "cell_type": "code",
   "execution_count": 38,
   "id": "70b39165-ce24-42a2-8ecd-302d37560481",
   "metadata": {},
   "outputs": [
    {
     "name": "stdout",
     "output_type": "stream",
     "text": [
      "good morning\n",
      "good night\n",
      "good morning\n",
      "good morning\n",
      "good morning\n"
     ]
    }
   ],
   "source": [
    "mystr = \"good morning\"\n",
    "print (mystr)\n",
    "print (mystr.replace(\"morning\", \"night\"))\n",
    "print (mystr)\n",
    "print (mystr.replace(\"Morning\", \"night\"))\n",
    "print (mystr.replace(\"evening\", \"night\"))"
   ]
  },
  {
   "cell_type": "code",
   "execution_count": 45,
   "id": "f967179b-a208-40e5-a53f-f312a14a6275",
   "metadata": {},
   "outputs": [
    {
     "name": "stdout",
     "output_type": "stream",
     "text": [
      "6\n",
      "6\n",
      "6\n",
      "-1\n"
     ]
    }
   ],
   "source": [
    "mystr = \"good morning to you\"\n",
    "print (mystr.find(\"or\"))\n",
    "print (mystr.find(\"or\", 5))\n",
    "print (mystr.find(\"or\", 5, 8))\n",
    "print (mystr.find(\"or\", 3, 7))"
   ]
  },
  {
   "cell_type": "code",
   "execution_count": 46,
   "id": "00c3de80-59d4-49e3-944a-ec7b069ebd9a",
   "metadata": {},
   "outputs": [
    {
     "name": "stdout",
     "output_type": "stream",
     "text": [
      "6\n",
      "6\n",
      "6\n"
     ]
    },
    {
     "ename": "ValueError",
     "evalue": "substring not found",
     "output_type": "error",
     "traceback": [
      "\u001b[1;31m---------------------------------------------------------------------------\u001b[0m",
      "\u001b[1;31mValueError\u001b[0m                                Traceback (most recent call last)",
      "\u001b[1;32m<ipython-input-46-6d9823f10dd4>\u001b[0m in \u001b[0;36m<module>\u001b[1;34m\u001b[0m\n\u001b[0;32m      3\u001b[0m \u001b[0mprint\u001b[0m \u001b[1;33m(\u001b[0m\u001b[0mmystr\u001b[0m\u001b[1;33m.\u001b[0m\u001b[0mindex\u001b[0m\u001b[1;33m(\u001b[0m\u001b[1;34m\"or\"\u001b[0m\u001b[1;33m,\u001b[0m \u001b[1;36m5\u001b[0m\u001b[1;33m)\u001b[0m\u001b[1;33m)\u001b[0m\u001b[1;33m\u001b[0m\u001b[1;33m\u001b[0m\u001b[0m\n\u001b[0;32m      4\u001b[0m \u001b[0mprint\u001b[0m \u001b[1;33m(\u001b[0m\u001b[0mmystr\u001b[0m\u001b[1;33m.\u001b[0m\u001b[0mindex\u001b[0m\u001b[1;33m(\u001b[0m\u001b[1;34m\"or\"\u001b[0m\u001b[1;33m,\u001b[0m \u001b[1;36m5\u001b[0m\u001b[1;33m,\u001b[0m \u001b[1;36m8\u001b[0m\u001b[1;33m)\u001b[0m\u001b[1;33m)\u001b[0m\u001b[1;33m\u001b[0m\u001b[1;33m\u001b[0m\u001b[0m\n\u001b[1;32m----> 5\u001b[1;33m \u001b[0mprint\u001b[0m \u001b[1;33m(\u001b[0m\u001b[0mmystr\u001b[0m\u001b[1;33m.\u001b[0m\u001b[0mindex\u001b[0m\u001b[1;33m(\u001b[0m\u001b[1;34m\"or\"\u001b[0m\u001b[1;33m,\u001b[0m \u001b[1;36m3\u001b[0m\u001b[1;33m,\u001b[0m \u001b[1;36m7\u001b[0m\u001b[1;33m)\u001b[0m\u001b[1;33m)\u001b[0m\u001b[1;33m\u001b[0m\u001b[1;33m\u001b[0m\u001b[0m\n\u001b[0m",
      "\u001b[1;31mValueError\u001b[0m: substring not found"
     ]
    }
   ],
   "source": [
    "mystr = \"good morning to you\"\n",
    "print (mystr.index(\"or\"))\n",
    "print (mystr.index(\"or\", 5))\n",
    "print (mystr.index(\"or\", 5, 8))\n",
    "print (mystr.index(\"or\", 3, 7))"
   ]
  },
  {
   "cell_type": "code",
   "execution_count": 54,
   "id": "de52973c-4742-47e3-a1ca-998d6fb369c6",
   "metadata": {},
   "outputs": [
    {
     "name": "stdout",
     "output_type": "stream",
     "text": [
      "True\n",
      "False\n",
      "True\n",
      "\n",
      "True\n",
      "False\n",
      "True\n"
     ]
    }
   ],
   "source": [
    "mystr = \"good morning to you\"\n",
    "print (mystr.endswith(\"ou\"))\n",
    "print (mystr.endswith(\"to\"))\n",
    "print (mystr.endswith(\"to\", 5, 15))\n",
    "print ()\n",
    "print (mystr.startswith(\"goo\"))\n",
    "print (mystr.startswith(\"ing\"))\n",
    "print (mystr.startswith(\"ing\", 9, 14))"
   ]
  },
  {
   "cell_type": "code",
   "execution_count": 57,
   "id": "b38dacc7-2f60-4af4-b8a3-51d4d1677281",
   "metadata": {},
   "outputs": [
    {
     "name": "stdout",
     "output_type": "stream",
     "text": [
      "charity begins at home\n",
      "['charity', 'begins', 'at', 'home']\n",
      "['charity', 'begins', 'at', 'home']\n",
      "['char', 'ty beg', 'ns at home']\n"
     ]
    }
   ],
   "source": [
    "mystr = \"charity begins at home\"\n",
    "print (mystr)\n",
    "mylist1 = mystr.split()\n",
    "print (mylist1)\n",
    "mylist1 = mystr.split(\" \")\n",
    "print (mylist1)\n",
    "mylist1 = mystr.split(\"i\")\n",
    "print (mylist1)"
   ]
  },
  {
   "cell_type": "code",
   "execution_count": 61,
   "id": "078dffb4-d156-499d-96c3-4dcb4659a361",
   "metadata": {},
   "outputs": [
    {
     "name": "stdout",
     "output_type": "stream",
     "text": [
      "charity begins at home\n",
      "charity - begins - at - home\n",
      "charity, begins, at, home\n"
     ]
    }
   ],
   "source": [
    "mylist1 = ['charity', 'begins', 'at', 'home']\n",
    "mystr = \" \".join(mylist1)\n",
    "print (mystr)\n",
    "mystr = \" - \".join(mylist1)\n",
    "print (mystr)\n",
    "mystr = \", \".join(mylist1)\n",
    "print (mystr)"
   ]
  },
  {
   "cell_type": "markdown",
   "id": "2e8668f8-8a44-44da-9d89-37b180f0f796",
   "metadata": {},
   "source": [
    "### List Processing"
   ]
  },
  {
   "cell_type": "code",
   "execution_count": 65,
   "id": "45120100-3cbd-4d31-8228-b1755f622d76",
   "metadata": {},
   "outputs": [
    {
     "name": "stdout",
     "output_type": "stream",
     "text": [
      "[100, 400, 200, 700, 800] 5 <class 'list'> 2985231529920\n",
      "100 800\n",
      "2200 440.0\n"
     ]
    }
   ],
   "source": [
    "list1 = [100, 400, 200, 700, 800]\n",
    "print (list1, len(list1), type(list1), id(list1))\n",
    "print (min(list1), max(list1))\n",
    "print (sum(list1), sum(list1) / len(list1))"
   ]
  },
  {
   "cell_type": "code",
   "execution_count": 67,
   "id": "b04772a1-6482-45be-85c8-28a4e80e27b8",
   "metadata": {},
   "outputs": [
    {
     "name": "stdout",
     "output_type": "stream",
     "text": [
      "[100, True, 400, False, 200, 700, 800] 7 <class 'list'> 2985234492544\n",
      "False 800\n",
      "2201 314.42857142857144\n"
     ]
    }
   ],
   "source": [
    "list1 = [100, True, 400, False, 200, 700, 800]\n",
    "print (list1, len(list1), type(list1), id(list1))\n",
    "print (min(list1), max(list1))\n",
    "print (sum(list1), sum(list1) / len(list1))"
   ]
  },
  {
   "cell_type": "code",
   "execution_count": 68,
   "id": "4dcb8017-1da3-44de-9e62-df1e09769ae2",
   "metadata": {},
   "outputs": [
    {
     "name": "stdout",
     "output_type": "stream",
     "text": [
      "[100, True, 400, False, 200.0, 700, 800] 7 <class 'list'> 2985234322496\n",
      "False 800\n",
      "2201.0 314.42857142857144\n"
     ]
    }
   ],
   "source": [
    "list1 = [100, True, 400, False, 200.0, 700, 800]\n",
    "print (list1, len(list1), type(list1), id(list1))\n",
    "print (min(list1), max(list1))\n",
    "print (sum(list1), sum(list1) / len(list1))"
   ]
  },
  {
   "cell_type": "code",
   "execution_count": 77,
   "id": "3b20c5f7-907c-48d9-9cff-924888935cef",
   "metadata": {},
   "outputs": [
    {
     "name": "stdout",
     "output_type": "stream",
     "text": [
      "[100, True, 400, False, 200.0, '700', 800] 7 <class 'list'> 2985232667712\n"
     ]
    },
    {
     "ename": "TypeError",
     "evalue": "'<' not supported between instances of 'str' and 'bool'",
     "output_type": "error",
     "traceback": [
      "\u001b[1;31m---------------------------------------------------------------------------\u001b[0m",
      "\u001b[1;31mTypeError\u001b[0m                                 Traceback (most recent call last)",
      "\u001b[1;32m<ipython-input-77-0359083469cf>\u001b[0m in \u001b[0;36m<module>\u001b[1;34m\u001b[0m\n\u001b[0;32m      1\u001b[0m \u001b[0mlist1\u001b[0m \u001b[1;33m=\u001b[0m \u001b[1;33m[\u001b[0m\u001b[1;36m100\u001b[0m\u001b[1;33m,\u001b[0m \u001b[1;32mTrue\u001b[0m\u001b[1;33m,\u001b[0m \u001b[1;36m400\u001b[0m\u001b[1;33m,\u001b[0m \u001b[1;32mFalse\u001b[0m\u001b[1;33m,\u001b[0m \u001b[1;36m200.0\u001b[0m\u001b[1;33m,\u001b[0m \u001b[1;34m'700'\u001b[0m\u001b[1;33m,\u001b[0m \u001b[1;36m800\u001b[0m\u001b[1;33m]\u001b[0m\u001b[1;33m\u001b[0m\u001b[1;33m\u001b[0m\u001b[0m\n\u001b[0;32m      2\u001b[0m \u001b[0mprint\u001b[0m \u001b[1;33m(\u001b[0m\u001b[0mlist1\u001b[0m\u001b[1;33m,\u001b[0m \u001b[0mlen\u001b[0m\u001b[1;33m(\u001b[0m\u001b[0mlist1\u001b[0m\u001b[1;33m)\u001b[0m\u001b[1;33m,\u001b[0m \u001b[0mtype\u001b[0m\u001b[1;33m(\u001b[0m\u001b[0mlist1\u001b[0m\u001b[1;33m)\u001b[0m\u001b[1;33m,\u001b[0m \u001b[0mid\u001b[0m\u001b[1;33m(\u001b[0m\u001b[0mlist1\u001b[0m\u001b[1;33m)\u001b[0m\u001b[1;33m)\u001b[0m\u001b[1;33m\u001b[0m\u001b[1;33m\u001b[0m\u001b[0m\n\u001b[1;32m----> 3\u001b[1;33m \u001b[0mprint\u001b[0m \u001b[1;33m(\u001b[0m\u001b[0mmin\u001b[0m\u001b[1;33m(\u001b[0m\u001b[0mlist1\u001b[0m\u001b[1;33m)\u001b[0m\u001b[1;33m,\u001b[0m \u001b[0mmax\u001b[0m\u001b[1;33m(\u001b[0m\u001b[0mlist1\u001b[0m\u001b[1;33m)\u001b[0m\u001b[1;33m)\u001b[0m\u001b[1;33m\u001b[0m\u001b[1;33m\u001b[0m\u001b[0m\n\u001b[0m\u001b[0;32m      4\u001b[0m \u001b[0mprint\u001b[0m \u001b[1;33m(\u001b[0m\u001b[0msum\u001b[0m\u001b[1;33m(\u001b[0m\u001b[0mlist1\u001b[0m\u001b[1;33m)\u001b[0m\u001b[1;33m,\u001b[0m \u001b[0msum\u001b[0m\u001b[1;33m(\u001b[0m\u001b[0mlist1\u001b[0m\u001b[1;33m)\u001b[0m \u001b[1;33m/\u001b[0m \u001b[0mlen\u001b[0m\u001b[1;33m(\u001b[0m\u001b[0mlist1\u001b[0m\u001b[1;33m)\u001b[0m\u001b[1;33m)\u001b[0m\u001b[1;33m\u001b[0m\u001b[1;33m\u001b[0m\u001b[0m\n",
      "\u001b[1;31mTypeError\u001b[0m: '<' not supported between instances of 'str' and 'bool'"
     ]
    }
   ],
   "source": [
    "list1 = [100, True, 400, False, 200.0, '700', 800]\n",
    "print (list1, len(list1), type(list1), id(list1))\n",
    "print (min(list1), max(list1))\n",
    "print (sum(list1), sum(list1) / len(list1))"
   ]
  },
  {
   "cell_type": "code",
   "execution_count": 72,
   "id": "44188882-5e68-494b-b1f7-12fc5e8c4d4d",
   "metadata": {},
   "outputs": [
    {
     "name": "stdout",
     "output_type": "stream",
     "text": [
      "['Monday', 'Tuesday', 'saturday', 'Wednesday'] 4 <class 'list'> 2985234520704\n",
      "Monday saturday\n"
     ]
    },
    {
     "ename": "TypeError",
     "evalue": "unsupported operand type(s) for +: 'int' and 'str'",
     "output_type": "error",
     "traceback": [
      "\u001b[1;31m---------------------------------------------------------------------------\u001b[0m",
      "\u001b[1;31mTypeError\u001b[0m                                 Traceback (most recent call last)",
      "\u001b[1;32m<ipython-input-72-159b35a5cbf9>\u001b[0m in \u001b[0;36m<module>\u001b[1;34m\u001b[0m\n\u001b[0;32m      2\u001b[0m \u001b[0mprint\u001b[0m \u001b[1;33m(\u001b[0m\u001b[0mlist1\u001b[0m\u001b[1;33m,\u001b[0m \u001b[0mlen\u001b[0m\u001b[1;33m(\u001b[0m\u001b[0mlist1\u001b[0m\u001b[1;33m)\u001b[0m\u001b[1;33m,\u001b[0m \u001b[0mtype\u001b[0m\u001b[1;33m(\u001b[0m\u001b[0mlist1\u001b[0m\u001b[1;33m)\u001b[0m\u001b[1;33m,\u001b[0m \u001b[0mid\u001b[0m\u001b[1;33m(\u001b[0m\u001b[0mlist1\u001b[0m\u001b[1;33m)\u001b[0m\u001b[1;33m)\u001b[0m\u001b[1;33m\u001b[0m\u001b[1;33m\u001b[0m\u001b[0m\n\u001b[0;32m      3\u001b[0m \u001b[0mprint\u001b[0m \u001b[1;33m(\u001b[0m\u001b[0mmin\u001b[0m\u001b[1;33m(\u001b[0m\u001b[0mlist1\u001b[0m\u001b[1;33m)\u001b[0m\u001b[1;33m,\u001b[0m \u001b[0mmax\u001b[0m\u001b[1;33m(\u001b[0m\u001b[0mlist1\u001b[0m\u001b[1;33m)\u001b[0m\u001b[1;33m)\u001b[0m\u001b[1;33m\u001b[0m\u001b[1;33m\u001b[0m\u001b[0m\n\u001b[1;32m----> 4\u001b[1;33m \u001b[0mprint\u001b[0m \u001b[1;33m(\u001b[0m\u001b[0msum\u001b[0m\u001b[1;33m(\u001b[0m\u001b[0mlist1\u001b[0m\u001b[1;33m)\u001b[0m\u001b[1;33m,\u001b[0m \u001b[0msum\u001b[0m\u001b[1;33m(\u001b[0m\u001b[0mlist1\u001b[0m\u001b[1;33m)\u001b[0m \u001b[1;33m/\u001b[0m \u001b[0mlen\u001b[0m\u001b[1;33m(\u001b[0m\u001b[0mlist1\u001b[0m\u001b[1;33m)\u001b[0m\u001b[1;33m)\u001b[0m\u001b[1;33m\u001b[0m\u001b[1;33m\u001b[0m\u001b[0m\n\u001b[0m",
      "\u001b[1;31mTypeError\u001b[0m: unsupported operand type(s) for +: 'int' and 'str'"
     ]
    }
   ],
   "source": [
    "list1 = [\"Monday\", \"Tuesday\", \"saturday\", \"Wednesday\"]\n",
    "print (list1, len(list1), type(list1), id(list1))\n",
    "print (min(list1), max(list1))\n",
    "print (sum(list1), sum(list1) / len(list1))"
   ]
  },
  {
   "cell_type": "code",
   "execution_count": 85,
   "id": "79df3af4-d924-4876-9bc7-835fc234392b",
   "metadata": {},
   "outputs": [
    {
     "name": "stdout",
     "output_type": "stream",
     "text": [
      "['Monday', 'Tuesday', 'Saturday', 'Wednesday', 'Friday', 'Thursday'] 6 <class 'list'> 2985229465024\n",
      "Wednesday Wednesday Thursday Thursday\n",
      "['Tuesday', 'Saturday', 'Wednesday', 'Friday'] ['Tuesday', 'Saturday', 'Wednesday', 'Friday']\n",
      "['Tuesday', 'Saturday', 'Wednesday', 'Friday'] ['Tuesday', 'Saturday', 'Wednesday', 'Friday']\n",
      "['Monday', 'Tuesday', 'Saturday'] ['Monday', 'Tuesday', 'Saturday']\n",
      "['Wednesday', 'Friday', 'Thursday'] ['Wednesday', 'Friday', 'Thursday']\n",
      "nes\n"
     ]
    }
   ],
   "source": [
    "# indexing and slicing\n",
    "# L2R ->  0         1          2           3            4         5   \n",
    "list1 = [\"Monday\", \"Tuesday\", \"Saturday\", \"Wednesday\", \"Friday\", \"Thursday\"]\n",
    "# R2L ->-6         -5         -4          -3           -2        -1 \n",
    "print (list1, len(list1), type(list1), id(list1))\n",
    "print (list1[3], list1[-3], list1[5], list1[-1])   # indexing\n",
    "print (list1[1:5], list1[-5:-1])\n",
    "print (list1[1:-1], list1[-5:5])\n",
    "print (list1[:3], list1[:-3])\n",
    "print (list1[3:], list1[-3:])\n",
    "print (list1[3][3:6])"
   ]
  },
  {
   "cell_type": "code",
   "execution_count": 89,
   "id": "c83abfde-3c7a-4e37-bf43-705a336306ef",
   "metadata": {},
   "outputs": [
    {
     "name": "stdout",
     "output_type": "stream",
     "text": [
      "[['Monday', 'Tuesday', 'Saturday', 'Wednesday'], ['Friday', 'Thursday', 'Sunday']] 2 <class 'list'> 2985229529600\n",
      "['Friday', 'Thursday']\n",
      "['Tuesday', 'Saturday']\n"
     ]
    }
   ],
   "source": [
    "# L2R ->   0         1          2           3              0         1           2 \n",
    "list1 = [[\"Monday\", \"Tuesday\", \"Saturday\", \"Wednesday\"], [\"Friday\", \"Thursday\", \"Sunday\"]]\n",
    "# R2L ->  -4        -3         -2          -1             -3        -2          -1\n",
    "print (list1, len(list1), type(list1), id(list1))\n",
    "print (list1[1][:2])\n",
    "print (list1[0][1:3])"
   ]
  },
  {
   "cell_type": "code",
   "execution_count": 117,
   "id": "4893b679-0f4f-48b4-a38a-0a92d7cd597a",
   "metadata": {},
   "outputs": [
    {
     "name": "stdout",
     "output_type": "stream",
     "text": [
      "['Monday', 'Tuesday', 'Saturday', 'Wednesday']\n",
      "['Friday', 'Thursday', 'Sunday']\n",
      "['Monday', 'Tuesday', 'Saturday', 'Wednesday', 'Friday', 'Thursday', 'Sunday']\n",
      "[['Monday', 'Tuesday', 'Saturday', 'Wednesday'], ['Friday', 'Thursday', 'Sunday']]\n",
      "['Monday', 'Tuesday', 'Saturday', 'Wednesday', 'Friday', 'Thursday', 'Sunday']\n",
      "['Friday', 'Thursday', 'Sunday']\n"
     ]
    }
   ],
   "source": [
    "# list concatenation and list of lists\n",
    "list1 = [\"Monday\", \"Tuesday\", \"Saturday\", \"Wednesday\"]\n",
    "list2 = [\"Friday\", \"Thursday\", \"Sunday\"]\n",
    "print (list1)\n",
    "print (list2)\n",
    "list3 = list1 + list2\n",
    "print (list3)\n",
    "list4 = [list1, list2]\n",
    "print (list4)\n",
    "list1.extend(list2)\n",
    "print (list1)\n",
    "print (list2)"
   ]
  },
  {
   "cell_type": "code",
   "execution_count": 96,
   "id": "922f662b-ba15-489f-a7aa-bda0d960863e",
   "metadata": {},
   "outputs": [
    {
     "name": "stdout",
     "output_type": "stream",
     "text": [
      "['red', 'green', 'magenta', 'purple'] 4\n",
      "['red', 'green', 'magenta', 'purple', 'golden'] 5\n",
      "['red', 'green', 'magenta', 'purple', 'golden', 'brown'] 6\n",
      "['red', 'green', 'magenta', 'purple', 'golden', 'brown', 'blue'] 7\n",
      "['red', 'green', 'magenta', 'purple', 'golden', 'brown', 'blue', 'white'] 8\n"
     ]
    }
   ],
   "source": [
    "# insert operation on a list\n",
    "list1 = ['red', 'green', 'magenta', 'purple']\n",
    "print (list1, len(list1))\n",
    "list1.append('golden')\n",
    "print (list1, len(list1))\n",
    "list1.append('brown')\n",
    "print (list1, len(list1))\n",
    "list1.append('blue')\n",
    "print (list1, len(list1))\n",
    "list1.append('white')\n",
    "print (list1, len(list1))"
   ]
  },
  {
   "cell_type": "code",
   "execution_count": 100,
   "id": "b1ce2d9a-65f9-4506-b08d-95b2c912d9e3",
   "metadata": {},
   "outputs": [
    {
     "name": "stdout",
     "output_type": "stream",
     "text": [
      "['red', 'green', 'magenta', 'purple'] 4\n",
      "['red', 'golden', 'green', 'magenta', 'purple'] 5\n",
      "['red', 'golden', 'brown', 'green', 'magenta', 'purple'] 6\n",
      "['blue', 'red', 'golden', 'brown', 'green', 'magenta', 'purple'] 7\n",
      "['blue', 'red', 'golden', 'white', 'brown', 'green', 'magenta', 'purple'] 8\n"
     ]
    }
   ],
   "source": [
    "list1 = ['red', 'green', 'magenta', 'purple']\n",
    "print (list1, len(list1))\n",
    "list1.insert(1, 'golden')\n",
    "print (list1, len(list1))\n",
    "list1.insert(2, 'brown')\n",
    "print (list1, len(list1))\n",
    "list1.insert(0, 'blue')\n",
    "print (list1, len(list1))\n",
    "list1.insert(3, 'white')\n",
    "print (list1, len(list1))"
   ]
  },
  {
   "cell_type": "code",
   "execution_count": 103,
   "id": "f0ac2c10-2f9b-4c31-9501-814c91ef128b",
   "metadata": {},
   "outputs": [
    {
     "name": "stdout",
     "output_type": "stream",
     "text": [
      "['blue', 'red', 'golden', 'white', 'brown', 'green', 'magenta', 'purple'] 8\n",
      "[] 0\n"
     ]
    }
   ],
   "source": [
    "# delete operation on a list\n",
    "list1 = ['blue', 'red', 'golden', 'white', 'brown', 'green', 'magenta', 'purple']\n",
    "print (list1, len(list1))\n",
    "list1.clear()\n",
    "print (list1, len(list1))"
   ]
  },
  {
   "cell_type": "code",
   "execution_count": 126,
   "id": "1e679936-1723-4e6d-a341-404f3f1d5836",
   "metadata": {},
   "outputs": [
    {
     "name": "stdout",
     "output_type": "stream",
     "text": [
      "['blue', 'red', 'golden', 'white', 'brown', 'green', 'magenta', 'purple'] 8\n",
      "['blue', 'red', 'golden', 'white', 'green', 'magenta', 'purple'] 7\n",
      "['blue', 'red', 'golden', 'white', 'green', 'purple'] 6\n"
     ]
    },
    {
     "ename": "NameError",
     "evalue": "name 'list1' is not defined",
     "output_type": "error",
     "traceback": [
      "\u001b[1;31m---------------------------------------------------------------------------\u001b[0m",
      "\u001b[1;31mNameError\u001b[0m                                 Traceback (most recent call last)",
      "\u001b[1;32m<ipython-input-126-d70ebf229327>\u001b[0m in \u001b[0;36m<module>\u001b[1;34m\u001b[0m\n\u001b[0;32m      6\u001b[0m \u001b[0mprint\u001b[0m \u001b[1;33m(\u001b[0m\u001b[0mlist1\u001b[0m\u001b[1;33m,\u001b[0m \u001b[0mlen\u001b[0m\u001b[1;33m(\u001b[0m\u001b[0mlist1\u001b[0m\u001b[1;33m)\u001b[0m\u001b[1;33m)\u001b[0m\u001b[1;33m\u001b[0m\u001b[1;33m\u001b[0m\u001b[0m\n\u001b[0;32m      7\u001b[0m \u001b[1;32mdel\u001b[0m \u001b[0mlist1\u001b[0m\u001b[1;33m\u001b[0m\u001b[1;33m\u001b[0m\u001b[0m\n\u001b[1;32m----> 8\u001b[1;33m \u001b[0mprint\u001b[0m \u001b[1;33m(\u001b[0m\u001b[0mlist1\u001b[0m\u001b[1;33m,\u001b[0m \u001b[0mlen\u001b[0m\u001b[1;33m(\u001b[0m\u001b[0mlist1\u001b[0m\u001b[1;33m)\u001b[0m\u001b[1;33m)\u001b[0m\u001b[1;33m\u001b[0m\u001b[1;33m\u001b[0m\u001b[0m\n\u001b[0m",
      "\u001b[1;31mNameError\u001b[0m: name 'list1' is not defined"
     ]
    }
   ],
   "source": [
    "list1 = ['blue', 'red', 'golden', 'white', 'brown', 'green', 'magenta', 'purple']\n",
    "print (list1, len(list1))\n",
    "del list1[4]\n",
    "print (list1, len(list1))\n",
    "del list1[list1.index(\"magenta\")]\n",
    "print (list1, len(list1))\n",
    "del list1\n",
    "print (list1, len(list1))"
   ]
  },
  {
   "cell_type": "code",
   "execution_count": 107,
   "id": "b3953f12-4a78-43f6-9663-23bfb594f676",
   "metadata": {},
   "outputs": [
    {
     "name": "stdout",
     "output_type": "stream",
     "text": [
      "['blue', 'red', 'golden', 'white', 'brown', 'green', 'magenta', 'purple'] 8\n",
      "purple\n",
      "['blue', 'red', 'golden', 'white', 'brown', 'green', 'magenta'] 7\n",
      "magenta\n",
      "['blue', 'red', 'golden', 'white', 'brown', 'green'] 6\n",
      "green\n",
      "['blue', 'red', 'golden', 'white', 'brown'] 5\n",
      "brown\n",
      "['blue', 'red', 'golden', 'white'] 4\n"
     ]
    }
   ],
   "source": [
    "list1 = ['blue', 'red', 'golden', 'white', 'brown', 'green', 'magenta', 'purple']\n",
    "print (list1, len(list1))\n",
    "print (list1.pop())\n",
    "print (list1, len(list1))\n",
    "print (list1.pop())\n",
    "print (list1, len(list1))\n",
    "print (list1.pop())\n",
    "print (list1, len(list1))\n",
    "print (list1.pop())\n",
    "print (list1, len(list1))"
   ]
  },
  {
   "cell_type": "code",
   "execution_count": 112,
   "id": "37d35666-e7ac-490b-af31-9520c5f6f630",
   "metadata": {},
   "outputs": [
    {
     "name": "stdout",
     "output_type": "stream",
     "text": [
      "['blue', 'golden', 'red', 'golden', 'white', 'brown', 'green', 'magenta', 'purple'] 9\n",
      "['blue', 'red', 'golden', 'white', 'brown', 'green', 'magenta', 'purple'] 8\n",
      "['blue', 'red', 'golden', 'white', 'brown', 'green', 'magenta'] 7\n",
      "['blue', 'red', 'golden', 'white', 'green', 'magenta'] 6\n",
      "['blue', 'red', 'golden', 'white', 'green'] 5\n"
     ]
    },
    {
     "ename": "ValueError",
     "evalue": "list.remove(x): x not in list",
     "output_type": "error",
     "traceback": [
      "\u001b[1;31m---------------------------------------------------------------------------\u001b[0m",
      "\u001b[1;31mValueError\u001b[0m                                Traceback (most recent call last)",
      "\u001b[1;32m<ipython-input-112-9af06cc4d94d>\u001b[0m in \u001b[0;36m<module>\u001b[1;34m\u001b[0m\n\u001b[0;32m      9\u001b[0m \u001b[0mlist1\u001b[0m\u001b[1;33m.\u001b[0m\u001b[0mremove\u001b[0m\u001b[1;33m(\u001b[0m\u001b[1;34m'magenta'\u001b[0m\u001b[1;33m)\u001b[0m\u001b[1;33m\u001b[0m\u001b[1;33m\u001b[0m\u001b[0m\n\u001b[0;32m     10\u001b[0m \u001b[0mprint\u001b[0m \u001b[1;33m(\u001b[0m\u001b[0mlist1\u001b[0m\u001b[1;33m,\u001b[0m \u001b[0mlen\u001b[0m\u001b[1;33m(\u001b[0m\u001b[0mlist1\u001b[0m\u001b[1;33m)\u001b[0m\u001b[1;33m)\u001b[0m\u001b[1;33m\u001b[0m\u001b[1;33m\u001b[0m\u001b[0m\n\u001b[1;32m---> 11\u001b[1;33m \u001b[0mlist1\u001b[0m\u001b[1;33m.\u001b[0m\u001b[0mremove\u001b[0m\u001b[1;33m(\u001b[0m\u001b[1;34m'magenta'\u001b[0m\u001b[1;33m)\u001b[0m\u001b[1;33m\u001b[0m\u001b[1;33m\u001b[0m\u001b[0m\n\u001b[0m\u001b[0;32m     12\u001b[0m \u001b[0mprint\u001b[0m \u001b[1;33m(\u001b[0m\u001b[0mlist1\u001b[0m\u001b[1;33m,\u001b[0m \u001b[0mlen\u001b[0m\u001b[1;33m(\u001b[0m\u001b[0mlist1\u001b[0m\u001b[1;33m)\u001b[0m\u001b[1;33m)\u001b[0m\u001b[1;33m\u001b[0m\u001b[1;33m\u001b[0m\u001b[0m\n",
      "\u001b[1;31mValueError\u001b[0m: list.remove(x): x not in list"
     ]
    }
   ],
   "source": [
    "list1 = ['blue', 'golden', 'red', 'golden', 'white', 'brown', 'green', 'magenta', 'purple']\n",
    "print (list1, len(list1))\n",
    "list1.remove('golden')\n",
    "print (list1, len(list1))\n",
    "list1.remove('purple')\n",
    "print (list1, len(list1))\n",
    "list1.remove('brown')\n",
    "print (list1, len(list1))\n",
    "list1.remove('magenta')\n",
    "print (list1, len(list1))\n",
    "list1.remove('magenta')\n",
    "print (list1, len(list1))"
   ]
  },
  {
   "cell_type": "code",
   "execution_count": 114,
   "id": "067eb139-2949-4164-86e6-aeff381c4376",
   "metadata": {},
   "outputs": [
    {
     "name": "stdout",
     "output_type": "stream",
     "text": [
      "['blue', 'golden', 'red', 'golden', 'white', 'brown', 'green', 'magenta', 'purple'] 9\n",
      "['blue', 'golden', 'red', 'golden', 'white', 'brown', 'deep green', 'magenta', 'purple'] 9\n",
      "['blue', 'golden', 'light red', 'golden', 'white', 'brown', 'deep green', 'magenta', 'purple'] 9\n"
     ]
    }
   ],
   "source": [
    "# update operation on a list\n",
    "list1 = ['blue', 'golden', 'red', 'golden', 'white', 'brown', 'green', 'magenta', 'purple']\n",
    "print (list1, len(list1))\n",
    "list1[6] = \"deep green\"\n",
    "print (list1, len(list1))\n",
    "list1[2] = \"light red\"\n",
    "print (list1, len(list1))"
   ]
  },
  {
   "cell_type": "code",
   "execution_count": 123,
   "id": "964fc748-3bd4-453d-9f32-322d9a3646f6",
   "metadata": {},
   "outputs": [
    {
     "name": "stdout",
     "output_type": "stream",
     "text": [
      "['blue', 'golden', 'red', 'golden', 'white', 'brown', 'golden', 'green'] 8\n",
      "1\n",
      "3\n",
      "6\n"
     ]
    },
    {
     "ename": "ValueError",
     "evalue": "'golden' is not in list",
     "output_type": "error",
     "traceback": [
      "\u001b[1;31m---------------------------------------------------------------------------\u001b[0m",
      "\u001b[1;31mValueError\u001b[0m                                Traceback (most recent call last)",
      "\u001b[1;32m<ipython-input-123-d37d2fa018a0>\u001b[0m in \u001b[0;36m<module>\u001b[1;34m\u001b[0m\n\u001b[0;32m      4\u001b[0m \u001b[0mprint\u001b[0m \u001b[1;33m(\u001b[0m\u001b[0mlist1\u001b[0m\u001b[1;33m.\u001b[0m\u001b[0mindex\u001b[0m\u001b[1;33m(\u001b[0m\u001b[1;34m'golden'\u001b[0m\u001b[1;33m,\u001b[0m \u001b[1;36m2\u001b[0m\u001b[1;33m)\u001b[0m\u001b[1;33m)\u001b[0m\u001b[1;33m\u001b[0m\u001b[1;33m\u001b[0m\u001b[0m\n\u001b[0;32m      5\u001b[0m \u001b[0mprint\u001b[0m \u001b[1;33m(\u001b[0m\u001b[0mlist1\u001b[0m\u001b[1;33m.\u001b[0m\u001b[0mindex\u001b[0m\u001b[1;33m(\u001b[0m\u001b[1;34m'golden'\u001b[0m\u001b[1;33m,\u001b[0m \u001b[1;36m4\u001b[0m\u001b[1;33m)\u001b[0m\u001b[1;33m)\u001b[0m\u001b[1;33m\u001b[0m\u001b[1;33m\u001b[0m\u001b[0m\n\u001b[1;32m----> 6\u001b[1;33m \u001b[0mprint\u001b[0m \u001b[1;33m(\u001b[0m\u001b[0mlist1\u001b[0m\u001b[1;33m.\u001b[0m\u001b[0mindex\u001b[0m\u001b[1;33m(\u001b[0m\u001b[1;34m'golden'\u001b[0m\u001b[1;33m,\u001b[0m \u001b[1;36m7\u001b[0m\u001b[1;33m)\u001b[0m\u001b[1;33m)\u001b[0m\u001b[1;33m\u001b[0m\u001b[1;33m\u001b[0m\u001b[0m\n\u001b[0m",
      "\u001b[1;31mValueError\u001b[0m: 'golden' is not in list"
     ]
    }
   ],
   "source": [
    "list1 = ['blue', 'golden', 'red', 'golden', 'white', 'brown', 'golden', 'green']\n",
    "print (list1, len(list1))\n",
    "print (list1.index('golden'))\n",
    "print (list1.index('golden', 2))\n",
    "print (list1.index('golden', 4))\n",
    "print (list1.index('golden', 7))"
   ]
  },
  {
   "cell_type": "code",
   "execution_count": 128,
   "id": "b32d0bec-fc07-40e3-9ffb-07c9f9b9379e",
   "metadata": {},
   "outputs": [
    {
     "name": "stdout",
     "output_type": "stream",
     "text": [
      "['blue', 'golden', 'red', 'golden', 'white', 'brown', 'golden', 'green'] 8\n",
      "3\n",
      "1\n"
     ]
    }
   ],
   "source": [
    "list1 = ['blue', 'golden', 'red', 'golden', 'white', 'brown', 'golden', 'green']\n",
    "print (list1, len(list1))\n",
    "print (list1.count('golden'))\n",
    "print (list1.count('brown'))"
   ]
  },
  {
   "cell_type": "code",
   "execution_count": 136,
   "id": "9d9444ad-a936-49ba-8ba6-0a879f052f90",
   "metadata": {},
   "outputs": [
    {
     "name": "stdout",
     "output_type": "stream",
     "text": [
      "['blue', 'golden', 'red', 'golden', 'white', 'brown', 'golden', 'green'] 8\n",
      "['blue', 'brown', 'golden', 'golden', 'golden', 'green', 'red', 'white'] 8\n",
      "['white', 'red', 'green', 'golden', 'golden', 'golden', 'brown', 'blue'] 8\n"
     ]
    }
   ],
   "source": [
    "list1 = ['blue', 'golden', 'red', 'golden', 'white', 'brown', 'golden', 'green']\n",
    "print (list1, len(list1))\n",
    "list1.sort()\n",
    "print (list1, len(list1))\n",
    "list1.sort(reverse = True)\n",
    "print (list1, len(list1))"
   ]
  },
  {
   "cell_type": "code",
   "execution_count": 138,
   "id": "2b606ad7-821f-46dc-a3ad-6ff20a70a09c",
   "metadata": {},
   "outputs": [
    {
     "name": "stdout",
     "output_type": "stream",
     "text": [
      "['blue', 'golden', 'red', 'golden', 'white', 'brown', 'golden', 'green'] 8\n",
      "['blue', 'brown', 'golden', 'golden', 'golden', 'green', 'red', 'white'] 8\n",
      "['white', 'red', 'green', 'golden', 'golden', 'golden', 'brown', 'blue'] 8\n"
     ]
    }
   ],
   "source": [
    "list1 = ['blue', 'golden', 'red', 'golden', 'white', 'brown', 'golden', 'green']\n",
    "print (list1, len(list1))\n",
    "result = sorted(list1)\n",
    "print (result, len(result))\n",
    "result = sorted(list1, reverse=True)\n",
    "print (result, len(result))"
   ]
  },
  {
   "cell_type": "code",
   "execution_count": 142,
   "id": "e537e350-5922-4b58-99de-6f3a446c3e07",
   "metadata": {},
   "outputs": [
    {
     "name": "stdout",
     "output_type": "stream",
     "text": [
      "['blue', 'golden', 'red', 'golden', 'white', 'brown', 'golden', 'green'] 8\n",
      "['green', 'golden', 'brown', 'white', 'golden', 'red', 'golden', 'blue'] 8\n"
     ]
    }
   ],
   "source": [
    "list1 = ['blue', 'golden', 'red', 'golden', 'white', 'brown', 'golden', 'green']\n",
    "print (list1, len(list1))\n",
    "list1.reverse()\n",
    "print (list1, len(list1))"
   ]
  },
  {
   "cell_type": "code",
   "execution_count": 144,
   "id": "ba65e253-4d5e-415e-9ac7-dc9a0d382688",
   "metadata": {},
   "outputs": [
    {
     "name": "stdout",
     "output_type": "stream",
     "text": [
      "['blue', 'golden', 'red', 'white', 'brown', 'green'] 6\n",
      "['golden', 'red', 'white', 'brown'] 4\n",
      "['blue', 'bright golden', 'red', 'white', 'brown', 'green'] 6\n",
      "['golden', 'red', 'bright white', 'brown'] 4\n"
     ]
    }
   ],
   "source": [
    "list1 = ['blue', 'golden', 'red', 'white', 'brown', 'green']\n",
    "print (list1, len(list1))\n",
    "list2 = list1[1:5]\n",
    "print (list2, len(list2))\n",
    "list1[1] = \"bright golden\"\n",
    "list2[2] = \"bright white\"\n",
    "print (list1, len(list1))\n",
    "print (list2, len(list2))"
   ]
  },
  {
   "cell_type": "code",
   "execution_count": 146,
   "id": "eaa3b6a6-4aea-4b63-99fe-dd24950f4790",
   "metadata": {},
   "outputs": [
    {
     "name": "stdout",
     "output_type": "stream",
     "text": [
      "['blue', 'golden', 'red', 'white', 'brown', 'green'] 6 2985234189440\n",
      "['blue', 'golden', 'red', 'white', 'brown', 'green'] 6 2985234189440\n",
      "['blue', 'bright golden', 'red', 'bright white', 'brown', 'green'] 6\n",
      "['blue', 'bright golden', 'red', 'bright white', 'brown', 'green'] 6\n"
     ]
    }
   ],
   "source": [
    "list1 = ['blue', 'golden', 'red', 'white', 'brown', 'green']\n",
    "print (list1, len(list1), id(list1))\n",
    "list2 = list1\n",
    "print (list2, len(list2), id(list2))\n",
    "list1[1] = \"bright golden\"\n",
    "list2[3] = \"bright white\"\n",
    "print (list1, len(list1))\n",
    "print (list2, len(list2))"
   ]
  },
  {
   "cell_type": "code",
   "execution_count": 147,
   "id": "bdcdc62d-9eda-485f-9ca4-2217e7e02a2f",
   "metadata": {},
   "outputs": [
    {
     "name": "stdout",
     "output_type": "stream",
     "text": [
      "['blue', 'golden', 'red', 'white', 'brown', 'green'] 6 2985234122816\n",
      "['blue', 'golden', 'red', 'white', 'brown', 'green'] 6 2985227350464\n",
      "['blue', 'bright golden', 'red', 'white', 'brown', 'green'] 6\n",
      "['blue', 'golden', 'red', 'bright white', 'brown', 'green'] 6\n"
     ]
    }
   ],
   "source": [
    "list1 = ['blue', 'golden', 'red', 'white', 'brown', 'green']\n",
    "print (list1, len(list1), id(list1))\n",
    "list2 = list1.copy()\n",
    "print (list2, len(list2), id(list2))\n",
    "list1[1] = \"bright golden\"\n",
    "list2[3] = \"bright white\"\n",
    "print (list1, len(list1))\n",
    "print (list2, len(list2))"
   ]
  },
  {
   "cell_type": "code",
   "execution_count": 148,
   "id": "7e305723-da9d-4d1a-863c-0a6d97698899",
   "metadata": {},
   "outputs": [
    {
     "name": "stdout",
     "output_type": "stream",
     "text": [
      "['blue', 'golden', 'red', 'white', 'brown', 'green'] 6 2985234190272\n",
      "['blue', 'golden', 'red', 'white', 'brown', 'green'] 6 2985227350464\n",
      "['blue', 'bright golden', 'red', 'white', 'brown', 'green'] 6\n",
      "['blue', 'golden', 'red', 'bright white', 'brown', 'green'] 6\n"
     ]
    }
   ],
   "source": [
    "list1 = ['blue', 'golden', 'red', 'white', 'brown', 'green']\n",
    "print (list1, len(list1), id(list1))\n",
    "list2[:] = list1\n",
    "print (list2, len(list2), id(list2))\n",
    "list1[1] = \"bright golden\"\n",
    "list2[3] = \"bright white\"\n",
    "print (list1, len(list1))\n",
    "print (list2, len(list2))"
   ]
  },
  {
   "cell_type": "markdown",
   "id": "66a460a6-0a06-42a9-bf3d-7ecba886242d",
   "metadata": {},
   "source": [
    "### Tuple Processing"
   ]
  },
  {
   "cell_type": "code",
   "execution_count": 73,
   "id": "f291884c-7e53-4bb3-8b99-12941e9c5ae7",
   "metadata": {},
   "outputs": [
    {
     "name": "stdout",
     "output_type": "stream",
     "text": [
      "(100, 400, 200, 700, 800) 5 <class 'tuple'> 2985223428992\n",
      "100 800\n",
      "2200 440.0\n"
     ]
    }
   ],
   "source": [
    "tuple1 = (100, 400, 200, 700, 800)\n",
    "print (tuple1, len(tuple1), type(tuple1), id(tuple1))\n",
    "print (min(tuple1), max(tuple1))\n",
    "print (sum(tuple1), sum(tuple1) / len(tuple1))"
   ]
  },
  {
   "cell_type": "code",
   "execution_count": 74,
   "id": "8fe2ccab-8a1c-415a-b611-7fb8b71fedaf",
   "metadata": {},
   "outputs": [
    {
     "name": "stdout",
     "output_type": "stream",
     "text": [
      "(100, True, 400, False, 200, 700, 800) 7 <class 'tuple'> 2985225735904\n",
      "False 800\n",
      "2201 314.42857142857144\n"
     ]
    }
   ],
   "source": [
    "tuple1 = (100, True, 400, False, 200, 700, 800)\n",
    "print (tuple1, len(tuple1), type(tuple1), id(tuple1))\n",
    "print (min(tuple1), max(tuple1))\n",
    "print (sum(tuple1), sum(tuple1) / len(tuple1))"
   ]
  },
  {
   "cell_type": "code",
   "execution_count": 75,
   "id": "9eeecd08-4cc4-46f4-a75a-ee6f302f383f",
   "metadata": {},
   "outputs": [
    {
     "name": "stdout",
     "output_type": "stream",
     "text": [
      "(100, True, 400, False, 200.0, 700, 800) 7 <class 'tuple'> 2985238542464\n",
      "False 800\n",
      "2201.0 314.42857142857144\n"
     ]
    }
   ],
   "source": [
    "tuple1 = (100, True, 400, False, 200.0, 700, 800)\n",
    "print (tuple1, len(tuple1), type(tuple1), id(tuple1))\n",
    "print (min(tuple1), max(tuple1))\n",
    "print (sum(tuple1), sum(tuple1) / len(tuple1))"
   ]
  },
  {
   "cell_type": "code",
   "execution_count": 76,
   "id": "f1e6dd34-2b54-4664-a665-9424833c4780",
   "metadata": {},
   "outputs": [
    {
     "name": "stdout",
     "output_type": "stream",
     "text": [
      "(100, True, 400, False, 200.0, '700', 800) 7 <class 'tuple'> 2985225735904\n"
     ]
    },
    {
     "ename": "TypeError",
     "evalue": "'<' not supported between instances of 'str' and 'bool'",
     "output_type": "error",
     "traceback": [
      "\u001b[1;31m---------------------------------------------------------------------------\u001b[0m",
      "\u001b[1;31mTypeError\u001b[0m                                 Traceback (most recent call last)",
      "\u001b[1;32m<ipython-input-76-a76ada2972c2>\u001b[0m in \u001b[0;36m<module>\u001b[1;34m\u001b[0m\n\u001b[0;32m      1\u001b[0m \u001b[0mtuple1\u001b[0m \u001b[1;33m=\u001b[0m \u001b[1;33m(\u001b[0m\u001b[1;36m100\u001b[0m\u001b[1;33m,\u001b[0m \u001b[1;32mTrue\u001b[0m\u001b[1;33m,\u001b[0m \u001b[1;36m400\u001b[0m\u001b[1;33m,\u001b[0m \u001b[1;32mFalse\u001b[0m\u001b[1;33m,\u001b[0m \u001b[1;36m200.0\u001b[0m\u001b[1;33m,\u001b[0m \u001b[1;34m'700'\u001b[0m\u001b[1;33m,\u001b[0m \u001b[1;36m800\u001b[0m\u001b[1;33m)\u001b[0m\u001b[1;33m\u001b[0m\u001b[1;33m\u001b[0m\u001b[0m\n\u001b[0;32m      2\u001b[0m \u001b[0mprint\u001b[0m \u001b[1;33m(\u001b[0m\u001b[0mtuple1\u001b[0m\u001b[1;33m,\u001b[0m \u001b[0mlen\u001b[0m\u001b[1;33m(\u001b[0m\u001b[0mtuple1\u001b[0m\u001b[1;33m)\u001b[0m\u001b[1;33m,\u001b[0m \u001b[0mtype\u001b[0m\u001b[1;33m(\u001b[0m\u001b[0mtuple1\u001b[0m\u001b[1;33m)\u001b[0m\u001b[1;33m,\u001b[0m \u001b[0mid\u001b[0m\u001b[1;33m(\u001b[0m\u001b[0mtuple1\u001b[0m\u001b[1;33m)\u001b[0m\u001b[1;33m)\u001b[0m\u001b[1;33m\u001b[0m\u001b[1;33m\u001b[0m\u001b[0m\n\u001b[1;32m----> 3\u001b[1;33m \u001b[0mprint\u001b[0m \u001b[1;33m(\u001b[0m\u001b[0mmin\u001b[0m\u001b[1;33m(\u001b[0m\u001b[0mtuple1\u001b[0m\u001b[1;33m)\u001b[0m\u001b[1;33m,\u001b[0m \u001b[0mmax\u001b[0m\u001b[1;33m(\u001b[0m\u001b[0mtuple1\u001b[0m\u001b[1;33m)\u001b[0m\u001b[1;33m)\u001b[0m\u001b[1;33m\u001b[0m\u001b[1;33m\u001b[0m\u001b[0m\n\u001b[0m\u001b[0;32m      4\u001b[0m \u001b[0mprint\u001b[0m \u001b[1;33m(\u001b[0m\u001b[0msum\u001b[0m\u001b[1;33m(\u001b[0m\u001b[0mtuple1\u001b[0m\u001b[1;33m)\u001b[0m\u001b[1;33m,\u001b[0m \u001b[0msum\u001b[0m\u001b[1;33m(\u001b[0m\u001b[0mtuple1\u001b[0m\u001b[1;33m)\u001b[0m \u001b[1;33m/\u001b[0m \u001b[0mlen\u001b[0m\u001b[1;33m(\u001b[0m\u001b[0mtuple1\u001b[0m\u001b[1;33m)\u001b[0m\u001b[1;33m)\u001b[0m\u001b[1;33m\u001b[0m\u001b[1;33m\u001b[0m\u001b[0m\n",
      "\u001b[1;31mTypeError\u001b[0m: '<' not supported between instances of 'str' and 'bool'"
     ]
    }
   ],
   "source": [
    "tuple1 = (100, True, 400, False, 200.0, '700', 800)\n",
    "print (tuple1, len(tuple1), type(tuple1), id(tuple1))\n",
    "print (min(tuple1), max(tuple1))\n",
    "print (sum(tuple1), sum(tuple1) / len(tuple1))"
   ]
  },
  {
   "cell_type": "code",
   "execution_count": 78,
   "id": "61bf0733-8cb5-4386-8e5a-e4a113a0d8ab",
   "metadata": {},
   "outputs": [
    {
     "name": "stdout",
     "output_type": "stream",
     "text": [
      "('Monday', 'Tuesday', 'saturday', 'Wednesday') 4 <class 'tuple'> 2985224399584\n",
      "Monday saturday\n"
     ]
    },
    {
     "ename": "TypeError",
     "evalue": "unsupported operand type(s) for +: 'int' and 'str'",
     "output_type": "error",
     "traceback": [
      "\u001b[1;31m---------------------------------------------------------------------------\u001b[0m",
      "\u001b[1;31mTypeError\u001b[0m                                 Traceback (most recent call last)",
      "\u001b[1;32m<ipython-input-78-798a7baf3ffa>\u001b[0m in \u001b[0;36m<module>\u001b[1;34m\u001b[0m\n\u001b[0;32m      2\u001b[0m \u001b[0mprint\u001b[0m \u001b[1;33m(\u001b[0m\u001b[0mtuple1\u001b[0m\u001b[1;33m,\u001b[0m \u001b[0mlen\u001b[0m\u001b[1;33m(\u001b[0m\u001b[0mtuple1\u001b[0m\u001b[1;33m)\u001b[0m\u001b[1;33m,\u001b[0m \u001b[0mtype\u001b[0m\u001b[1;33m(\u001b[0m\u001b[0mtuple1\u001b[0m\u001b[1;33m)\u001b[0m\u001b[1;33m,\u001b[0m \u001b[0mid\u001b[0m\u001b[1;33m(\u001b[0m\u001b[0mtuple1\u001b[0m\u001b[1;33m)\u001b[0m\u001b[1;33m)\u001b[0m\u001b[1;33m\u001b[0m\u001b[1;33m\u001b[0m\u001b[0m\n\u001b[0;32m      3\u001b[0m \u001b[0mprint\u001b[0m \u001b[1;33m(\u001b[0m\u001b[0mmin\u001b[0m\u001b[1;33m(\u001b[0m\u001b[0mtuple1\u001b[0m\u001b[1;33m)\u001b[0m\u001b[1;33m,\u001b[0m \u001b[0mmax\u001b[0m\u001b[1;33m(\u001b[0m\u001b[0mtuple1\u001b[0m\u001b[1;33m)\u001b[0m\u001b[1;33m)\u001b[0m\u001b[1;33m\u001b[0m\u001b[1;33m\u001b[0m\u001b[0m\n\u001b[1;32m----> 4\u001b[1;33m \u001b[0mprint\u001b[0m \u001b[1;33m(\u001b[0m\u001b[0msum\u001b[0m\u001b[1;33m(\u001b[0m\u001b[0mtuple1\u001b[0m\u001b[1;33m)\u001b[0m\u001b[1;33m,\u001b[0m \u001b[0msum\u001b[0m\u001b[1;33m(\u001b[0m\u001b[0mtuple1\u001b[0m\u001b[1;33m)\u001b[0m \u001b[1;33m/\u001b[0m \u001b[0mlen\u001b[0m\u001b[1;33m(\u001b[0m\u001b[0mtuple1\u001b[0m\u001b[1;33m)\u001b[0m\u001b[1;33m)\u001b[0m\u001b[1;33m\u001b[0m\u001b[1;33m\u001b[0m\u001b[0m\n\u001b[0m",
      "\u001b[1;31mTypeError\u001b[0m: unsupported operand type(s) for +: 'int' and 'str'"
     ]
    }
   ],
   "source": [
    "tuple1 = (\"Monday\", \"Tuesday\", \"saturday\", \"Wednesday\")\n",
    "print (tuple1, len(tuple1), type(tuple1), id(tuple1))\n",
    "print (min(tuple1), max(tuple1))\n",
    "print (sum(tuple1), sum(tuple1) / len(tuple1))"
   ]
  },
  {
   "cell_type": "code",
   "execution_count": 86,
   "id": "a0304768-e084-4cd6-9186-50d56aef7ca9",
   "metadata": {},
   "outputs": [
    {
     "name": "stdout",
     "output_type": "stream",
     "text": [
      "('Monday', 'Tuesday', 'Saturday', 'Wednesday', 'Friday', 'Thursday') 6 <class 'tuple'> 2985231815200\n",
      "Wednesday Wednesday Thursday Thursday\n",
      "('Tuesday', 'Saturday', 'Wednesday', 'Friday') ('Tuesday', 'Saturday', 'Wednesday', 'Friday')\n",
      "('Tuesday', 'Saturday', 'Wednesday', 'Friday') ('Tuesday', 'Saturday', 'Wednesday', 'Friday')\n",
      "('Monday', 'Tuesday', 'Saturday') ('Monday', 'Tuesday', 'Saturday')\n",
      "('Wednesday', 'Friday', 'Thursday') ('Wednesday', 'Friday', 'Thursday')\n",
      "nes\n"
     ]
    }
   ],
   "source": [
    "# indexing and slicing\n",
    "# L2R ->   0         1          2           3            4         5   \n",
    "tuple1 = (\"Monday\", \"Tuesday\", \"Saturday\", \"Wednesday\", \"Friday\", \"Thursday\")\n",
    "# R2L ->  -6         -5         -4          -3           -2        -1 \n",
    "print (tuple1, len(tuple1), type(tuple1), id(tuple1))\n",
    "print (tuple1[3], tuple1[-3], tuple1[5], tuple1[-1])   # indexing\n",
    "print (tuple1[1:5], tuple1[-5:-1])\n",
    "print (tuple1[1:-1], tuple1[-5:5])\n",
    "print (tuple1[:3], tuple1[:-3])\n",
    "print (tuple1[3:], tuple1[-3:])\n",
    "print (tuple1[3][3:6])"
   ]
  },
  {
   "cell_type": "code",
   "execution_count": 90,
   "id": "0ef857f3-1c97-44f1-bcbb-5567e5c9869c",
   "metadata": {},
   "outputs": [
    {
     "name": "stdout",
     "output_type": "stream",
     "text": [
      "(('Monday', 'Tuesday', 'Saturday', 'Wednesday'), ('Friday', 'Thursday', 'Sunday')) 2 <class 'tuple'> 2985229833536\n",
      "('Friday', 'Thursday')\n",
      "('Tuesday', 'Saturday')\n"
     ]
    }
   ],
   "source": [
    "# L2R ->    0         1          2           3              0         1           2 \n",
    "tuple1 = ((\"Monday\", \"Tuesday\", \"Saturday\", \"Wednesday\"), (\"Friday\", \"Thursday\", \"Sunday\"))\n",
    "# R2L ->   -4        -3         -2          -1             -3        -2          -1\n",
    "print (tuple1, len(tuple1), type(tuple1), id(tuple1))\n",
    "print (tuple1[1][:2])\n",
    "print (tuple1[0][1:3])"
   ]
  },
  {
   "cell_type": "code",
   "execution_count": 129,
   "id": "85498221-2897-4674-b5d3-5702ef232b6f",
   "metadata": {},
   "outputs": [
    {
     "name": "stdout",
     "output_type": "stream",
     "text": [
      "['Monday', 'Tuesday', 'Saturday', 'Wednesday']\n",
      "['Friday', 'Thursday', 'Sunday']\n",
      "['Monday', 'Tuesday', 'Saturday', 'Wednesday', 'Friday', 'Thursday', 'Sunday']\n",
      "[['Monday', 'Tuesday', 'Saturday', 'Wednesday'], ['Friday', 'Thursday', 'Sunday']]\n"
     ]
    }
   ],
   "source": [
    "tuple1 = [\"Monday\", \"Tuesday\", \"Saturday\", \"Wednesday\"]\n",
    "tuple2 = [\"Friday\", \"Thursday\", \"Sunday\"]\n",
    "print (tuple1)\n",
    "print (tuple2)\n",
    "tuple3 = tuple1 + tuple2\n",
    "print (tuple3)\n",
    "tuple4 = [tuple1, tuple2]\n",
    "print (tuple4)"
   ]
  },
  {
   "cell_type": "code",
   "execution_count": 130,
   "id": "5be62a46-bd2d-4c42-8612-f01e9da518af",
   "metadata": {},
   "outputs": [
    {
     "name": "stdout",
     "output_type": "stream",
     "text": [
      "('blue', 'golden', 'red', 'golden', 'white', 'brown', 'golden', 'green') 8\n",
      "1\n",
      "3\n",
      "6\n"
     ]
    },
    {
     "ename": "ValueError",
     "evalue": "tuple.index(x): x not in tuple",
     "output_type": "error",
     "traceback": [
      "\u001b[1;31m---------------------------------------------------------------------------\u001b[0m",
      "\u001b[1;31mValueError\u001b[0m                                Traceback (most recent call last)",
      "\u001b[1;32m<ipython-input-130-bebcaf063188>\u001b[0m in \u001b[0;36m<module>\u001b[1;34m\u001b[0m\n\u001b[0;32m      4\u001b[0m \u001b[0mprint\u001b[0m \u001b[1;33m(\u001b[0m\u001b[0mtuple1\u001b[0m\u001b[1;33m.\u001b[0m\u001b[0mindex\u001b[0m\u001b[1;33m(\u001b[0m\u001b[1;34m'golden'\u001b[0m\u001b[1;33m,\u001b[0m \u001b[1;36m2\u001b[0m\u001b[1;33m)\u001b[0m\u001b[1;33m)\u001b[0m\u001b[1;33m\u001b[0m\u001b[1;33m\u001b[0m\u001b[0m\n\u001b[0;32m      5\u001b[0m \u001b[0mprint\u001b[0m \u001b[1;33m(\u001b[0m\u001b[0mtuple1\u001b[0m\u001b[1;33m.\u001b[0m\u001b[0mindex\u001b[0m\u001b[1;33m(\u001b[0m\u001b[1;34m'golden'\u001b[0m\u001b[1;33m,\u001b[0m \u001b[1;36m4\u001b[0m\u001b[1;33m)\u001b[0m\u001b[1;33m)\u001b[0m\u001b[1;33m\u001b[0m\u001b[1;33m\u001b[0m\u001b[0m\n\u001b[1;32m----> 6\u001b[1;33m \u001b[0mprint\u001b[0m \u001b[1;33m(\u001b[0m\u001b[0mtuple1\u001b[0m\u001b[1;33m.\u001b[0m\u001b[0mindex\u001b[0m\u001b[1;33m(\u001b[0m\u001b[1;34m'golden'\u001b[0m\u001b[1;33m,\u001b[0m \u001b[1;36m7\u001b[0m\u001b[1;33m)\u001b[0m\u001b[1;33m)\u001b[0m\u001b[1;33m\u001b[0m\u001b[1;33m\u001b[0m\u001b[0m\n\u001b[0m",
      "\u001b[1;31mValueError\u001b[0m: tuple.index(x): x not in tuple"
     ]
    }
   ],
   "source": [
    "tuple1 = ('blue', 'golden', 'red', 'golden', 'white', 'brown', 'golden', 'green')\n",
    "print (tuple1, len(tuple1))\n",
    "print (tuple1.index('golden'))\n",
    "print (tuple1.index('golden', 2))\n",
    "print (tuple1.index('golden', 4))\n",
    "print (tuple1.index('golden', 7))"
   ]
  },
  {
   "cell_type": "code",
   "execution_count": 132,
   "id": "649cd6c1-3358-40ba-8e4e-771a488ff27c",
   "metadata": {},
   "outputs": [
    {
     "name": "stdout",
     "output_type": "stream",
     "text": [
      "('blue', 'golden', 'red', 'golden', 'white', 'brown', 'golden', 'green') 8\n",
      "3\n",
      "1\n"
     ]
    }
   ],
   "source": [
    "tuple1 = ('blue', 'golden', 'red', 'golden', 'white', 'brown', 'golden', 'green')\n",
    "print (tuple1, len(tuple1))\n",
    "print (tuple1.count('golden'))\n",
    "print (tuple1.count('brown'))"
   ]
  },
  {
   "cell_type": "code",
   "execution_count": 141,
   "id": "1e5181a6-4151-44cf-80ac-4a7e4f26c86d",
   "metadata": {},
   "outputs": [
    {
     "name": "stdout",
     "output_type": "stream",
     "text": [
      "('blue', 'golden', 'red', 'golden', 'white', 'brown', 'golden', 'green') 8 2985228234304\n",
      "['blue', 'brown', 'golden', 'golden', 'golden', 'green', 'red', 'white'] 8\n",
      "('white', 'red', 'green', 'golden', 'golden', 'golden', 'brown', 'blue') 8 2985228233856\n"
     ]
    }
   ],
   "source": [
    "tuple1 = ('blue', 'golden', 'red', 'golden', 'white', 'brown', 'golden', 'green')\n",
    "print (tuple1, len(tuple1), id(tuple1))\n",
    "result = sorted(tuple1)\n",
    "print (result, len(result))\n",
    "result = tuple(sorted(tuple1, reverse=True))\n",
    "print (result, len(result), id(result))"
   ]
  },
  {
   "cell_type": "code",
   "execution_count": 152,
   "id": "6da4d4f5-7dce-4f1f-a9be-0fc2fbfddfde",
   "metadata": {},
   "outputs": [
    {
     "name": "stdout",
     "output_type": "stream",
     "text": [
      "('blue', 'golden', 'red', 'white', 'brown', 'green') 6 <class 'tuple'> 2985225608064\n",
      "['blue', 'golden', 'red', 'white', 'brown', 'green'] 6 <class 'list'> 2985224880896\n",
      "['blue', 'golden', 'deep red', 'white', 'brown', 'green'] 6 <class 'list'> 2985224880896\n",
      "('blue', 'golden', 'deep red', 'white', 'brown', 'green') 6 <class 'tuple'> 2985232762240\n"
     ]
    }
   ],
   "source": [
    "tuple1 = ('blue', 'golden', 'red', 'white', 'brown', 'green')\n",
    "print (tuple1, len(tuple1), type(tuple1), id(tuple1))\n",
    "# tuple1[2] = \"deep red\"\n",
    "list1 = list(tuple1)\n",
    "print (list1, len(list1), type(list1), id(list1))\n",
    "list1[2] = \"deep red\"\n",
    "print (list1, len(list1), type(list1), id(list1))\n",
    "tuple1 = tuple(list1)\n",
    "print (tuple1, len(tuple1), type(tuple1), id(tuple1))"
   ]
  },
  {
   "cell_type": "code",
   "execution_count": null,
   "id": "a50ba1b2-f831-48d2-a537-3de76f21ae72",
   "metadata": {},
   "outputs": [],
   "source": []
  },
  {
   "cell_type": "markdown",
   "id": "00b4d3f0-b810-41cc-94c0-1c2c939f1b04",
   "metadata": {},
   "source": [
    "### Dictionary Processing"
   ]
  },
  {
   "cell_type": "code",
   "execution_count": 157,
   "id": "68f38a29-b9b0-4d7f-8a13-0bd4118d7c57",
   "metadata": {},
   "outputs": [
    {
     "name": "stdout",
     "output_type": "stream",
     "text": [
      "{'apple': 'red', 'pineapple': 'green', 'guava': 'green', 'mango': 'green', 'banana': 'yellow'} 5 <class 'dict'> 2985229663552\n",
      "dict_keys(['apple', 'pineapple', 'guava', 'mango', 'banana'])\n",
      "dict_values(['red', 'green', 'green', 'green', 'yellow'])\n",
      "dict_items([('apple', 'red'), ('pineapple', 'green'), ('guava', 'green'), ('mango', 'green'), ('banana', 'yellow')])\n"
     ]
    }
   ],
   "source": [
    "dict1 = {'apple':'red', 'pineapple':'green', 'guava':'green', 'mango':'green', 'banana':'yellow'}\n",
    "print (dict1, len(dict1), type(dict1), id(dict1))\n",
    "print (dict1.keys())     # returns a list of keys\n",
    "print (dict1.values())   # returns a list of values\n",
    "print (dict1.items())    # returns a list of tuples"
   ]
  },
  {
   "cell_type": "code",
   "execution_count": 160,
   "id": "1efe89b4-4a8d-4851-925c-ab6d6e47d7e7",
   "metadata": {},
   "outputs": [
    {
     "name": "stdout",
     "output_type": "stream",
     "text": [
      "{'apple': 'red', 'pineapple': 'green', 'guava': 'green', 'mango': 'red', 'banana': 'yellow'} 5 <class 'dict'> 2985227516096\n",
      "dict_keys(['apple', 'pineapple', 'guava', 'mango', 'banana'])\n",
      "dict_values(['red', 'green', 'green', 'red', 'yellow'])\n",
      "dict_items([('apple', 'red'), ('pineapple', 'green'), ('guava', 'green'), ('mango', 'red'), ('banana', 'yellow')])\n"
     ]
    }
   ],
   "source": [
    "# datatype of key must be immutable, e.g. numeric, string or tuple\n",
    "dict1 = {'apple':'red', 'pineapple':'green', 'guava':'green', 'mango':'green', 'banana':'yellow', 'mango':'red'}\n",
    "print (dict1, len(dict1), type(dict1), id(dict1))\n",
    "print (dict1.keys())     # returns a list of keys\n",
    "print (dict1.values())   # returns a list of values\n",
    "print (dict1.items())    # returns a list of tuples"
   ]
  },
  {
   "cell_type": "code",
   "execution_count": 177,
   "id": "650a885d-d8fd-45e4-9f6c-6929255a1b20",
   "metadata": {},
   "outputs": [
    {
     "name": "stdout",
     "output_type": "stream",
     "text": [
      "{'apple': 'red', 'pineapple': 'green', 'guava': 'green', 'banana': 'yellow', 'mango': 'red'} 5 <class 'dict'> 2985229368320\n",
      "green\n",
      "red\n",
      "None\n",
      "Not Available !!!\n",
      "green\n",
      "red\n"
     ]
    },
    {
     "ename": "KeyError",
     "evalue": "'lemon'",
     "output_type": "error",
     "traceback": [
      "\u001b[1;31m---------------------------------------------------------------------------\u001b[0m",
      "\u001b[1;31mKeyError\u001b[0m                                  Traceback (most recent call last)",
      "\u001b[1;32m<ipython-input-177-0540a3232d5c>\u001b[0m in \u001b[0;36m<module>\u001b[1;34m\u001b[0m\n\u001b[0;32m      8\u001b[0m \u001b[0mprint\u001b[0m \u001b[1;33m(\u001b[0m\u001b[0mdict1\u001b[0m\u001b[1;33m[\u001b[0m\u001b[1;34m'pineapple'\u001b[0m\u001b[1;33m]\u001b[0m\u001b[1;33m)\u001b[0m\u001b[1;33m\u001b[0m\u001b[1;33m\u001b[0m\u001b[0m\n\u001b[0;32m      9\u001b[0m \u001b[0mprint\u001b[0m \u001b[1;33m(\u001b[0m\u001b[0mdict1\u001b[0m\u001b[1;33m[\u001b[0m\u001b[1;34m'mango'\u001b[0m\u001b[1;33m]\u001b[0m\u001b[1;33m)\u001b[0m\u001b[1;33m\u001b[0m\u001b[1;33m\u001b[0m\u001b[0m\n\u001b[1;32m---> 10\u001b[1;33m \u001b[0mprint\u001b[0m \u001b[1;33m(\u001b[0m\u001b[0mdict1\u001b[0m\u001b[1;33m[\u001b[0m\u001b[1;34m'lemon'\u001b[0m\u001b[1;33m]\u001b[0m\u001b[1;33m)\u001b[0m\u001b[1;33m\u001b[0m\u001b[1;33m\u001b[0m\u001b[0m\n\u001b[0m",
      "\u001b[1;31mKeyError\u001b[0m: 'lemon'"
     ]
    }
   ],
   "source": [
    "# reading values against given keys\n",
    "dict1 = {'apple':'red', 'pineapple':'green', 'guava':'green', 'banana':'yellow', 'mango':'red'}\n",
    "print (dict1, len(dict1), type(dict1), id(dict1))\n",
    "print (dict1.get('pineapple'))\n",
    "print (dict1.get('mango', \"Not Available !!!\"))\n",
    "print (dict1.get('lemon'))\n",
    "print (dict1.get('lemon', \"Not Available !!!\"))\n",
    "print (dict1['pineapple'])\n",
    "print (dict1['mango'])\n",
    "print (dict1['lemon'])"
   ]
  },
  {
   "cell_type": "code",
   "execution_count": 169,
   "id": "78d0b4e1-f747-46a7-832c-95e46a99449c",
   "metadata": {},
   "outputs": [
    {
     "name": "stdout",
     "output_type": "stream",
     "text": [
      "{'apple': 'red', 'pineapple': 'green', 'mango': 'red'} 3 <class 'dict'> 2985226361280\n",
      "{'apple': 'red', 'pineapple': 'green', 'mango': 'red', 'banana': 'yellow'} 4 <class 'dict'> 2985226361280\n",
      "{'apple': 'red', 'pineapple': 'green', 'mango': 'red', 'banana': 'yellow', 'lime': 'light green'} 5 <class 'dict'> 2985226361280\n",
      "{'apple': 'red', 'pineapple': 'yellow', 'mango': 'red', 'banana': 'yellow', 'lime': 'light green'} 5 <class 'dict'> 2985226361280\n"
     ]
    }
   ],
   "source": [
    "# insert and update operations\n",
    "dict1 = {'apple':'red', 'pineapple':'green', 'mango':'red'}\n",
    "print (dict1, len(dict1), type(dict1), id(dict1))\n",
    "dict1['banana'] = 'yellow'    # insert operation\n",
    "print (dict1, len(dict1), type(dict1), id(dict1))\n",
    "dict1['lime'] = 'light green'    # insert operation\n",
    "print (dict1, len(dict1), type(dict1), id(dict1))\n",
    "dict1['pineapple'] = 'yellow'    # update operation\n",
    "print (dict1, len(dict1), type(dict1), id(dict1))"
   ]
  },
  {
   "cell_type": "code",
   "execution_count": 179,
   "id": "19f9cb33-b690-4179-b85f-4af1c25fe1c8",
   "metadata": {},
   "outputs": [
    {
     "name": "stdout",
     "output_type": "stream",
     "text": [
      "{'apple': 'red', 'pineapple': 'yellow', 'mango': 'red', 'banana': 'yellow', 'lime': 'light green'} 5 <class 'dict'> 2985235003520\n",
      "{} 0 <class 'dict'> 2985235003520\n"
     ]
    }
   ],
   "source": [
    "# delete operation\n",
    "dict1 = {'apple': 'red', 'pineapple': 'yellow', 'mango': 'red', 'banana': 'yellow', 'lime': 'light green'}\n",
    "print (dict1, len(dict1), type(dict1), id(dict1))\n",
    "dict1.clear()\n",
    "print (dict1, len(dict1), type(dict1), id(dict1))"
   ]
  },
  {
   "cell_type": "code",
   "execution_count": 184,
   "id": "d830eb0e-aad5-4602-ab99-fcd6fc1f8345",
   "metadata": {},
   "outputs": [
    {
     "name": "stdout",
     "output_type": "stream",
     "text": [
      "[] 0 <class 'list'> 2985225115200\n",
      "() 0 <class 'tuple'> 2985133146176\n",
      "{} 0 <class 'dict'> 2985234950016\n",
      "set() 0 <class 'set'> 2985235011168\n"
     ]
    }
   ],
   "source": [
    "var1 = []\n",
    "print (var1, len(var1), type(var1), id(var1))\n",
    "var1 = ()\n",
    "print (var1, len(var1), type(var1), id(var1))\n",
    "var1 = {}\n",
    "print (var1, len(var1), type(var1), id(var1))\n",
    "var1 = set()\n",
    "print (var1, len(var1), type(var1), id(var1))"
   ]
  },
  {
   "cell_type": "code",
   "execution_count": 185,
   "id": "84f7a1f9-7c80-427d-8c01-1473ddbfd476",
   "metadata": {},
   "outputs": [
    {
     "name": "stdout",
     "output_type": "stream",
     "text": [
      "{'apple': 'red', 'pineapple': 'yellow', 'mango': 'red', 'banana': 'yellow', 'lime': 'light green'} 5 <class 'dict'> 2985228304832\n"
     ]
    },
    {
     "ename": "NameError",
     "evalue": "name 'dict1' is not defined",
     "output_type": "error",
     "traceback": [
      "\u001b[1;31m---------------------------------------------------------------------------\u001b[0m",
      "\u001b[1;31mNameError\u001b[0m                                 Traceback (most recent call last)",
      "\u001b[1;32m<ipython-input-185-36adfb6b08a4>\u001b[0m in \u001b[0;36m<module>\u001b[1;34m\u001b[0m\n\u001b[0;32m      2\u001b[0m \u001b[0mprint\u001b[0m \u001b[1;33m(\u001b[0m\u001b[0mdict1\u001b[0m\u001b[1;33m,\u001b[0m \u001b[0mlen\u001b[0m\u001b[1;33m(\u001b[0m\u001b[0mdict1\u001b[0m\u001b[1;33m)\u001b[0m\u001b[1;33m,\u001b[0m \u001b[0mtype\u001b[0m\u001b[1;33m(\u001b[0m\u001b[0mdict1\u001b[0m\u001b[1;33m)\u001b[0m\u001b[1;33m,\u001b[0m \u001b[0mid\u001b[0m\u001b[1;33m(\u001b[0m\u001b[0mdict1\u001b[0m\u001b[1;33m)\u001b[0m\u001b[1;33m)\u001b[0m\u001b[1;33m\u001b[0m\u001b[1;33m\u001b[0m\u001b[0m\n\u001b[0;32m      3\u001b[0m \u001b[1;32mdel\u001b[0m \u001b[0mdict1\u001b[0m\u001b[1;33m\u001b[0m\u001b[1;33m\u001b[0m\u001b[0m\n\u001b[1;32m----> 4\u001b[1;33m \u001b[0mprint\u001b[0m \u001b[1;33m(\u001b[0m\u001b[0mdict1\u001b[0m\u001b[1;33m,\u001b[0m \u001b[0mlen\u001b[0m\u001b[1;33m(\u001b[0m\u001b[0mdict1\u001b[0m\u001b[1;33m)\u001b[0m\u001b[1;33m,\u001b[0m \u001b[0mtype\u001b[0m\u001b[1;33m(\u001b[0m\u001b[0mdict1\u001b[0m\u001b[1;33m)\u001b[0m\u001b[1;33m,\u001b[0m \u001b[0mid\u001b[0m\u001b[1;33m(\u001b[0m\u001b[0mdict1\u001b[0m\u001b[1;33m)\u001b[0m\u001b[1;33m)\u001b[0m\u001b[1;33m\u001b[0m\u001b[1;33m\u001b[0m\u001b[0m\n\u001b[0m",
      "\u001b[1;31mNameError\u001b[0m: name 'dict1' is not defined"
     ]
    }
   ],
   "source": [
    "dict1 = {'apple': 'red', 'pineapple': 'yellow', 'mango': 'red', 'banana': 'yellow', 'lime': 'light green'}\n",
    "print (dict1, len(dict1), type(dict1), id(dict1))\n",
    "del dict1\n",
    "print (dict1, len(dict1), type(dict1), id(dict1))"
   ]
  },
  {
   "cell_type": "code",
   "execution_count": 188,
   "id": "95402ca4-0cc4-4be8-a865-edea7c5d8965",
   "metadata": {},
   "outputs": [
    {
     "name": "stdout",
     "output_type": "stream",
     "text": [
      "{'apple': 'red', 'pineapple': 'yellow', 'mango': 'red', 'banana': 'yellow', 'lime': 'light green'} 5 <class 'dict'> 2985228092032\n",
      "('lime', 'light green')\n",
      "{'apple': 'red', 'pineapple': 'yellow', 'mango': 'red', 'banana': 'yellow'} 4 <class 'dict'> 2985228092032\n",
      "('banana', 'yellow')\n",
      "{'apple': 'red', 'pineapple': 'yellow', 'mango': 'red'} 3 <class 'dict'> 2985228092032\n",
      "('mango', 'red')\n",
      "{'apple': 'red', 'pineapple': 'yellow'} 2 <class 'dict'> 2985228092032\n",
      "('pineapple', 'yellow')\n",
      "{'apple': 'red'} 1 <class 'dict'> 2985228092032\n",
      "('apple', 'red')\n",
      "{} 0 <class 'dict'> 2985228092032\n"
     ]
    },
    {
     "ename": "KeyError",
     "evalue": "'popitem(): dictionary is empty'",
     "output_type": "error",
     "traceback": [
      "\u001b[1;31m---------------------------------------------------------------------------\u001b[0m",
      "\u001b[1;31mKeyError\u001b[0m                                  Traceback (most recent call last)",
      "\u001b[1;32m<ipython-input-188-49f93c579fd3>\u001b[0m in \u001b[0;36m<module>\u001b[1;34m\u001b[0m\n\u001b[0;32m     11\u001b[0m \u001b[0mprint\u001b[0m \u001b[1;33m(\u001b[0m\u001b[0mdict1\u001b[0m\u001b[1;33m.\u001b[0m\u001b[0mpopitem\u001b[0m\u001b[1;33m(\u001b[0m\u001b[1;33m)\u001b[0m\u001b[1;33m)\u001b[0m\u001b[1;33m\u001b[0m\u001b[1;33m\u001b[0m\u001b[0m\n\u001b[0;32m     12\u001b[0m \u001b[0mprint\u001b[0m \u001b[1;33m(\u001b[0m\u001b[0mdict1\u001b[0m\u001b[1;33m,\u001b[0m \u001b[0mlen\u001b[0m\u001b[1;33m(\u001b[0m\u001b[0mdict1\u001b[0m\u001b[1;33m)\u001b[0m\u001b[1;33m,\u001b[0m \u001b[0mtype\u001b[0m\u001b[1;33m(\u001b[0m\u001b[0mdict1\u001b[0m\u001b[1;33m)\u001b[0m\u001b[1;33m,\u001b[0m \u001b[0mid\u001b[0m\u001b[1;33m(\u001b[0m\u001b[0mdict1\u001b[0m\u001b[1;33m)\u001b[0m\u001b[1;33m)\u001b[0m\u001b[1;33m\u001b[0m\u001b[1;33m\u001b[0m\u001b[0m\n\u001b[1;32m---> 13\u001b[1;33m \u001b[0mprint\u001b[0m \u001b[1;33m(\u001b[0m\u001b[0mdict1\u001b[0m\u001b[1;33m.\u001b[0m\u001b[0mpopitem\u001b[0m\u001b[1;33m(\u001b[0m\u001b[1;33m)\u001b[0m\u001b[1;33m)\u001b[0m\u001b[1;33m\u001b[0m\u001b[1;33m\u001b[0m\u001b[0m\n\u001b[0m\u001b[0;32m     14\u001b[0m \u001b[0mprint\u001b[0m \u001b[1;33m(\u001b[0m\u001b[0mdict1\u001b[0m\u001b[1;33m,\u001b[0m \u001b[0mlen\u001b[0m\u001b[1;33m(\u001b[0m\u001b[0mdict1\u001b[0m\u001b[1;33m)\u001b[0m\u001b[1;33m,\u001b[0m \u001b[0mtype\u001b[0m\u001b[1;33m(\u001b[0m\u001b[0mdict1\u001b[0m\u001b[1;33m)\u001b[0m\u001b[1;33m,\u001b[0m \u001b[0mid\u001b[0m\u001b[1;33m(\u001b[0m\u001b[0mdict1\u001b[0m\u001b[1;33m)\u001b[0m\u001b[1;33m)\u001b[0m\u001b[1;33m\u001b[0m\u001b[1;33m\u001b[0m\u001b[0m\n",
      "\u001b[1;31mKeyError\u001b[0m: 'popitem(): dictionary is empty'"
     ]
    }
   ],
   "source": [
    "dict1 = {'apple': 'red', 'pineapple': 'yellow', 'mango': 'red', 'banana': 'yellow', 'lime': 'light green'}\n",
    "print (dict1, len(dict1), type(dict1), id(dict1))\n",
    "print (dict1.popitem())\n",
    "print (dict1, len(dict1), type(dict1), id(dict1))\n",
    "print (dict1.popitem())\n",
    "print (dict1, len(dict1), type(dict1), id(dict1))\n",
    "print (dict1.popitem())\n",
    "print (dict1, len(dict1), type(dict1), id(dict1))\n",
    "print (dict1.popitem())\n",
    "print (dict1, len(dict1), type(dict1), id(dict1))\n",
    "print (dict1.popitem())\n",
    "print (dict1, len(dict1), type(dict1), id(dict1))\n",
    "print (dict1.popitem())\n",
    "print (dict1, len(dict1), type(dict1), id(dict1))"
   ]
  },
  {
   "cell_type": "code",
   "execution_count": 190,
   "id": "e6f2b2a8-c63f-4614-8e2a-818c6fc407c8",
   "metadata": {},
   "outputs": [
    {
     "name": "stdout",
     "output_type": "stream",
     "text": [
      "{'apple': 'red', 'pineapple': 'yellow', 'mango': 'red', 'banana': 'yellow', 'lime': 'light green'} 5 <class 'dict'> 2985230046848\n",
      "red\n",
      "{'pineapple': 'yellow', 'mango': 'red', 'banana': 'yellow', 'lime': 'light green'} 4 <class 'dict'> 2985230046848\n",
      "yellow\n",
      "{'mango': 'red', 'banana': 'yellow', 'lime': 'light green'} 3 <class 'dict'> 2985230046848\n",
      "light green\n",
      "{'mango': 'red', 'banana': 'yellow'} 2 <class 'dict'> 2985230046848\n"
     ]
    }
   ],
   "source": [
    "dict1 = {'apple': 'red', 'pineapple': 'yellow', 'mango': 'red', 'banana': 'yellow', 'lime': 'light green'}\n",
    "print (dict1, len(dict1), type(dict1), id(dict1))\n",
    "print (dict1.pop('apple'))\n",
    "print (dict1, len(dict1), type(dict1), id(dict1))\n",
    "print (dict1.pop('pineapple'))\n",
    "print (dict1, len(dict1), type(dict1), id(dict1))\n",
    "print (dict1.pop('lime'))\n",
    "print (dict1, len(dict1), type(dict1), id(dict1))"
   ]
  },
  {
   "cell_type": "code",
   "execution_count": 192,
   "id": "92ee0389-a9a6-43dd-8f81-91e66ceea410",
   "metadata": {},
   "outputs": [
    {
     "name": "stdout",
     "output_type": "stream",
     "text": [
      "{'apple': 'red', 'pineapple': 'yellow', 'mango': 'red'} 3 <class 'dict'> 2985234057344\n",
      "{'banana': 'yellow', 'lime': 'light green'} 2 <class 'dict'> 2985234058112\n",
      "{'apple': 'red', 'pineapple': 'yellow', 'mango': 'red', 'banana': 'yellow', 'lime': 'light green'} 5 <class 'dict'> 2985234057344\n",
      "{'banana': 'yellow', 'lime': 'light green'} 2 <class 'dict'> 2985234058112\n"
     ]
    }
   ],
   "source": [
    "# concatenating two dictionaries\n",
    "dict1 = {'apple': 'red', 'pineapple': 'yellow', 'mango': 'red'}\n",
    "print (dict1, len(dict1), type(dict1), id(dict1))\n",
    "dict2 = {'banana': 'yellow', 'lime': 'light green'}\n",
    "print (dict2, len(dict2), type(dict2), id(dict2))\n",
    "dict1.update(dict2)\n",
    "print (dict1, len(dict1), type(dict1), id(dict1))\n",
    "print (dict2, len(dict2), type(dict2), id(dict2))"
   ]
  },
  {
   "cell_type": "code",
   "execution_count": 198,
   "id": "d04db6cc-9dad-4085-8e6c-13cc8272dbaf",
   "metadata": {},
   "outputs": [
    {
     "name": "stdout",
     "output_type": "stream",
     "text": [
      "{'apple': 1000, 'pineapple': 1500, 'mango': 3200, 'banana': 1200, 'lime': 40} 5 <class 'dict'> 2985234972032\n",
      "1000\n",
      "{'apple': 1000, 'pineapple': 1500, 'mango': 3200, 'banana': 1200, 'lime': 40} 5 <class 'dict'> 2985234972032\n",
      "1200\n",
      "{'apple': 1000, 'pineapple': 1500, 'mango': 3200, 'banana': 1200, 'lime': 40} 5 <class 'dict'> 2985234972032\n",
      "900\n",
      "{'apple': 1000, 'pineapple': 1500, 'mango': 3200, 'banana': 1200, 'lime': 40, 'coconut': 900} 6 <class 'dict'> 2985234972032\n"
     ]
    }
   ],
   "source": [
    "# use of setdefault()\n",
    "dict1 = {'apple': 1000, 'pineapple': 1500, 'mango': 3200, 'banana': 1200, 'lime': 40}\n",
    "print (dict1, len(dict1), type(dict1), id(dict1))\n",
    "print (dict1.setdefault('apple', 900))\n",
    "print (dict1, len(dict1), type(dict1), id(dict1))\n",
    "print (dict1.setdefault('banana', 900))\n",
    "print (dict1, len(dict1), type(dict1), id(dict1))\n",
    "print (dict1.setdefault('coconut', 900))\n",
    "print (dict1, len(dict1), type(dict1), id(dict1))"
   ]
  },
  {
   "cell_type": "code",
   "execution_count": 200,
   "id": "b54061da-c23e-4fd9-a8bd-c3875752420a",
   "metadata": {},
   "outputs": [
    {
     "name": "stdout",
     "output_type": "stream",
     "text": [
      "{'apple': 500, 'pineapple': 500, 'mango': 500, 'banana': 500, 'lime': 500} 5 <class 'dict'> 2985229396224\n"
     ]
    }
   ],
   "source": [
    "# use of fromkeys()\n",
    "my_keys = ['apple', 'pineapple', 'mango', 'banana', 'lime']\n",
    "value = 500\n",
    "dict1 = dict.fromkeys(my_keys, value)\n",
    "print (dict1, len(dict1), type(dict1), id(dict1))"
   ]
  },
  {
   "cell_type": "code",
   "execution_count": 203,
   "id": "7886e64c-92ad-4979-9e6d-b69d4a9e90b6",
   "metadata": {},
   "outputs": [
    {
     "name": "stdout",
     "output_type": "stream",
     "text": [
      "<zip object at 0x000002B70DAF0100> <class 'zip'>\n",
      "[('apple', 300), ('pineapple', 400), ('mango', 100), ('banana', 600), ('lime', 800)] <class 'list'>\n",
      "(('apple', 300), ('pineapple', 400), ('mango', 100), ('banana', 600), ('lime', 800)) <class 'tuple'>\n",
      "{'apple': 300, 'pineapple': 400, 'mango': 100, 'banana': 600, 'lime': 800} <class 'dict'>\n",
      "{'apple': 300, 'pineapple': 400, 'mango': 100, 'banana': 600, 'lime': 800} <class 'dict'>\n"
     ]
    }
   ],
   "source": [
    "# use of zip()\n",
    "fruits = ['apple', 'pineapple', 'mango', 'banana', 'lime']\n",
    "prices = [300, 400, 100, 600, 800, 1200, 1600]\n",
    "result = zip(fruits, prices)\n",
    "print (result, type(result))\n",
    "result = list(zip(fruits, prices))\n",
    "print (result, type(result))\n",
    "result = tuple(zip(fruits, prices))\n",
    "print (result, type(result))\n",
    "result = dict(zip(fruits, prices))\n",
    "print (result, type(result))\n",
    "result = dict(list(zip(fruits, prices)))\n",
    "print (result, type(result))"
   ]
  },
  {
   "cell_type": "code",
   "execution_count": 204,
   "id": "bf49ac35-6bde-44b9-aa77-18ca544af710",
   "metadata": {},
   "outputs": [
    {
     "name": "stdout",
     "output_type": "stream",
     "text": [
      "February\n",
      "October\n",
      "June\n",
      "Invalid month no passed...!!!\n"
     ]
    }
   ],
   "source": [
    "def switch_def(month_no):\n",
    "    switcher = {1:\"January\",\n",
    "                2:\"February\",\n",
    "                3:\"March\",\n",
    "                4:\"April\",\n",
    "                5:\"May\",\n",
    "                6:\"June\",\n",
    "                7:\"July\",\n",
    "                8:\"August\",\n",
    "                9:\"Spetember\",\n",
    "               10:\"October\",\n",
    "               11:\"November\",\n",
    "               12:\"December\"}\n",
    "    return switcher.get(month_no, \"Invalid month no passed...!!!\")\n",
    "\n",
    "print (switch_def(2))\n",
    "print (switch_def(10))\n",
    "print (switch_def(6))\n",
    "print (switch_def(22))"
   ]
  },
  {
   "cell_type": "code",
   "execution_count": null,
   "id": "2842a4eb-1c04-4fdc-9e6d-655460720e08",
   "metadata": {},
   "outputs": [],
   "source": []
  },
  {
   "cell_type": "markdown",
   "id": "0ad1770f-bca8-48bb-b41e-afa589f38fb2",
   "metadata": {},
   "source": [
    "### Set Processing"
   ]
  },
  {
   "cell_type": "code",
   "execution_count": 7,
   "id": "ed24c47a-c975-4522-902c-09b194a28822",
   "metadata": {},
   "outputs": [
    {
     "name": "stdout",
     "output_type": "stream",
     "text": [
      "{33, 66, 11, 44, 22, 55} 6 <class 'set'> 2485472304480\n",
      "{33, 66, 11, 44, 22, 55} 6 <class 'set'> 2485472304928\n",
      "{33, 66, 11, 44, 22, 55} 6 <class 'set'> 2485472304480\n"
     ]
    }
   ],
   "source": [
    "# forming set from a list\n",
    "set1 = set([44, 11, 44, 22, 33, 33, 11, 33, 22, 44, 66, 55, 66, 66, 55])\n",
    "print (set1, len(set1), type(set1), id(set1))\n",
    "# forming set from a tuple\n",
    "set1 = set((44, 11, 44, 22, 33, 33, 11, 33, 22, 44, 66, 55, 66, 66, 55))\n",
    "print (set1, len(set1), type(set1), id(set1))\n",
    "# forming set directly\n",
    "set1 = {44, 11, 44, 22, 33, 33, 11, 33, 22, 44, 66, 55, 66, 66, 55}\n",
    "print (set1, len(set1), type(set1), id(set1))"
   ]
  },
  {
   "cell_type": "markdown",
   "id": "85548c96",
   "metadata": {},
   "source": [
    "#### Set Operations"
   ]
  },
  {
   "attachments": {
    "SetOperations.png": {
     "image/png": "[encoded data removed]"
    }
   },
   "cell_type": "markdown",
   "id": "a23f846f",
   "metadata": {},
   "source": [
    "![SetOperations.png](attachment:SetOperations.png)"
   ]
  },
  {
   "cell_type": "code",
   "execution_count": 18,
   "id": "120bb890-6fb4-415e-9fb4-7df3fc01fb6d",
   "metadata": {},
   "outputs": [
    {
     "name": "stdout",
     "output_type": "stream",
     "text": [
      "{'viper', 'cobra', 'python'} 3 <class 'set'> 2485494515744\n",
      "{'java', 'c++', 'python'} 3 <class 'set'> 2485494515072\n",
      "{'c++', 'java', 'viper', 'cobra', 'python'} 5 <class 'set'> 2485494514624\n",
      "{'c++', 'java', 'viper', 'cobra', 'python'} 5 <class 'set'> 2485494513728\n",
      "{'viper', 'cobra', 'python'} 3 <class 'set'> 2485494515744\n",
      "{'java', 'c++', 'python'} 3 <class 'set'> 2485494515072\n"
     ]
    }
   ],
   "source": [
    "# set union operations\n",
    "snakes = {\"python\", \"cobra\", \"viper\"}\n",
    "print (snakes, len(snakes), type(snakes), id(snakes))\n",
    "languages = {\"java\", \"c++\", \"python\"}\n",
    "print (languages, len(languages), type(languages), id(languages))\n",
    "result = snakes.union(languages)\n",
    "print (result, len(result), type(result), id(result))\n",
    "result = snakes | languages\n",
    "print (result, len(result), type(result), id(result))\n",
    "print (snakes, len(snakes), type(snakes), id(snakes))\n",
    "print (languages, len(languages), type(languages), id(languages))"
   ]
  },
  {
   "cell_type": "code",
   "execution_count": 20,
   "id": "b2e6bf3f-63fe-40bc-a54e-efff9cbf7cd4",
   "metadata": {},
   "outputs": [
    {
     "name": "stdout",
     "output_type": "stream",
     "text": [
      "{'viper', 'cobra', 'python'} 3 <class 'set'> 2485494514176\n",
      "{'java', 'c++', 'python'} 3 <class 'set'> 2485495681088\n",
      "{'python'} 1 <class 'set'> 2485495682208\n",
      "{'python'} 1 <class 'set'> 2485495681760\n",
      "{'viper', 'cobra', 'python'} 3 <class 'set'> 2485494514176\n",
      "{'java', 'c++', 'python'} 3 <class 'set'> 2485495681088\n",
      "\n",
      "{'python'} 1 <class 'set'> 2485494514176\n",
      "{'java', 'c++', 'python'} 3 <class 'set'> 2485495681088\n"
     ]
    }
   ],
   "source": [
    "# set intersection operations\n",
    "snakes = {\"python\", \"cobra\", \"viper\"}\n",
    "print (snakes, len(snakes), type(snakes), id(snakes))\n",
    "languages = {\"java\", \"c++\", \"python\"}\n",
    "print (languages, len(languages), type(languages), id(languages))\n",
    "result = snakes.intersection(languages)\n",
    "print (result, len(result), type(result), id(result))\n",
    "result = snakes & languages\n",
    "print (result, len(result), type(result), id(result))\n",
    "print (snakes, len(snakes), type(snakes), id(snakes))\n",
    "print (languages, len(languages), type(languages), id(languages))\n",
    "print ()\n",
    "snakes.intersection_update(languages)\n",
    "print (snakes, len(snakes), type(snakes), id(snakes))\n",
    "print (languages, len(languages), type(languages), id(languages))"
   ]
  },
  {
   "cell_type": "code",
   "execution_count": 24,
   "id": "8bd29472-7ace-45b1-8ab4-cc961969cafc",
   "metadata": {},
   "outputs": [
    {
     "name": "stdout",
     "output_type": "stream",
     "text": [
      "{'viper', 'cobra', 'python'} 3 <class 'set'> 2485495826464\n",
      "{'java', 'c++', 'python'} 3 <class 'set'> 2485495827808\n",
      "{'viper', 'cobra'} 2 <class 'set'> 2485495828256\n",
      "{'viper', 'cobra'} 2 <class 'set'> 2485495828032\n",
      "{'viper', 'cobra', 'python'} 3 <class 'set'> 2485495826464\n",
      "{'java', 'c++', 'python'} 3 <class 'set'> 2485495827808\n",
      "\n",
      "{'viper', 'cobra'} 2 <class 'set'> 2485495826464\n",
      "{'java', 'c++', 'python'} 3 <class 'set'> 2485495827808\n"
     ]
    }
   ],
   "source": [
    "# set difference operations\n",
    "snakes = {\"python\", \"cobra\", \"viper\"}\n",
    "print (snakes, len(snakes), type(snakes), id(snakes))\n",
    "languages = {\"java\", \"c++\", \"python\"}\n",
    "print (languages, len(languages), type(languages), id(languages))\n",
    "result = snakes.difference(languages)\n",
    "print (result, len(result), type(result), id(result))\n",
    "result = snakes - languages\n",
    "print (result, len(result), type(result), id(result))\n",
    "print (snakes, len(snakes), type(snakes), id(snakes))\n",
    "print (languages, len(languages), type(languages), id(languages))\n",
    "print ()\n",
    "snakes.difference_update(languages)\n",
    "print (snakes, len(snakes), type(snakes), id(snakes))\n",
    "print (languages, len(languages), type(languages), id(languages))"
   ]
  },
  {
   "cell_type": "code",
   "execution_count": 27,
   "id": "5b1a6e0f-bdba-4c38-b3df-cfd31ed8eea6",
   "metadata": {},
   "outputs": [
    {
     "name": "stdout",
     "output_type": "stream",
     "text": [
      "{'viper', 'cobra', 'python'} 3 <class 'set'> 2485500108576\n",
      "{'java', 'c++', 'python'} 3 <class 'set'> 2485500107680\n",
      "{'java', 'c++', 'viper', 'cobra'} 4 <class 'set'> 2485495452160\n",
      "{'java', 'c++', 'viper', 'cobra'} 4 <class 'set'> 2485495453728\n",
      "{'viper', 'cobra', 'python'} 3 <class 'set'> 2485500108576\n",
      "{'java', 'c++', 'python'} 3 <class 'set'> 2485500107680\n",
      "\n",
      "{'java', 'c++', 'viper', 'cobra'} 4 <class 'set'> 2485500108576\n",
      "{'java', 'c++', 'python'} 3 <class 'set'> 2485500107680\n"
     ]
    }
   ],
   "source": [
    "# set symmetric difference operations\n",
    "snakes = {\"python\", \"cobra\", \"viper\"}\n",
    "print (snakes, len(snakes), type(snakes), id(snakes))\n",
    "languages = {\"java\", \"c++\", \"python\"}\n",
    "print (languages, len(languages), type(languages), id(languages))\n",
    "result = snakes.symmetric_difference(languages)\n",
    "print (result, len(result), type(result), id(result))\n",
    "result = snakes ^ languages\n",
    "print (result, len(result), type(result), id(result))\n",
    "print (snakes, len(snakes), type(snakes), id(snakes))\n",
    "print (languages, len(languages), type(languages), id(languages))\n",
    "print ()\n",
    "snakes.symmetric_difference_update(languages)\n",
    "print (snakes, len(snakes), type(snakes), id(snakes))\n",
    "print (languages, len(languages), type(languages), id(languages))"
   ]
  },
  {
   "cell_type": "code",
   "execution_count": 33,
   "id": "39732f0c-7320-4136-bb5e-14322aed4452",
   "metadata": {},
   "outputs": [
    {
     "name": "stdout",
     "output_type": "stream",
     "text": [
      "{33, 11, 22} {66, 99, 44, 77, 55, 88} {66, 99, 55}\n",
      "False True\n",
      "False True\n",
      "True False\n"
     ]
    }
   ],
   "source": [
    "set1 = set([11, 22, 33])\n",
    "set2 = set([44, 55, 66, 88, 77, 99])\n",
    "set3 = set([55, 66, 99])\n",
    "print (set1, set2, set3)\n",
    "print (set1.issuperset(set2), set2.issuperset(set3))\n",
    "print (set1.issubset(set2), set3.issubset(set2))\n",
    "print (set1.isdisjoint(set2), set2.isdisjoint(set3))"
   ]
  },
  {
   "cell_type": "code",
   "execution_count": 38,
   "id": "9316f804-ecfc-4d83-b52b-01d6fc0a925c",
   "metadata": {},
   "outputs": [
    {
     "name": "stdout",
     "output_type": "stream",
     "text": [
      "{'java', 'c++', 'python'} 3 <class 'set'> 2485494858240\n",
      "{'java', 'c++', 'r', 'python'} 4 <class 'set'> 2485494858240\n",
      "{'java', 'c++', 'r', 'perl', 'python'} 5 <class 'set'> 2485494858240\n",
      "{'kotlin', 'java', 'c++', 'r', 'perl', 'python'} 6 <class 'set'> 2485494858240\n",
      "{'kotlin', 'java', 'c++', 'r', 'perl', 'python'} 6 <class 'set'> 2485494858240\n"
     ]
    }
   ],
   "source": [
    "# insertion operation on a set\n",
    "languages = {\"java\", \"c++\", \"python\"}\n",
    "print (languages, len(languages), type(languages), id(languages))\n",
    "languages.add(\"r\")\n",
    "print (languages, len(languages), type(languages), id(languages))\n",
    "languages.add(\"perl\")\n",
    "print (languages, len(languages), type(languages), id(languages))\n",
    "languages.add(\"kotlin\")\n",
    "print (languages, len(languages), type(languages), id(languages))\n",
    "languages.add(\"java\")\n",
    "print (languages, len(languages), type(languages), id(languages))"
   ]
  },
  {
   "cell_type": "code",
   "execution_count": 40,
   "id": "2ce2dfb1-44eb-47c6-9d1b-491bd3af3a33",
   "metadata": {},
   "outputs": [
    {
     "name": "stdout",
     "output_type": "stream",
     "text": [
      "{'kotlin', 'java', 'c++', 'r', 'perl', 'python'} 6 <class 'set'> 2485494860480\n",
      "set() 0 <class 'set'> 2485494860480\n"
     ]
    }
   ],
   "source": [
    "# deletion operation on a set\n",
    "languages = {'kotlin', 'java', 'c++', 'r', 'perl', 'python'}\n",
    "print (languages, len(languages), type(languages), id(languages))\n",
    "languages.clear()\n",
    "print (languages, len(languages), type(languages), id(languages))"
   ]
  },
  {
   "cell_type": "code",
   "execution_count": 41,
   "id": "13b57a75-5db7-4d33-acad-290fc63b0d6f",
   "metadata": {},
   "outputs": [
    {
     "name": "stdout",
     "output_type": "stream",
     "text": [
      "{'kotlin', 'java', 'c++', 'r', 'perl', 'python'} 6 <class 'set'> 2485491316096\n"
     ]
    },
    {
     "ename": "NameError",
     "evalue": "name 'languages' is not defined",
     "output_type": "error",
     "traceback": [
      "\u001b[1;31m---------------------------------------------------------------------------\u001b[0m",
      "\u001b[1;31mNameError\u001b[0m                                 Traceback (most recent call last)",
      "\u001b[1;32m<ipython-input-41-44ba85a6f7ed>\u001b[0m in \u001b[0;36m<module>\u001b[1;34m\u001b[0m\n\u001b[0;32m      2\u001b[0m \u001b[0mprint\u001b[0m \u001b[1;33m(\u001b[0m\u001b[0mlanguages\u001b[0m\u001b[1;33m,\u001b[0m \u001b[0mlen\u001b[0m\u001b[1;33m(\u001b[0m\u001b[0mlanguages\u001b[0m\u001b[1;33m)\u001b[0m\u001b[1;33m,\u001b[0m \u001b[0mtype\u001b[0m\u001b[1;33m(\u001b[0m\u001b[0mlanguages\u001b[0m\u001b[1;33m)\u001b[0m\u001b[1;33m,\u001b[0m \u001b[0mid\u001b[0m\u001b[1;33m(\u001b[0m\u001b[0mlanguages\u001b[0m\u001b[1;33m)\u001b[0m\u001b[1;33m)\u001b[0m\u001b[1;33m\u001b[0m\u001b[1;33m\u001b[0m\u001b[0m\n\u001b[0;32m      3\u001b[0m \u001b[1;32mdel\u001b[0m \u001b[0mlanguages\u001b[0m\u001b[1;33m\u001b[0m\u001b[1;33m\u001b[0m\u001b[0m\n\u001b[1;32m----> 4\u001b[1;33m \u001b[0mprint\u001b[0m \u001b[1;33m(\u001b[0m\u001b[0mlanguages\u001b[0m\u001b[1;33m,\u001b[0m \u001b[0mlen\u001b[0m\u001b[1;33m(\u001b[0m\u001b[0mlanguages\u001b[0m\u001b[1;33m)\u001b[0m\u001b[1;33m,\u001b[0m \u001b[0mtype\u001b[0m\u001b[1;33m(\u001b[0m\u001b[0mlanguages\u001b[0m\u001b[1;33m)\u001b[0m\u001b[1;33m,\u001b[0m \u001b[0mid\u001b[0m\u001b[1;33m(\u001b[0m\u001b[0mlanguages\u001b[0m\u001b[1;33m)\u001b[0m\u001b[1;33m)\u001b[0m\u001b[1;33m\u001b[0m\u001b[1;33m\u001b[0m\u001b[0m\n\u001b[0m",
      "\u001b[1;31mNameError\u001b[0m: name 'languages' is not defined"
     ]
    }
   ],
   "source": [
    "languages = {'kotlin', 'java', 'c++', 'r', 'perl', 'python'}\n",
    "print (languages, len(languages), type(languages), id(languages))\n",
    "del languages\n",
    "print (languages, len(languages), type(languages), id(languages))"
   ]
  },
  {
   "cell_type": "code",
   "execution_count": 42,
   "id": "5f9d25a5-ffb8-42eb-a697-e8bc1bed150b",
   "metadata": {},
   "outputs": [
    {
     "name": "stdout",
     "output_type": "stream",
     "text": [
      "{'kotlin', 'java', 'c++', 'r', 'perl', 'python'} 6 <class 'set'> 2485490646144\n",
      "kotlin\n",
      "{'java', 'c++', 'r', 'perl', 'python'} 5 <class 'set'> 2485490646144\n",
      "java\n",
      "{'c++', 'r', 'perl', 'python'} 4 <class 'set'> 2485490646144\n",
      "c++\n",
      "{'r', 'perl', 'python'} 3 <class 'set'> 2485490646144\n",
      "r\n",
      "{'perl', 'python'} 2 <class 'set'> 2485490646144\n"
     ]
    }
   ],
   "source": [
    "languages = {'kotlin', 'java', 'c++', 'r', 'perl', 'python'}\n",
    "print (languages, len(languages), type(languages), id(languages))\n",
    "print (languages.pop())\n",
    "print (languages, len(languages), type(languages), id(languages))\n",
    "print (languages.pop())\n",
    "print (languages, len(languages), type(languages), id(languages))\n",
    "print (languages.pop())\n",
    "print (languages, len(languages), type(languages), id(languages))\n",
    "print (languages.pop())\n",
    "print (languages, len(languages), type(languages), id(languages))"
   ]
  },
  {
   "cell_type": "code",
   "execution_count": 46,
   "id": "46744ef9-6311-4e26-b412-33a7b0d432ca",
   "metadata": {},
   "outputs": [
    {
     "name": "stdout",
     "output_type": "stream",
     "text": [
      "{'kotlin', 'java', 'c++', 'r', 'perl', 'python'} 6 <class 'set'> 2485502316832\n",
      "{'kotlin', 'c++', 'r', 'perl', 'python'} 5 <class 'set'> 2485502316832\n",
      "{'kotlin', 'r', 'perl', 'python'} 4 <class 'set'> 2485502316832\n",
      "{'kotlin', 'r', 'python'} 3 <class 'set'> 2485502316832\n"
     ]
    },
    {
     "ename": "KeyError",
     "evalue": "'c'",
     "output_type": "error",
     "traceback": [
      "\u001b[1;31m---------------------------------------------------------------------------\u001b[0m",
      "\u001b[1;31mKeyError\u001b[0m                                  Traceback (most recent call last)",
      "\u001b[1;32m<ipython-input-46-90d0ab6c745c>\u001b[0m in \u001b[0;36m<module>\u001b[1;34m\u001b[0m\n\u001b[0;32m      7\u001b[0m \u001b[0mlanguages\u001b[0m\u001b[1;33m.\u001b[0m\u001b[0mremove\u001b[0m\u001b[1;33m(\u001b[0m\u001b[1;34m'perl'\u001b[0m\u001b[1;33m)\u001b[0m\u001b[1;33m\u001b[0m\u001b[1;33m\u001b[0m\u001b[0m\n\u001b[0;32m      8\u001b[0m \u001b[0mprint\u001b[0m \u001b[1;33m(\u001b[0m\u001b[0mlanguages\u001b[0m\u001b[1;33m,\u001b[0m \u001b[0mlen\u001b[0m\u001b[1;33m(\u001b[0m\u001b[0mlanguages\u001b[0m\u001b[1;33m)\u001b[0m\u001b[1;33m,\u001b[0m \u001b[0mtype\u001b[0m\u001b[1;33m(\u001b[0m\u001b[0mlanguages\u001b[0m\u001b[1;33m)\u001b[0m\u001b[1;33m,\u001b[0m \u001b[0mid\u001b[0m\u001b[1;33m(\u001b[0m\u001b[0mlanguages\u001b[0m\u001b[1;33m)\u001b[0m\u001b[1;33m)\u001b[0m\u001b[1;33m\u001b[0m\u001b[1;33m\u001b[0m\u001b[0m\n\u001b[1;32m----> 9\u001b[1;33m \u001b[0mlanguages\u001b[0m\u001b[1;33m.\u001b[0m\u001b[0mremove\u001b[0m\u001b[1;33m(\u001b[0m\u001b[1;34m'c'\u001b[0m\u001b[1;33m)\u001b[0m\u001b[1;33m\u001b[0m\u001b[1;33m\u001b[0m\u001b[0m\n\u001b[0m\u001b[0;32m     10\u001b[0m \u001b[0mprint\u001b[0m \u001b[1;33m(\u001b[0m\u001b[0mlanguages\u001b[0m\u001b[1;33m,\u001b[0m \u001b[0mlen\u001b[0m\u001b[1;33m(\u001b[0m\u001b[0mlanguages\u001b[0m\u001b[1;33m)\u001b[0m\u001b[1;33m,\u001b[0m \u001b[0mtype\u001b[0m\u001b[1;33m(\u001b[0m\u001b[0mlanguages\u001b[0m\u001b[1;33m)\u001b[0m\u001b[1;33m,\u001b[0m \u001b[0mid\u001b[0m\u001b[1;33m(\u001b[0m\u001b[0mlanguages\u001b[0m\u001b[1;33m)\u001b[0m\u001b[1;33m)\u001b[0m\u001b[1;33m\u001b[0m\u001b[1;33m\u001b[0m\u001b[0m\n",
      "\u001b[1;31mKeyError\u001b[0m: 'c'"
     ]
    }
   ],
   "source": [
    "languages = {'kotlin', 'java', 'c++', 'r', 'perl', 'python'}\n",
    "print (languages, len(languages), type(languages), id(languages))\n",
    "languages.remove('java')\n",
    "print (languages, len(languages), type(languages), id(languages))\n",
    "languages.remove('c++')\n",
    "print (languages, len(languages), type(languages), id(languages))\n",
    "languages.remove('perl')\n",
    "print (languages, len(languages), type(languages), id(languages))\n",
    "languages.remove('c')\n",
    "print (languages, len(languages), type(languages), id(languages))"
   ]
  },
  {
   "cell_type": "code",
   "execution_count": 47,
   "id": "0fa5bda9-e283-4970-8232-7c17c775adfe",
   "metadata": {},
   "outputs": [
    {
     "name": "stdout",
     "output_type": "stream",
     "text": [
      "{'kotlin', 'java', 'c++', 'r', 'perl', 'python'} 6 <class 'set'> 2485491636704\n",
      "{'kotlin', 'c++', 'r', 'perl', 'python'} 5 <class 'set'> 2485491636704\n",
      "{'kotlin', 'r', 'perl', 'python'} 4 <class 'set'> 2485491636704\n",
      "{'kotlin', 'r', 'python'} 3 <class 'set'> 2485491636704\n",
      "{'kotlin', 'r', 'python'} 3 <class 'set'> 2485491636704\n"
     ]
    }
   ],
   "source": [
    "languages = {'kotlin', 'java', 'c++', 'r', 'perl', 'python'}\n",
    "print (languages, len(languages), type(languages), id(languages))\n",
    "languages.discard('java')\n",
    "print (languages, len(languages), type(languages), id(languages))\n",
    "languages.discard('c++')\n",
    "print (languages, len(languages), type(languages), id(languages))\n",
    "languages.discard('perl')\n",
    "print (languages, len(languages), type(languages), id(languages))\n",
    "languages.discard('c')\n",
    "print (languages, len(languages), type(languages), id(languages))"
   ]
  },
  {
   "cell_type": "code",
   "execution_count": 45,
   "id": "67b5d0e3-8ef5-4db0-b815-59f6d7291a75",
   "metadata": {},
   "outputs": [
    {
     "name": "stdout",
     "output_type": "stream",
     "text": [
      "{'kotlin', 'java', 'c++', 'r', 'perl', 'python'} 6 <class 'set'> 2485494979040\n",
      "{'kotlin', 'c++', 'r', 'perl', 'python'} 5 <class 'set'> 2485494979040\n",
      "{'haskel', 'kotlin', 'c++', 'r', 'perl', 'python'} 6 <class 'set'> 2485494979040\n"
     ]
    }
   ],
   "source": [
    "# update operation on a set\n",
    "languages = {'kotlin', 'java', 'c++', 'r', 'perl', 'python'}\n",
    "print (languages, len(languages), type(languages), id(languages))\n",
    "languages.remove('java')\n",
    "print (languages, len(languages), type(languages), id(languages))\n",
    "languages.add('haskel')\n",
    "print (languages, len(languages), type(languages), id(languages))"
   ]
  },
  {
   "cell_type": "code",
   "execution_count": 49,
   "id": "4f6ba188-ade1-4225-be56-6b29f48757e4",
   "metadata": {},
   "outputs": [
    {
     "name": "stdout",
     "output_type": "stream",
     "text": [
      "{'java', 'c++', 'kotlin', 'r'} 4 <class 'set'> 2485496344128\n",
      "{'python', 'c', 'perl'} 3 <class 'set'> 2485496343456\n",
      "{'c++', 'kotlin', 'r', 'perl', 'java', 'c', 'python'} 7 <class 'set'> 2485496344128\n",
      "{'python', 'c', 'perl'} 3 <class 'set'> 2485496343456\n"
     ]
    }
   ],
   "source": [
    "languages1 = {'kotlin', 'java', 'c++', 'r'}\n",
    "print (languages1, len(languages1), type(languages1), id(languages1))\n",
    "languages2 = {'c', 'perl', 'python'}\n",
    "print (languages2, len(languages2), type(languages2), id(languages2))\n",
    "languages1.update(languages2)   # set concatenation\n",
    "print (languages1, len(languages1), type(languages1), id(languages1))\n",
    "print (languages2, len(languages2), type(languages2), id(languages2))"
   ]
  },
  {
   "cell_type": "markdown",
   "id": "7aa6b75a-37ca-429f-a4ae-64dd8bd3efad",
   "metadata": {},
   "source": [
    "### Frozen-Set Processing"
   ]
  },
  {
   "cell_type": "code",
   "execution_count": 11,
   "id": "820e0207-fa37-498b-826c-1063747133df",
   "metadata": {},
   "outputs": [
    {
     "name": "stdout",
     "output_type": "stream",
     "text": [
      "frozenset({33, 66, 11, 44, 22, 55}) 6 <class 'frozenset'> 2485493608512\n",
      "frozenset({33, 66, 11, 44, 22, 55}) 6 <class 'frozenset'> 2485493447808\n"
     ]
    }
   ],
   "source": [
    "# forming frozenset from a list\n",
    "set1 = frozenset([44, 11, 44, 22, 33, 33, 11, 33, 22, 44, 66, 55, 66, 66, 55])\n",
    "print (set1, len(set1), type(set1), id(set1))\n",
    "# forming frozenset from a tuple\n",
    "set1 = frozenset((44, 11, 44, 22, 33, 33, 11, 33, 22, 44, 66, 55, 66, 66, 55))\n",
    "print (set1, len(set1), type(set1), id(set1))"
   ]
  },
  {
   "cell_type": "code",
   "execution_count": 17,
   "id": "77324e68-027c-49ee-809e-11c320c4142a",
   "metadata": {},
   "outputs": [
    {
     "name": "stdout",
     "output_type": "stream",
     "text": [
      "frozenset({'viper', 'cobra', 'python'}) 3 <class 'frozenset'> 2485494515072\n",
      "frozenset({'java', 'c++', 'python'}) 3 <class 'frozenset'> 2485494514176\n",
      "frozenset({'c++', 'java', 'viper', 'cobra', 'python'}) 5 <class 'frozenset'> 2485494515296\n",
      "frozenset({'c++', 'java', 'viper', 'cobra', 'python'}) 5 <class 'frozenset'> 2485494513728\n",
      "frozenset({'viper', 'cobra', 'python'}) 3 <class 'frozenset'> 2485494515072\n",
      "frozenset({'java', 'c++', 'python'}) 3 <class 'frozenset'> 2485494514176\n"
     ]
    }
   ],
   "source": [
    "# frozenset union operations\n",
    "snakes = frozenset([\"python\", \"cobra\", \"viper\"])\n",
    "print (snakes, len(snakes), type(snakes), id(snakes))\n",
    "languages = frozenset([\"java\", \"c++\", \"python\"])\n",
    "print (languages, len(languages), type(languages), id(languages))\n",
    "result = snakes.union(languages)\n",
    "print (result, len(result), type(result), id(result))\n",
    "result = snakes | languages\n",
    "print (result, len(result), type(result), id(result))\n",
    "print (snakes, len(snakes), type(snakes), id(snakes))\n",
    "print (languages, len(languages), type(languages), id(languages))"
   ]
  },
  {
   "cell_type": "code",
   "execution_count": 23,
   "id": "36544d58-a053-415c-9e71-7d4cd531ddfd",
   "metadata": {},
   "outputs": [
    {
     "name": "stdout",
     "output_type": "stream",
     "text": [
      "frozenset({'viper', 'cobra', 'python'}) 3 <class 'frozenset'> 2485495682208\n",
      "frozenset({'java', 'c++', 'python'}) 3 <class 'frozenset'> 2485494514176\n",
      "frozenset({'python'}) 1 <class 'frozenset'> 2485495681536\n",
      "frozenset({'python'}) 1 <class 'frozenset'> 2485495681088\n",
      "frozenset({'viper', 'cobra', 'python'}) 3 <class 'frozenset'> 2485495682208\n",
      "frozenset({'java', 'c++', 'python'}) 3 <class 'frozenset'> 2485494514176\n"
     ]
    }
   ],
   "source": [
    "# frozenset intersection operations\n",
    "snakes = frozenset([\"python\", \"cobra\", \"viper\"])\n",
    "print (snakes, len(snakes), type(snakes), id(snakes))\n",
    "languages = frozenset([\"java\", \"c++\", \"python\"])\n",
    "print (languages, len(languages), type(languages), id(languages))\n",
    "result = snakes.intersection(languages)\n",
    "print (result, len(result), type(result), id(result))\n",
    "result = snakes & languages\n",
    "print (result, len(result), type(result), id(result))\n",
    "print (snakes, len(snakes), type(snakes), id(snakes))\n",
    "print (languages, len(languages), type(languages), id(languages))"
   ]
  },
  {
   "cell_type": "code",
   "execution_count": 26,
   "id": "45142ccb-8c6e-4667-bda1-3a1760b7ecc4",
   "metadata": {},
   "outputs": [
    {
     "name": "stdout",
     "output_type": "stream",
     "text": [
      "frozenset({'viper', 'cobra', 'python'}) 3 <class 'frozenset'> 2485495827808\n",
      "frozenset({'java', 'c++', 'python'}) 3 <class 'frozenset'> 2485493912288\n",
      "frozenset({'viper', 'cobra'}) 2 <class 'frozenset'> 2485495826464\n",
      "frozenset({'viper', 'cobra'}) 2 <class 'frozenset'> 2485495828032\n",
      "frozenset({'viper', 'cobra', 'python'}) 3 <class 'frozenset'> 2485495827808\n",
      "frozenset({'java', 'c++', 'python'}) 3 <class 'frozenset'> 2485493912288\n"
     ]
    }
   ],
   "source": [
    "# frozenset difference operations\n",
    "snakes = frozenset([\"python\", \"cobra\", \"viper\"])\n",
    "print (snakes, len(snakes), type(snakes), id(snakes))\n",
    "languages = frozenset([\"java\", \"c++\", \"python\"])\n",
    "print (languages, len(languages), type(languages), id(languages))\n",
    "result = snakes.difference(languages)\n",
    "print (result, len(result), type(result), id(result))\n",
    "result = snakes - languages\n",
    "print (result, len(result), type(result), id(result))\n",
    "print (snakes, len(snakes), type(snakes), id(snakes))\n",
    "print (languages, len(languages), type(languages), id(languages))"
   ]
  },
  {
   "cell_type": "code",
   "execution_count": 29,
   "id": "52ed4a42-c1e4-4e9e-8b0c-036f6affaf76",
   "metadata": {},
   "outputs": [
    {
     "name": "stdout",
     "output_type": "stream",
     "text": [
      "frozenset({'viper', 'cobra', 'python'}) 3 <class 'frozenset'> 2485495451712\n",
      "frozenset({'java', 'c++', 'python'}) 3 <class 'frozenset'> 2485495453056\n",
      "frozenset({'java', 'c++', 'viper', 'cobra'}) 4 <class 'frozenset'> 2485500108576\n",
      "frozenset({'java', 'c++', 'viper', 'cobra'}) 4 <class 'frozenset'> 2485495453728\n",
      "frozenset({'viper', 'cobra', 'python'}) 3 <class 'frozenset'> 2485495451712\n",
      "frozenset({'java', 'c++', 'python'}) 3 <class 'frozenset'> 2485495453056\n"
     ]
    }
   ],
   "source": [
    "# frozenset symmetric difference operations\n",
    "snakes = frozenset([\"python\", \"cobra\", \"viper\"])\n",
    "print (snakes, len(snakes), type(snakes), id(snakes))\n",
    "languages = frozenset([\"java\", \"c++\", \"python\"])\n",
    "print (languages, len(languages), type(languages), id(languages))\n",
    "result = snakes.symmetric_difference(languages)\n",
    "print (result, len(result), type(result), id(result))\n",
    "result = snakes ^ languages\n",
    "print (result, len(result), type(result), id(result))\n",
    "print (snakes, len(snakes), type(snakes), id(snakes))\n",
    "print (languages, len(languages), type(languages), id(languages))"
   ]
  },
  {
   "cell_type": "code",
   "execution_count": 34,
   "id": "10234f40-4854-4d14-b683-0a7078dc78f7",
   "metadata": {},
   "outputs": [
    {
     "name": "stdout",
     "output_type": "stream",
     "text": [
      "frozenset({33, 11, 22}) frozenset({66, 99, 44, 77, 55, 88}) frozenset({66, 99, 55})\n",
      "False True\n",
      "False True\n",
      "True False\n"
     ]
    }
   ],
   "source": [
    "set1 = frozenset([11, 22, 33])\n",
    "set2 = frozenset([44, 55, 66, 88, 77, 99])\n",
    "set3 = frozenset([55, 66, 99])\n",
    "print (set1, set2, set3)\n",
    "print (set1.issuperset(set2), set2.issuperset(set3))\n",
    "print (set1.issubset(set2), set3.issubset(set2))\n",
    "print (set1.isdisjoint(set2), set2.isdisjoint(set3))"
   ]
  },
  {
   "cell_type": "markdown",
   "id": "d6d57271-5941-4bc6-9018-a8878a2fd74a",
   "metadata": {},
   "source": [
    "### User Defined Functions"
   ]
  },
  {
   "cell_type": "code",
   "execution_count": 1,
   "id": "c204a648-657a-4031-9d32-165c9f229807",
   "metadata": {},
   "outputs": [
    {
     "name": "stdout",
     "output_type": "stream",
     "text": [
      "Welcome Welcome Welcome \n",
      "Hello Hello Hello Hello Hello \n",
      "Bye Bye Bye Bye Bye Bye Bye Bye Bye Bye \n",
      "\n",
      "Welcome Welcome Welcome \n",
      "Hello Hello Hello Hello Hello \n",
      "Bye Bye Bye Bye Bye Bye Bye Bye Bye Bye \n"
     ]
    }
   ],
   "source": [
    "def funct1():\n",
    "    print (\"Welcome \" * 3)\n",
    "    print (\"Hello \" * 5)\n",
    "    print (\"Bye \" * 10)\n",
    "    \n",
    "funct1()\n",
    "print ()\n",
    "funct1()"
   ]
  },
  {
   "cell_type": "code",
   "execution_count": 2,
   "id": "8a061dbf-1eb8-4447-be5a-603c6d491e9a",
   "metadata": {},
   "outputs": [
    {
     "name": "stdout",
     "output_type": "stream",
     "text": [
      "Hello Hello Hello Hello \n",
      "Welcome Welcome Welcome Welcome Welcome Welcome Welcome Welcome \n",
      "Bye !!! Bye !!! \n",
      "<class 'function'> <class 'function'>\n"
     ]
    }
   ],
   "source": [
    "def funct2(msg, ntimes):  # msg and ntimes are called parameters\n",
    "    print (msg * ntimes)\n",
    "    \n",
    "funct2(\"Hello \", 4)  # \"Hello \" and 4 are called arguments\n",
    "funct2(\"Welcome \", 8)  # passed positional arguments will be assigned to positional parameters\n",
    "funct2(\"Bye !!! \", 2)\n",
    "print (type(funct1), type(funct2))"
   ]
  },
  {
   "cell_type": "code",
   "execution_count": 3,
   "id": "cee8937b-086f-4b91-8318-98cc9f3e913e",
   "metadata": {},
   "outputs": [
    {
     "name": "stdout",
     "output_type": "stream",
     "text": [
      "Hello Hello Hello Hello \n",
      "Bye !!! Bye !!! Bye !!! Bye !!! Bye !!! \n",
      "Bye !!! \n"
     ]
    }
   ],
   "source": [
    "def funct3(msg, ntimes):\n",
    "    return msg * ntimes\n",
    "\n",
    "result = funct3(\"Hello \", 4)\n",
    "print (result)\n",
    "result = funct3(\"Bye !!! \", 5)\n",
    "print (result)\n",
    "result = funct3(\"Bye !!! \", 1)\n",
    "print (result)"
   ]
  },
  {
   "cell_type": "code",
   "execution_count": 4,
   "id": "b41f4277-f42e-4369-b97f-f4c9d74ab597",
   "metadata": {},
   "outputs": [
    {
     "name": "stdout",
     "output_type": "stream",
     "text": [
      "par1 = 100, par2 = 200 and par3 = 300...\n",
      "par1 = 100, par2 = 200 and par3 = 333...\n",
      "par1 = 100, par2 = 222 and par3 = 333...\n",
      "par1 = 111, par2 = 222 and par3 = 333...\n",
      "par1 = 100, par2 = 222 and par3 = 300...\n",
      "par1 = 100, par2 = 222 and par3 = 300...\n",
      "par1 = 111, par2 = 200 and par3 = 333...\n"
     ]
    }
   ],
   "source": [
    "# function with default arguments\n",
    "def funct4(par1 = 111, par2 = 222, par3 = 333):\n",
    "    print (f\"par1 = {par1}, par2 = {par2} and par3 = {par3}...\")\n",
    "    \n",
    "funct4(100, 200, 300)\n",
    "funct4(100, 200)\n",
    "funct4(100)\n",
    "funct4()\n",
    "funct4(par1 = 100, par3 = 300)\n",
    "funct4(par3 = 300, par1 = 100)\n",
    "funct4(par2 = 200)"
   ]
  },
  {
   "cell_type": "code",
   "execution_count": 5,
   "id": "3448630e-8996-4af6-83b0-3d59e6ce0efe",
   "metadata": {},
   "outputs": [
    {
     "name": "stdout",
     "output_type": "stream",
     "text": [
      "800\n",
      "600\n"
     ]
    }
   ],
   "source": [
    "def funct5(num1, num2 = None):\n",
    "    if (num2 == None):\n",
    "        return num1 + num1\n",
    "    else:\n",
    "        return num1 + num2\n",
    "    \n",
    "result = funct5(400)\n",
    "print (result)\n",
    "result = funct5(400, 200)\n",
    "print (result)"
   ]
  },
  {
   "cell_type": "code",
   "execution_count": 5,
   "id": "06981fb0-b800-4cb6-a61a-16b276f2fe3f",
   "metadata": {},
   "outputs": [
    {
     "name": "stdout",
     "output_type": "stream",
     "text": [
      "Total = 140, Difference = 60, Product = 4000, Quotient = 2.5 and Remainder = 20...\n",
      "(140, 60, 4000, 2.5, 20) 5 <class 'tuple'> 2822675380960\n",
      "Total = 140, Difference = 60, Product = 4000, Quotient = 2.5 and Remainder = 20...\n"
     ]
    }
   ],
   "source": [
    "# function returning multiple values\n",
    "def funct6(num1, num2):\n",
    "    total = num1 + num2\n",
    "    difference = num1 - num2\n",
    "    product = num1 * num2\n",
    "    quotient = num1 / num2\n",
    "    remainder = num1 % num2\n",
    "    return total, difference, product, quotient, remainder\n",
    "\n",
    "tt, dd, pp, qq, rr = funct6(100, 40)\n",
    "print (f\"Total = {tt}, Difference = {dd}, Product = {pp}, Quotient = {qq} and Remainder = {rr}...\")\n",
    "result = funct6(100, 40)\n",
    "print (result, len(result), type(result), id(result))\n",
    "print (f\"Total = {result[0]}, Difference = {result[1]}, Product = {result[2]}, Quotient = {result[3]} and Remainder = {result[4]}...\")"
   ]
  },
  {
   "cell_type": "code",
   "execution_count": 6,
   "id": "b96af684-30c1-40bb-8d64-769ba3b7382e",
   "metadata": {},
   "outputs": [
    {
     "name": "stdout",
     "output_type": "stream",
     "text": [
      "('Amit', 'Male', 'Developer') <class 'tuple'> 3\n",
      "('Amit', 'Male', 'Developer', 'Pune') <class 'tuple'> 4\n",
      "('Amit', 'Male', 'Developer', 'Pune', 70000) <class 'tuple'> 5\n"
     ]
    }
   ],
   "source": [
    "# function with variable number of arguments\n",
    "def funct7(*arg):  # here *arg is defining forcefully arg is of tuple type\n",
    "    print (arg, type(arg), len(arg))\n",
    "    \n",
    "funct7(\"Amit\", \"Male\", \"Developer\")\n",
    "funct7(\"Amit\", \"Male\", \"Developer\", \"Pune\")\n",
    "funct7(\"Amit\", \"Male\", \"Developer\", \"Pune\", 70000)"
   ]
  },
  {
   "cell_type": "code",
   "execution_count": 7,
   "id": "7126fae6-6864-45ab-925f-4ec69334d998",
   "metadata": {},
   "outputs": [
    {
     "name": "stdout",
     "output_type": "stream",
     "text": [
      "{'name': 'Amit', 'gender': 'Male', 'job': 'Developer'} <class 'dict'> 3\n",
      "{'name': 'Amit', 'gender': 'Male', 'job': 'Developer', 'location': 'Pune'} <class 'dict'> 4\n",
      "{'name': 'Amit', 'gender': 'Male', 'job': 'Developer', 'location': 'Pune', 'salary': 70000} <class 'dict'> 5\n"
     ]
    }
   ],
   "source": [
    "# function with variable number of arguments\n",
    "def funct8(**kwarg):  # here **kwarg is defining forcefully kwarg (key-word argument) is of dictionary type\n",
    "    print (kwarg, type(kwarg), len(kwarg))\n",
    "    \n",
    "funct8(name=\"Amit\", gender=\"Male\", job=\"Developer\")\n",
    "funct8(name=\"Amit\", gender=\"Male\", job=\"Developer\", location=\"Pune\")\n",
    "funct8(name=\"Amit\", gender=\"Male\", job=\"Developer\", location=\"Pune\", salary=70000)"
   ]
  },
  {
   "cell_type": "code",
   "execution_count": 7,
   "id": "b980ed4c-b60b-493a-a2ce-03133db397d9",
   "metadata": {},
   "outputs": [
    {
     "name": "stdout",
     "output_type": "stream",
     "text": [
      "('Amit', 'Male', 'Developer') <class 'tuple'> 3\n",
      "{'location': 'Pune', 'salary': 70000} <class 'dict'> 2\n",
      "\n",
      "('Amit', 'Male', 'Developer') <class 'tuple'> 3\n",
      "{} <class 'dict'> 0\n",
      "\n",
      "() <class 'tuple'> 0\n",
      "{'location': 'Pune', 'salary': 70000} <class 'dict'> 2\n"
     ]
    }
   ],
   "source": [
    "# function with variable number of arguments\n",
    "def funct9(*arg, **kwarg):\n",
    "    print (arg, type(arg), len(arg))\n",
    "    print (kwarg, type(kwarg), len(kwarg))\n",
    "    \n",
    "funct9(\"Amit\", \"Male\", \"Developer\", location=\"Pune\", salary=70000)\n",
    "print ()\n",
    "funct9(\"Amit\", \"Male\", \"Developer\")\n",
    "print ()\n",
    "funct9(location=\"Pune\", salary=70000)"
   ]
  },
  {
   "cell_type": "code",
   "execution_count": 8,
   "id": "0b0b0840-dbb0-4cc1-be0e-7729261c4a89",
   "metadata": {},
   "outputs": [
    {
     "name": "stdout",
     "output_type": "stream",
     "text": [
      "Before calling the function: 10 140707064064080\n",
      "From the function: 100 140707064066960\n",
      "After calling the function: 10 140707064064080\n"
     ]
    }
   ],
   "source": [
    "def funct10():\n",
    "    i = 100\n",
    "    print (\"From the function:\", i, id(i))\n",
    "    \n",
    "i = 10\n",
    "print (\"Before calling the function:\", i, id(i))\n",
    "funct10()\n",
    "print (\"After calling the function:\", i, id(i))"
   ]
  },
  {
   "cell_type": "code",
   "execution_count": 9,
   "id": "f5ef5717-dfb8-46e8-a80c-1c22e8e528df",
   "metadata": {},
   "outputs": [
    {
     "name": "stdout",
     "output_type": "stream",
     "text": [
      "Before calling the function: 10 140707064064080\n",
      "From the function: 100 140707064066960\n",
      "After calling the function: 100 140707064066960\n"
     ]
    }
   ],
   "source": [
    "def funct11():\n",
    "    global i\n",
    "    i = 100\n",
    "    print (\"From the function:\", i, id(i))\n",
    "    \n",
    "i = 10\n",
    "print (\"Before calling the function:\", i, id(i))\n",
    "funct11()\n",
    "print (\"After calling the function:\", i, id(i))"
   ]
  },
  {
   "cell_type": "code",
   "execution_count": 11,
   "id": "d9fd9477-29da-4125-9689-9a54f4a59676",
   "metadata": {},
   "outputs": [
    {
     "name": "stdout",
     "output_type": "stream",
     "text": [
      "Looping for i = 1...\n",
      "Looping for i = 2...\n",
      "Looping for i = 3...\n",
      "Looping for i = 4...\n",
      "Looping for i = 5...\n",
      "So factorial of 5 is 120\n"
     ]
    }
   ],
   "source": [
    "def factorial_nr(num):\n",
    "    if (num == 0 or num == 1): return 1\n",
    "    fact = 1\n",
    "    for i in range(1, num + 1):\n",
    "        print (f\"Looping for i = {i}...\")\n",
    "        fact = fact * i\n",
    "    return fact\n",
    "\n",
    "n = 5\n",
    "result = factorial_nr(n)\n",
    "print (f\"So factorial of {n} is {result}\")"
   ]
  },
  {
   "cell_type": "code",
   "execution_count": 12,
   "id": "36980976-c432-44c4-9cef-7562b73572df",
   "metadata": {},
   "outputs": [
    {
     "name": "stdout",
     "output_type": "stream",
     "text": [
      "Looping for i = 2...\n",
      "Looping for i = 3...\n",
      "Looping for i = 4...\n",
      "Looping for i = 5...\n",
      "So factorial of 5 is 120\n"
     ]
    }
   ],
   "source": [
    "def factorial_nr(num):\n",
    "    if (num == 0 or num == 1): return 1\n",
    "    fact = 1\n",
    "    for i in range(2, num + 1):\n",
    "        print (f\"Looping for i = {i}...\")\n",
    "        fact = fact * i\n",
    "    return fact\n",
    "\n",
    "n = 5\n",
    "result = factorial_nr(n)\n",
    "print (f\"So factorial of {n} is {result}\")"
   ]
  },
  {
   "cell_type": "code",
   "execution_count": 13,
   "id": "b8deea4b-c1b6-463c-97f4-f7f8f625f14f",
   "metadata": {},
   "outputs": [
    {
     "name": "stdout",
     "output_type": "stream",
     "text": [
      "Looping for i = 2...\n",
      "Looping for i = 3...\n",
      "Looping for i = 4...\n",
      "So factorial of 5 is 120\n"
     ]
    }
   ],
   "source": [
    "# non-recursive function\n",
    "def factorial_nr(num):\n",
    "    if (num == 0 or num == 1): return 1\n",
    "    fact = num\n",
    "    for i in range(2, num):\n",
    "        print (f\"Looping for i = {i}...\")\n",
    "        fact = fact * i\n",
    "    return fact\n",
    "\n",
    "n = 5\n",
    "result = factorial_nr(n)\n",
    "print (f\"So factorial of {n} is {result}\")"
   ]
  },
  {
   "cell_type": "code",
   "execution_count": 11,
   "id": "10109480-1b7a-459f-a793-fee136ecb9f9",
   "metadata": {},
   "outputs": [
    {
     "name": "stdout",
     "output_type": "stream",
     "text": [
      "So factorial of 5 is 120\n",
      "<class 'function'>\n"
     ]
    }
   ],
   "source": [
    "# recursive function\n",
    "def factorial_r(num):\n",
    "    if (num == 0 or num == 1): return 1  # base case: for certain inputs outputs are pre-know to us. Here recursion terminates.\n",
    "    return num * factorial_r(num - 1)  # recursive case: the function will call itself\n",
    "\n",
    "n = 5\n",
    "result = factorial_r(n)\n",
    "print (f\"So factorial of {n} is {result}\")\n",
    "print (type(factorial_r))"
   ]
  },
  {
   "cell_type": "code",
   "execution_count": null,
   "id": "ba5d923b-ef0c-4ea8-a608-0c570c24dfbb",
   "metadata": {},
   "outputs": [],
   "source": [
    "# tracing of the recursive function\n",
    "5! = 5 * 4!\n",
    "         4 * 3!\n",
    "             3 * 2!\n",
    "                 2 * 1!\n",
    "                     1  (Base Case is working)\n",
    "                 2\n",
    "             6\n",
    "         24\n",
    "     120"
   ]
  },
  {
   "cell_type": "markdown",
   "id": "92ae4a94-aad7-4b3d-8366-97b31a3fc55a",
   "metadata": {},
   "source": [
    "### Lambda Function"
   ]
  },
  {
   "cell_type": "code",
   "execution_count": 12,
   "id": "bae4dd65-8fa3-4671-830a-f829c200cf7c",
   "metadata": {},
   "outputs": [
    {
     "name": "stdout",
     "output_type": "stream",
     "text": [
      "<class 'function'>\n",
      "25\n",
      "36\n"
     ]
    }
   ],
   "source": [
    "mysquare = lambda num: num * num\n",
    "\n",
    "print (type(mysquare))\n",
    "print (mysquare(5))\n",
    "print (mysquare(6))"
   ]
  },
  {
   "cell_type": "code",
   "execution_count": 13,
   "id": "7cced023-c827-4fb3-8a26-79ffc0af4766",
   "metadata": {},
   "outputs": [
    {
     "name": "stdout",
     "output_type": "stream",
     "text": [
      "<class 'function'>\n",
      "500\n",
      "900\n"
     ]
    }
   ],
   "source": [
    "myaddition = lambda num1, num2: num1 + num2\n",
    "\n",
    "print (type(myaddition))\n",
    "print (myaddition(100, 400))\n",
    "print (myaddition(400, 500))"
   ]
  },
  {
   "cell_type": "code",
   "execution_count": null,
   "id": "6929c9a2-b69a-4906-88e3-496e44f175d0",
   "metadata": {},
   "outputs": [],
   "source": [
    "# assignment statement\n",
    "total = num1 + num2"
   ]
  },
  {
   "cell_type": "code",
   "execution_count": 15,
   "id": "7219a6b1-4948-4229-999c-e0fe920d05e1",
   "metadata": {},
   "outputs": [
    {
     "name": "stdout",
     "output_type": "stream",
     "text": [
      "30\n",
      "80\n",
      "120\n"
     ]
    }
   ],
   "source": [
    "def funct12(num):\n",
    "    myprod = lambda n: n * num\n",
    "    return myprod\n",
    "\n",
    "var10 = funct12(10)\n",
    "var20 = funct12(20)\n",
    "print (var10(3))\n",
    "print (var20(4))\n",
    "print (funct12(30)(4))"
   ]
  },
  {
   "cell_type": "code",
   "execution_count": 16,
   "id": "af88dce3-3acb-4af2-90f7-2028172f0969",
   "metadata": {},
   "outputs": [
    {
     "name": "stdout",
     "output_type": "stream",
     "text": [
      "24\n",
      "120\n"
     ]
    }
   ],
   "source": [
    "myfact = lambda num: 1 if (num == 0 or num == 1) else num * myfact(num - 1)\n",
    "print (myfact(4))\n",
    "print (myfact(5))"
   ]
  },
  {
   "cell_type": "code",
   "execution_count": 17,
   "id": "07eba914-cf99-4c56-9110-4b2ed43fc670",
   "metadata": {},
   "outputs": [
    {
     "name": "stdout",
     "output_type": "stream",
     "text": [
      "400\n"
     ]
    }
   ],
   "source": [
    "maxvalue = lambda mylist: max(mylist)\n",
    "print (maxvalue([100, 400, 300, 200]))"
   ]
  },
  {
   "cell_type": "markdown",
   "id": "685e3314-b499-4121-9798-0422d2a016b5",
   "metadata": {},
   "source": [
    "### Python Exception Handling"
   ]
  },
  {
   "cell_type": "code",
   "execution_count": 18,
   "id": "7d62e0f8-5813-41ea-8daf-821bf2cf1400",
   "metadata": {},
   "outputs": [
    {
     "name": "stdin",
     "output_type": "stream",
     "text": [
      "Please enter the first number:  100\n",
      "Please enter the second number:  30\n"
     ]
    },
    {
     "ename": "TypeError",
     "evalue": "unsupported operand type(s) for /: 'str' and 'str'",
     "output_type": "error",
     "traceback": [
      "\u001b[1;31m---------------------------------------------------------------------------\u001b[0m",
      "\u001b[1;31mTypeError\u001b[0m                                 Traceback (most recent call last)",
      "\u001b[1;32m<ipython-input-18-65d3752ed448>\u001b[0m in \u001b[0;36m<module>\u001b[1;34m\u001b[0m\n\u001b[0;32m      1\u001b[0m \u001b[0mnum1\u001b[0m \u001b[1;33m=\u001b[0m \u001b[0minput\u001b[0m\u001b[1;33m(\u001b[0m\u001b[1;34m\"Please enter the first number: \"\u001b[0m\u001b[1;33m)\u001b[0m\u001b[1;33m\u001b[0m\u001b[1;33m\u001b[0m\u001b[0m\n\u001b[0;32m      2\u001b[0m \u001b[0mnum2\u001b[0m \u001b[1;33m=\u001b[0m \u001b[0minput\u001b[0m\u001b[1;33m(\u001b[0m\u001b[1;34m\"Please enter the second number: \"\u001b[0m\u001b[1;33m)\u001b[0m\u001b[1;33m\u001b[0m\u001b[1;33m\u001b[0m\u001b[0m\n\u001b[1;32m----> 3\u001b[1;33m \u001b[0mresult\u001b[0m \u001b[1;33m=\u001b[0m \u001b[0mnum1\u001b[0m \u001b[1;33m/\u001b[0m \u001b[0mnum2\u001b[0m\u001b[1;33m\u001b[0m\u001b[1;33m\u001b[0m\u001b[0m\n\u001b[0m\u001b[0;32m      4\u001b[0m \u001b[0mprint\u001b[0m \u001b[1;33m(\u001b[0m\u001b[1;34mf\"Sp {num1} / {num2} = {result}...\"\u001b[0m\u001b[1;33m)\u001b[0m\u001b[1;33m\u001b[0m\u001b[1;33m\u001b[0m\u001b[0m\n\u001b[0;32m      5\u001b[0m \u001b[0mprint\u001b[0m \u001b[1;33m(\u001b[0m\u001b[1;34m\"End of the program...\"\u001b[0m\u001b[1;33m)\u001b[0m\u001b[1;33m\u001b[0m\u001b[1;33m\u001b[0m\u001b[0m\n",
      "\u001b[1;31mTypeError\u001b[0m: unsupported operand type(s) for /: 'str' and 'str'"
     ]
    }
   ],
   "source": [
    "num1 = input(\"Please enter the first number: \")\n",
    "num2 = input(\"Please enter the second number: \")\n",
    "result = num1 / num2\n",
    "print (f\"So {num1} / {num2} = {result}...\")\n",
    "print (\"End of the program...\")"
   ]
  },
  {
   "cell_type": "code",
   "execution_count": 23,
   "id": "3df7781c-e12e-40d8-a661-f7c3a4ed090b",
   "metadata": {},
   "outputs": [
    {
     "name": "stdin",
     "output_type": "stream",
     "text": [
      "Please enter the first number:  100\n",
      "Please enter the second number:  0\n"
     ]
    },
    {
     "ename": "ZeroDivisionError",
     "evalue": "division by zero",
     "output_type": "error",
     "traceback": [
      "\u001b[1;31m---------------------------------------------------------------------------\u001b[0m",
      "\u001b[1;31mZeroDivisionError\u001b[0m                         Traceback (most recent call last)",
      "\u001b[1;32m<ipython-input-23-5dddedadebb0>\u001b[0m in \u001b[0;36m<module>\u001b[1;34m\u001b[0m\n\u001b[0;32m      1\u001b[0m \u001b[0mnum1\u001b[0m \u001b[1;33m=\u001b[0m \u001b[0mint\u001b[0m\u001b[1;33m(\u001b[0m\u001b[0minput\u001b[0m\u001b[1;33m(\u001b[0m\u001b[1;34m\"Please enter the first number: \"\u001b[0m\u001b[1;33m)\u001b[0m\u001b[1;33m)\u001b[0m\u001b[1;33m\u001b[0m\u001b[1;33m\u001b[0m\u001b[0m\n\u001b[0;32m      2\u001b[0m \u001b[0mnum2\u001b[0m \u001b[1;33m=\u001b[0m \u001b[0mint\u001b[0m\u001b[1;33m(\u001b[0m\u001b[0minput\u001b[0m\u001b[1;33m(\u001b[0m\u001b[1;34m\"Please enter the second number: \"\u001b[0m\u001b[1;33m)\u001b[0m\u001b[1;33m)\u001b[0m\u001b[1;33m\u001b[0m\u001b[1;33m\u001b[0m\u001b[0m\n\u001b[1;32m----> 3\u001b[1;33m \u001b[0mresult\u001b[0m \u001b[1;33m=\u001b[0m \u001b[0mnum1\u001b[0m \u001b[1;33m/\u001b[0m \u001b[0mnum2\u001b[0m\u001b[1;33m\u001b[0m\u001b[1;33m\u001b[0m\u001b[0m\n\u001b[0m\u001b[0;32m      4\u001b[0m \u001b[0mprint\u001b[0m \u001b[1;33m(\u001b[0m\u001b[1;34mf\"So {num1} / {num2} = {result}...\"\u001b[0m\u001b[1;33m)\u001b[0m\u001b[1;33m\u001b[0m\u001b[1;33m\u001b[0m\u001b[0m\n\u001b[0;32m      5\u001b[0m \u001b[0mprint\u001b[0m \u001b[1;33m(\u001b[0m\u001b[1;34m\"End of the program...\"\u001b[0m\u001b[1;33m)\u001b[0m\u001b[1;33m\u001b[0m\u001b[1;33m\u001b[0m\u001b[0m\n",
      "\u001b[1;31mZeroDivisionError\u001b[0m: division by zero"
     ]
    }
   ],
   "source": [
    "num1 = int(input(\"Please enter the first number: \"))\n",
    "num2 = int(input(\"Please enter the second number: \"))\n",
    "result = num1 / num2\n",
    "print (f\"So {num1} / {num2} = {result}...\")\n",
    "print (\"End of the program...\")"
   ]
  },
  {
   "cell_type": "code",
   "execution_count": 24,
   "id": "89ffb259-a4b9-4ce4-98a0-1b524918affa",
   "metadata": {},
   "outputs": [
    {
     "name": "stdin",
     "output_type": "stream",
     "text": [
      "Please enter the first number:  100\n",
      "Please enter the second number:  0\n"
     ]
    },
    {
     "name": "stdout",
     "output_type": "stream",
     "text": [
      "ZeroDivisionError: Division by ZERO is Illegal !!!\n",
      "ZeroDivisionError: Error type <class 'ZeroDivisionError'>...\n",
      "ZeroDivisionError: Error message division by zero...\n",
      "End of the program...\n"
     ]
    }
   ],
   "source": [
    "try:\n",
    "    num1 = int(input(\"Please enter the first number: \"))\n",
    "    num2 = int(input(\"Please enter the second number: \"))\n",
    "    result = num1 / num2\n",
    "    print (f\"So {num1} / {num2} = {result}...\")\n",
    "except ZeroDivisionError as zde:\n",
    "    print (\"ZeroDivisionError: Division by ZERO is Illegal !!!\")\n",
    "    print (f\"ZeroDivisionError: Error type {type(zde)}...\")\n",
    "    print (f\"ZeroDivisionError: Error message {zde}...\")\n",
    "\n",
    "print (\"End of the program...\")"
   ]
  },
  {
   "cell_type": "code",
   "execution_count": 27,
   "id": "36bb9415-383a-4ead-b933-56142e80b9a4",
   "metadata": {},
   "outputs": [
    {
     "name": "stdin",
     "output_type": "stream",
     "text": [
      "Please enter the first number:  100.5\n"
     ]
    },
    {
     "ename": "ValueError",
     "evalue": "invalid literal for int() with base 10: '100.5'",
     "output_type": "error",
     "traceback": [
      "\u001b[1;31m---------------------------------------------------------------------------\u001b[0m",
      "\u001b[1;31mValueError\u001b[0m                                Traceback (most recent call last)",
      "\u001b[1;32m<ipython-input-27-ecde3bdce393>\u001b[0m in \u001b[0;36m<module>\u001b[1;34m\u001b[0m\n\u001b[0;32m      1\u001b[0m \u001b[1;32mtry\u001b[0m\u001b[1;33m:\u001b[0m\u001b[1;33m\u001b[0m\u001b[1;33m\u001b[0m\u001b[0m\n\u001b[1;32m----> 2\u001b[1;33m     \u001b[0mnum1\u001b[0m \u001b[1;33m=\u001b[0m \u001b[0mint\u001b[0m\u001b[1;33m(\u001b[0m\u001b[0minput\u001b[0m\u001b[1;33m(\u001b[0m\u001b[1;34m\"Please enter the first number: \"\u001b[0m\u001b[1;33m)\u001b[0m\u001b[1;33m)\u001b[0m\u001b[1;33m\u001b[0m\u001b[1;33m\u001b[0m\u001b[0m\n\u001b[0m\u001b[0;32m      3\u001b[0m     \u001b[0mnum2\u001b[0m \u001b[1;33m=\u001b[0m \u001b[0mint\u001b[0m\u001b[1;33m(\u001b[0m\u001b[0minput\u001b[0m\u001b[1;33m(\u001b[0m\u001b[1;34m\"Please enter the second number: \"\u001b[0m\u001b[1;33m)\u001b[0m\u001b[1;33m)\u001b[0m\u001b[1;33m\u001b[0m\u001b[1;33m\u001b[0m\u001b[0m\n\u001b[0;32m      4\u001b[0m     \u001b[0mresult\u001b[0m \u001b[1;33m=\u001b[0m \u001b[0mnum1\u001b[0m \u001b[1;33m/\u001b[0m \u001b[0mnum2\u001b[0m\u001b[1;33m\u001b[0m\u001b[1;33m\u001b[0m\u001b[0m\n\u001b[0;32m      5\u001b[0m     \u001b[0mprint\u001b[0m \u001b[1;33m(\u001b[0m\u001b[1;34mf\"So {num1} / {num2} = {result}...\"\u001b[0m\u001b[1;33m)\u001b[0m\u001b[1;33m\u001b[0m\u001b[1;33m\u001b[0m\u001b[0m\n",
      "\u001b[1;31mValueError\u001b[0m: invalid literal for int() with base 10: '100.5'"
     ]
    }
   ],
   "source": [
    "try:\n",
    "    num1 = int(input(\"Please enter the first number: \"))\n",
    "    num2 = int(input(\"Please enter the second number: \"))\n",
    "    result = num1 / num2\n",
    "    print (f\"So {num1} / {num2} = {result}...\")\n",
    "except ZeroDivisionError as zde:\n",
    "    print (\"ZeroDivisionError: Division by ZERO is Illegal !!!\")\n",
    "    print (f\"ZeroDivisionError: Error type {type(zde)}...\")\n",
    "    print (f\"ZeroDivisionError: Error message {zde}...\")\n",
    "\n",
    "print (\"End of the program...\")"
   ]
  },
  {
   "cell_type": "code",
   "execution_count": 28,
   "id": "dae413c7-e3ca-4d3e-bb11-5f715575332c",
   "metadata": {},
   "outputs": [
    {
     "name": "stdin",
     "output_type": "stream",
     "text": [
      "Please enter the first number:  100\n",
      "Please enter the second number:  30.5\n"
     ]
    },
    {
     "name": "stdout",
     "output_type": "stream",
     "text": [
      "ValueError: Please provide integer values as input !!!\n",
      "ValueError: Error type <class 'ValueError'>...\n",
      "ValueError: Error message invalid literal for int() with base 10: '30.5'...\n",
      "End of the program...\n"
     ]
    }
   ],
   "source": [
    "try:\n",
    "    num1 = int(input(\"Please enter the first number: \"))\n",
    "    num2 = int(input(\"Please enter the second number: \"))\n",
    "    result = num1 / num2\n",
    "    print (f\"So {num1} / {num2} = {result}...\")\n",
    "except ZeroDivisionError as zde:\n",
    "    print (\"ZeroDivisionError: Division by ZERO is Illegal !!!\")\n",
    "    print (f\"ZeroDivisionError: Error type {type(zde)}...\")\n",
    "    print (f\"ZeroDivisionError: Error message {zde}...\")\n",
    "except ValueError as ve:\n",
    "    print (\"ValueError: Please provide integer values as input !!!\")\n",
    "    print (f\"ValueError: Error type {type(ve)}...\")\n",
    "    print (f\"ValueError: Error message {ve}...\")\n",
    "\n",
    "print (\"End of the program...\")"
   ]
  },
  {
   "cell_type": "code",
   "execution_count": 33,
   "id": "ed089a64-5150-4ada-b9bd-3f9b4fa98963",
   "metadata": {},
   "outputs": [
    {
     "name": "stdin",
     "output_type": "stream",
     "text": [
      "Please enter the first number:  100.5\n"
     ]
    },
    {
     "name": "stdout",
     "output_type": "stream",
     "text": [
      "ValueError: Please provide integer values as input !!!\n",
      "ValueError: Error type <class 'ValueError'>...\n",
      "ValueError: Error message invalid literal for int() with base 10: '100.5'...\n",
      "End of the program...\n"
     ]
    }
   ],
   "source": [
    "try:\n",
    "    num1 = int(input(\"Please enter the first number: \"))\n",
    "    num2 = int(input(\"Please enter the second number: \"))\n",
    "    result = num1 / num2\n",
    "    print (f\"So {num1} / {num2} = {result}...\")\n",
    "except ValueError as ve:\n",
    "    print (\"ValueError: Please provide integer values as input !!!\")\n",
    "    print (f\"ValueError: Error type {type(ve)}...\")\n",
    "    print (f\"ValueError: Error message {ve}...\")\n",
    "except ZeroDivisionError as zde:\n",
    "    print (\"ZeroDivisionError: Division by ZERO is Illegal !!!\")\n",
    "    print (f\"ZeroDivisionError: Error type {type(zde)}...\")\n",
    "    print (f\"ZeroDivisionError: Error message {zde}...\")\n",
    "    \n",
    "print (\"End of the program...\")"
   ]
  },
  {
   "cell_type": "code",
   "execution_count": null,
   "id": "919e706a-e584-418b-965e-6f014305d8c2",
   "metadata": {},
   "outputs": [],
   "source": [
    "try:\n",
    "    num1 = int(input(\"Please enter the first number: \"))\n",
    "    num2 = int(input(\"Please enter the second number: \"))\n",
    "    result = num1 / num2\n",
    "    print (f\"So {num1} / {num2} = {result}...\")\n",
    "except ValueError as ve:\n",
    "    print (\"ValueError: Please provide integer values as input !!!\")\n",
    "    print (f\"ValueError: Error type {type(ve)}...\")\n",
    "    print (f\"ValueError: Error message {ve}...\")\n",
    "except ZeroDivisionError as zde:\n",
    "    print (\"ZeroDivisionError: Division by ZERO is Illegal !!!\")\n",
    "    print (f\"ZeroDivisionError: Error type {type(zde)}...\")\n",
    "    print (f\"ZeroDivisionError: Error message {zde}...\")\n",
    "    \n",
    "print (\"End of the program...\")"
   ]
  },
  {
   "cell_type": "code",
   "execution_count": null,
   "id": "f440ba29-ff3c-48a7-b15a-3a40346a3c66",
   "metadata": {},
   "outputs": [],
   "source": [
    "Now search on Google with the search string \"python exception hierarchy\"\n",
    "And reach to the URL \"https://docs.python.org/3/library/exceptions.html\""
   ]
  },
  {
   "cell_type": "code",
   "execution_count": 35,
   "id": "4145f2b3-1cfd-4761-a456-c394ccfbc67e",
   "metadata": {},
   "outputs": [
    {
     "name": "stdin",
     "output_type": "stream",
     "text": [
      "Please enter the first number:  100\n",
      "Please enter the second number:  0\n"
     ]
    },
    {
     "name": "stdout",
     "output_type": "stream",
     "text": [
      "Exception: Some exception has occurred!!!\n",
      "Exception: Error type <class 'ZeroDivisionError'>...\n",
      "Exception: Error message division by zero...\n",
      "End of the program...\n"
     ]
    }
   ],
   "source": [
    "try:\n",
    "    num1 = int(input(\"Please enter the first number: \"))\n",
    "    num2 = int(input(\"Please enter the second number: \"))\n",
    "    result = num1 / num2\n",
    "    print (f\"So {num1} / {num2} = {result}...\")\n",
    "except ValueError as ve:\n",
    "    print (\"ValueError: Please provide integer values as input !!!\")\n",
    "    print (f\"ValueError: Error type {type(ve)}...\")\n",
    "    print (f\"ValueError: Error message {ve}...\")\n",
    "# except ZeroDivisionError as zde:\n",
    "#     print (\"ZeroDivisionError: Division by ZERO is Illegal !!!\")\n",
    "#     print (f\"ZeroDivisionError: Error type {type(zde)}...\")\n",
    "#     print (f\"ZeroDivisionError: Error message {zde}...\")\n",
    "except Exception as ex:\n",
    "    print (\"Exception: Some exception has occurred!!!\")\n",
    "    print (f\"Exception: Error type {type(ex)}...\")\n",
    "    print (f\"Exception: Error message {ex}...\")\n",
    "    \n",
    "print (\"End of the program...\")"
   ]
  },
  {
   "cell_type": "code",
   "execution_count": 36,
   "id": "b47e2fec-f148-4cd3-854c-e025432c879b",
   "metadata": {},
   "outputs": [
    {
     "name": "stdin",
     "output_type": "stream",
     "text": [
      "Please enter the first number:  100.5\n"
     ]
    },
    {
     "name": "stdout",
     "output_type": "stream",
     "text": [
      "Exception: Some exception has occurred!!!\n",
      "Exception: Error type <class 'ValueError'>...\n",
      "Exception: Error message invalid literal for int() with base 10: '100.5'...\n",
      "End of the program...\n"
     ]
    }
   ],
   "source": [
    "try:\n",
    "    num1 = int(input(\"Please enter the first number: \"))\n",
    "    num2 = int(input(\"Please enter the second number: \"))\n",
    "    result = num1 / num2\n",
    "    print (f\"So {num1} / {num2} = {result}...\")\n",
    "# except ValueError as ve:\n",
    "#     print (\"ValueError: Please provide integer values as input !!!\")\n",
    "#     print (f\"ValueError: Error type {type(ve)}...\")\n",
    "#     print (f\"ValueError: Error message {ve}...\")\n",
    "except ZeroDivisionError as zde:\n",
    "    print (\"ZeroDivisionError: Division by ZERO is Illegal !!!\")\n",
    "    print (f\"ZeroDivisionError: Error type {type(zde)}...\")\n",
    "    print (f\"ZeroDivisionError: Error message {zde}...\")\n",
    "except Exception as ex:\n",
    "    print (\"Exception: Some exception has occurred!!!\")\n",
    "    print (f\"Exception: Error type {type(ex)}...\")\n",
    "    print (f\"Exception: Error message {ex}...\")\n",
    "    \n",
    "print (\"End of the program...\")"
   ]
  },
  {
   "cell_type": "code",
   "execution_count": 38,
   "id": "eee91087-4f11-47c0-bc80-1301544a9ed7",
   "metadata": {},
   "outputs": [
    {
     "name": "stdin",
     "output_type": "stream",
     "text": [
      "Please enter the first number:  100.5\n"
     ]
    },
    {
     "name": "stdout",
     "output_type": "stream",
     "text": [
      "Exception: Some exception has occurred!!!\n",
      "Exception: Error type <class 'ValueError'>...\n",
      "Exception: Error message invalid literal for int() with base 10: '100.5'...\n",
      "End of the program...\n"
     ]
    }
   ],
   "source": [
    "try:\n",
    "    num1 = int(input(\"Please enter the first number: \"))\n",
    "    num2 = int(input(\"Please enter the second number: \"))\n",
    "    result = num1 / num2\n",
    "    print (f\"So {num1} / {num2} = {result}...\")\n",
    "except Exception as ex:\n",
    "    print (\"Exception: Some exception has occurred!!!\")\n",
    "    print (f\"Exception: Error type {type(ex)}...\")\n",
    "    print (f\"Exception: Error message {ex}...\")\n",
    "except ValueError as ve:\n",
    "    print (\"ValueError: Please provide integer values as input !!!\")\n",
    "    print (f\"ValueError: Error type {type(ve)}...\")\n",
    "    print (f\"ValueError: Error message {ve}...\")\n",
    "except ZeroDivisionError as zde:\n",
    "    print (\"ZeroDivisionError: Division by ZERO is Illegal !!!\")\n",
    "    print (f\"ZeroDivisionError: Error type {type(zde)}...\")\n",
    "    print (f\"ZeroDivisionError: Error message {zde}...\")\n",
    "    \n",
    "print (\"End of the program...\")"
   ]
  },
  {
   "cell_type": "code",
   "execution_count": 46,
   "id": "e963e65c-eeea-43c8-b82f-ac632245eb7c",
   "metadata": {},
   "outputs": [
    {
     "name": "stdin",
     "output_type": "stream",
     "text": [
      "Please enter the first number:  100\n",
      "Please enter the second number:  0\n"
     ]
    },
    {
     "name": "stdout",
     "output_type": "stream",
     "text": [
      "ZeroDivisionError: Division by ZERO is Illegal !!!\n",
      "ZeroDivisionError: Error type <class 'ZeroDivisionError'>...\n",
      "ZeroDivisionError: Error message division by zero...\n",
      "Finally: Finally block is executing...\n",
      "Finally: Finally block gets executed always...\n",
      "End of the program...\n"
     ]
    }
   ],
   "source": [
    "try:\n",
    "    num1 = int(input(\"Please enter the first number: \"))\n",
    "    num2 = int(input(\"Please enter the second number: \"))\n",
    "    result = num1 / num2\n",
    "    print (f\"So {num1} / {num2} = {result}...\")\n",
    "except ValueError as ve:\n",
    "    print (\"ValueError: Please provide integer values as input !!!\")\n",
    "    print (f\"ValueError: Error type {type(ve)}...\")\n",
    "    print (f\"ValueError: Error message {ve}...\")\n",
    "except ZeroDivisionError as zde:\n",
    "    print (\"ZeroDivisionError: Division by ZERO is Illegal !!!\")\n",
    "    print (f\"ZeroDivisionError: Error type {type(zde)}...\")\n",
    "    print (f\"ZeroDivisionError: Error message {zde}...\")\n",
    "except Exception as ex:\n",
    "    print (\"Exception: Some exception has occurred!!!\")\n",
    "    print (f\"Exception: Error type {type(ex)}...\")\n",
    "    print (f\"Exception: Error message {ex}...\")\n",
    "else:\n",
    "    print (\"Else: Else block is executing...\")\n",
    "    print (\"Else: Had a smooth execution...\")\n",
    "finally:\n",
    "    print (\"Finally: Finally block is executing...\")\n",
    "    print (\"Finally: Finally block gets executed always...\")\n",
    "    \n",
    "print (\"End of the program...\")"
   ]
  },
  {
   "cell_type": "code",
   "execution_count": 52,
   "id": "ddadbf3e-322e-40fc-8a9c-6783bb18f76b",
   "metadata": {},
   "outputs": [
    {
     "name": "stdin",
     "output_type": "stream",
     "text": [
      "Please enter the first number:  -890\n",
      "Please enter the second number:  40\n"
     ]
    },
    {
     "name": "stdout",
     "output_type": "stream",
     "text": [
      "NameError: Input values are out of range !!!\n",
      "NameError: Error type <class 'NameError'>...\n",
      "NameError: Error message Below-100...\n",
      "NameError: Input value is below -100...\n",
      "Finally: Finally block is executing...\n",
      "Finally: Finally block gets executed always...\n",
      "End of the program...\n"
     ]
    }
   ],
   "source": [
    "# introducing user defined exceptions. both input values must be within -100 to +100 limits\n",
    "try:\n",
    "    num1 = int(input(\"Please enter the first number: \"))\n",
    "    num2 = int(input(\"Please enter the second number: \"))\n",
    "    if (num1 < -100 or num2 < -100): raise NameError(\"Below-100\")\n",
    "    if (num1 > 100 or num2 > 100): raise NameError(\"Above+100\")\n",
    "    result = num1 / num2\n",
    "    print (f\"So {num1} / {num2} = {result}...\")\n",
    "except ValueError as ve:\n",
    "    print (\"ValueError: Please provide integer values as input !!!\")\n",
    "    print (f\"ValueError: Error type {type(ve)}...\")\n",
    "    print (f\"ValueError: Error message {ve}...\")\n",
    "except ZeroDivisionError as zde:\n",
    "    print (\"ZeroDivisionError: Division by ZERO is Illegal !!!\")\n",
    "    print (f\"ZeroDivisionError: Error type {type(zde)}...\")\n",
    "    print (f\"ZeroDivisionError: Error message {zde}...\")\n",
    "except NameError as ne:\n",
    "    print (\"NameError: Input values are out of range !!!\")\n",
    "    print (f\"NameError: Error type {type(ne)}...\")\n",
    "    print (f\"NameError: Error message {ne}...\")\n",
    "    if (str(ne) == \"Below-100\"): print (\"NameError: Input value is below -100...\")\n",
    "    if (str(ne) == \"Above+100\"): print (\"NameError: Input value is above +100...\")\n",
    "except Exception as ex:\n",
    "    print (\"Exception: Some exception has occurred!!!\")\n",
    "    print (f\"Exception: Error type {type(ex)}...\")\n",
    "    print (f\"Exception: Error message {ex}...\")\n",
    "else:\n",
    "    print (\"Else: Else block is executing...\")\n",
    "    print (\"Else: Had a smooth execution...\")\n",
    "finally:\n",
    "    print (\"Finally: Finally block is executing...\")\n",
    "    print (\"Finally: Finally block gets executed always...\")\n",
    "    \n",
    "print (\"End of the program...\")"
   ]
  },
  {
   "cell_type": "code",
   "execution_count": 53,
   "id": "2779b6fe-5cd6-4a06-b584-cd3e9756e355",
   "metadata": {},
   "outputs": [
    {
     "name": "stdin",
     "output_type": "stream",
     "text": [
      "Please enter the first number:  100\n",
      "Please enter the second number:  0\n"
     ]
    },
    {
     "name": "stdout",
     "output_type": "stream",
     "text": [
      "ZeroDivisionError: Division by ZERO is Illegal !!!\n",
      "ZeroDivisionError: Error type <class 'ZeroDivisionError'>...\n",
      "ZeroDivisionError: Error message division by zero...\n",
      "Finally: Finally block is executing...\n",
      "Finally: Finally block gets executed always...\n"
     ]
    },
    {
     "name": "stdin",
     "output_type": "stream",
     "text": [
      "Please enter the first number:  100.5\n"
     ]
    },
    {
     "name": "stdout",
     "output_type": "stream",
     "text": [
      "ValueError: Please provide integer values as input !!!\n",
      "ValueError: Error type <class 'ValueError'>...\n",
      "ValueError: Error message invalid literal for int() with base 10: '100.5'...\n",
      "Finally: Finally block is executing...\n",
      "Finally: Finally block gets executed always...\n"
     ]
    },
    {
     "name": "stdin",
     "output_type": "stream",
     "text": [
      "Please enter the first number:  900\n",
      "Please enter the second number:  30\n"
     ]
    },
    {
     "name": "stdout",
     "output_type": "stream",
     "text": [
      "NameError: Input values are out of range !!!\n",
      "NameError: Error type <class 'NameError'>...\n",
      "NameError: Error message Above+100...\n",
      "NameError: Input value is above +100...\n",
      "Finally: Finally block is executing...\n",
      "Finally: Finally block gets executed always...\n"
     ]
    },
    {
     "name": "stdin",
     "output_type": "stream",
     "text": [
      "Please enter the first number:  30\n",
      "Please enter the second number:  -900\n"
     ]
    },
    {
     "name": "stdout",
     "output_type": "stream",
     "text": [
      "NameError: Input values are out of range !!!\n",
      "NameError: Error type <class 'NameError'>...\n",
      "NameError: Error message Below-100...\n",
      "NameError: Input value is below -100...\n",
      "Finally: Finally block is executing...\n",
      "Finally: Finally block gets executed always...\n"
     ]
    },
    {
     "name": "stdin",
     "output_type": "stream",
     "text": [
      "Please enter the first number:  80\n",
      "Please enter the second number:  16\n"
     ]
    },
    {
     "name": "stdout",
     "output_type": "stream",
     "text": [
      "So 80 / 16 = 5.0...\n",
      "Else: Else block is executing...\n",
      "Else: Had a smooth execution...\n",
      "Finally: Finally block is executing...\n",
      "Finally: Finally block gets executed always...\n",
      "End of the program...\n"
     ]
    }
   ],
   "source": [
    "# introducing user defined exceptions. both input values must be within -100 to +100 limits\n",
    "while (True):\n",
    "    try:\n",
    "        num1 = int(input(\"Please enter the first number: \"))\n",
    "        num2 = int(input(\"Please enter the second number: \"))\n",
    "        if (num1 < -100 or num2 < -100): raise NameError(\"Below-100\")\n",
    "        if (num1 > 100 or num2 > 100): raise NameError(\"Above+100\")\n",
    "        result = num1 / num2\n",
    "        print (f\"So {num1} / {num2} = {result}...\")\n",
    "    except ValueError as ve:\n",
    "        print (\"ValueError: Please provide integer values as input !!!\")\n",
    "        print (f\"ValueError: Error type {type(ve)}...\")\n",
    "        print (f\"ValueError: Error message {ve}...\")\n",
    "    except ZeroDivisionError as zde:\n",
    "        print (\"ZeroDivisionError: Division by ZERO is Illegal !!!\")\n",
    "        print (f\"ZeroDivisionError: Error type {type(zde)}...\")\n",
    "        print (f\"ZeroDivisionError: Error message {zde}...\")\n",
    "    except NameError as ne:\n",
    "        print (\"NameError: Input values are out of range !!!\")\n",
    "        print (f\"NameError: Error type {type(ne)}...\")\n",
    "        print (f\"NameError: Error message {ne}...\")\n",
    "        if (str(ne) == \"Below-100\"): print (\"NameError: Input value is below -100...\")\n",
    "        if (str(ne) == \"Above+100\"): print (\"NameError: Input value is above +100...\")\n",
    "    except Exception as ex:\n",
    "        print (\"Exception: Some exception has occurred!!!\")\n",
    "        print (f\"Exception: Error type {type(ex)}...\")\n",
    "        print (f\"Exception: Error message {ex}...\")\n",
    "    else:\n",
    "        print (\"Else: Else block is executing...\")\n",
    "        print (\"Else: Had a smooth execution...\")\n",
    "        break\n",
    "    finally:\n",
    "        print (\"Finally: Finally block is executing...\")\n",
    "        print (\"Finally: Finally block gets executed always...\")\n",
    "    \n",
    "print (\"End of the program...\")"
   ]
  },
  {
   "cell_type": "code",
   "execution_count": null,
   "id": "62868fbe-31d4-4373-876c-307c9b3fd9a1",
   "metadata": {},
   "outputs": [],
   "source": []
  },
  {
   "cell_type": "code",
   "execution_count": null,
   "id": "9bc6b533-eda7-4d1b-8bb1-fd6cfccaa04c",
   "metadata": {},
   "outputs": [],
   "source": []
  },
  {
   "cell_type": "code",
   "execution_count": null,
   "id": "0c8e80b8-2e10-492b-b459-3cb144e89cd9",
   "metadata": {},
   "outputs": [],
   "source": []
  },
  {
   "cell_type": "code",
   "execution_count": null,
   "id": "a1483fe9-fe3e-4e4f-b113-754605c5387a",
   "metadata": {},
   "outputs": [],
   "source": []
  },
  {
   "cell_type": "code",
   "execution_count": null,
   "id": "4fa4343a-f691-43b2-bbc8-97df38c5df3a",
   "metadata": {},
   "outputs": [],
   "source": []
  },
  {
   "cell_type": "code",
   "execution_count": null,
   "id": "0d439424-0125-4d6b-89f9-e3ae920b6fbc",
   "metadata": {},
   "outputs": [],
   "source": []
  }
 ],
 "metadata": {
  "kernelspec": {
   "display_name": "Python 3",
   "language": "python",
   "name": "python3"
  },
  "language_info": {
   "codemirror_mode": {
    "name": "ipython",
    "version": 3
   },
   "file_extension": ".py",
   "mimetype": "text/x-python",
   "name": "python",
   "nbconvert_exporter": "python",
   "pygments_lexer": "ipython3",
   "version": "3.8.8"
  }
 },
 "nbformat": 4,
 "nbformat_minor": 5
}
